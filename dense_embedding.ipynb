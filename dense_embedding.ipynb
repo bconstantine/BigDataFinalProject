{
 "cells": [
  {
   "cell_type": "code",
   "execution_count": 1,
   "metadata": {},
   "outputs": [],
   "source": [
    "import pandas as pd\n",
    "import os\n",
    "import lightgbm as lgb\n",
    "import matplotlib.pyplot as plt\n",
    "import seaborn as sns\n",
    "from sklearn.decomposition import NMF\n",
    "from sklearn.preprocessing import LabelEncoder\n",
    "from scipy.sparse import csr_matrix\n",
    "from sklearn.decomposition import NMF\n",
    "import numpy as np\n",
    "import torch\n",
    "import gc\n",
    "from tqdm import tqdm\n",
    "import torch.nn.init as init\n",
    "from sklearn.model_selection import train_test_split\n",
    "from sklearn.metrics import accuracy_score, roc_auc_score\n",
    "import pickle\n",
    "os.environ[\"CUDA_VISIBLE_DEVICES\"]=\"1\""
   ]
  },
  {
   "cell_type": "code",
   "execution_count": 3,
   "metadata": {},
   "outputs": [],
   "source": [
    "data_format1_path = \"data_format1\"\n",
    "data_format2_path = \"data_format2\"\n",
    "train_format1_path = os.path.join(data_format1_path, \"train_format1.csv\")\n",
    "train_format2_path = os.path.join(data_format2_path, \"train_format2.csv\")\n",
    "test_format1_path = os.path.join(data_format1_path, \"test_format1.csv\")\n",
    "test_format2_path = os.path.join(data_format2_path, \"test_format2.csv\")\n",
    "user_info_format1_path = os.path.join(data_format1_path, \"user_info_format1.csv\") \n",
    "user_log_format1_path = os.path.join(data_format1_path, \"user_log_format1.csv\", ) "
   ]
  },
  {
   "cell_type": "code",
   "execution_count": 5,
   "metadata": {},
   "outputs": [],
   "source": [
    "train_format1 = pd.read_csv(train_format1_path)\n",
    "#train_format2 = pd.read_csv(train_format2_path)\n",
    "test_format1 = pd.read_csv(test_format1_path)\n",
    "#test_format2 = pd.read_csv(test_format2_path)\n",
    "user_info_format1 = pd.read_csv(user_info_format1_path)\n",
    "user_log_format1 = pd.read_csv(user_log_format1_path, dtype={'time_stamp': str}).rename(columns={\"seller_id\": \"merchant_id\"})"
   ]
  },
  {
   "cell_type": "code",
   "execution_count": 32,
   "metadata": {},
   "outputs": [
    {
     "name": "stdout",
     "output_type": "stream",
     "text": [
      "User id amount 424170\n",
      "Brand id amount 8444\n",
      "Merchant id amount 1994\n",
      "Cat id amount 1658\n"
     ]
    }
   ],
   "source": [
    "print(\"User id amount\", len(set(train_format1[\"user_id\"].unique()).union(set(test_format1[\"user_id\"].unique()))))\n",
    "print(\"Brand id amount\", len(set(user_log_format1[\"brand_id\"].unique())))\n",
    "print(\"Merchant id amount\", len(set(train_format1[\"merchant_id\"].unique()).union(set(test_format1[\"merchant_id\"].unique()))))\n",
    "print(\"Cat id amount\", len(set(user_log_format1[\"cat_id\"].unique())))"
   ]
  },
  {
   "cell_type": "code",
   "execution_count": 4,
   "metadata": {},
   "outputs": [
    {
     "name": "stdout",
     "output_type": "stream",
     "text": [
      "len train_format1: 260864\n",
      "len test_format1: 261477\n"
     ]
    }
   ],
   "source": [
    "print(\"len train_format1:\", len(train_format1))\n",
    "#print(\"len train_format2:\", len(train_format2))\n",
    "print(\"len test_format1:\", len(test_format1))\n",
    "#print(\"len test_format2:\", len(test_format2))"
   ]
  },
  {
   "cell_type": "code",
   "execution_count": 5,
   "metadata": {},
   "outputs": [
    {
     "name": "stdout",
     "output_type": "stream",
     "text": [
      "54925330\n",
      "10582633\n"
     ]
    }
   ],
   "source": [
    "print(len(user_log_format1))\n",
    "#only filter the log with time_stamp 11.11\n",
    "user_log_format1 = user_log_format1[user_log_format1[\"time_stamp\"] == \"1111\"]\n",
    "print(len(user_log_format1))"
   ]
  },
  {
   "cell_type": "code",
   "execution_count": 6,
   "metadata": {},
   "outputs": [
    {
     "name": "stdout",
     "output_type": "stream",
     "text": [
      "     user_id  item_id  cat_id  merchant_id  brand_id time_stamp  action_type\n",
      "171   328862   406349    1280         2700    5476.0       1111            0\n",
      "172   328862   406349    1280         2700    5476.0       1111            0\n",
      "173   328862   807126    1181         1963    6109.0       1111            0\n",
      "174   328862   406349    1280         2700    5476.0       1111            2\n",
      "175   328862   406349    1280         2700    5476.0       1111            0\n"
     ]
    }
   ],
   "source": [
    "print(user_log_format1.head())"
   ]
  },
  {
   "cell_type": "code",
   "execution_count": 7,
   "metadata": {},
   "outputs": [],
   "source": [
    "user_log_format1 = user_log_format1.drop(columns=[\"action_type\", \"time_stamp\"])"
   ]
  },
  {
   "cell_type": "code",
   "execution_count": 8,
   "metadata": {},
   "outputs": [
    {
     "name": "stdout",
     "output_type": "stream",
     "text": [
      "user_log_info1 columns: Index(['user_id', 'item_id', 'cat_id', 'merchant_id', 'brand_id'], dtype='object')\n"
     ]
    }
   ],
   "source": [
    "print(\"user_log_info1 columns: \" + str(user_log_format1.columns))"
   ]
  },
  {
   "cell_type": "code",
   "execution_count": 9,
   "metadata": {},
   "outputs": [
    {
     "name": "stdout",
     "output_type": "stream",
     "text": [
      "   user_id  merchant_id  label\n",
      "0    34176         3906      0\n",
      "1    34176          121      0\n",
      "2    34176         4356      1\n",
      "3    34176         2217      0\n",
      "4   230784         4818      0\n",
      "============================================\n",
      "             user_id    merchant_id          label\n",
      "count  260864.000000  260864.000000  260864.000000\n",
      "mean   211889.321420    2540.292363       0.061151\n",
      "std    122399.488027    1451.207514       0.239607\n",
      "min         1.000000       2.000000       0.000000\n",
      "25%    105488.000000    1340.000000       0.000000\n",
      "50%    211927.500000    2482.000000       0.000000\n",
      "75%    317670.500000    3898.000000       0.000000\n",
      "max    424170.000000    4993.000000       1.000000\n",
      "============================================\n",
      "user_id        0\n",
      "merchant_id    0\n",
      "label          0\n",
      "dtype: int64\n",
      "user_id        0.0\n",
      "merchant_id    0.0\n",
      "label          0.0\n",
      "dtype: float64\n"
     ]
    }
   ],
   "source": [
    "print(train_format1.head())\n",
    "print(\"============================================\")\n",
    "print(train_format1.describe())\n",
    "print(\"============================================\")\n",
    "#check for nan\n",
    "print(train_format1.isnull().sum())\n",
    "#nan ratio\n",
    "print(train_format1.isnull().sum()/len(train_format1))"
   ]
  },
  {
   "cell_type": "code",
   "execution_count": 10,
   "metadata": {},
   "outputs": [],
   "source": [
    "# print(train_format2.head())\n",
    "# print(\"============================================\")\n",
    "# print(train_format2.describe())\n",
    "# print(\"============================================\")\n",
    "# #check for nan\n",
    "# print(train_format2.isnull().sum())\n",
    "# #nan ratio\n",
    "# print(train_format2.isnull().sum()/len(train_format2))"
   ]
  },
  {
   "cell_type": "code",
   "execution_count": 11,
   "metadata": {},
   "outputs": [
    {
     "name": "stdout",
     "output_type": "stream",
     "text": [
      "   user_id  merchant_id  prob\n",
      "0   163968         4605   NaN\n",
      "1   360576         1581   NaN\n",
      "2    98688         1964   NaN\n",
      "3    98688         3645   NaN\n",
      "4   295296         3361   NaN\n",
      "============================================\n",
      "============================================\n",
      "user_id             0\n",
      "merchant_id         0\n",
      "prob           261477\n",
      "dtype: int64\n",
      "user_id        0.0\n",
      "merchant_id    0.0\n",
      "prob           1.0\n",
      "dtype: float64\n"
     ]
    }
   ],
   "source": [
    "print(test_format1.head())\n",
    "print(\"============================================\")\n",
    "test_format1.describe()\n",
    "print(\"============================================\")\n",
    "print(test_format1.isnull().sum())\n",
    "print(test_format1.isnull().sum()/len(test_format1))"
   ]
  },
  {
   "cell_type": "code",
   "execution_count": 12,
   "metadata": {},
   "outputs": [],
   "source": [
    "# print(test_format2.head())\n",
    "# print(\"============================================\")\n",
    "# test_format2.describe()\n",
    "# print(\"============================================\")\n",
    "# print(test_format2.isnull().sum())\n",
    "# print(test_format2.isnull().sum()/len(test_format2))"
   ]
  },
  {
   "cell_type": "code",
   "execution_count": 13,
   "metadata": {},
   "outputs": [
    {
     "name": "stdout",
     "output_type": "stream",
     "text": [
      "   user_id  age_range  gender\n",
      "0   376517        6.0     1.0\n",
      "1   234512        5.0     0.0\n",
      "2   344532        5.0     0.0\n",
      "3   186135        5.0     0.0\n",
      "4    30230        5.0     0.0\n",
      "============================================\n",
      "             user_id      age_range         gender\n",
      "count  424170.000000  421953.000000  417734.000000\n",
      "mean   212085.500000       2.930262       0.341179\n",
      "std    122447.476179       1.942978       0.524112\n",
      "min         1.000000       0.000000       0.000000\n",
      "25%    106043.250000       2.000000       0.000000\n",
      "50%    212085.500000       3.000000       0.000000\n",
      "75%    318127.750000       4.000000       1.000000\n",
      "max    424170.000000       8.000000       2.000000\n",
      "============================================\n",
      "user_id         0\n",
      "age_range    2217\n",
      "gender       6436\n",
      "dtype: int64\n",
      "user_id      0.000000\n",
      "age_range    0.005227\n",
      "gender       0.015173\n",
      "dtype: float64\n"
     ]
    }
   ],
   "source": [
    "print(user_info_format1.head())\n",
    "print(\"============================================\")\n",
    "print(user_info_format1.describe())\n",
    "print(\"============================================\")\n",
    "print(user_info_format1.isnull().sum())\n",
    "print(user_info_format1.isnull().sum()/len(user_info_format1))"
   ]
  },
  {
   "cell_type": "code",
   "execution_count": 14,
   "metadata": {},
   "outputs": [
    {
     "name": "stdout",
     "output_type": "stream",
     "text": [
      "     user_id  item_id  cat_id  merchant_id  brand_id\n",
      "171   328862   406349    1280         2700    5476.0\n",
      "172   328862   406349    1280         2700    5476.0\n",
      "173   328862   807126    1181         1963    6109.0\n",
      "174   328862   406349    1280         2700    5476.0\n",
      "175   328862   406349    1280         2700    5476.0\n",
      "============================================\n"
     ]
    },
    {
     "name": "stdout",
     "output_type": "stream",
     "text": [
      "            user_id       item_id        cat_id   merchant_id      brand_id\n",
      "count  1.058263e+07  1.058263e+07  1.058263e+07  1.058263e+07  1.056487e+07\n",
      "mean   2.123082e+05  5.477336e+05  8.938849e+02  2.408522e+03  4.079078e+03\n",
      "std    1.222255e+05  3.246887e+05  4.371969e+02  1.512776e+03  2.422199e+03\n",
      "min    1.000000e+00  2.000000e+00  1.000000e+00  1.000000e+00  1.000000e+00\n",
      "25%    1.067360e+05  2.608150e+05  6.020000e+02  1.087000e+03  1.866000e+03\n",
      "50%    2.125260e+05  5.544080e+05  9.460000e+02  2.387000e+03  3.969000e+03\n",
      "75%    3.179590e+05  8.225780e+05  1.238000e+03  3.760000e+03  6.143000e+03\n",
      "max    4.241700e+05  1.113166e+06  1.671000e+03  4.995000e+03  8.477000e+03\n",
      "============================================\n",
      "user_id            0\n",
      "item_id            0\n",
      "cat_id             0\n",
      "merchant_id        0\n",
      "brand_id       17767\n",
      "dtype: int64\n",
      "user_id        0.000000\n",
      "item_id        0.000000\n",
      "cat_id         0.000000\n",
      "merchant_id    0.000000\n",
      "brand_id       0.001679\n",
      "dtype: float64\n"
     ]
    }
   ],
   "source": [
    "print(user_log_format1.head())\n",
    "print(\"============================================\")\n",
    "print(user_log_format1.describe())\n",
    "print(\"============================================\")\n",
    "print(user_log_format1.isnull().sum())\n",
    "print(user_log_format1.isnull().sum()/len(user_log_format1))"
   ]
  },
  {
   "cell_type": "code",
   "execution_count": 15,
   "metadata": {},
   "outputs": [
    {
     "name": "stdout",
     "output_type": "stream",
     "text": [
      "Empty DataFrame\n",
      "Columns: [user_id, merchant_id]\n",
      "Index: []\n"
     ]
    },
    {
     "name": "stdout",
     "output_type": "stream",
     "text": [
      "Empty DataFrame\n",
      "Columns: [user_id, merchant_id_x, merchant_id_y]\n",
      "Index: []\n",
      "           user_id_x  merchant_id  user_id_y\n",
      "0              34176         3906     325008\n",
      "1              34176         3906     282768\n",
      "2              34176         3906     187542\n",
      "3              34176         3906      97206\n",
      "4              34176         3906     153795\n",
      "...              ...          ...        ...\n",
      "150064189     229247         4140     188243\n",
      "150064190     229247         4140     171110\n",
      "150064191     229247         4140     238697\n",
      "150064192     229247         4140     176240\n",
      "150064193     229247         4140     333428\n",
      "\n",
      "[150064194 rows x 3 columns]\n"
     ]
    }
   ],
   "source": [
    "# does there exist user_id and merchant_id pair that appears in test set\n",
    "print(pd.merge(train_format1[[\"user_id\", \"merchant_id\"]].drop_duplicates(), test_format1[[\"user_id\", \"merchant_id\"]].drop_duplicates(), how=\"inner\", on=[\"user_id\", \"merchant_id\"]))\n",
    "print(pd.merge(train_format1[[\"user_id\", \"merchant_id\"]].drop_duplicates(), test_format1[[\"user_id\", \"merchant_id\"]].drop_duplicates(), how=\"inner\", on=[\"user_id\"]))\n",
    "print(pd.merge(train_format1[[\"user_id\", \"merchant_id\"]].drop_duplicates(), test_format1[[\"user_id\", \"merchant_id\"]].drop_duplicates(), how=\"inner\", on=[\"merchant_id\"]))"
   ]
  },
  {
   "cell_type": "code",
   "execution_count": 16,
   "metadata": {},
   "outputs": [
    {
     "name": "stdout",
     "output_type": "stream",
     "text": [
      "         user_id  item_id  cat_id  merchant_id  brand_id\n",
      "4930955   360576   991507    1142         4044      82.0\n",
      "4930956   360576   948181     614         1581    4066.0\n",
      "4930958   360576  1111020     614         1581    4066.0\n",
      "4930959   360576   755622     614         1783    5041.0\n",
      "4930960   360576   294442     614         1581    4066.0\n",
      "4930961   360576   864510     614         1581    4066.0\n",
      "4930962   360576   326679     614         1581    4066.0\n",
      "4930963   360576   720542     748         2582    7208.0\n",
      "4930964   360576   755622     614         1783    5041.0\n",
      "4930967   360576   794107     614         1581    4066.0\n",
      "4930969   360576   864510     614         1581    4066.0\n",
      "4930970   360576   755622     614         1783    5041.0\n",
      "4930971   360576   755622     614         1783    5041.0\n",
      "4930973   360576   982117     632         1581    4066.0\n",
      "4930974   360576    61318     229         1581    4066.0\n",
      "4930975   360576   164776     389         3848    4452.0\n",
      "4930976   360576  1091811    1142         4044      82.0\n",
      "4930977   360576   863626     119         1581    4066.0\n",
      "4930978   360576   613888     748         3311    6548.0\n"
     ]
    }
   ],
   "source": [
    "print(user_log_format1[user_log_format1[\"user_id\"] == 360576])"
   ]
  },
  {
   "cell_type": "code",
   "execution_count": 17,
   "metadata": {},
   "outputs": [
    {
     "data": {
      "text/html": [
       "<div>\n",
       "<style scoped>\n",
       "    .dataframe tbody tr th:only-of-type {\n",
       "        vertical-align: middle;\n",
       "    }\n",
       "\n",
       "    .dataframe tbody tr th {\n",
       "        vertical-align: top;\n",
       "    }\n",
       "\n",
       "    .dataframe thead th {\n",
       "        text-align: right;\n",
       "    }\n",
       "</style>\n",
       "<table border=\"1\" class=\"dataframe\">\n",
       "  <thead>\n",
       "    <tr style=\"text-align: right;\">\n",
       "      <th></th>\n",
       "      <th>user_id</th>\n",
       "      <th>merchant_id</th>\n",
       "      <th>prob</th>\n",
       "    </tr>\n",
       "  </thead>\n",
       "  <tbody>\n",
       "  </tbody>\n",
       "</table>\n",
       "</div>"
      ],
      "text/plain": [
       "Empty DataFrame\n",
       "Columns: [user_id, merchant_id, prob]\n",
       "Index: []"
      ]
     },
     "execution_count": 17,
     "metadata": {},
     "output_type": "execute_result"
    }
   ],
   "source": [
    "test_format1[~test_format1['user_id'].isin(user_log_format1['user_id'])]"
   ]
  },
  {
   "cell_type": "code",
   "execution_count": 18,
   "metadata": {},
   "outputs": [
    {
     "name": "stdout",
     "output_type": "stream",
     "text": [
      "Original test length:  261477\n",
      "User merchant pair in test not appear in log:  261477\n",
      "User in test not appear in log:  0\n",
      "merchant in test not appear in log:  0\n"
     ]
    }
   ],
   "source": [
    "#verify user activity of test users all exist inside the data\n",
    "missing_keys = test_format1[~test_format1[['user_id', 'merchant_id']].isin(user_log_format1[['user_id', 'merchant_id']])]\n",
    "missing_keys_user_only = test_format1[~test_format1['user_id'].isin(user_log_format1['user_id'])]\n",
    "missing_keys_merchant_only = test_format1[~test_format1[ 'merchant_id'].isin(user_log_format1['merchant_id'])]\n",
    "print(\"Original test length: \", len(test_format1))\n",
    "print(\"User merchant pair in test not appear in log: \", len(missing_keys.drop_duplicates()))\n",
    "print(\"User in test not appear in log: \", len(missing_keys_user_only.drop_duplicates()))\n",
    "print(\"merchant in test not appear in log: \", len(missing_keys_merchant_only.drop_duplicates()))"
   ]
  },
  {
   "cell_type": "code",
   "execution_count": 19,
   "metadata": {},
   "outputs": [
    {
     "name": "stdout",
     "output_type": "stream",
     "text": [
      "Train user id Uniqueness ratio:  0.8129216756624141\n",
      "Test user id Uniqueness ratio:  0.8111918065451263\n",
      "Train merchant id Uniqueness ratio:  0.007639996319921492\n",
      "Test merchant Uniqueness ratio:  0.007622085307694367\n"
     ]
    }
   ],
   "source": [
    "#unique value of user id\n",
    "train_format1['user_id'].nunique()\n",
    "print(\"Train user id Uniqueness ratio: \", train_format1['user_id'].nunique() / len(train_format1['user_id']))\n",
    "print(\"Test user id Uniqueness ratio: \", test_format1['user_id'].nunique() / len(test_format1['user_id']))\n",
    "\n",
    "print(\"Train merchant id Uniqueness ratio: \", train_format1['merchant_id'].nunique() / len(train_format1['merchant_id']))\n",
    "print(\"Test merchant Uniqueness ratio: \", test_format1['merchant_id'].nunique() / len(test_format1['merchant_id']))"
   ]
  },
  {
   "cell_type": "code",
   "execution_count": 20,
   "metadata": {},
   "outputs": [
    {
     "name": "stdout",
     "output_type": "stream",
     "text": [
      "Amount of user id and merchant id duplicated in train:  0\n",
      "Amount of user id and merchant id duplicated in test:  0\n"
     ]
    }
   ],
   "source": [
    "#duplicate data in train_format1 between merchant and user id\n",
    "print(\"Amount of user id and merchant id duplicated in train: \", train_format1[['user_id', 'merchant_id']].duplicated().sum())\n",
    "print(\"Amount of user id and merchant id duplicated in test: \",test_format1[['user_id', 'merchant_id']].duplicated().sum())"
   ]
  },
  {
   "cell_type": "code",
   "execution_count": 21,
   "metadata": {},
   "outputs": [],
   "source": [
    "#check if all label -1 in format_2 is all contains in user_log format 1\n",
    "# tmp = test_format2[test_format2[\"label\"] == -1][[\"user_id\", \"merchant_id\"]]\n",
    "# mask = tmp.isin(user_log_format1[[\"user_id\", \"merchant_id\"]]).all(axis=1)\n",
    "# print(\"total of merchant and user in test format 2: \", len(tmp))\n",
    "# print(\"======= Mask ==========\")\n",
    "# print(mask)\n",
    "# print(\"Amount that is contained in format1: \", len(tmp[mask]))\n",
    "# del tmp"
   ]
  },
  {
   "cell_type": "code",
   "execution_count": 6,
   "metadata": {},
   "outputs": [
    {
     "name": "stdout",
     "output_type": "stream",
     "text": [
      "   user_id  merchant_id  label  item_id  cat_id  brand_id time_stamp  \\\n",
      "0    34176         3906      0   757713     821    6268.0       1110   \n",
      "1    34176         3906      0   757713     821    6268.0       1110   \n",
      "2    34176         3906      0   757713     821    6268.0       1110   \n",
      "3    34176         3906      0   718096    1142    6268.0       1031   \n",
      "4    34176         3906      0   757713     821    6268.0       1031   \n",
      "\n",
      "   action_type  \n",
      "0            0  \n",
      "1            0  \n",
      "2            0  \n",
      "3            3  \n",
      "4            3  \n",
      "====\n",
      "   user_id  merchant_id  prob  item_id  cat_id  brand_id time_stamp  \\\n",
      "0   163968         4605   NaN   772645    1368    7622.0       1111   \n",
      "1   163968         4605   NaN   772645    1368    7622.0       1111   \n",
      "2   360576         1581   NaN   948181     614    4066.0       1111   \n",
      "3   360576         1581   NaN  1111020     614    4066.0       1111   \n",
      "4   360576         1581   NaN   294442     614    4066.0       1111   \n",
      "\n",
      "   action_type  \n",
      "0            2  \n",
      "1            0  \n",
      "2            2  \n",
      "3            2  \n",
      "4            2  \n",
      "====\n",
      "   user_id  merchant_id  label  item_id  cat_id  brand_id time_stamp  \\\n",
      "0    34176         3906      0   757713     821    6268.0       1110   \n",
      "1    34176         3906      0   757713     821    6268.0       1110   \n",
      "2    34176         3906      0   757713     821    6268.0       1110   \n",
      "3    34176         3906      0   718096    1142    6268.0       1031   \n",
      "4    34176         3906      0   757713     821    6268.0       1031   \n",
      "\n",
      "   action_type  age_range  gender  \n",
      "0            0        6.0     0.0  \n",
      "1            0        6.0     0.0  \n",
      "2            0        6.0     0.0  \n",
      "3            3        6.0     0.0  \n",
      "4            3        6.0     0.0  \n",
      "====\n",
      "   user_id  merchant_id  prob  item_id  cat_id  brand_id time_stamp  \\\n",
      "0   163968         4605   NaN   772645    1368    7622.0       1111   \n",
      "1   163968         4605   NaN   772645    1368    7622.0       1111   \n",
      "2   360576         1581   NaN   948181     614    4066.0       1111   \n",
      "3   360576         1581   NaN  1111020     614    4066.0       1111   \n",
      "4   360576         1581   NaN   294442     614    4066.0       1111   \n",
      "\n",
      "   action_type  age_range  gender  \n",
      "0            2        0.0     0.0  \n",
      "1            0        0.0     0.0  \n",
      "2            2        2.0     2.0  \n",
      "3            2        2.0     2.0  \n",
      "4            2        2.0     2.0  \n",
      "====\n"
     ]
    }
   ],
   "source": [
    "#join the tables\n",
    "train_format1 = pd.merge(train_format1, user_log_format1, on=['user_id', 'merchant_id'], how='left')\n",
    "print(train_format1.head())\n",
    "print(\"====\")\n",
    "test_format1 = pd.merge(test_format1, user_log_format1, on=['user_id', 'merchant_id'], how='left')\n",
    "print(test_format1.head())\n",
    "print(\"====\")\n",
    "train_format1 = pd.merge(train_format1, user_info_format1, on='user_id', how='left')\n",
    "print(train_format1.head())\n",
    "print(\"====\")\n",
    "test_format1 = pd.merge(test_format1, user_info_format1, on='user_id', how='left')\n",
    "print(test_format1.head())\n",
    "print(\"====\")"
   ]
  },
  {
   "cell_type": "code",
   "execution_count": 24,
   "metadata": {},
   "outputs": [
    {
     "name": "stdout",
     "output_type": "stream",
     "text": [
      "1653030\n",
      "1650271\n"
     ]
    }
   ],
   "source": [
    "print(len(train_format1))\n",
    "print(len(test_format1))"
   ]
  },
  {
   "cell_type": "code",
   "execution_count": 25,
   "metadata": {},
   "outputs": [
    {
     "name": "stdout",
     "output_type": "stream",
     "text": [
      "Test user id not in train:  212108\n",
      "Test user id not in log 0\n",
      "Test merchant id not in log:  0\n",
      "Test merchant id not in train:  1\n",
      "Category not in train:  86\n",
      "Brand not in train:  3403\n"
     ]
    }
   ],
   "source": [
    "# are all users and merchant in tests appear in trains\n",
    "print(\"Test user id not in train: \", len(set(test_format1['user_id']) - set(train_format1['user_id'])))\n",
    "print(\"Test user id not in log\", len(set(test_format1['user_id']) - set(user_log_format1['user_id'])))\n",
    "print(\"Test merchant id not in log: \", len(set(test_format1['merchant_id']) - set(user_log_format1['merchant_id'])))\n",
    "print(\"Test merchant id not in train: \", len(set(test_format1['merchant_id']) - set(train_format1['merchant_id'])))\n",
    "print(\"Category not in train: \", len(set(test_format1['cat_id']) - set(train_format1['cat_id'])))\n",
    "print(\"Brand not in train: \", len(set(test_format1['brand_id']) - set(train_format1['brand_id'])))"
   ]
  },
  {
   "cell_type": "code",
   "execution_count": 26,
   "metadata": {},
   "outputs": [
    {
     "name": "stdout",
     "output_type": "stream",
     "text": [
      "424170\n"
     ]
    }
   ],
   "source": [
    "print(len(np.union1d(test_format1['user_id'].unique(), train_format1['user_id'].unique())))"
   ]
  },
  {
   "cell_type": "code",
   "execution_count": 27,
   "metadata": {},
   "outputs": [
    {
     "name": "stdout",
     "output_type": "stream",
     "text": [
      "212108\n",
      "260864\n"
     ]
    }
   ],
   "source": [
    "print(len(test_format1['user_id'].unique()))\n",
    "print(len(train_format1[['user_id','merchant_id']].drop_duplicates()))"
   ]
  },
  {
   "cell_type": "code",
   "execution_count": null,
   "metadata": {},
   "outputs": [],
   "source": [
    "#erase the original dataframe\n",
    "del user_info_format1\n",
    "del user_log_format1"
   ]
  },
  {
   "cell_type": "code",
   "execution_count": 9,
   "metadata": {},
   "outputs": [
    {
     "name": "stdout",
     "output_type": "stream",
     "text": [
      "         user_id  age_range  gender  merchant_id  label  \\\n",
      "0         163968        0.0     0.0         4378   -1.0   \n",
      "1         163968        0.0     0.0         2300   -1.0   \n",
      "2         163968        0.0     0.0         1551   -1.0   \n",
      "3         163968        0.0     0.0         4343   -1.0   \n",
      "4         163968        0.0     0.0         4911   -1.0   \n",
      "...          ...        ...     ...          ...    ...   \n",
      "7027938    32639        0.0     0.0         2550   -1.0   \n",
      "7027939    32639        0.0     0.0         1364   -1.0   \n",
      "7027940    32639        0.0     0.0          503   -1.0   \n",
      "7027941    32639        0.0     0.0         2286   -1.0   \n",
      "7027942    32639        0.0     0.0         1506   -1.0   \n",
      "\n",
      "                                              activity_log  \n",
      "0                                   101206:812:6968:0614:0  \n",
      "1        588758:844:3833:0618:0#71782:844:3833:1111:2#7...  \n",
      "2        312747:243:1954:0627:0#312747:243:1954:0627:0#...  \n",
      "3                                  932390:1612:3201:0628:0  \n",
      "4                                   957657:662:3089:0612:0  \n",
      "...                                                    ...  \n",
      "7027938  380306:177:3545:1028:0#987028:177:3545:1028:0#...  \n",
      "7027939                            927267:1213:6326:0807:0  \n",
      "7027940                              12898:420:5197:0926:3  \n",
      "7027941                            805269:1455:5262:1026:0  \n",
      "7027942                              28017:812:4888:0525:0  \n",
      "\n",
      "[7027943 rows x 6 columns]\n"
     ]
    }
   ],
   "source": [
    "print(test_format2)"
   ]
  },
  {
   "cell_type": "code",
   "execution_count": null,
   "metadata": {},
   "outputs": [
    {
     "data": {
      "text/html": [
       "<div>\n",
       "<style scoped>\n",
       "    .dataframe tbody tr th:only-of-type {\n",
       "        vertical-align: middle;\n",
       "    }\n",
       "\n",
       "    .dataframe tbody tr th {\n",
       "        vertical-align: top;\n",
       "    }\n",
       "\n",
       "    .dataframe thead th {\n",
       "        text-align: right;\n",
       "    }\n",
       "</style>\n",
       "<table border=\"1\" class=\"dataframe\">\n",
       "  <thead>\n",
       "    <tr style=\"text-align: right;\">\n",
       "      <th></th>\n",
       "      <th>user_id</th>\n",
       "      <th>merchant_id</th>\n",
       "    </tr>\n",
       "  </thead>\n",
       "  <tbody>\n",
       "    <tr>\n",
       "      <th>0</th>\n",
       "      <td>163968</td>\n",
       "      <td>4378</td>\n",
       "    </tr>\n",
       "    <tr>\n",
       "      <th>1</th>\n",
       "      <td>163968</td>\n",
       "      <td>2300</td>\n",
       "    </tr>\n",
       "    <tr>\n",
       "      <th>2</th>\n",
       "      <td>163968</td>\n",
       "      <td>1551</td>\n",
       "    </tr>\n",
       "    <tr>\n",
       "      <th>3</th>\n",
       "      <td>163968</td>\n",
       "      <td>4343</td>\n",
       "    </tr>\n",
       "    <tr>\n",
       "      <th>4</th>\n",
       "      <td>163968</td>\n",
       "      <td>4911</td>\n",
       "    </tr>\n",
       "    <tr>\n",
       "      <th>...</th>\n",
       "      <td>...</td>\n",
       "      <td>...</td>\n",
       "    </tr>\n",
       "    <tr>\n",
       "      <th>7027938</th>\n",
       "      <td>32639</td>\n",
       "      <td>2550</td>\n",
       "    </tr>\n",
       "    <tr>\n",
       "      <th>7027939</th>\n",
       "      <td>32639</td>\n",
       "      <td>1364</td>\n",
       "    </tr>\n",
       "    <tr>\n",
       "      <th>7027940</th>\n",
       "      <td>32639</td>\n",
       "      <td>503</td>\n",
       "    </tr>\n",
       "    <tr>\n",
       "      <th>7027941</th>\n",
       "      <td>32639</td>\n",
       "      <td>2286</td>\n",
       "    </tr>\n",
       "    <tr>\n",
       "      <th>7027942</th>\n",
       "      <td>32639</td>\n",
       "      <td>1506</td>\n",
       "    </tr>\n",
       "  </tbody>\n",
       "</table>\n",
       "<p>6766466 rows × 2 columns</p>\n",
       "</div>"
      ],
      "text/plain": [
       "         user_id  merchant_id\n",
       "0         163968         4378\n",
       "1         163968         2300\n",
       "2         163968         1551\n",
       "3         163968         4343\n",
       "4         163968         4911\n",
       "...          ...          ...\n",
       "7027938    32639         2550\n",
       "7027939    32639         1364\n",
       "7027940    32639          503\n",
       "7027941    32639         2286\n",
       "7027942    32639         1506\n",
       "\n",
       "[6766466 rows x 2 columns]"
      ]
     },
     "execution_count": 11,
     "metadata": {},
     "output_type": "execute_result"
    }
   ],
   "source": []
  },
  {
   "cell_type": "markdown",
   "metadata": {},
   "source": [
    "# 1. Preprocess Data"
   ]
  },
  {
   "cell_type": "markdown",
   "metadata": {},
   "source": []
  },
  {
   "cell_type": "markdown",
   "metadata": {},
   "source": [
    "# 2. Matrix Decomposition, with sklearn"
   ]
  },
  {
   "cell_type": "markdown",
   "metadata": {},
   "source": [
    "## Construct the embedding matrix of user_id (row), and merchant (column), and embedding vector (latent_size), for each "
   ]
  },
  {
   "cell_type": "code",
   "execution_count": 9,
   "metadata": {},
   "outputs": [
    {
     "name": "stdout",
     "output_type": "stream",
     "text": [
      "user_id  merchant_id\n",
      "1        1019           1\n",
      "282488   2193           1\n",
      "282467   2278           1\n",
      "         3958           1\n",
      "         4976           1\n",
      "                       ..\n",
      "140925   2537           1\n",
      "140931   71             1\n",
      "140933   2277           1\n",
      "140934   3835           1\n",
      "424170   4268           1\n",
      "Length: 260864, dtype: int64\n",
      "1\n"
     ]
    }
   ],
   "source": [
    "count_series = train_format1[[\"user_id\", \"merchant_id\"]].value_counts()\n",
    "print(count_series)\n",
    "print(count_series[391188][1102])\n",
    "del count_series"
   ]
  },
  {
   "cell_type": "code",
   "execution_count": 7,
   "metadata": {},
   "outputs": [
    {
     "name": "stdout",
     "output_type": "stream",
     "text": [
      "User encoder length:  328995\n",
      "Merchant encoder length:  1993\n",
      "Brand encoder length:  4065\n",
      "Cat encoder length:  1463\n",
      "User_encoder.classes_: [     1      2      3 ... 424168 424169 424170]\n",
      "User idx len: 328994, Second idx len: 328995\n",
      "Merchant idx len: 1992, Second idx len: 1993\n",
      "User idx len: 328994, Second idx len: 328995\n",
      "Brand idx index: MultiIndex([(197213,  594),\n",
      "            (209127,  700),\n",
      "            (280693,   41),\n",
      "            (327151, 1690),\n",
      "            (145535, 2586),\n",
      "            (152049, 3379),\n",
      "            (233137, 3491),\n",
      "            (273685,  594),\n",
      "            (161202, 2592),\n",
      "            (163338,  181),\n",
      "            ...\n",
      "            (161914,  742),\n",
      "            (161914,  782),\n",
      "            (161915,  713),\n",
      "            (161915, 1266),\n",
      "            (161915, 1510),\n",
      "            (161914, 3852),\n",
      "            (161914, 3909),\n",
      "            (161915,  364),\n",
      "            (161915,  618),\n",
      "            (161914, 3143)],\n",
      "           names=['user_id_enc', 'brand_id_enc'], length=4471530), Second idx len: 4065\n",
      "Brand idx len: 4064, Second idx len: 4065\n",
      "User idx len: 328994, Second idx len: 328995\n",
      "Cat idx len: 1462, Second idx len: 1463\n"
     ]
    }
   ],
   "source": [
    "# Prepare interaction matrices from the training data\n",
    "def prepare_value_matrix(train_data, test_data, user_log_path, user_filter_mode = \"ALL\", \\\n",
    "    frac_users_merchants_from_train = 0.3, normalized = True, \\\n",
    "    latent_size = 10, empty_value=-100, device=\"cuda\", val_size=0.2):\n",
    "    \"\"\"\n",
    "    Prepares a sparse interaction matrix for the given row and column.\n",
    "    \"\"\"\n",
    "    gc.collect()\n",
    "    torch.cuda.empty_cache()\n",
    "    np.random.seed(42)\n",
    "    #temporarily upload user_info_log\n",
    "    user_info_log = pd.read_csv(user_log_path, dtype={'time_stamp': str}).rename(columns={\"seller_id\": \"merchant_id\"})\n",
    "    #user_info_log = user_info_log[user_info_log[\"time_stamp\"] == \"1111\"]\n",
    "    user_encoder = LabelEncoder()\n",
    "    merchant_encoder = LabelEncoder()\n",
    "    brand_encoder = LabelEncoder()\n",
    "    cat_encoder = LabelEncoder()\n",
    "\n",
    "\n",
    "    # Get unique user and merchant IDs from test data\n",
    "    unique_test_user_ids = set(test_data[\"user_id\"].unique())\n",
    "    unique_test_merchant_ids = set(test_data[\"merchant_id\"].unique())\n",
    "\n",
    "    if user_filter_mode == \"TEST_ONLY\":\n",
    "        # Filter only using test data\n",
    "        user_info_log = user_info_log[\n",
    "            user_info_log['user_id'].isin(unique_test_user_ids) &\n",
    "            user_info_log['merchant_id'].isin(unique_test_merchant_ids)\n",
    "        ]\n",
    "        train_df_sampled_X = None\n",
    "        train_df_sampled_y = None\n",
    "        val_df_sampled_X = None\n",
    "        val_df_sampled_y = None\n",
    "    else:\n",
    "        # Get unique user and merchant IDs from train data\n",
    "        unique_train_user_merchant_ids = train_data[[\"user_id\", \"merchant_id\", \"label\"]].drop_duplicates()\n",
    "        \n",
    "        if user_filter_mode == \"TEST_ALL_TRAIN_PARTIAL\":\n",
    "            grouped = unique_train_user_merchant_ids.groupby('label')\n",
    "            sampled = pd.DataFrame()  # Initialize an empty DataFrame to hold samples\n",
    "            for name, group in grouped:\n",
    "                group_sample = group.sample(frac=frac_users_merchants_from_train, random_state=42)\n",
    "                sampled = pd.concat([sampled, group_sample], axis=0)\n",
    "            sampled = sampled.sample(frac=1, random_state=42).reset_index(drop=True) #shuffle dataframe\n",
    "            \n",
    "            # Combine user and merchant IDs\n",
    "            train_df_sampled_X = sampled.drop('label', axis=1)  # Assuming 'label' is your target variable\n",
    "            train_df_sampled_y = sampled['label']\n",
    "            \n",
    "            combined_user_ids = unique_test_user_ids.union(set(sampled[\"user_id\"]))\n",
    "            combined_merchant_ids = unique_test_merchant_ids.union(set(sampled[\"merchant_id\"]))\n",
    "        else:\n",
    "            # Combine all train and test user/merchant IDs\n",
    "            combined_user_ids = unique_test_user_ids.union(set(unique_train_user_merchant_ids[\"user_id\"]))\n",
    "            combined_merchant_ids = unique_test_merchant_ids.union(set(unique_train_user_merchant_ids[\"merchant_id\"]))\n",
    "            train_df_sampled_X = train_df.drop('label', axis=1)  # Assuming 'label' is your target variable\n",
    "            train_df_sampled_y = train_df['label']\n",
    "        \n",
    "        train_df_sampled_X, val_df_sampled_X, train_df_sampled_y, val_df_sampled_y = train_test_split(train_df_sampled_X, train_df_sampled_y, \\\n",
    "            test_size=val_size, random_state=42, stratify=train_df_sampled_y)\n",
    "\n",
    "        # Filter `user_info_log` based on combined IDs\n",
    "        user_info_log = user_info_log[\n",
    "            user_info_log['user_id'].isin(combined_user_ids) &\n",
    "            user_info_log['merchant_id'].isin(combined_merchant_ids)\n",
    "        ]\n",
    "\n",
    "    user_info_log['user_id_enc'] = user_encoder.fit_transform(user_info_log['user_id'])\n",
    "    user_info_log['merchant_id_enc'] = merchant_encoder.fit_transform(user_info_log['merchant_id'])\n",
    "    user_info_log['brand_id_enc'] = brand_encoder.fit_transform(user_info_log['brand_id'])\n",
    "    user_info_log['cat_id_enc'] = cat_encoder.fit_transform(user_info_log['cat_id'])\n",
    "\n",
    "    #construct the embedding matrix\n",
    "    print(\"User encoder length: \", len(user_encoder.classes_))\n",
    "    print(\"Merchant encoder length: \", len(merchant_encoder.classes_))\n",
    "    print(\"Brand encoder length: \", len(brand_encoder.classes_))\n",
    "    print(\"Cat encoder length: \", len(cat_encoder.classes_))\n",
    "\n",
    "    value_counts_user_merchants = user_info_log[['user_id_enc', 'merchant_id_enc']].value_counts()\n",
    "    value_counts_user_brands = user_info_log[['user_id_enc', 'brand_id_enc']].value_counts()\n",
    "    value_counts_user_cats = user_info_log[['user_id_enc', 'cat_id_enc']].value_counts()\n",
    "\n",
    "    del user_info_log\n",
    "\n",
    "    if normalized:\n",
    "        value_counts_user_merchants = (value_counts_user_merchants - value_counts_user_merchants.mean()) / value_counts_user_merchants.std()\n",
    "        value_counts_user_brands = (value_counts_user_brands - value_counts_user_brands.mean()) / value_counts_user_brands.std()\n",
    "        value_counts_user_cats = (value_counts_user_cats - value_counts_user_cats.mean()) / value_counts_user_cats.std()\n",
    "\n",
    "    #create embedding matrices for user, merchant, brand, cat\n",
    "    print(f\"User_encoder.classes_: {user_encoder.classes_}\")\n",
    "    user_embedding = torch.empty(len(user_encoder.classes_), latent_size, device=device,dtype=torch.bfloat16)\n",
    "    init.xavier_uniform_(user_embedding)\n",
    "    merchant_embedding = torch.empty(len(merchant_encoder.classes_), latent_size, device=device,dtype=torch.bfloat16)\n",
    "    init.xavier_uniform_(merchant_embedding)\n",
    "    cat_embedding = torch.empty(len(cat_encoder.classes_), latent_size, device=device,dtype=torch.bfloat16)\n",
    "    init.xavier_uniform_(cat_embedding)\n",
    "    brand_embedding = torch.empty(len(brand_encoder.classes_), latent_size, device=device,dtype=torch.bfloat16)\n",
    "    init.xavier_uniform_(brand_embedding)\n",
    "\n",
    "    #populate interaction based on value_counts\n",
    "    user_merchant_mask = torch.zeros(len(user_encoder.classes_), len(merchant_encoder.classes_), device=device,dtype=torch.bfloat16)\n",
    "    user_brand_mask = torch.zeros(len(user_encoder.classes_), len(brand_encoder.classes_), device=device,dtype=torch.bfloat16)\n",
    "    user_cat_mask = torch.zeros(len(user_encoder.classes_), len(cat_encoder.classes_), device=device,dtype=torch.bfloat16)\n",
    "    user_merchant_gt = torch.full((len(user_encoder.classes_), len(merchant_encoder.classes_)), empty_value, device=device,dtype=torch.bfloat16)\n",
    "    user_brand_gt = torch.full((len(user_encoder.classes_), len(brand_encoder.classes_)), empty_value, device=device,dtype=torch.bfloat16)\n",
    "    user_cat_gt = torch.full((len(user_encoder.classes_), len(cat_encoder.classes_)), empty_value, device=device,dtype=torch.bfloat16)\n",
    "    \n",
    "    indices = torch.tensor(value_counts_user_merchants.index.to_list(), device=device, dtype=torch.int32)\n",
    "    values = torch.tensor(value_counts_user_merchants.values, device=device, dtype=torch.bfloat16)\n",
    "    first_idx = indices[:, 0].int() #user\n",
    "    second_idx = indices[:, 1].int()  #merchant\n",
    "    print(f\"User idx len: {first_idx.max()}, Second idx len: {len(user_encoder.classes_)}\")\n",
    "    assert first_idx.max() < len(user_encoder.classes_), \"User index out of bounds\"\n",
    "    print(f\"Merchant idx len: {second_idx.max()}, Second idx len: {len(merchant_encoder.classes_)}\")\n",
    "    assert second_idx.max() < len(merchant_encoder.classes_), \"Merchant index out of bounds\"\n",
    "    user_merchant_gt[first_idx, second_idx] = values\n",
    "    user_merchant_mask[first_idx, second_idx] = 1\n",
    "    del value_counts_user_merchants\n",
    "\n",
    "    indices = torch.tensor(value_counts_user_brands.index.to_list(), device=device, dtype=torch.int32)\n",
    "    values = torch.tensor(value_counts_user_brands.values, device=device, dtype=torch.bfloat16)\n",
    "    first_idx = indices[:, 0].int() #user\n",
    "    second_idx = indices[:, 1].int() #brand\n",
    "    print(f\"User idx len: {first_idx.max()}, Second idx len: {len(user_encoder.classes_)}\")\n",
    "    assert first_idx.max() < len(user_encoder.classes_), \"User index out of bounds\"\n",
    "    print(f\"Brand idx index: {value_counts_user_brands.index}, Second idx len: {len(brand_encoder.classes_)}\")\n",
    "    print(f\"Brand idx len: {second_idx.max()}, Second idx len: {len(brand_encoder.classes_)}\")\n",
    "    assert second_idx.max() < len(brand_encoder.classes_), \"Brand index out of bounds\"\n",
    "    user_brand_mask[first_idx, second_idx] = 1\n",
    "    user_brand_gt[first_idx, second_idx] = values\n",
    "    del value_counts_user_brands\n",
    "\n",
    "    indices = torch.tensor(value_counts_user_cats.index.to_list(), device=device, dtype=torch.int32)\n",
    "    values = torch.tensor(value_counts_user_cats.values, device=device, dtype=torch.bfloat16)\n",
    "    gc.collect()\n",
    "    torch.cuda.empty_cache()\n",
    "    first_idx = indices[:, 0].int() #user\n",
    "    second_idx = indices[:, 1].int() #cats\n",
    "    print(f\"User idx len: {first_idx.max()}, Second idx len: {len(user_encoder.classes_)}\")\n",
    "    assert first_idx.max() < len(user_encoder.classes_), \"User index out of bounds\"\n",
    "    print(f\"Cat idx len: {second_idx.max()}, Second idx len: {len(cat_encoder.classes_)}\")\n",
    "    assert second_idx.max() < len(cat_encoder.classes_), \"Cat index out of bounds\"\n",
    "    user_cat_mask[first_idx, second_idx] = 1\n",
    "    user_cat_gt[first_idx, second_idx] = values\n",
    "    del value_counts_user_cats\n",
    "    del indices\n",
    "    del values\n",
    "\n",
    "    #check for any nan inside the data\n",
    "    assert not torch.isnan(user_merchant_gt).any(), \"user_merchant_gt contains NaN\"\n",
    "    assert not torch.isnan(user_brand_gt).any(), \"user_brand_gt contains NaN\"\n",
    "    assert not torch.isnan(user_cat_gt).any(), \"user_cat_gt contains NaN\"\n",
    "\n",
    "    # metadata:\n",
    "    metadata = {\n",
    "        'user_encoder': user_encoder,\n",
    "        'merchant_encoder': merchant_encoder,\n",
    "        'brand_encoder': brand_encoder,\n",
    "        'cat_encoder': cat_encoder,\n",
    "\n",
    "        'user_embedding': user_embedding,\n",
    "        'merchant_embedding': merchant_embedding,\n",
    "        'brand_embedding': brand_embedding,\n",
    "        'cat_embedding': cat_embedding,\n",
    "\n",
    "        'user_merchant_mask': user_merchant_mask,\n",
    "        'user_brand_mask': user_brand_mask,\n",
    "        'user_cat_mask': user_cat_mask,\n",
    "\n",
    "        'user_merchant_gt': user_merchant_gt,\n",
    "        'user_brand_gt': user_brand_gt,\n",
    "        'user_cat_gt': user_cat_gt,\n",
    "\n",
    "        'train_df_sampled_X': train_df_sampled_X,\n",
    "        'train_df_sampled_y': train_df_sampled_y,\n",
    "        'val_df_sampled_X': val_df_sampled_X, \n",
    "        'val_df_sampled_y': val_df_sampled_y,\n",
    "\n",
    "        # 'value_counts_user_merchants': value_counts_user_merchants,\n",
    "        # 'value_coutns_user_brands': value_counts_user_brands, \n",
    "        # 'value_counts_user_cats': value_counts_user_cats,\n",
    "    }\n",
    "    gc.collect()\n",
    "    torch.cuda.empty_cache()\n",
    "    return metadata\n",
    "\n",
    "#sampling_type=\"TEST_ONLY\"\n",
    "sampling_type=\"TEST_ALL_TRAIN_PARTIAL\"\n",
    "metadata = prepare_value_matrix(train_format1, test_format1, user_log_path = os.path.join(data_format1_path, \"user_log_format1.csv\"), \n",
    "                     user_filter_mode =sampling_type, frac_users_merchants_from_train = 0.5, normalized = True, \n",
    "                     latent_size = 20, empty_value=-100, device=\"cuda\", val_size=0.2)"
   ]
  },
  {
   "cell_type": "code",
   "execution_count": 8,
   "metadata": {},
   "outputs": [],
   "source": [
    "# save metadata object\n",
    "metadata_path = \"metadata_file\"\n",
    "user_encoder_path = os.path.join(metadata_path, 'user_encoder.pkl')\n",
    "merchant_encoder_path = os.path.join(metadata_path, 'merchant_encoder.pkl')\n",
    "brand_encoder_path = os.path.join(metadata_path, 'brand_encoder.pkl')\n",
    "cat_encoder_path = os.path.join(metadata_path, 'cat_encoder.pkl')\n",
    "\n",
    "user_embedding_path = os.path.join(metadata_path, 'user_embedding.pth')\n",
    "merchant_embedding_path = os.path.join(metadata_path, 'merchant_embedding.pth')\n",
    "brand_embedding_path = os.path.join(metadata_path, 'brand_embedding.pth')\n",
    "cat_embedding_path = os.path.join(metadata_path, 'cat_embedding.pth')\n",
    "\n",
    "user_merchant_mask_path = os.path.join(metadata_path, 'user_merchant_mask.pth')\n",
    "user_brand_mask_path = os.path.join(metadata_path, 'user_brand_mask.pth')\n",
    "user_cat_mask_path = os.path.join(metadata_path, 'user_cat_mask.pth')\n",
    "\n",
    "user_merchant_gt_path = os.path.join(metadata_path, 'user_merchant_gt.pth')\n",
    "user_brand_gt_path = os.path.join(metadata_path, 'user_brand_gt.pth')\n",
    "user_cat_gt_path = os.path.join(metadata_path, 'user_cat_gt.pth')\n",
    "\n",
    "train_df_sampled_X_path = os.path.join(metadata_path, 'train_df_sampled_X.csv')\n",
    "train_df_sampled_y_path = os.path.join(metadata_path, 'train_df_sampled_y.csv')\n",
    "val_df_sampled_X_path = os.path.join(metadata_path, 'val_df_sampled_X.csv')\n",
    "val_df_sampled_y_path = os.path.join(metadata_path, 'val_df_sampled_y.csv')\n"
   ]
  },
  {
   "cell_type": "code",
   "execution_count": 9,
   "metadata": {},
   "outputs": [],
   "source": [
    "#save \n",
    "with open(user_encoder_path, 'wb') as f:\n",
    "    pickle.dump(metadata['user_encoder'], f)\n",
    "with open(merchant_encoder_path, 'wb') as f:\n",
    "    pickle.dump(metadata['merchant_encoder'], f)\n",
    "with open(brand_encoder_path, 'wb') as f:\n",
    "    pickle.dump(metadata['brand_encoder'], f)\n",
    "with open(cat_encoder_path, 'wb') as f:\n",
    "    pickle.dump(metadata['cat_encoder'], f)\n",
    "\n",
    "#dump the rest to \n",
    "torch.save(metadata['user_embedding'], user_embedding_path)\n",
    "torch.save(metadata['merchant_embedding'], merchant_embedding_path)\n",
    "torch.save(metadata['brand_embedding'], brand_embedding_path)\n",
    "torch.save(metadata['cat_embedding'], cat_embedding_path)\n",
    "\n",
    "torch.save(metadata['user_merchant_mask'], user_merchant_mask_path)\n",
    "torch.save(metadata['user_brand_mask'], user_brand_mask_path)\n",
    "torch.save(metadata['user_cat_mask'], user_cat_mask_path)\n",
    "\n",
    "torch.save(metadata['user_merchant_gt'], user_merchant_gt_path)\n",
    "torch.save(metadata['user_brand_gt'], user_brand_gt_path)\n",
    "torch.save(metadata['user_cat_gt'], user_cat_gt_path)\n",
    "\n",
    "metadata['train_df_sampled_X'].to_csv(train_df_sampled_X_path, index=False)\n",
    "metadata['train_df_sampled_y'].to_csv(train_df_sampled_y_path, index=False)\n",
    "metadata['val_df_sampled_X'].to_csv(val_df_sampled_X_path, index=False)\n",
    "metadata['val_df_sampled_y'].to_csv(val_df_sampled_y_path, index=False)"
   ]
  },
  {
   "cell_type": "code",
   "execution_count": 10,
   "metadata": {},
   "outputs": [],
   "source": [
    "# Set the device to load tensors to GPU if available\n",
    "device = torch.device('cuda' if torch.cuda.is_available() else 'cpu')\n",
    "\n",
    "# Initialize metadata dictionary\n",
    "metadata = {}\n",
    "\n",
    "# Load LabelEncoders using pickle\n",
    "with open(user_encoder_path, 'rb') as f:\n",
    "    metadata['user_encoder'] = pickle.load(f)\n",
    "with open(merchant_encoder_path, 'rb') as f:\n",
    "    metadata['merchant_encoder'] = pickle.load(f)\n",
    "with open(brand_encoder_path, 'rb') as f:\n",
    "    metadata['brand_encoder'] = pickle.load(f)\n",
    "with open(cat_encoder_path, 'rb') as f:\n",
    "    metadata['cat_encoder'] = pickle.load(f)\n",
    "\n",
    "# Load PyTorch tensors and move them directly to the GPU (if CUDA is available)\n",
    "metadata['user_embedding'] = torch.load(user_embedding_path, map_location=device)\n",
    "metadata['merchant_embedding'] = torch.load(merchant_embedding_path, map_location=device)\n",
    "metadata['brand_embedding'] = torch.load(brand_embedding_path, map_location=device)\n",
    "metadata['cat_embedding'] = torch.load(cat_embedding_path, map_location=device)\n",
    "\n",
    "metadata['user_merchant_mask'] = torch.load(user_merchant_mask_path, map_location=device)\n",
    "metadata['user_brand_mask'] = torch.load(user_brand_mask_path, map_location=device)\n",
    "metadata['user_cat_mask'] = torch.load(user_cat_mask_path, map_location=device)\n",
    "\n",
    "metadata['user_merchant_gt'] = torch.load(user_merchant_gt_path, map_location=device)\n",
    "metadata['user_brand_gt'] = torch.load(user_brand_gt_path, map_location=device)\n",
    "metadata['user_cat_gt'] = torch.load(user_cat_gt_path, map_location=device)\n",
    "\n",
    "# Load DataFrames from CSV\n",
    "metadata['train_df_sampled_X'] = pd.read_csv(train_df_sampled_X_path)\n",
    "metadata['train_df_sampled_y'] = pd.read_csv(train_df_sampled_y_path)\n",
    "metadata['val_df_sampled_X'] = pd.read_csv(val_df_sampled_X_path)\n",
    "metadata['val_df_sampled_y'] = pd.read_csv(val_df_sampled_y_path)\n",
    "gc.collect()\n",
    "torch.cuda.empty_cache()"
   ]
  },
  {
   "cell_type": "markdown",
   "metadata": {},
   "source": [
    "## Training the embedding"
   ]
  },
  {
   "cell_type": "code",
   "execution_count": 11,
   "metadata": {},
   "outputs": [
    {
     "name": "stderr",
     "output_type": "stream",
     "text": [
      "  0%|          | 2/3000 [00:00<17:59,  2.78it/s]"
     ]
    },
    {
     "name": "stdout",
     "output_type": "stream",
     "text": [
      "End of epoch:  0  Loss:  6422528.0  RMSE:  3.0\n"
     ]
    },
    {
     "name": "stderr",
     "output_type": "stream",
     "text": [
      "  2%|▏         | 52/3000 [00:08<07:24,  6.63it/s]"
     ]
    },
    {
     "name": "stdout",
     "output_type": "stream",
     "text": [
      "End of epoch:  50  Loss:  6291456.0  RMSE:  2.96875\n"
     ]
    },
    {
     "name": "stderr",
     "output_type": "stream",
     "text": [
      "  3%|▎         | 102/3000 [00:16<07:27,  6.47it/s]"
     ]
    },
    {
     "name": "stdout",
     "output_type": "stream",
     "text": [
      "End of epoch:  100  Loss:  5996544.0  RMSE:  2.90625\n"
     ]
    },
    {
     "name": "stderr",
     "output_type": "stream",
     "text": [
      "  5%|▌         | 152/3000 [00:23<07:09,  6.63it/s]"
     ]
    },
    {
     "name": "stdout",
     "output_type": "stream",
     "text": [
      "End of epoch:  150  Loss:  5537792.0  RMSE:  2.78125\n"
     ]
    },
    {
     "name": "stderr",
     "output_type": "stream",
     "text": [
      "  7%|▋         | 202/3000 [00:31<07:11,  6.48it/s]"
     ]
    },
    {
     "name": "stdout",
     "output_type": "stream",
     "text": [
      "End of epoch:  200  Loss:  5111808.0  RMSE:  2.671875\n"
     ]
    },
    {
     "name": "stderr",
     "output_type": "stream",
     "text": [
      "  8%|▊         | 252/3000 [00:39<06:54,  6.63it/s]"
     ]
    },
    {
     "name": "stdout",
     "output_type": "stream",
     "text": [
      "End of epoch:  250  Loss:  4620288.0  RMSE:  2.546875\n"
     ]
    },
    {
     "name": "stderr",
     "output_type": "stream",
     "text": [
      " 10%|█         | 302/3000 [00:47<06:57,  6.47it/s]"
     ]
    },
    {
     "name": "stdout",
     "output_type": "stream",
     "text": [
      "End of epoch:  300  Loss:  4358144.0  RMSE:  2.46875\n"
     ]
    },
    {
     "name": "stderr",
     "output_type": "stream",
     "text": [
      " 12%|█▏        | 352/3000 [00:54<06:39,  6.63it/s]"
     ]
    },
    {
     "name": "stdout",
     "output_type": "stream",
     "text": [
      "End of epoch:  350  Loss:  4292608.0  RMSE:  2.453125\n"
     ]
    },
    {
     "name": "stderr",
     "output_type": "stream",
     "text": [
      " 13%|█▎        | 402/3000 [01:02<06:41,  6.47it/s]"
     ]
    },
    {
     "name": "stdout",
     "output_type": "stream",
     "text": [
      "End of epoch:  400  Loss:  4259840.0  RMSE:  2.4375\n"
     ]
    },
    {
     "name": "stderr",
     "output_type": "stream",
     "text": [
      " 15%|█▌        | 452/3000 [01:10<06:24,  6.63it/s]"
     ]
    },
    {
     "name": "stdout",
     "output_type": "stream",
     "text": [
      "End of epoch:  450  Loss:  4227072.0  RMSE:  2.4375\n"
     ]
    },
    {
     "name": "stderr",
     "output_type": "stream",
     "text": [
      " 17%|█▋        | 502/3000 [01:17<06:26,  6.47it/s]"
     ]
    },
    {
     "name": "stdout",
     "output_type": "stream",
     "text": [
      "End of epoch:  500  Loss:  4227072.0  RMSE:  2.421875\n"
     ]
    },
    {
     "name": "stderr",
     "output_type": "stream",
     "text": [
      " 18%|█▊        | 552/3000 [01:25<06:09,  6.63it/s]"
     ]
    },
    {
     "name": "stdout",
     "output_type": "stream",
     "text": [
      "End of epoch:  550  Loss:  4227072.0  RMSE:  2.421875\n"
     ]
    },
    {
     "name": "stderr",
     "output_type": "stream",
     "text": [
      " 20%|██        | 602/3000 [01:33<06:12,  6.45it/s]"
     ]
    },
    {
     "name": "stdout",
     "output_type": "stream",
     "text": [
      "End of epoch:  600  Loss:  4194304.0  RMSE:  2.421875\n"
     ]
    },
    {
     "name": "stderr",
     "output_type": "stream",
     "text": [
      " 22%|██▏       | 652/3000 [01:41<05:54,  6.63it/s]"
     ]
    },
    {
     "name": "stdout",
     "output_type": "stream",
     "text": [
      "End of epoch:  650  Loss:  4161536.0  RMSE:  2.421875\n"
     ]
    },
    {
     "name": "stderr",
     "output_type": "stream",
     "text": [
      " 23%|██▎       | 702/3000 [01:48<05:54,  6.48it/s]"
     ]
    },
    {
     "name": "stdout",
     "output_type": "stream",
     "text": [
      "End of epoch:  700  Loss:  4161536.0  RMSE:  2.421875\n"
     ]
    },
    {
     "name": "stderr",
     "output_type": "stream",
     "text": [
      " 25%|██▌       | 752/3000 [01:56<05:38,  6.63it/s]"
     ]
    },
    {
     "name": "stdout",
     "output_type": "stream",
     "text": [
      "End of epoch:  750  Loss:  4161536.0  RMSE:  2.40625\n"
     ]
    },
    {
     "name": "stderr",
     "output_type": "stream",
     "text": [
      " 27%|██▋       | 802/3000 [02:04<05:39,  6.47it/s]"
     ]
    },
    {
     "name": "stdout",
     "output_type": "stream",
     "text": [
      "End of epoch:  800  Loss:  4161536.0  RMSE:  2.40625\n"
     ]
    },
    {
     "name": "stderr",
     "output_type": "stream",
     "text": [
      " 28%|██▊       | 852/3000 [02:11<05:23,  6.63it/s]"
     ]
    },
    {
     "name": "stdout",
     "output_type": "stream",
     "text": [
      "End of epoch:  850  Loss:  4161536.0  RMSE:  2.40625\n"
     ]
    },
    {
     "name": "stderr",
     "output_type": "stream",
     "text": [
      " 30%|███       | 902/3000 [02:19<05:24,  6.46it/s]"
     ]
    },
    {
     "name": "stdout",
     "output_type": "stream",
     "text": [
      "End of epoch:  900  Loss:  4161536.0  RMSE:  2.40625\n"
     ]
    },
    {
     "name": "stderr",
     "output_type": "stream",
     "text": [
      " 32%|███▏      | 952/3000 [02:27<05:08,  6.63it/s]"
     ]
    },
    {
     "name": "stdout",
     "output_type": "stream",
     "text": [
      "End of epoch:  950  Loss:  4161536.0  RMSE:  2.40625\n"
     ]
    },
    {
     "name": "stderr",
     "output_type": "stream",
     "text": [
      " 33%|███▎      | 1002/3000 [02:35<05:09,  6.46it/s]"
     ]
    },
    {
     "name": "stdout",
     "output_type": "stream",
     "text": [
      "End of epoch:  1000  Loss:  4161536.0  RMSE:  2.40625\n"
     ]
    },
    {
     "name": "stderr",
     "output_type": "stream",
     "text": [
      " 35%|███▌      | 1052/3000 [02:42<04:53,  6.63it/s]"
     ]
    },
    {
     "name": "stdout",
     "output_type": "stream",
     "text": [
      "End of epoch:  1050  Loss:  4128768.0  RMSE:  2.40625\n"
     ]
    },
    {
     "name": "stderr",
     "output_type": "stream",
     "text": [
      " 37%|███▋      | 1102/3000 [02:50<04:53,  6.48it/s]"
     ]
    },
    {
     "name": "stdout",
     "output_type": "stream",
     "text": [
      "End of epoch:  1100  Loss:  4112384.0  RMSE:  2.40625\n"
     ]
    },
    {
     "name": "stderr",
     "output_type": "stream",
     "text": [
      " 38%|███▊      | 1152/3000 [02:58<04:38,  6.63it/s]"
     ]
    },
    {
     "name": "stdout",
     "output_type": "stream",
     "text": [
      "End of epoch:  1150  Loss:  4112384.0  RMSE:  2.40625\n"
     ]
    },
    {
     "name": "stderr",
     "output_type": "stream",
     "text": [
      " 40%|████      | 1202/3000 [03:05<04:37,  6.47it/s]"
     ]
    },
    {
     "name": "stdout",
     "output_type": "stream",
     "text": [
      "End of epoch:  1200  Loss:  4112384.0  RMSE:  2.40625\n"
     ]
    },
    {
     "name": "stderr",
     "output_type": "stream",
     "text": [
      " 42%|████▏     | 1252/3000 [03:13<04:23,  6.63it/s]"
     ]
    },
    {
     "name": "stdout",
     "output_type": "stream",
     "text": [
      "End of epoch:  1250  Loss:  4112384.0  RMSE:  2.40625\n"
     ]
    },
    {
     "name": "stderr",
     "output_type": "stream",
     "text": [
      " 43%|████▎     | 1302/3000 [03:21<04:22,  6.46it/s]"
     ]
    },
    {
     "name": "stdout",
     "output_type": "stream",
     "text": [
      "End of epoch:  1300  Loss:  4112384.0  RMSE:  2.40625\n"
     ]
    },
    {
     "name": "stderr",
     "output_type": "stream",
     "text": [
      " 45%|████▌     | 1352/3000 [03:28<04:08,  6.63it/s]"
     ]
    },
    {
     "name": "stdout",
     "output_type": "stream",
     "text": [
      "End of epoch:  1350  Loss:  4112384.0  RMSE:  2.40625\n"
     ]
    },
    {
     "name": "stderr",
     "output_type": "stream",
     "text": [
      " 47%|████▋     | 1402/3000 [03:36<04:06,  6.49it/s]"
     ]
    },
    {
     "name": "stdout",
     "output_type": "stream",
     "text": [
      "End of epoch:  1400  Loss:  4112384.0  RMSE:  2.40625\n"
     ]
    },
    {
     "name": "stderr",
     "output_type": "stream",
     "text": [
      " 48%|████▊     | 1452/3000 [03:44<03:53,  6.63it/s]"
     ]
    },
    {
     "name": "stdout",
     "output_type": "stream",
     "text": [
      "End of epoch:  1450  Loss:  4112384.0  RMSE:  2.40625\n"
     ]
    },
    {
     "name": "stderr",
     "output_type": "stream",
     "text": [
      " 50%|█████     | 1502/3000 [03:52<03:51,  6.48it/s]"
     ]
    },
    {
     "name": "stdout",
     "output_type": "stream",
     "text": [
      "End of epoch:  1500  Loss:  4112384.0  RMSE:  2.40625\n"
     ]
    },
    {
     "name": "stderr",
     "output_type": "stream",
     "text": [
      " 52%|█████▏    | 1552/3000 [03:59<03:38,  6.63it/s]"
     ]
    },
    {
     "name": "stdout",
     "output_type": "stream",
     "text": [
      "End of epoch:  1550  Loss:  4112384.0  RMSE:  2.40625\n"
     ]
    },
    {
     "name": "stderr",
     "output_type": "stream",
     "text": [
      " 53%|█████▎    | 1602/3000 [04:07<03:36,  6.47it/s]"
     ]
    },
    {
     "name": "stdout",
     "output_type": "stream",
     "text": [
      "End of epoch:  1600  Loss:  4112384.0  RMSE:  2.40625\n"
     ]
    },
    {
     "name": "stderr",
     "output_type": "stream",
     "text": [
      " 55%|█████▌    | 1652/3000 [04:15<03:23,  6.63it/s]"
     ]
    },
    {
     "name": "stdout",
     "output_type": "stream",
     "text": [
      "End of epoch:  1650  Loss:  4112384.0  RMSE:  2.40625\n"
     ]
    },
    {
     "name": "stderr",
     "output_type": "stream",
     "text": [
      " 57%|█████▋    | 1702/3000 [04:22<03:20,  6.46it/s]"
     ]
    },
    {
     "name": "stdout",
     "output_type": "stream",
     "text": [
      "End of epoch:  1700  Loss:  4112384.0  RMSE:  2.40625\n"
     ]
    },
    {
     "name": "stderr",
     "output_type": "stream",
     "text": [
      " 58%|█████▊    | 1752/3000 [04:30<03:08,  6.63it/s]"
     ]
    },
    {
     "name": "stdout",
     "output_type": "stream",
     "text": [
      "End of epoch:  1750  Loss:  4112384.0  RMSE:  2.40625\n"
     ]
    },
    {
     "name": "stderr",
     "output_type": "stream",
     "text": [
      " 60%|██████    | 1802/3000 [04:38<03:05,  6.47it/s]"
     ]
    },
    {
     "name": "stdout",
     "output_type": "stream",
     "text": [
      "End of epoch:  1800  Loss:  4112384.0  RMSE:  2.40625\n"
     ]
    },
    {
     "name": "stderr",
     "output_type": "stream",
     "text": [
      " 62%|██████▏   | 1852/3000 [04:46<02:53,  6.63it/s]"
     ]
    },
    {
     "name": "stdout",
     "output_type": "stream",
     "text": [
      "End of epoch:  1850  Loss:  4112384.0  RMSE:  2.40625\n"
     ]
    },
    {
     "name": "stderr",
     "output_type": "stream",
     "text": [
      " 63%|██████▎   | 1902/3000 [04:53<02:49,  6.47it/s]"
     ]
    },
    {
     "name": "stdout",
     "output_type": "stream",
     "text": [
      "End of epoch:  1900  Loss:  4112384.0  RMSE:  2.40625\n"
     ]
    },
    {
     "name": "stderr",
     "output_type": "stream",
     "text": [
      " 65%|██████▌   | 1952/3000 [05:01<02:38,  6.63it/s]"
     ]
    },
    {
     "name": "stdout",
     "output_type": "stream",
     "text": [
      "End of epoch:  1950  Loss:  4112384.0  RMSE:  2.40625\n"
     ]
    },
    {
     "name": "stderr",
     "output_type": "stream",
     "text": [
      " 67%|██████▋   | 2002/3000 [05:09<02:34,  6.46it/s]"
     ]
    },
    {
     "name": "stdout",
     "output_type": "stream",
     "text": [
      "End of epoch:  2000  Loss:  4112384.0  RMSE:  2.40625\n"
     ]
    },
    {
     "name": "stderr",
     "output_type": "stream",
     "text": [
      " 68%|██████▊   | 2052/3000 [05:16<02:22,  6.63it/s]"
     ]
    },
    {
     "name": "stdout",
     "output_type": "stream",
     "text": [
      "End of epoch:  2050  Loss:  4112384.0  RMSE:  2.40625\n"
     ]
    },
    {
     "name": "stderr",
     "output_type": "stream",
     "text": [
      " 70%|███████   | 2102/3000 [05:24<02:18,  6.46it/s]"
     ]
    },
    {
     "name": "stdout",
     "output_type": "stream",
     "text": [
      "End of epoch:  2100  Loss:  4112384.0  RMSE:  2.390625\n"
     ]
    },
    {
     "name": "stderr",
     "output_type": "stream",
     "text": [
      " 72%|███████▏  | 2152/3000 [05:32<02:07,  6.63it/s]"
     ]
    },
    {
     "name": "stdout",
     "output_type": "stream",
     "text": [
      "End of epoch:  2150  Loss:  4112384.0  RMSE:  2.390625\n"
     ]
    },
    {
     "name": "stderr",
     "output_type": "stream",
     "text": [
      " 73%|███████▎  | 2202/3000 [05:40<02:03,  6.47it/s]"
     ]
    },
    {
     "name": "stdout",
     "output_type": "stream",
     "text": [
      "End of epoch:  2200  Loss:  4112384.0  RMSE:  2.390625\n"
     ]
    },
    {
     "name": "stderr",
     "output_type": "stream",
     "text": [
      " 75%|███████▌  | 2252/3000 [05:47<01:52,  6.63it/s]"
     ]
    },
    {
     "name": "stdout",
     "output_type": "stream",
     "text": [
      "End of epoch:  2250  Loss:  4112384.0  RMSE:  2.390625\n"
     ]
    },
    {
     "name": "stderr",
     "output_type": "stream",
     "text": [
      " 77%|███████▋  | 2302/3000 [05:55<01:47,  6.47it/s]"
     ]
    },
    {
     "name": "stdout",
     "output_type": "stream",
     "text": [
      "End of epoch:  2300  Loss:  4112384.0  RMSE:  2.390625\n"
     ]
    },
    {
     "name": "stderr",
     "output_type": "stream",
     "text": [
      " 78%|███████▊  | 2352/3000 [06:03<01:37,  6.63it/s]"
     ]
    },
    {
     "name": "stdout",
     "output_type": "stream",
     "text": [
      "End of epoch:  2350  Loss:  4112384.0  RMSE:  2.390625\n"
     ]
    },
    {
     "name": "stderr",
     "output_type": "stream",
     "text": [
      " 80%|████████  | 2402/3000 [06:10<01:32,  6.46it/s]"
     ]
    },
    {
     "name": "stdout",
     "output_type": "stream",
     "text": [
      "End of epoch:  2400  Loss:  4112384.0  RMSE:  2.390625\n"
     ]
    },
    {
     "name": "stderr",
     "output_type": "stream",
     "text": [
      " 82%|████████▏ | 2452/3000 [06:18<01:22,  6.63it/s]"
     ]
    },
    {
     "name": "stdout",
     "output_type": "stream",
     "text": [
      "End of epoch:  2450  Loss:  4112384.0  RMSE:  2.390625\n"
     ]
    },
    {
     "name": "stderr",
     "output_type": "stream",
     "text": [
      " 83%|████████▎ | 2502/3000 [06:26<01:16,  6.48it/s]"
     ]
    },
    {
     "name": "stdout",
     "output_type": "stream",
     "text": [
      "End of epoch:  2500  Loss:  4096000.0  RMSE:  2.390625\n"
     ]
    },
    {
     "name": "stderr",
     "output_type": "stream",
     "text": [
      " 85%|████████▌ | 2552/3000 [06:33<01:07,  6.63it/s]"
     ]
    },
    {
     "name": "stdout",
     "output_type": "stream",
     "text": [
      "End of epoch:  2550  Loss:  4096000.0  RMSE:  2.390625\n"
     ]
    },
    {
     "name": "stderr",
     "output_type": "stream",
     "text": [
      " 87%|████████▋ | 2602/3000 [06:41<01:01,  6.48it/s]"
     ]
    },
    {
     "name": "stdout",
     "output_type": "stream",
     "text": [
      "End of epoch:  2600  Loss:  4096000.0  RMSE:  2.390625\n"
     ]
    },
    {
     "name": "stderr",
     "output_type": "stream",
     "text": [
      " 88%|████████▊ | 2652/3000 [06:49<00:52,  6.63it/s]"
     ]
    },
    {
     "name": "stdout",
     "output_type": "stream",
     "text": [
      "End of epoch:  2650  Loss:  4096000.0  RMSE:  2.390625\n"
     ]
    },
    {
     "name": "stderr",
     "output_type": "stream",
     "text": [
      " 90%|█████████ | 2702/3000 [06:57<00:45,  6.49it/s]"
     ]
    },
    {
     "name": "stdout",
     "output_type": "stream",
     "text": [
      "End of epoch:  2700  Loss:  4096000.0  RMSE:  2.390625\n"
     ]
    },
    {
     "name": "stderr",
     "output_type": "stream",
     "text": [
      " 92%|█████████▏| 2752/3000 [07:04<00:37,  6.63it/s]"
     ]
    },
    {
     "name": "stdout",
     "output_type": "stream",
     "text": [
      "End of epoch:  2750  Loss:  4096000.0  RMSE:  2.390625\n"
     ]
    },
    {
     "name": "stderr",
     "output_type": "stream",
     "text": [
      " 93%|█████████▎| 2802/3000 [07:12<00:30,  6.47it/s]"
     ]
    },
    {
     "name": "stdout",
     "output_type": "stream",
     "text": [
      "End of epoch:  2800  Loss:  4096000.0  RMSE:  2.390625\n"
     ]
    },
    {
     "name": "stderr",
     "output_type": "stream",
     "text": [
      " 95%|█████████▌| 2852/3000 [07:20<00:22,  6.63it/s]"
     ]
    },
    {
     "name": "stdout",
     "output_type": "stream",
     "text": [
      "End of epoch:  2850  Loss:  4096000.0  RMSE:  2.390625\n"
     ]
    },
    {
     "name": "stderr",
     "output_type": "stream",
     "text": [
      " 97%|█████████▋| 2902/3000 [07:27<00:15,  6.47it/s]"
     ]
    },
    {
     "name": "stdout",
     "output_type": "stream",
     "text": [
      "End of epoch:  2900  Loss:  4096000.0  RMSE:  2.390625\n"
     ]
    },
    {
     "name": "stderr",
     "output_type": "stream",
     "text": [
      " 98%|█████████▊| 2952/3000 [07:35<00:07,  6.63it/s]"
     ]
    },
    {
     "name": "stdout",
     "output_type": "stream",
     "text": [
      "End of epoch:  2950  Loss:  4096000.0  RMSE:  2.390625\n"
     ]
    },
    {
     "name": "stderr",
     "output_type": "stream",
     "text": [
      "100%|██████████| 3000/3000 [07:43<00:00,  6.48it/s]\n"
     ]
    },
    {
     "data": {
      "image/png": "[encoded data removed]",
      "text/plain": [
       "<Figure size 640x480 with 1 Axes>"
      ]
     },
     "metadata": {},
     "output_type": "display_data"
    },
    {
     "data": {
      "image/png": "[encoded data removed]",
      "text/plain": [
       "<Figure size 640x480 with 1 Axes>"
      ]
     },
     "metadata": {},
     "output_type": "display_data"
    },
    {
     "name": "stdout",
     "output_type": "stream",
     "text": [
      "Final train Loss:  4096000.0  RMSE:  2.390625\n"
     ]
    }
   ],
   "source": [
    "#iterate for all versions of all_versions, which one is the best\n",
    "\n",
    "def safe_check_unique(tensor):\n",
    "    # Convert tensor to float32 if it's BFloat16\n",
    "    if tensor.dtype == torch.bfloat16:\n",
    "        tensor = tensor.to(torch.float32)\n",
    "    # Perform the unique operation\n",
    "    unique_values = torch.unique(tensor)\n",
    "    return unique_values\n",
    "\n",
    "def calculate_rmse(predictions1, actual1, mask1, predictions2, actual2, mask2, predictions3, actual3, mask3):\n",
    "    # Check inputs do not contain NaN or Inf\n",
    "    assert not torch.isnan(predictions1).any() and not torch.isinf(predictions1).any(), \"predictions1 contains NaN or Inf\"\n",
    "    assert not torch.isnan(actual1).any() and not torch.isinf(actual1).any(), \"actual1 contains NaN or Inf\"\n",
    "    assert not torch.isnan(predictions2).any() and not torch.isinf(predictions2).any(), \"predictions2 contains NaN or Inf\"\n",
    "    assert not torch.isnan(actual3).any() and not torch.isinf(actual3).any(), \"actual3 contains NaN or Inf\"\n",
    "    \n",
    "    # Calculate the squared differences\n",
    "    squared_diff1 = (predictions1 - actual1) ** 2\n",
    "    squared_diff2 = (predictions2 - actual2) ** 2\n",
    "    squared_diff3 = (predictions3 - actual3) ** 2\n",
    "    \n",
    "    # Apply the mask to the squared differences\n",
    "    squared_diff1 = squared_diff1 * mask1\n",
    "    squared_diff2 = squared_diff2 * mask2\n",
    "    squared_diff3 = squared_diff3 * mask3\n",
    "\n",
    "    # Verify masks are binary and valid\n",
    "    unique_mask1 = safe_check_unique(mask1)\n",
    "    unique_mask2 = safe_check_unique(mask2)\n",
    "    unique_mask3 = safe_check_unique(mask3)\n",
    "\n",
    "    assert unique_mask1.tolist() in [[0.0], [1.0], [0.0, 1.0]], \"mask1 contains values other than 0 and 1\"\n",
    "    assert unique_mask2.tolist() in [[0.0], [1.0], [0.0, 1.0]], \"mask2 contains values other than 0 and 1\"\n",
    "    assert unique_mask3.tolist() in [[0.0], [1.0], [0.0, 1.0]], \"mask3 contains values other than 0 and 1\"\n",
    "    \n",
    "    # Compute the mean of the squared differences where mask is 1\n",
    "    rmse1 = torch.sqrt(squared_diff1.sum() / (mask1.sum() + 1e-8))\n",
    "    rmse2 = torch.sqrt(squared_diff2.sum() / (mask2.sum() + 1e-8))\n",
    "    rmse3 = torch.sqrt(squared_diff3.sum() / (mask3.sum() + 1e-8))\n",
    "    rmse = rmse1 + rmse2 + rmse3\n",
    "\n",
    "    # Assert final RMSE values do not contain NaN\n",
    "    assert not torch.isnan(rmse).any(), \"Final rmse calculation resulted in NaN\"\n",
    "\n",
    "    return rmse\n",
    "\n",
    "\n",
    "def training_iteration(epoch, lr, lambda_reg, metadata, \n",
    "                plot_graph =True, epoch_print_result = True, epoch_print_mult=50, \n",
    "                save_checkpoint = True, epoch_save_mult = 100, checkpoint_folder=\"embedding_checkpoint_folder\",\n",
    "                save_version_key = \"\"):\n",
    "    gc.collect()\n",
    "    torch.cuda.empty_cache()\n",
    "\n",
    "    #initialize tensor U and V\n",
    "    UM_mask = metadata[\"user_merchant_mask\"]\n",
    "    UB_mask = metadata[\"user_brand_mask\"]\n",
    "    UC_mask = metadata[\"user_cat_mask\"]\n",
    "    UM_mask.requires_grad = False\n",
    "    UB_mask.requires_grad = False\n",
    "    UC_mask.requires_grad = False\n",
    "    UM_gt = metadata[\"user_merchant_gt\"]\n",
    "    UB_gt = metadata[\"user_brand_gt\"]\n",
    "    UC_gt = metadata[\"user_cat_gt\"]\n",
    "    UM_gt.requires_grad = False\n",
    "    UB_gt.requires_grad = False\n",
    "    UC_gt.requires_grad = False\n",
    "    \n",
    "    user_embedding = metadata[\"user_embedding\"].clone()\n",
    "    merchant_embedding = metadata[\"merchant_embedding\"].clone()\n",
    "    brand_embedding = metadata[\"brand_embedding\"].clone()\n",
    "    cat_embedding = metadata[\"cat_embedding\"].clone()\n",
    "\n",
    "    user_embedding.requires_grad = True\n",
    "    merchant_embedding.requires_grad = True\n",
    "    brand_embedding.requires_grad = True\n",
    "    cat_embedding.requires_grad = True\n",
    "    \n",
    "    #optimizer\n",
    "    optimizer = torch.optim.Adam([user_embedding, merchant_embedding, brand_embedding, cat_embedding], lr=lr)\n",
    "    loss_train_list = []\n",
    "    #loss_test_list = []\n",
    "    rmse_train_list = []\n",
    "    #rmse_test_list = []\n",
    "    counter = 0\n",
    "    for iteration in tqdm(range(epoch)):\n",
    "\n",
    "        UM_pred = user_embedding.mm(merchant_embedding.T)\n",
    "        assert not torch.isnan(UM_pred).any(), \"user_merchant_gt contains NaN\"\n",
    "        UB_pred = user_embedding.mm(brand_embedding.T)\n",
    "        assert not torch.isnan(UB_pred).any(), \"user_brand_gt contains NaN\"\n",
    "        UC_pred = user_embedding.mm(cat_embedding.T)\n",
    "        assert not torch.isnan(UC_pred).any(), \"user_cat_gt contains NaN\"\n",
    "\n",
    "        #calculate losses\n",
    "        UM_term = UM_mask*(UM_gt - UM_pred)\n",
    "        UM_term = 1/2 * torch.norm(input = UM_term, p=\"fro\")**2\n",
    "        assert not torch.isnan(UM_term).any(), \"UM_term contains NaN\"\n",
    "        UB_term = UB_mask*(UB_gt - UB_pred)\n",
    "        UB_term = 1/2 * torch.norm(input = UB_term, p=\"fro\")**2\n",
    "        assert not torch.isnan(UB_term).any(), \"UB_term contains NaN\"\n",
    "        UC_term = UC_mask*(UC_gt - UC_pred)\n",
    "        UC_term = 1/2 * torch.norm(input = UC_term, p=\"fro\")**2\n",
    "        assert not torch.isnan(UC_term).any(), \"UC_term contains NaN\"\n",
    "        error_regularization = lambda_reg * (torch.norm(input = user_embedding, p=\"fro\")**2 + torch.norm(input = merchant_embedding, p=\"fro\")**2 + \\\n",
    "            torch.norm(input = brand_embedding, p=\"fro\")**2 + torch.norm(input = cat_embedding, p=\"fro\")**2  )\n",
    "        assert not torch.isnan(error_regularization).any(), \"error_regularization contains NaN\"\n",
    "        loss_train = UM_term + UB_term+ UC_term+ error_regularization\n",
    "        loss_train_list.append(loss_train.item())\n",
    "\n",
    "        \n",
    "        #calculate rmse:\n",
    "        rmse_error_train = calculate_rmse(UM_pred, UM_gt, UM_mask, UB_pred, UB_gt, UB_mask, UC_pred, UC_gt, UC_mask).detach()\n",
    "        rmse_train_list.append(rmse_error_train.item())\n",
    "\n",
    "        #update U and V\n",
    "        loss_train.backward()\n",
    "        optimizer.step()\n",
    "        optimizer.zero_grad()\n",
    "        if epoch_print_result and not iteration % epoch_print_mult:\n",
    "            #print(\"End of epoch: \", iter, \" Loss: \", loss_train.item(), \" RMSE: \", rmse_error_train.item(), \" Test Loss: \", loss_test.item(), \" Test RMSE: \", rmse_error_test.item())\n",
    "            print(\"End of epoch: \", iteration, \" Loss: \", loss_train.item(), \" RMSE: \", rmse_error_train.item())\n",
    "        # if iter > 0 and loss_test_list[-2] - loss_test_list[-1] < test_loss_not_change_limit:\n",
    "        #     counter += 1\n",
    "        #     if counter >= test_loss_not_changing_counter:\n",
    "        #         print(\"Test loss not changing, break\")\n",
    "        #         break\n",
    "        # else:\n",
    "        #     counter = 0\n",
    "        if save_checkpoint and not iteration % epoch_save_mult:\n",
    "            user_embedding_path = os.path.join(checkpoint_folder, f\"user_embedding_{save_version_key}_{iteration}.pt\")\n",
    "            merchant_embedding_path = os.path.join(checkpoint_folder, f\"merchant_embedding_{save_version_key}_{iteration}.pt\")\n",
    "            brand_embedding_path = os.path.join(checkpoint_folder, f\"brand_embedding_{save_version_key}_{iteration}.pt\")\n",
    "            cat_embedding_path = os.path.join(checkpoint_folder, f\"cat_embedding_{save_version_key}_{iteration}.pt\")\n",
    "            torch.save(user_embedding, user_embedding_path)\n",
    "            torch.save(merchant_embedding, merchant_embedding_path)\n",
    "            torch.save(brand_embedding, brand_embedding_path)\n",
    "            torch.save(cat_embedding, cat_embedding_path)\n",
    "            \n",
    "\n",
    "    if plot_graph:\n",
    "        plt.plot(loss_train_list, label='Loss train')\n",
    "        #plt.plot(loss_test_list, label='Loss test')\n",
    "        plt.title('Loss vs. epoch')\n",
    "        plt.xlabel('Epoch')\n",
    "        plt.ylabel('Loss')\n",
    "        plt.grid(True)\n",
    "        plt.legend()\n",
    "        plt.show()\n",
    "\n",
    "        #plot RMSE also\n",
    "        plt.plot(rmse_train_list, label='RMSE train')\n",
    "        #plt.plot(rmse_test_list, label='RMSE test')\n",
    "        plt.title('RMSE vs. epoch')\n",
    "        plt.xlabel('Epoch')\n",
    "        plt.ylabel('RMSE')\n",
    "        plt.grid(True)\n",
    "        plt.legend()\n",
    "        plt.show()\n",
    "    #print(\"Final train Loss: \", loss_train_list[-1], \" RMSE: \", rmse_train_list[-1], \" Test Loss: \", loss_test_list[-1], \" Test RMSE: \", rmse_test_list[-1])\n",
    "    print(\"Final train Loss: \", loss_train_list[-1], \" RMSE: \", rmse_train_list[-1])\n",
    "    return user_embedding, merchant_embedding, brand_embedding, cat_embedding, loss_train_list, rmse_train_list\n",
    "\n",
    "metadata[\"user_embedding\"], metadata[\"merchant_embedding\"], \\\n",
    "    metadata[\"brand_embedding\"], metadata[\"cat_embedding\"], loss_train_list, rmse_train_list = training_iteration(epoch=3000, lr=0.001, lambda_reg=0.01, metadata=metadata, \\\n",
    "        plot_graph =True, epoch_print_result = True, epoch_print_mult=50, \\\n",
    "        save_checkpoint = True, epoch_save_mult = 100, checkpoint_folder=\"embedding_checkpoint_folder\", \\\n",
    "        save_version_key = \"version1\")"
   ]
  },
  {
   "cell_type": "code",
   "execution_count": null,
   "metadata": {},
   "outputs": [],
   "source": []
  },
  {
   "cell_type": "code",
   "execution_count": 33,
   "metadata": {},
   "outputs": [
    {
     "ename": "",
     "evalue": "",
     "output_type": "error",
     "traceback": [
      "\u001b[1;31mnotebook controller is DISPOSED. \n",
      "\u001b[1;31mView Jupyter <a href='command:jupyter.viewOutput'>log</a> for further details."
     ]
    }
   ],
   "source": [
    "import gc\n",
    "gc.collect()\n",
    "torch.cuda.empty_cache()"
   ]
  },
  {
   "cell_type": "code",
   "execution_count": 10,
   "metadata": {},
   "outputs": [],
   "source": [
    "# Set the device to load tensors to GPU if available\n",
    "device = torch.device('cuda' if torch.cuda.is_available() else 'cpu')\n",
    "\n",
    "# Initialize metadata dictionary\n",
    "metadata = {}\n",
    "\n",
    "# Load LabelEncoders using pickle\n",
    "with open(user_encoder_path, 'rb') as f:\n",
    "    metadata['user_encoder'] = pickle.load(f)\n",
    "with open(merchant_encoder_path, 'rb') as f:\n",
    "    metadata['merchant_encoder'] = pickle.load(f)\n",
    "with open(brand_encoder_path, 'rb') as f:\n",
    "    metadata['brand_encoder'] = pickle.load(f)\n",
    "with open(cat_encoder_path, 'rb') as f:\n",
    "    metadata['cat_encoder'] = pickle.load(f)\n",
    "\n",
    "# Load PyTorch tensors and move them directly to the GPU (if CUDA is available)\n",
    "metadata['user_embedding'] = torch.load(user_embedding_path, map_location=device)\n",
    "metadata['merchant_embedding'] = torch.load(merchant_embedding_path, map_location=device)\n",
    "metadata['brand_embedding'] = torch.load(brand_embedding_path, map_location=device)\n",
    "metadata['cat_embedding'] = torch.load(cat_embedding_path, map_location=device)\n",
    "\n",
    "metadata['user_merchant_mask'] = torch.load(user_merchant_mask_path, map_location=device)\n",
    "metadata['user_brand_mask'] = torch.load(user_brand_mask_path, map_location=device)\n",
    "metadata['user_cat_mask'] = torch.load(user_cat_mask_path, map_location=device)\n",
    "\n",
    "metadata['user_merchant_gt'] = torch.load(user_merchant_gt_path, map_location=device)\n",
    "metadata['user_brand_gt'] = torch.load(user_brand_gt_path, map_location=device)\n",
    "metadata['user_cat_gt'] = torch.load(user_cat_gt_path, map_location=device)\n",
    "\n",
    "# Load DataFrames from CSV\n",
    "metadata['train_df_sampled_X'] = pd.read_csv(train_df_sampled_X_path)\n",
    "metadata['train_df_sampled_y'] = pd.read_csv(train_df_sampled_y_path)\n",
    "metadata['val_df_sampled_X'] = pd.read_csv(val_df_sampled_X_path)\n",
    "metadata['val_df_sampled_y'] = pd.read_csv(val_df_sampled_y_path)\n",
    "gc.collect()\n",
    "torch.cuda.empty_cache()"
   ]
  },
  {
   "cell_type": "code",
   "execution_count": 23,
   "metadata": {},
   "outputs": [],
   "source": [
    "from collections import Counter\n",
    "def training_iteration(metadata, chosen_versioning, grouping_method,\n",
    "    num_round, checkpoint_folder = \"embedding_checkpoint_folder\", \n",
    "    save_model_path = \"lightgbm.txt\", model=\"lightgbm\", use_embedding=True, save_model = True):\n",
    "\n",
    "    assert grouping_method in [\"unique_average\", \"average\", \"unique_sum\", \"sum\", \"mostoccurence\"]\n",
    "\n",
    "    metadata['user_embedding'] = torch.load(os.path.join(checkpoint_folder, \"user_embedding_\"+chosen_versioning), map_location=device)\n",
    "    metadata['merchant_embedding'] = torch.load(os.path.join(checkpoint_folder, \"merchant_embedding_\"+chosen_versioning), map_location=device)\n",
    "    metadata['brand_embedding'] = torch.load(os.path.join(checkpoint_folder, \"brand_embedding_\"+chosen_versioning), map_location=device)\n",
    "    metadata['cat_embedding'] = torch.load(os.path.join(checkpoint_folder, \"cat_embedding_\"+chosen_versioning), map_location=device)\n",
    "    metadata['user_embedding'].requires_grad = False\n",
    "    metadata['merchant_embedding'].requires_grad = False\n",
    "    metadata['brand_embedding'].requires_grad = False\n",
    "    metadata['cat_embedding'].requires_grad = False\n",
    "\n",
    "    def get_averaged_embedding(ids, embedding_tensor):\n",
    "        embeddings = [embedding_tensor[torch.tensor(id_list)].float().cpu() for id_list in ids]\n",
    "        aggregated_embeddings = torch.stack(embeddings).mean(0).float().cpu().numpy()\n",
    "        return aggregated_embeddings\n",
    "    def get_summed_embedding(ids, embedding_tensor):\n",
    "        embeddings = [embedding_tensor[torch.tensor(id_list)].float().cpu() for id_list in ids]\n",
    "        aggregated_embeddings = torch.stack(embeddings).sum(0).float().cpu().numpy()\n",
    "        return aggregated_embeddings\n",
    "    def get_mostoccurence_embedding(ids, embedding_tensor):\n",
    "        most_common_id, _ = Counter(ids).most_common(1)[0]\n",
    "        aggregated_embeddings = [embedding_tensor[torch.tensor(most_common_id)].float().cpu()]\n",
    "        aggregated_embeddings = torch.stack(aggregated_embeddings).float().cpu().numpy()\n",
    "        aggregated_embeddings = aggregated_embeddings.flatten()\n",
    "        return aggregated_embeddings\n",
    "    \n",
    "    chosen_embedding_method = None\n",
    "    if \"average\" in grouping_method:\n",
    "        chosen_embedding_method = get_averaged_embedding\n",
    "    elif \"sum\" in grouping_method:\n",
    "        chosen_embedding_method = get_summed_embedding\n",
    "    elif \"mostoccurence\" in grouping_method:\n",
    "        chosen_embedding_method = get_mostoccurence_embedding\n",
    "    else:\n",
    "        raise ValueError()\n",
    "\n",
    "    gc.collect()\n",
    "    torch.cuda.empty_cache()\n",
    "\n",
    "    train_X = metadata[\"train_df_sampled_X\"].copy()\n",
    "    train_y = metadata[\"train_df_sampled_y\"].copy()\n",
    "    valid_X = metadata[\"val_df_sampled_X\"].copy()\n",
    "    valid_y = metadata[\"val_df_sampled_y\"].copy()\n",
    "\n",
    "    # Load user_info_log and filter for specific time_stamp\n",
    "    user_info_log = pd.read_csv(user_log_format1_path, dtype={'time_stamp': str}).rename(columns={\"seller_id\": \"merchant_id\"})\n",
    "    user_info_log = user_info_log[user_info_log[\"time_stamp\"] == \"1111\"]\n",
    "    user_info_log = user_info_log.drop([\"time_stamp\", \"action_type\", \"item_id\"],axis=1)\n",
    "\n",
    "    train_X = pd.concat([train_X, train_y], axis=1)\n",
    "    train_X = train_X.merge(user_info_log, on=[\"user_id\", \"merchant_id\"], how=\"left\")\n",
    "    train_X = train_X.groupby(['user_id', 'merchant_id', \"label\"]).agg({\n",
    "        'cat_id': lambda x: list(set(x)) if (\"unique\" in grouping_method) else list(x),\n",
    "        'brand_id': lambda x: list(set(x)) if (\"unique\" in grouping_method) else list(x)\n",
    "    }).reset_index()\n",
    "    train_y = train_X[\"label\"]\n",
    "    train_X = train_X.drop(\"label\", axis=1)\n",
    "\n",
    "    train_X['encoded_user_id'] = metadata['user_encoder'].transform(train_X['user_id'])\n",
    "    train_X['encoded_merchant_id'] = metadata['merchant_encoder'].transform(train_X['merchant_id'])\n",
    "    train_X['encoded_cat_id'] = train_X['cat_id'].apply(lambda ids: [metadata['cat_encoder'].transform([id])[0] for id in ids])\n",
    "    train_X['encoded_brand_id'] = train_X['brand_id'].apply(lambda ids: [metadata['brand_encoder'].transform([id])[0] for id in ids])\n",
    "\n",
    "    # Then, fetch embeddings using the encoded indices\n",
    "    train_X['user_embeddings'] = train_X['encoded_user_id'].apply(lambda x: metadata['user_embedding'][x].float().cpu().numpy())\n",
    "    train_X['merchant_embeddings'] = train_X['encoded_merchant_id'].apply(lambda x: metadata['merchant_embedding'][x].float().cpu().numpy())\n",
    "    train_X['aggr_cat_embeddings'] = train_X['encoded_cat_id'].apply(lambda x: chosen_embedding_method(x, metadata['cat_embedding']))\n",
    "    train_X['aggr_brand_embeddings'] = train_X['encoded_brand_id'].apply(lambda x: chosen_embedding_method(x, metadata['brand_embedding']))\n",
    "\n",
    "    valid_X = pd.concat([valid_X, valid_y], axis=1)\n",
    "    valid_X = valid_X.merge(user_info_log, on=[\"user_id\", \"merchant_id\"], how=\"left\")\n",
    "    valid_X = valid_X.groupby(['user_id', 'merchant_id', \"label\"]).agg({\n",
    "        'cat_id': lambda x: list(set(x)) if (\"unique\" in grouping_method) else list(x),\n",
    "        'brand_id': lambda x: list(set(x)) if (\"unique\" in grouping_method) else list(x)\n",
    "    }).reset_index()\n",
    "    valid_y = valid_X[\"label\"]\n",
    "    valid_X = valid_X.drop(\"label\", axis=1)\n",
    "\n",
    "    valid_X['encoded_user_id'] = metadata['user_encoder'].transform(valid_X['user_id'])\n",
    "    valid_X['encoded_merchant_id'] = metadata['merchant_encoder'].transform(valid_X['merchant_id'])\n",
    "    valid_X['encoded_cat_id'] = valid_X['cat_id'].apply(lambda ids: [metadata['cat_encoder'].transform([id])[0] for id in ids])\n",
    "    valid_X['encoded_brand_id'] = valid_X['brand_id'].apply(lambda ids: [metadata['brand_encoder'].transform([id])[0] for id in ids])\n",
    "\n",
    "    # Then, fetch embeddings using the encoded indices\n",
    "    valid_X['user_embeddings'] = valid_X['encoded_user_id'].apply(lambda x: metadata['user_embedding'][x].float().cpu().numpy())\n",
    "    valid_X['merchant_embeddings'] = valid_X['encoded_merchant_id'].apply(lambda x: metadata['merchant_embedding'][x].float().cpu().numpy())\n",
    "    valid_X['aggr_cat_embeddings'] = valid_X['encoded_cat_id'].apply(lambda x: chosen_embedding_method(x, metadata['cat_embedding']))\n",
    "    valid_X['aggr_brand_embeddings'] = valid_X['encoded_brand_id'].apply(lambda x: chosen_embedding_method(x, metadata['brand_embedding']))\n",
    "    del user_info_log\n",
    "    gc.collect()\n",
    "    torch.cuda.empty_cache()\n",
    "    # =============== BEGIN TRAINING\n",
    "    # Define the function to expand embedding arrays into separate DataFrame columns\n",
    "    def expand_embeddings(df, column_names):\n",
    "        \"\"\"\n",
    "        Expand multiple columns containing embedded lists into multiple distinct columns for each embedding,\n",
    "        and concatenate them into a single DataFrame.\n",
    "        \n",
    "        Args:\n",
    "        df (pd.DataFrame): The original DataFrame containing embedding columns.\n",
    "        column_names (list of str): A list of column names to expand.\n",
    "\n",
    "        Returns:\n",
    "        pd.DataFrame: A new DataFrame with expanded embedding columns.\n",
    "        \"\"\"\n",
    "        expanded_df = pd.DataFrame(index=df.index)\n",
    "        for column_name in column_names:\n",
    "            embeddings = np.stack(df[column_name].to_numpy())\n",
    "            col_names = [f'{column_name}_{i}' for i in range(embeddings.shape[1])]\n",
    "            embeddings_df = pd.DataFrame(embeddings, columns=col_names, index=df.index)\n",
    "            expanded_df = pd.concat([expanded_df, embeddings_df], axis=1)\n",
    "        return expanded_df\n",
    "\n",
    "    \n",
    "    # Configure parameters for LightGBM\n",
    "    params = {\n",
    "        'boosting_type': 'gbdt',\n",
    "        'objective': 'binary',\n",
    "        'metric': 'binary_logloss',\n",
    "    }\n",
    "    if use_embedding:\n",
    "        # Assuming 'metadata' contains all your embeddings and the 'train_X', 'val_X' have been prepared\n",
    "        # Expand embeddings into separate columns for training and validation sets\n",
    "        train_X = expand_embeddings(train_X, \n",
    "                                            ['user_embeddings', 'merchant_embeddings', 'aggr_cat_embeddings', 'aggr_brand_embeddings'])\n",
    "        valid_X = expand_embeddings(valid_X, \n",
    "                                        ['user_embeddings', 'merchant_embeddings', 'aggr_cat_embeddings', 'aggr_brand_embeddings'])\n",
    "\n",
    "    else:\n",
    "        train_X = metadata[\"train_df_sampled_X\"]\n",
    "        train_y = metadata[\"train_df_sampled_y\"]\n",
    "        valid_X= metadata[\"val_df_sampled_X\"]\n",
    "        valid_y = metadata[\"val_df_sampled_y\"]\n",
    "    \n",
    "    # Free up memory\n",
    "    gc.collect()\n",
    "    train_data = lgb.Dataset(train_X, label=train_y)\n",
    "    valid_data = lgb.Dataset(valid_X, label=valid_y, reference=train_data)\n",
    "\n",
    "\n",
    "    # Train the model\n",
    "    lgb_model = lgb.train(params, train_data, \n",
    "        num_boost_round=num_round, valid_sets=[valid_data],\n",
    "        callbacks=[lgb.early_stopping(stopping_rounds=3)])\n",
    "\n",
    "    # Save the model\n",
    "    if save_model: \n",
    "        lgb_model.save_model(save_model_path)\n",
    "\n",
    "    # Predictions\n",
    "    y_pred_valid = lgb_model.predict(valid_X, num_iteration=lgb_model.best_iteration)\n",
    "    # Convert probabilities to binary output if needed, for example:\n",
    "    y_pred_binary_valid = (y_pred_valid >= 0.5).astype(int)\n",
    "    accuracy_valid = accuracy_score(valid_y, y_pred_binary_valid)\n",
    "    auc_valid = roc_auc_score(valid_y, y_pred_valid)\n",
    "    return lgb_model, accuracy_valid, auc_valid"
   ]
  },
  {
   "cell_type": "code",
   "execution_count": 13,
   "metadata": {},
   "outputs": [
    {
     "name": "stdout",
     "output_type": "stream",
     "text": [
      "['version1_0.pt', 'version1_100.pt', 'version1_200.pt', 'version1_300.pt', 'version1_400.pt', 'version1_500.pt', 'version1_600.pt', 'version1_700.pt', 'version1_800.pt', 'version1_900.pt', 'version1_1000.pt', 'version1_1100.pt', 'version1_1200.pt', 'version1_1300.pt', 'version1_1400.pt', 'version1_1500.pt', 'version1_1600.pt', 'version1_1700.pt', 'version1_1800.pt', 'version1_1900.pt', 'version1_2000.pt', 'version1_2100.pt', 'version1_2200.pt', 'version1_2300.pt', 'version1_2400.pt', 'version1_2500.pt', 'version1_2600.pt', 'version1_2700.pt', 'version1_2800.pt', 'version1_2900.pt']\n"
     ]
    },
    {
     "name": "stdout",
     "output_type": "stream",
     "text": [
      "[LightGBM] [Info] Number of positive: 6381, number of negative: 97964\n",
      "[LightGBM] [Info] Auto-choosing col-wise multi-threading, the overhead of testing was 0.034532 seconds.\n",
      "You can set `force_col_wise=true` to remove the overhead.\n",
      "[LightGBM] [Info] Total Bins 20239\n",
      "[LightGBM] [Info] Number of data points in the train set: 104345, number of used features: 80\n",
      "[LightGBM] [Info] [binary:BoostFromScore]: pavg=0.061153 -> initscore=-2.731275\n",
      "[LightGBM] [Info] Start training from score -2.731275\n",
      "Training until validation scores don't improve for 3 rounds\n",
      "Early stopping, best iteration is:\n",
      "[32]\tvalid_0's binary_logloss: 0.222724\n",
      "version_name version1_0.pt\n",
      "validation_score:  0.6393264104663181\n",
      "[LightGBM] [Info] Number of positive: 6381, number of negative: 97964\n",
      "[LightGBM] [Info] Auto-choosing col-wise multi-threading, the overhead of testing was 0.041765 seconds.\n",
      "You can set `force_col_wise=true` to remove the overhead.\n",
      "[LightGBM] [Info] Total Bins 19659\n",
      "[LightGBM] [Info] Number of data points in the train set: 104345, number of used features: 80\n",
      "[LightGBM] [Info] [binary:BoostFromScore]: pavg=0.061153 -> initscore=-2.731275\n",
      "[LightGBM] [Info] Start training from score -2.731275\n",
      "Training until validation scores don't improve for 3 rounds\n",
      "Early stopping, best iteration is:\n",
      "[29]\tvalid_0's binary_logloss: 0.222683\n",
      "version_name version1_100.pt\n",
      "validation_score:  0.6393082483078091\n",
      "[LightGBM] [Info] Number of positive: 6381, number of negative: 97964\n",
      "[LightGBM] [Info] Auto-choosing col-wise multi-threading, the overhead of testing was 0.044459 seconds.\n",
      "You can set `force_col_wise=true` to remove the overhead.\n",
      "[LightGBM] [Info] Total Bins 20094\n",
      "[LightGBM] [Info] Number of data points in the train set: 104345, number of used features: 80\n",
      "[LightGBM] [Info] [binary:BoostFromScore]: pavg=0.061153 -> initscore=-2.731275\n",
      "[LightGBM] [Info] Start training from score -2.731275\n",
      "Training until validation scores don't improve for 3 rounds\n",
      "Early stopping, best iteration is:\n",
      "[32]\tvalid_0's binary_logloss: 0.221998\n",
      "version_name version1_200.pt\n",
      "validation_score:  0.6441888388352258\n",
      "[LightGBM] [Info] Number of positive: 6381, number of negative: 97964\n",
      "[LightGBM] [Info] Auto-choosing col-wise multi-threading, the overhead of testing was 0.034638 seconds.\n",
      "You can set `force_col_wise=true` to remove the overhead.\n",
      "[LightGBM] [Info] Total Bins 20053\n",
      "[LightGBM] [Info] Number of data points in the train set: 104345, number of used features: 80\n",
      "[LightGBM] [Info] [binary:BoostFromScore]: pavg=0.061153 -> initscore=-2.731275\n",
      "[LightGBM] [Info] Start training from score -2.731275\n",
      "Training until validation scores don't improve for 3 rounds\n",
      "Early stopping, best iteration is:\n",
      "[39]\tvalid_0's binary_logloss: 0.222189\n",
      "version_name version1_300.pt\n",
      "validation_score:  0.6440435671656844\n",
      "[LightGBM] [Info] Number of positive: 6381, number of negative: 97964\n",
      "[LightGBM] [Info] Auto-choosing col-wise multi-threading, the overhead of testing was 0.040141 seconds.\n",
      "You can set `force_col_wise=true` to remove the overhead.\n",
      "[LightGBM] [Info] Total Bins 20095\n",
      "[LightGBM] [Info] Number of data points in the train set: 104345, number of used features: 80\n",
      "[LightGBM] [Info] [binary:BoostFromScore]: pavg=0.061153 -> initscore=-2.731275\n",
      "[LightGBM] [Info] Start training from score -2.731275\n",
      "Training until validation scores don't improve for 3 rounds\n",
      "Early stopping, best iteration is:\n",
      "[37]\tvalid_0's binary_logloss: 0.222674\n",
      "version_name version1_400.pt\n",
      "validation_score:  0.6474154186102352\n",
      "[LightGBM] [Info] Number of positive: 6381, number of negative: 97964\n",
      "[LightGBM] [Info] Auto-choosing col-wise multi-threading, the overhead of testing was 0.037056 seconds.\n",
      "You can set `force_col_wise=true` to remove the overhead.\n",
      "[LightGBM] [Info] Total Bins 20112\n",
      "[LightGBM] [Info] Number of data points in the train set: 104345, number of used features: 80\n",
      "[LightGBM] [Info] [binary:BoostFromScore]: pavg=0.061153 -> initscore=-2.731275\n",
      "[LightGBM] [Info] Start training from score -2.731275\n",
      "Training until validation scores don't improve for 3 rounds\n",
      "Early stopping, best iteration is:\n",
      "[30]\tvalid_0's binary_logloss: 0.222368\n",
      "version_name version1_500.pt\n",
      "validation_score:  0.6458508107311094\n",
      "[LightGBM] [Info] Number of positive: 6381, number of negative: 97964\n",
      "[LightGBM] [Info] Auto-choosing col-wise multi-threading, the overhead of testing was 0.042480 seconds.\n",
      "You can set `force_col_wise=true` to remove the overhead.\n",
      "[LightGBM] [Info] Total Bins 20118\n",
      "[LightGBM] [Info] Number of data points in the train set: 104345, number of used features: 80\n",
      "[LightGBM] [Info] [binary:BoostFromScore]: pavg=0.061153 -> initscore=-2.731275\n",
      "[LightGBM] [Info] Start training from score -2.731275\n",
      "Training until validation scores don't improve for 3 rounds\n",
      "Early stopping, best iteration is:\n",
      "[20]\tvalid_0's binary_logloss: 0.223296\n",
      "version_name version1_600.pt\n",
      "validation_score:  0.6360112725695858\n",
      "[LightGBM] [Info] Number of positive: 6381, number of negative: 97964\n",
      "[LightGBM] [Info] Auto-choosing col-wise multi-threading, the overhead of testing was 0.044251 seconds.\n",
      "You can set `force_col_wise=true` to remove the overhead.\n",
      "[LightGBM] [Info] Total Bins 20163\n",
      "[LightGBM] [Info] Number of data points in the train set: 104345, number of used features: 80\n",
      "[LightGBM] [Info] [binary:BoostFromScore]: pavg=0.061153 -> initscore=-2.731275\n",
      "[LightGBM] [Info] Start training from score -2.731275\n",
      "Training until validation scores don't improve for 3 rounds\n",
      "Early stopping, best iteration is:\n",
      "[30]\tvalid_0's binary_logloss: 0.222809\n",
      "version_name version1_700.pt\n",
      "validation_score:  0.6411761859927905\n",
      "[LightGBM] [Info] Number of positive: 6381, number of negative: 97964\n",
      "[LightGBM] [Info] Auto-choosing col-wise multi-threading, the overhead of testing was 0.037250 seconds.\n",
      "You can set `force_col_wise=true` to remove the overhead.\n",
      "[LightGBM] [Info] Total Bins 20146\n",
      "[LightGBM] [Info] Number of data points in the train set: 104345, number of used features: 80\n",
      "[LightGBM] [Info] [binary:BoostFromScore]: pavg=0.061153 -> initscore=-2.731275\n",
      "[LightGBM] [Info] Start training from score -2.731275\n",
      "Training until validation scores don't improve for 3 rounds\n",
      "Early stopping, best iteration is:\n",
      "[37]\tvalid_0's binary_logloss: 0.22202\n",
      "version_name version1_800.pt\n",
      "validation_score:  0.645688708026727\n",
      "[LightGBM] [Info] Number of positive: 6381, number of negative: 97964\n",
      "[LightGBM] [Info] Auto-choosing col-wise multi-threading, the overhead of testing was 0.043056 seconds.\n",
      "You can set `force_col_wise=true` to remove the overhead.\n",
      "[LightGBM] [Info] Total Bins 20113\n",
      "[LightGBM] [Info] Number of data points in the train set: 104345, number of used features: 80\n",
      "[LightGBM] [Info] [binary:BoostFromScore]: pavg=0.061153 -> initscore=-2.731275\n",
      "[LightGBM] [Info] Start training from score -2.731275\n",
      "Training until validation scores don't improve for 3 rounds\n",
      "Early stopping, best iteration is:\n",
      "[23]\tvalid_0's binary_logloss: 0.22311\n",
      "version_name version1_900.pt\n",
      "validation_score:  0.6359979741321714\n",
      "[LightGBM] [Info] Number of positive: 6381, number of negative: 97964\n",
      "[LightGBM] [Info] Auto-choosing col-wise multi-threading, the overhead of testing was 0.040030 seconds.\n",
      "You can set `force_col_wise=true` to remove the overhead.\n",
      "[LightGBM] [Info] Total Bins 20114\n",
      "[LightGBM] [Info] Number of data points in the train set: 104345, number of used features: 80\n",
      "[LightGBM] [Info] [binary:BoostFromScore]: pavg=0.061153 -> initscore=-2.731275\n",
      "[LightGBM] [Info] Start training from score -2.731275\n",
      "Training until validation scores don't improve for 3 rounds\n",
      "Early stopping, best iteration is:\n",
      "[23]\tvalid_0's binary_logloss: 0.223092\n",
      "version_name version1_1000.pt\n",
      "validation_score:  0.6369133520407406\n",
      "[LightGBM] [Info] Number of positive: 6381, number of negative: 97964\n",
      "[LightGBM] [Info] Auto-choosing col-wise multi-threading, the overhead of testing was 0.040595 seconds.\n",
      "You can set `force_col_wise=true` to remove the overhead.\n",
      "[LightGBM] [Info] Total Bins 20100\n",
      "[LightGBM] [Info] Number of data points in the train set: 104345, number of used features: 80\n",
      "[LightGBM] [Info] [binary:BoostFromScore]: pavg=0.061153 -> initscore=-2.731275\n",
      "[LightGBM] [Info] Start training from score -2.731275\n",
      "Training until validation scores don't improve for 3 rounds\n",
      "Early stopping, best iteration is:\n",
      "[26]\tvalid_0's binary_logloss: 0.222527\n",
      "version_name version1_1100.pt\n",
      "validation_score:  0.6425191105841227\n",
      "[LightGBM] [Info] Number of positive: 6381, number of negative: 97964\n",
      "[LightGBM] [Info] Auto-choosing col-wise multi-threading, the overhead of testing was 0.038448 seconds.\n",
      "You can set `force_col_wise=true` to remove the overhead.\n",
      "[LightGBM] [Info] Total Bins 20116\n",
      "[LightGBM] [Info] Number of data points in the train set: 104345, number of used features: 80\n",
      "[LightGBM] [Info] [binary:BoostFromScore]: pavg=0.061153 -> initscore=-2.731275\n",
      "[LightGBM] [Info] Start training from score -2.731275\n",
      "Training until validation scores don't improve for 3 rounds\n",
      "Early stopping, best iteration is:\n",
      "[40]\tvalid_0's binary_logloss: 0.222238\n",
      "version_name version1_1200.pt\n",
      "validation_score:  0.646208089443319\n",
      "[LightGBM] [Info] Number of positive: 6381, number of negative: 97964\n",
      "[LightGBM] [Info] Auto-choosing col-wise multi-threading, the overhead of testing was 0.037605 seconds.\n",
      "You can set `force_col_wise=true` to remove the overhead.\n",
      "[LightGBM] [Info] Total Bins 20101\n",
      "[LightGBM] [Info] Number of data points in the train set: 104345, number of used features: 80\n",
      "[LightGBM] [Info] [binary:BoostFromScore]: pavg=0.061153 -> initscore=-2.731275\n",
      "[LightGBM] [Info] Start training from score -2.731275\n",
      "Training until validation scores don't improve for 3 rounds\n",
      "Early stopping, best iteration is:\n",
      "[25]\tvalid_0's binary_logloss: 0.222526\n",
      "version_name version1_1300.pt\n",
      "validation_score:  0.6444261372275868\n",
      "[LightGBM] [Info] Number of positive: 6381, number of negative: 97964\n",
      "[LightGBM] [Info] Auto-choosing col-wise multi-threading, the overhead of testing was 0.037432 seconds.\n",
      "You can set `force_col_wise=true` to remove the overhead.\n",
      "[LightGBM] [Info] Total Bins 20104\n",
      "[LightGBM] [Info] Number of data points in the train set: 104345, number of used features: 80\n",
      "[LightGBM] [Info] [binary:BoostFromScore]: pavg=0.061153 -> initscore=-2.731275\n",
      "[LightGBM] [Info] Start training from score -2.731275\n",
      "Training until validation scores don't improve for 3 rounds\n",
      "Early stopping, best iteration is:\n",
      "[26]\tvalid_0's binary_logloss: 0.222589\n",
      "version_name version1_1400.pt\n",
      "validation_score:  0.6448227096865357\n",
      "[LightGBM] [Info] Number of positive: 6381, number of negative: 97964\n",
      "[LightGBM] [Info] Auto-choosing col-wise multi-threading, the overhead of testing was 0.036250 seconds.\n",
      "You can set `force_col_wise=true` to remove the overhead.\n",
      "[LightGBM] [Info] Total Bins 20114\n",
      "[LightGBM] [Info] Number of data points in the train set: 104345, number of used features: 80\n",
      "[LightGBM] [Info] [binary:BoostFromScore]: pavg=0.061153 -> initscore=-2.731275\n",
      "[LightGBM] [Info] Start training from score -2.731275\n",
      "Training until validation scores don't improve for 3 rounds\n",
      "Early stopping, best iteration is:\n",
      "[20]\tvalid_0's binary_logloss: 0.222714\n",
      "version_name version1_1500.pt\n",
      "validation_score:  0.6425941526809087\n",
      "[LightGBM] [Info] Number of positive: 6381, number of negative: 97964\n",
      "[LightGBM] [Info] Auto-choosing col-wise multi-threading, the overhead of testing was 0.036222 seconds.\n",
      "You can set `force_col_wise=true` to remove the overhead.\n",
      "[LightGBM] [Info] Total Bins 20104\n",
      "[LightGBM] [Info] Number of data points in the train set: 104345, number of used features: 80\n",
      "[LightGBM] [Info] [binary:BoostFromScore]: pavg=0.061153 -> initscore=-2.731275\n",
      "[LightGBM] [Info] Start training from score -2.731275\n",
      "Training until validation scores don't improve for 3 rounds\n",
      "Early stopping, best iteration is:\n",
      "[26]\tvalid_0's binary_logloss: 0.222526\n",
      "version_name version1_1600.pt\n",
      "validation_score:  0.6411802049623266\n",
      "[LightGBM] [Info] Number of positive: 6381, number of negative: 97964\n",
      "[LightGBM] [Info] Auto-choosing col-wise multi-threading, the overhead of testing was 0.043438 seconds.\n",
      "You can set `force_col_wise=true` to remove the overhead.\n",
      "[LightGBM] [Info] Total Bins 20136\n",
      "[LightGBM] [Info] Number of data points in the train set: 104345, number of used features: 80\n",
      "[LightGBM] [Info] [binary:BoostFromScore]: pavg=0.061153 -> initscore=-2.731275\n",
      "[LightGBM] [Info] Start training from score -2.731275\n",
      "Training until validation scores don't improve for 3 rounds\n",
      "Early stopping, best iteration is:\n",
      "[26]\tvalid_0's binary_logloss: 0.223085\n",
      "version_name version1_1700.pt\n",
      "validation_score:  0.637296613263009\n",
      "[LightGBM] [Info] Number of positive: 6381, number of negative: 97964\n",
      "[LightGBM] [Info] Auto-choosing col-wise multi-threading, the overhead of testing was 0.041270 seconds.\n",
      "You can set `force_col_wise=true` to remove the overhead.\n",
      "[LightGBM] [Info] Total Bins 20125\n",
      "[LightGBM] [Info] Number of data points in the train set: 104345, number of used features: 80\n",
      "[LightGBM] [Info] [binary:BoostFromScore]: pavg=0.061153 -> initscore=-2.731275\n",
      "[LightGBM] [Info] Start training from score -2.731275\n",
      "Training until validation scores don't improve for 3 rounds\n",
      "Early stopping, best iteration is:\n",
      "[21]\tvalid_0's binary_logloss: 0.222537\n",
      "version_name version1_1800.pt\n",
      "validation_score:  0.6454339258369568\n"
     ]
    },
    {
     "ename": "KeyboardInterrupt",
     "evalue": "",
     "output_type": "error",
     "traceback": [
      "\u001b[0;31m---------------------------------------------------------------------------\u001b[0m",
      "\u001b[0;31mKeyboardInterrupt\u001b[0m                         Traceback (most recent call last)",
      "Cell \u001b[0;32mIn[13], line 10\u001b[0m\n\u001b[1;32m      8\u001b[0m \u001b[38;5;28mprint\u001b[39m(all_versions)\n\u001b[1;32m      9\u001b[0m \u001b[38;5;28;01mfor\u001b[39;00m version_name \u001b[38;5;129;01min\u001b[39;00m all_versions:\n\u001b[0;32m---> 10\u001b[0m     model, accuracy_valid, auc_valid \u001b[38;5;241m=\u001b[39m \u001b[43mtraining_iteration\u001b[49m\u001b[43m(\u001b[49m\u001b[43mmetadata\u001b[49m\u001b[43m,\u001b[49m\u001b[43m \u001b[49m\u001b[43mversion_name\u001b[49m\u001b[43m,\u001b[49m\u001b[43m \u001b[49m\u001b[43mgrouping_method\u001b[49m\u001b[43m \u001b[49m\u001b[38;5;241;43m=\u001b[39;49m\u001b[43m \u001b[49m\u001b[38;5;124;43m\"\u001b[39;49m\u001b[38;5;124;43maverage\u001b[39;49m\u001b[38;5;124;43m\"\u001b[39;49m\u001b[43m,\u001b[49m\u001b[43m \u001b[49m\u001b[43mnum_round\u001b[49m\u001b[38;5;241;43m=\u001b[39;49m\u001b[38;5;241;43m1000\u001b[39;49m\u001b[43m,\u001b[49m\u001b[43m \u001b[49m\u001b[43mcheckpoint_folder\u001b[49m\u001b[43m \u001b[49m\u001b[38;5;241;43m=\u001b[39;49m\u001b[43m \u001b[49m\u001b[38;5;124;43m\"\u001b[39;49m\u001b[38;5;124;43membedding_checkpoint_folder\u001b[39;49m\u001b[38;5;124;43m\"\u001b[39;49m\u001b[43m,\u001b[49m\u001b[43m \u001b[49m\n\u001b[1;32m     11\u001b[0m \u001b[43m    \u001b[49m\u001b[43msave_model_path\u001b[49m\u001b[43m \u001b[49m\u001b[38;5;241;43m=\u001b[39;49m\u001b[43m \u001b[49m\u001b[38;5;124;43m\"\u001b[39;49m\u001b[38;5;124;43mlightgbm.txt\u001b[39;49m\u001b[38;5;124;43m\"\u001b[39;49m\u001b[43m,\u001b[49m\u001b[43m \u001b[49m\u001b[43muse_embedding\u001b[49m\u001b[38;5;241;43m=\u001b[39;49m\u001b[38;5;28;43;01mTrue\u001b[39;49;00m\u001b[43m,\u001b[49m\u001b[43m \u001b[49m\u001b[43msave_model\u001b[49m\u001b[43m \u001b[49m\u001b[38;5;241;43m=\u001b[39;49m\u001b[43m \u001b[49m\u001b[38;5;28;43;01mTrue\u001b[39;49;00m\u001b[43m)\u001b[49m\n\u001b[1;32m     12\u001b[0m     \u001b[38;5;28mprint\u001b[39m(\u001b[38;5;124m\"\u001b[39m\u001b[38;5;124mversion_name\u001b[39m\u001b[38;5;124m\"\u001b[39m, version_name)\n\u001b[1;32m     13\u001b[0m     \u001b[38;5;28mprint\u001b[39m(\u001b[38;5;124m\"\u001b[39m\u001b[38;5;124mvalidation_score: \u001b[39m\u001b[38;5;124m\"\u001b[39m, auc_valid)\n",
      "Cell \u001b[0;32mIn[12], line 49\u001b[0m, in \u001b[0;36mtraining_iteration\u001b[0;34m(metadata, chosen_versioning, grouping_method, num_round, checkpoint_folder, save_model_path, model, use_embedding, save_model)\u001b[0m\n\u001b[1;32m     46\u001b[0m valid_y \u001b[38;5;241m=\u001b[39m metadata[\u001b[38;5;124m\"\u001b[39m\u001b[38;5;124mval_df_sampled_y\u001b[39m\u001b[38;5;124m\"\u001b[39m]\u001b[38;5;241m.\u001b[39mcopy()\n\u001b[1;32m     48\u001b[0m \u001b[38;5;66;03m# Load user_info_log and filter for specific time_stamp\u001b[39;00m\n\u001b[0;32m---> 49\u001b[0m user_info_log \u001b[38;5;241m=\u001b[39m \u001b[43mpd\u001b[49m\u001b[38;5;241;43m.\u001b[39;49m\u001b[43mread_csv\u001b[49m\u001b[43m(\u001b[49m\u001b[43muser_log_format1_path\u001b[49m\u001b[43m,\u001b[49m\u001b[43m \u001b[49m\u001b[43mdtype\u001b[49m\u001b[38;5;241;43m=\u001b[39;49m\u001b[43m{\u001b[49m\u001b[38;5;124;43m'\u001b[39;49m\u001b[38;5;124;43mtime_stamp\u001b[39;49m\u001b[38;5;124;43m'\u001b[39;49m\u001b[43m:\u001b[49m\u001b[43m \u001b[49m\u001b[38;5;28;43mstr\u001b[39;49m\u001b[43m}\u001b[49m\u001b[43m)\u001b[49m\u001b[38;5;241m.\u001b[39mrename(columns\u001b[38;5;241m=\u001b[39m{\u001b[38;5;124m\"\u001b[39m\u001b[38;5;124mseller_id\u001b[39m\u001b[38;5;124m\"\u001b[39m: \u001b[38;5;124m\"\u001b[39m\u001b[38;5;124mmerchant_id\u001b[39m\u001b[38;5;124m\"\u001b[39m})\n\u001b[1;32m     50\u001b[0m user_info_log \u001b[38;5;241m=\u001b[39m user_info_log[user_info_log[\u001b[38;5;124m\"\u001b[39m\u001b[38;5;124mtime_stamp\u001b[39m\u001b[38;5;124m\"\u001b[39m] \u001b[38;5;241m==\u001b[39m \u001b[38;5;124m\"\u001b[39m\u001b[38;5;124m1111\u001b[39m\u001b[38;5;124m\"\u001b[39m]\n\u001b[1;32m     51\u001b[0m user_info_log \u001b[38;5;241m=\u001b[39m user_info_log\u001b[38;5;241m.\u001b[39mdrop([\u001b[38;5;124m\"\u001b[39m\u001b[38;5;124mtime_stamp\u001b[39m\u001b[38;5;124m\"\u001b[39m, \u001b[38;5;124m\"\u001b[39m\u001b[38;5;124maction_type\u001b[39m\u001b[38;5;124m\"\u001b[39m, \u001b[38;5;124m\"\u001b[39m\u001b[38;5;124mitem_id\u001b[39m\u001b[38;5;124m\"\u001b[39m],axis\u001b[38;5;241m=\u001b[39m\u001b[38;5;241m1\u001b[39m)\n",
      "File \u001b[0;32m/flash2/aml/miniconda3/envs/wangwd24/lib/python3.10/site-packages/pandas/io/parsers/readers.py:1026\u001b[0m, in \u001b[0;36mread_csv\u001b[0;34m(filepath_or_buffer, sep, delimiter, header, names, index_col, usecols, dtype, engine, converters, true_values, false_values, skipinitialspace, skiprows, skipfooter, nrows, na_values, keep_default_na, na_filter, verbose, skip_blank_lines, parse_dates, infer_datetime_format, keep_date_col, date_parser, date_format, dayfirst, cache_dates, iterator, chunksize, compression, thousands, decimal, lineterminator, quotechar, quoting, doublequote, escapechar, comment, encoding, encoding_errors, dialect, on_bad_lines, delim_whitespace, low_memory, memory_map, float_precision, storage_options, dtype_backend)\u001b[0m\n\u001b[1;32m   1013\u001b[0m kwds_defaults \u001b[38;5;241m=\u001b[39m _refine_defaults_read(\n\u001b[1;32m   1014\u001b[0m     dialect,\n\u001b[1;32m   1015\u001b[0m     delimiter,\n\u001b[0;32m   (...)\u001b[0m\n\u001b[1;32m   1022\u001b[0m     dtype_backend\u001b[38;5;241m=\u001b[39mdtype_backend,\n\u001b[1;32m   1023\u001b[0m )\n\u001b[1;32m   1024\u001b[0m kwds\u001b[38;5;241m.\u001b[39mupdate(kwds_defaults)\n\u001b[0;32m-> 1026\u001b[0m \u001b[38;5;28;01mreturn\u001b[39;00m \u001b[43m_read\u001b[49m\u001b[43m(\u001b[49m\u001b[43mfilepath_or_buffer\u001b[49m\u001b[43m,\u001b[49m\u001b[43m \u001b[49m\u001b[43mkwds\u001b[49m\u001b[43m)\u001b[49m\n",
      "File \u001b[0;32m/flash2/aml/miniconda3/envs/wangwd24/lib/python3.10/site-packages/pandas/io/parsers/readers.py:626\u001b[0m, in \u001b[0;36m_read\u001b[0;34m(filepath_or_buffer, kwds)\u001b[0m\n\u001b[1;32m    623\u001b[0m     \u001b[38;5;28;01mreturn\u001b[39;00m parser\n\u001b[1;32m    625\u001b[0m \u001b[38;5;28;01mwith\u001b[39;00m parser:\n\u001b[0;32m--> 626\u001b[0m     \u001b[38;5;28;01mreturn\u001b[39;00m \u001b[43mparser\u001b[49m\u001b[38;5;241;43m.\u001b[39;49m\u001b[43mread\u001b[49m\u001b[43m(\u001b[49m\u001b[43mnrows\u001b[49m\u001b[43m)\u001b[49m\n",
      "File \u001b[0;32m/flash2/aml/miniconda3/envs/wangwd24/lib/python3.10/site-packages/pandas/io/parsers/readers.py:1968\u001b[0m, in \u001b[0;36mTextFileReader.read\u001b[0;34m(self, nrows)\u001b[0m\n\u001b[1;32m   1965\u001b[0m     \u001b[38;5;28;01melse\u001b[39;00m:\n\u001b[1;32m   1966\u001b[0m         new_col_dict \u001b[38;5;241m=\u001b[39m col_dict\n\u001b[0;32m-> 1968\u001b[0m     df \u001b[38;5;241m=\u001b[39m \u001b[43mDataFrame\u001b[49m\u001b[43m(\u001b[49m\n\u001b[1;32m   1969\u001b[0m \u001b[43m        \u001b[49m\u001b[43mnew_col_dict\u001b[49m\u001b[43m,\u001b[49m\n\u001b[1;32m   1970\u001b[0m \u001b[43m        \u001b[49m\u001b[43mcolumns\u001b[49m\u001b[38;5;241;43m=\u001b[39;49m\u001b[43mcolumns\u001b[49m\u001b[43m,\u001b[49m\n\u001b[1;32m   1971\u001b[0m \u001b[43m        \u001b[49m\u001b[43mindex\u001b[49m\u001b[38;5;241;43m=\u001b[39;49m\u001b[43mindex\u001b[49m\u001b[43m,\u001b[49m\n\u001b[1;32m   1972\u001b[0m \u001b[43m        \u001b[49m\u001b[43mcopy\u001b[49m\u001b[38;5;241;43m=\u001b[39;49m\u001b[38;5;129;43;01mnot\u001b[39;49;00m\u001b[43m \u001b[49m\u001b[43musing_copy_on_write\u001b[49m\u001b[43m(\u001b[49m\u001b[43m)\u001b[49m\u001b[43m,\u001b[49m\n\u001b[1;32m   1973\u001b[0m \u001b[43m    \u001b[49m\u001b[43m)\u001b[49m\n\u001b[1;32m   1975\u001b[0m     \u001b[38;5;28mself\u001b[39m\u001b[38;5;241m.\u001b[39m_currow \u001b[38;5;241m+\u001b[39m\u001b[38;5;241m=\u001b[39m new_rows\n\u001b[1;32m   1976\u001b[0m \u001b[38;5;28;01mreturn\u001b[39;00m df\n",
      "File \u001b[0;32m/flash2/aml/miniconda3/envs/wangwd24/lib/python3.10/site-packages/pandas/core/frame.py:778\u001b[0m, in \u001b[0;36mDataFrame.__init__\u001b[0;34m(self, data, index, columns, dtype, copy)\u001b[0m\n\u001b[1;32m    772\u001b[0m     mgr \u001b[38;5;241m=\u001b[39m \u001b[38;5;28mself\u001b[39m\u001b[38;5;241m.\u001b[39m_init_mgr(\n\u001b[1;32m    773\u001b[0m         data, axes\u001b[38;5;241m=\u001b[39m{\u001b[38;5;124m\"\u001b[39m\u001b[38;5;124mindex\u001b[39m\u001b[38;5;124m\"\u001b[39m: index, \u001b[38;5;124m\"\u001b[39m\u001b[38;5;124mcolumns\u001b[39m\u001b[38;5;124m\"\u001b[39m: columns}, dtype\u001b[38;5;241m=\u001b[39mdtype, copy\u001b[38;5;241m=\u001b[39mcopy\n\u001b[1;32m    774\u001b[0m     )\n\u001b[1;32m    776\u001b[0m \u001b[38;5;28;01melif\u001b[39;00m \u001b[38;5;28misinstance\u001b[39m(data, \u001b[38;5;28mdict\u001b[39m):\n\u001b[1;32m    777\u001b[0m     \u001b[38;5;66;03m# GH#38939 de facto copy defaults to False only in non-dict cases\u001b[39;00m\n\u001b[0;32m--> 778\u001b[0m     mgr \u001b[38;5;241m=\u001b[39m \u001b[43mdict_to_mgr\u001b[49m\u001b[43m(\u001b[49m\u001b[43mdata\u001b[49m\u001b[43m,\u001b[49m\u001b[43m \u001b[49m\u001b[43mindex\u001b[49m\u001b[43m,\u001b[49m\u001b[43m \u001b[49m\u001b[43mcolumns\u001b[49m\u001b[43m,\u001b[49m\u001b[43m \u001b[49m\u001b[43mdtype\u001b[49m\u001b[38;5;241;43m=\u001b[39;49m\u001b[43mdtype\u001b[49m\u001b[43m,\u001b[49m\u001b[43m \u001b[49m\u001b[43mcopy\u001b[49m\u001b[38;5;241;43m=\u001b[39;49m\u001b[43mcopy\u001b[49m\u001b[43m,\u001b[49m\u001b[43m \u001b[49m\u001b[43mtyp\u001b[49m\u001b[38;5;241;43m=\u001b[39;49m\u001b[43mmanager\u001b[49m\u001b[43m)\u001b[49m\n\u001b[1;32m    779\u001b[0m \u001b[38;5;28;01melif\u001b[39;00m \u001b[38;5;28misinstance\u001b[39m(data, ma\u001b[38;5;241m.\u001b[39mMaskedArray):\n\u001b[1;32m    780\u001b[0m     \u001b[38;5;28;01mfrom\u001b[39;00m \u001b[38;5;21;01mnumpy\u001b[39;00m\u001b[38;5;21;01m.\u001b[39;00m\u001b[38;5;21;01mma\u001b[39;00m \u001b[38;5;28;01mimport\u001b[39;00m mrecords\n",
      "File \u001b[0;32m/flash2/aml/miniconda3/envs/wangwd24/lib/python3.10/site-packages/pandas/core/internals/construction.py:443\u001b[0m, in \u001b[0;36mdict_to_mgr\u001b[0;34m(data, index, columns, dtype, typ, copy)\u001b[0m\n\u001b[1;32m    440\u001b[0m \u001b[38;5;28;01mif\u001b[39;00m columns \u001b[38;5;129;01mis\u001b[39;00m \u001b[38;5;129;01mnot\u001b[39;00m \u001b[38;5;28;01mNone\u001b[39;00m:\n\u001b[1;32m    441\u001b[0m     \u001b[38;5;28;01mfrom\u001b[39;00m \u001b[38;5;21;01mpandas\u001b[39;00m\u001b[38;5;21;01m.\u001b[39;00m\u001b[38;5;21;01mcore\u001b[39;00m\u001b[38;5;21;01m.\u001b[39;00m\u001b[38;5;21;01mseries\u001b[39;00m \u001b[38;5;28;01mimport\u001b[39;00m Series\n\u001b[0;32m--> 443\u001b[0m     arrays \u001b[38;5;241m=\u001b[39m \u001b[43mSeries\u001b[49m\u001b[43m(\u001b[49m\u001b[43mdata\u001b[49m\u001b[43m,\u001b[49m\u001b[43m \u001b[49m\u001b[43mindex\u001b[49m\u001b[38;5;241;43m=\u001b[39;49m\u001b[43mcolumns\u001b[49m\u001b[43m,\u001b[49m\u001b[43m \u001b[49m\u001b[43mdtype\u001b[49m\u001b[38;5;241;43m=\u001b[39;49m\u001b[38;5;28;43mobject\u001b[39;49m\u001b[43m)\u001b[49m\n\u001b[1;32m    444\u001b[0m     missing \u001b[38;5;241m=\u001b[39m arrays\u001b[38;5;241m.\u001b[39misna()\n\u001b[1;32m    445\u001b[0m     \u001b[38;5;28;01mif\u001b[39;00m index \u001b[38;5;129;01mis\u001b[39;00m \u001b[38;5;28;01mNone\u001b[39;00m:\n\u001b[1;32m    446\u001b[0m         \u001b[38;5;66;03m# GH10856\u001b[39;00m\n\u001b[1;32m    447\u001b[0m         \u001b[38;5;66;03m# raise ValueError if only scalars in dict\u001b[39;00m\n",
      "File \u001b[0;32m/flash2/aml/miniconda3/envs/wangwd24/lib/python3.10/site-packages/pandas/core/series.py:537\u001b[0m, in \u001b[0;36mSeries.__init__\u001b[0;34m(self, data, index, dtype, name, copy, fastpath)\u001b[0m\n\u001b[1;32m    535\u001b[0m         data \u001b[38;5;241m=\u001b[39m data\u001b[38;5;241m.\u001b[39m_mgr\n\u001b[1;32m    536\u001b[0m \u001b[38;5;28;01melif\u001b[39;00m \u001b[38;5;28misinstance\u001b[39m(data, Mapping):\n\u001b[0;32m--> 537\u001b[0m     data, index \u001b[38;5;241m=\u001b[39m \u001b[38;5;28;43mself\u001b[39;49m\u001b[38;5;241;43m.\u001b[39;49m\u001b[43m_init_dict\u001b[49m\u001b[43m(\u001b[49m\u001b[43mdata\u001b[49m\u001b[43m,\u001b[49m\u001b[43m \u001b[49m\u001b[43mindex\u001b[49m\u001b[43m,\u001b[49m\u001b[43m \u001b[49m\u001b[43mdtype\u001b[49m\u001b[43m)\u001b[49m\n\u001b[1;32m    538\u001b[0m     dtype \u001b[38;5;241m=\u001b[39m \u001b[38;5;28;01mNone\u001b[39;00m\n\u001b[1;32m    539\u001b[0m     copy \u001b[38;5;241m=\u001b[39m \u001b[38;5;28;01mFalse\u001b[39;00m\n",
      "File \u001b[0;32m/flash2/aml/miniconda3/envs/wangwd24/lib/python3.10/site-packages/pandas/core/series.py:651\u001b[0m, in \u001b[0;36mSeries._init_dict\u001b[0;34m(self, data, index, dtype)\u001b[0m\n\u001b[1;32m    648\u001b[0m     keys, values \u001b[38;5;241m=\u001b[39m default_index(\u001b[38;5;241m0\u001b[39m), []\n\u001b[1;32m    650\u001b[0m \u001b[38;5;66;03m# Input is now list-like, so rely on \"standard\" construction:\u001b[39;00m\n\u001b[0;32m--> 651\u001b[0m s \u001b[38;5;241m=\u001b[39m \u001b[43mSeries\u001b[49m\u001b[43m(\u001b[49m\u001b[43mvalues\u001b[49m\u001b[43m,\u001b[49m\u001b[43m \u001b[49m\u001b[43mindex\u001b[49m\u001b[38;5;241;43m=\u001b[39;49m\u001b[43mkeys\u001b[49m\u001b[43m,\u001b[49m\u001b[43m \u001b[49m\u001b[43mdtype\u001b[49m\u001b[38;5;241;43m=\u001b[39;49m\u001b[43mdtype\u001b[49m\u001b[43m)\u001b[49m\n\u001b[1;32m    653\u001b[0m \u001b[38;5;66;03m# Now we just make sure the order is respected, if any\u001b[39;00m\n\u001b[1;32m    654\u001b[0m \u001b[38;5;28;01mif\u001b[39;00m data \u001b[38;5;129;01mand\u001b[39;00m index \u001b[38;5;129;01mis\u001b[39;00m \u001b[38;5;129;01mnot\u001b[39;00m \u001b[38;5;28;01mNone\u001b[39;00m:\n",
      "File \u001b[0;32m/flash2/aml/miniconda3/envs/wangwd24/lib/python3.10/site-packages/pandas/core/series.py:584\u001b[0m, in \u001b[0;36mSeries.__init__\u001b[0;34m(self, data, index, dtype, name, copy, fastpath)\u001b[0m\n\u001b[1;32m    582\u001b[0m         data \u001b[38;5;241m=\u001b[39m data\u001b[38;5;241m.\u001b[39mcopy()\n\u001b[1;32m    583\u001b[0m \u001b[38;5;28;01melse\u001b[39;00m:\n\u001b[0;32m--> 584\u001b[0m     data \u001b[38;5;241m=\u001b[39m \u001b[43msanitize_array\u001b[49m\u001b[43m(\u001b[49m\u001b[43mdata\u001b[49m\u001b[43m,\u001b[49m\u001b[43m \u001b[49m\u001b[43mindex\u001b[49m\u001b[43m,\u001b[49m\u001b[43m \u001b[49m\u001b[43mdtype\u001b[49m\u001b[43m,\u001b[49m\u001b[43m \u001b[49m\u001b[43mcopy\u001b[49m\u001b[43m)\u001b[49m\n\u001b[1;32m    586\u001b[0m     manager \u001b[38;5;241m=\u001b[39m _get_option(\u001b[38;5;124m\"\u001b[39m\u001b[38;5;124mmode.data_manager\u001b[39m\u001b[38;5;124m\"\u001b[39m, silent\u001b[38;5;241m=\u001b[39m\u001b[38;5;28;01mTrue\u001b[39;00m)\n\u001b[1;32m    587\u001b[0m     \u001b[38;5;28;01mif\u001b[39;00m manager \u001b[38;5;241m==\u001b[39m \u001b[38;5;124m\"\u001b[39m\u001b[38;5;124mblock\u001b[39m\u001b[38;5;124m\"\u001b[39m:\n",
      "File \u001b[0;32m/flash2/aml/miniconda3/envs/wangwd24/lib/python3.10/site-packages/pandas/core/construction.py:651\u001b[0m, in \u001b[0;36msanitize_array\u001b[0;34m(data, index, dtype, copy, allow_2d)\u001b[0m\n\u001b[1;32m    648\u001b[0m     subarr \u001b[38;5;241m=\u001b[39m np\u001b[38;5;241m.\u001b[39marray([], dtype\u001b[38;5;241m=\u001b[39mnp\u001b[38;5;241m.\u001b[39mfloat64)\n\u001b[1;32m    650\u001b[0m \u001b[38;5;28;01melif\u001b[39;00m dtype \u001b[38;5;129;01mis\u001b[39;00m \u001b[38;5;129;01mnot\u001b[39;00m \u001b[38;5;28;01mNone\u001b[39;00m:\n\u001b[0;32m--> 651\u001b[0m     subarr \u001b[38;5;241m=\u001b[39m \u001b[43m_try_cast\u001b[49m\u001b[43m(\u001b[49m\u001b[43mdata\u001b[49m\u001b[43m,\u001b[49m\u001b[43m \u001b[49m\u001b[43mdtype\u001b[49m\u001b[43m,\u001b[49m\u001b[43m \u001b[49m\u001b[43mcopy\u001b[49m\u001b[43m)\u001b[49m\n\u001b[1;32m    653\u001b[0m \u001b[38;5;28;01melse\u001b[39;00m:\n\u001b[1;32m    654\u001b[0m     subarr \u001b[38;5;241m=\u001b[39m maybe_convert_platform(data)\n",
      "File \u001b[0;32m/flash2/aml/miniconda3/envs/wangwd24/lib/python3.10/site-packages/pandas/core/construction.py:793\u001b[0m, in \u001b[0;36m_try_cast\u001b[0;34m(arr, dtype, copy)\u001b[0m\n\u001b[1;32m    791\u001b[0m \u001b[38;5;28;01mif\u001b[39;00m dtype \u001b[38;5;241m==\u001b[39m \u001b[38;5;28mobject\u001b[39m:\n\u001b[1;32m    792\u001b[0m     \u001b[38;5;28;01mif\u001b[39;00m \u001b[38;5;129;01mnot\u001b[39;00m is_ndarray:\n\u001b[0;32m--> 793\u001b[0m         subarr \u001b[38;5;241m=\u001b[39m \u001b[43mconstruct_1d_object_array_from_listlike\u001b[49m\u001b[43m(\u001b[49m\u001b[43marr\u001b[49m\u001b[43m)\u001b[49m\n\u001b[1;32m    794\u001b[0m         \u001b[38;5;28;01mreturn\u001b[39;00m subarr\n\u001b[1;32m    795\u001b[0m     \u001b[38;5;28;01mreturn\u001b[39;00m ensure_wrapped_if_datetimelike(arr)\u001b[38;5;241m.\u001b[39mastype(dtype, copy\u001b[38;5;241m=\u001b[39mcopy)\n",
      "File \u001b[0;32m/flash2/aml/miniconda3/envs/wangwd24/lib/python3.10/site-packages/pandas/core/dtypes/cast.py:1600\u001b[0m, in \u001b[0;36mconstruct_1d_object_array_from_listlike\u001b[0;34m(values)\u001b[0m\n\u001b[1;32m   1597\u001b[0m \u001b[38;5;66;03m# numpy will try to interpret nested lists as further dimensions, hence\u001b[39;00m\n\u001b[1;32m   1598\u001b[0m \u001b[38;5;66;03m# making a 1D array that contains list-likes is a bit tricky:\u001b[39;00m\n\u001b[1;32m   1599\u001b[0m result \u001b[38;5;241m=\u001b[39m np\u001b[38;5;241m.\u001b[39mempty(\u001b[38;5;28mlen\u001b[39m(values), dtype\u001b[38;5;241m=\u001b[39m\u001b[38;5;124m\"\u001b[39m\u001b[38;5;124mobject\u001b[39m\u001b[38;5;124m\"\u001b[39m)\n\u001b[0;32m-> 1600\u001b[0m \u001b[43mresult\u001b[49m\u001b[43m[\u001b[49m\u001b[43m:\u001b[49m\u001b[43m]\u001b[49m \u001b[38;5;241m=\u001b[39m values\n\u001b[1;32m   1601\u001b[0m \u001b[38;5;28;01mreturn\u001b[39;00m result\n",
      "File \u001b[0;32m/flash2/aml/miniconda3/envs/wangwd24/lib/python3.10/site-packages/pandas/core/series.py:1031\u001b[0m, in \u001b[0;36mSeries.__array__\u001b[0;34m(self, dtype, copy)\u001b[0m\n\u001b[1;32m    981\u001b[0m \u001b[38;5;250m\u001b[39m\u001b[38;5;124;03m\"\"\"\u001b[39;00m\n\u001b[1;32m    982\u001b[0m \u001b[38;5;124;03mReturn the values as a NumPy array.\u001b[39;00m\n\u001b[1;32m    983\u001b[0m \n\u001b[0;32m   (...)\u001b[0m\n\u001b[1;32m   1028\u001b[0m \u001b[38;5;124;03m      dtype='datetime64[ns]')\u001b[39;00m\n\u001b[1;32m   1029\u001b[0m \u001b[38;5;124;03m\"\"\"\u001b[39;00m\n\u001b[1;32m   1030\u001b[0m values \u001b[38;5;241m=\u001b[39m \u001b[38;5;28mself\u001b[39m\u001b[38;5;241m.\u001b[39m_values\n\u001b[0;32m-> 1031\u001b[0m arr \u001b[38;5;241m=\u001b[39m \u001b[43mnp\u001b[49m\u001b[38;5;241;43m.\u001b[39;49m\u001b[43masarray\u001b[49m\u001b[43m(\u001b[49m\u001b[43mvalues\u001b[49m\u001b[43m,\u001b[49m\u001b[43m \u001b[49m\u001b[43mdtype\u001b[49m\u001b[38;5;241;43m=\u001b[39;49m\u001b[43mdtype\u001b[49m\u001b[43m)\u001b[49m\n\u001b[1;32m   1032\u001b[0m \u001b[38;5;28;01mif\u001b[39;00m using_copy_on_write() \u001b[38;5;129;01mand\u001b[39;00m astype_is_view(values\u001b[38;5;241m.\u001b[39mdtype, arr\u001b[38;5;241m.\u001b[39mdtype):\n\u001b[1;32m   1033\u001b[0m     arr \u001b[38;5;241m=\u001b[39m arr\u001b[38;5;241m.\u001b[39mview()\n",
      "\u001b[0;31mKeyboardInterrupt\u001b[0m: "
     ]
    }
   ],
   "source": [
    "#ablate and get all the versions of the embeddings\n",
    "checkpoint_folder=\"embedding_checkpoint_folder\"\n",
    "all_versions = os.listdir(checkpoint_folder)\n",
    "all_versions = [\"_\".join(i.split(\"_\")[2:]) for i in all_versions]\n",
    "all_versions = list(set(all_versions))\n",
    "# Sort the files based on the numeric value\n",
    "all_versions = sorted(all_versions, key=lambda x: int(x.split(\"_\")[1][:-3]))\n",
    "print(all_versions)\n",
    "for version_name in all_versions:\n",
    "    model, accuracy_valid, auc_valid = training_iteration(metadata, version_name, grouping_method = \"average\", num_round=1000, checkpoint_folder = \"embedding_checkpoint_folder\", \n",
    "    save_model_path = \"lightgbm.txt\", use_embedding=True, save_model = True)\n",
    "    print(\"version_name\", version_name)\n",
    "    print(\"validation_score: \", auc_valid)"
   ]
  },
  {
   "cell_type": "code",
   "execution_count": 24,
   "metadata": {},
   "outputs": [
    {
     "name": "stdout",
     "output_type": "stream",
     "text": [
      "[LightGBM] [Info] Number of positive: 6381, number of negative: 97964\n",
      "[LightGBM] [Info] Auto-choosing col-wise multi-threading, the overhead of testing was 0.035809 seconds.\n",
      "You can set `force_col_wise=true` to remove the overhead.\n",
      "[LightGBM] [Info] Total Bins 18944\n",
      "[LightGBM] [Info] Number of data points in the train set: 104345, number of used features: 80\n",
      "[LightGBM] [Info] [binary:BoostFromScore]: pavg=0.061153 -> initscore=-2.731275\n",
      "[LightGBM] [Info] Start training from score -2.731275\n",
      "Training until validation scores don't improve for 3 rounds\n",
      "Early stopping, best iteration is:\n",
      "[16]\tvalid_0's binary_logloss: 0.222938\n",
      "Grouping Method mostoccurence\n",
      "validation_score:  0.6389982884821452\n",
      "[LightGBM] [Info] Number of positive: 6381, number of negative: 97964\n",
      "[LightGBM] [Info] Auto-choosing col-wise multi-threading, the overhead of testing was 0.036297 seconds.\n",
      "You can set `force_col_wise=true` to remove the overhead.\n",
      "[LightGBM] [Info] Total Bins 19964\n",
      "[LightGBM] [Info] Number of data points in the train set: 104345, number of used features: 80\n",
      "[LightGBM] [Info] [binary:BoostFromScore]: pavg=0.061153 -> initscore=-2.731275\n",
      "[LightGBM] [Info] Start training from score -2.731275\n",
      "Training until validation scores don't improve for 3 rounds\n",
      "Early stopping, best iteration is:\n",
      "[35]\tvalid_0's binary_logloss: 0.221959\n",
      "Grouping Method unique_average\n",
      "validation_score:  0.6453381489291878\n",
      "[LightGBM] [Info] Number of positive: 6381, number of negative: 97964\n",
      "[LightGBM] [Info] Auto-choosing col-wise multi-threading, the overhead of testing was 0.040304 seconds.\n",
      "You can set `force_col_wise=true` to remove the overhead.\n",
      "[LightGBM] [Info] Total Bins 20214\n",
      "[LightGBM] [Info] Number of data points in the train set: 104345, number of used features: 80\n",
      "[LightGBM] [Info] [binary:BoostFromScore]: pavg=0.061153 -> initscore=-2.731275\n",
      "[LightGBM] [Info] Start training from score -2.731275\n",
      "Training until validation scores don't improve for 3 rounds\n",
      "Early stopping, best iteration is:\n",
      "[26]\tvalid_0's binary_logloss: 0.221851\n",
      "Grouping Method unique_sum\n",
      "validation_score:  0.6485763760362926\n",
      "[LightGBM] [Info] Number of positive: 6381, number of negative: 97964\n",
      "[LightGBM] [Info] Auto-choosing col-wise multi-threading, the overhead of testing was 0.037516 seconds.\n",
      "You can set `force_col_wise=true` to remove the overhead.\n",
      "[LightGBM] [Info] Total Bins 20225\n",
      "[LightGBM] [Info] Number of data points in the train set: 104345, number of used features: 80\n",
      "[LightGBM] [Info] [binary:BoostFromScore]: pavg=0.061153 -> initscore=-2.731275\n",
      "[LightGBM] [Info] Start training from score -2.731275\n",
      "Training until validation scores don't improve for 3 rounds\n",
      "Early stopping, best iteration is:\n",
      "[23]\tvalid_0's binary_logloss: 0.223052\n",
      "Grouping Method sum\n",
      "validation_score:  0.638473595370147\n",
      "[LightGBM] [Info] Number of positive: 6381, number of negative: 97964\n",
      "[LightGBM] [Info] Auto-choosing col-wise multi-threading, the overhead of testing was 0.039689 seconds.\n",
      "You can set `force_col_wise=true` to remove the overhead.\n",
      "[LightGBM] [Info] Total Bins 20116\n",
      "[LightGBM] [Info] Number of data points in the train set: 104345, number of used features: 80\n",
      "[LightGBM] [Info] [binary:BoostFromScore]: pavg=0.061153 -> initscore=-2.731275\n",
      "[LightGBM] [Info] Start training from score -2.731275\n",
      "Training until validation scores don't improve for 3 rounds\n",
      "Early stopping, best iteration is:\n",
      "[40]\tvalid_0's binary_logloss: 0.222238\n",
      "Grouping Method sum\n",
      "validation_score:  0.646208089443319\n"
     ]
    }
   ],
   "source": [
    "model, accuracy_valid, auc_valid = training_iteration(metadata, \"version1_1200.pt\", grouping_method = \"mostoccurence\", num_round=1000, checkpoint_folder = \"embedding_checkpoint_folder\", \n",
    "    save_model_path = \"lightgbm.txt\", use_embedding=True, save_model = True)\n",
    "print(\"Grouping Method\", \"mostoccurence\")\n",
    "print(\"validation_score: \", auc_valid)\n",
    "model, accuracy_valid, auc_valid = training_iteration(metadata, \"version1_1200.pt\", grouping_method = \"unique_average\", num_round=1000, checkpoint_folder = \"embedding_checkpoint_folder\", \n",
    "    save_model_path = \"lightgbm.txt\", use_embedding=True, save_model = True)\n",
    "print(\"Grouping Method\", \"unique_average\")\n",
    "print(\"validation_score: \", auc_valid)\n",
    "model, accuracy_valid, auc_valid = training_iteration(metadata, \"version1_1200.pt\", grouping_method = \"unique_sum\", num_round=1000, checkpoint_folder = \"embedding_checkpoint_folder\", \n",
    "    save_model_path = \"lightgbm.txt\", use_embedding=True, save_model = True)\n",
    "print(\"Grouping Method\", \"unique_sum\")\n",
    "print(\"validation_score: \", auc_valid)\n",
    "model, accuracy_valid, auc_valid = training_iteration(metadata, \"version1_1200.pt\", grouping_method = \"sum\", num_round=1000, checkpoint_folder = \"embedding_checkpoint_folder\", \n",
    "    save_model_path = \"lightgbm.txt\", use_embedding=True, save_model = True)\n",
    "print(\"Grouping Method\", \"sum\")\n",
    "print(\"validation_score: \", auc_valid)\n",
    "model, accuracy_valid, auc_valid = training_iteration(metadata, \"version1_1200.pt\", grouping_method = \"average\", num_round=1000, checkpoint_folder = \"embedding_checkpoint_folder\", \n",
    "    save_model_path = \"lightgbm.txt\", use_embedding=True, save_model = True)\n",
    "print(\"Grouping Method\", \"sum\")\n",
    "print(\"validation_score: \", auc_valid)"
   ]
  },
  {
   "cell_type": "code",
   "execution_count": 25,
   "metadata": {},
   "outputs": [
    {
     "name": "stdout",
     "output_type": "stream",
     "text": [
      "0.646208089443319\n",
      "0.9387817686970522\n"
     ]
    }
   ],
   "source": [
    "print(auc_valid)\n",
    "print(accuracy_valid)"
   ]
  },
  {
   "cell_type": "code",
   "execution_count": 68,
   "metadata": {},
   "outputs": [
    {
     "name": "stdout",
     "output_type": "stream",
     "text": [
      "Collecting optuna\n",
      "  Downloading optuna-4.1.0-py3-none-any.whl.metadata (16 kB)\n",
      "Collecting alembic>=1.5.0 (from optuna)\n",
      "  Downloading alembic-1.14.0-py3-none-any.whl.metadata (7.4 kB)\n",
      "Collecting colorlog (from optuna)\n",
      "  Downloading colorlog-6.9.0-py3-none-any.whl.metadata (10 kB)\n",
      "Requirement already satisfied: numpy in /flash2/aml/miniconda3/envs/wangwd24/lib/python3.10/site-packages (from optuna) (1.26.4)\n",
      "Requirement already satisfied: packaging>=20.0 in /flash2/aml/miniconda3/envs/wangwd24/lib/python3.10/site-packages (from optuna) (24.2)\n",
      "Collecting sqlalchemy>=1.4.2 (from optuna)\n",
      "  Downloading SQLAlchemy-2.0.36-cp310-cp310-manylinux_2_17_x86_64.manylinux2014_x86_64.whl.metadata (9.7 kB)\n",
      "Requirement already satisfied: tqdm in /flash2/aml/miniconda3/envs/wangwd24/lib/python3.10/site-packages (from optuna) (4.67.0)\n",
      "Requirement already satisfied: PyYAML in /flash2/aml/miniconda3/envs/wangwd24/lib/python3.10/site-packages (from optuna) (6.0.2)\n",
      "Collecting Mako (from alembic>=1.5.0->optuna)\n",
      "  Downloading Mako-1.3.8-py3-none-any.whl.metadata (2.9 kB)\n",
      "Requirement already satisfied: typing-extensions>=4 in /flash2/aml/miniconda3/envs/wangwd24/lib/python3.10/site-packages (from alembic>=1.5.0->optuna) (4.12.2)\n",
      "Collecting greenlet!=0.4.17 (from sqlalchemy>=1.4.2->optuna)\n",
      "  Downloading greenlet-3.1.1-cp310-cp310-manylinux_2_24_x86_64.manylinux_2_28_x86_64.whl.metadata (3.8 kB)\n",
      "Requirement already satisfied: MarkupSafe>=0.9.2 in /flash2/aml/miniconda3/envs/wangwd24/lib/python3.10/site-packages (from Mako->alembic>=1.5.0->optuna) (3.0.2)\n",
      "Downloading optuna-4.1.0-py3-none-any.whl (364 kB)\n",
      "Downloading alembic-1.14.0-py3-none-any.whl (233 kB)\n",
      "Downloading SQLAlchemy-2.0.36-cp310-cp310-manylinux_2_17_x86_64.manylinux2014_x86_64.whl (3.1 MB)\n",
      "\u001b[2K   \u001b[90m━━━━━━━━━━━━━━━━━━━━━━━━━━━━━━━━━━━━━━━━\u001b[0m \u001b[32m3.1/3.1 MB\u001b[0m \u001b[31m13.8 MB/s\u001b[0m eta \u001b[36m0:00:00\u001b[0ma \u001b[36m0:00:01\u001b[0m\n",
      "\u001b[?25hDownloading colorlog-6.9.0-py3-none-any.whl (11 kB)\n",
      "Downloading greenlet-3.1.1-cp310-cp310-manylinux_2_24_x86_64.manylinux_2_28_x86_64.whl (599 kB)\n",
      "\u001b[2K   \u001b[90m━━━━━━━━━━━━━━━━━━━━━━━━━━━━━━━━━━━━━━━━\u001b[0m \u001b[32m599.5/599.5 kB\u001b[0m \u001b[31m74.0 MB/s\u001b[0m eta \u001b[36m0:00:00\u001b[0m\n",
      "\u001b[?25hDownloading Mako-1.3.8-py3-none-any.whl (78 kB)\n",
      "Installing collected packages: Mako, greenlet, colorlog, sqlalchemy, alembic, optuna\n",
      "Successfully installed Mako-1.3.8 alembic-1.14.0 colorlog-6.9.0 greenlet-3.1.1 optuna-4.1.0 sqlalchemy-2.0.36\n"
     ]
    }
   ],
   "source": [
    "!pip install optuna"
   ]
  },
  {
   "cell_type": "code",
   "execution_count": null,
   "metadata": {},
   "outputs": [
    {
     "name": "stderr",
     "output_type": "stream",
     "text": [
      "[I 2024-12-10 16:13:14,772] A new study created in memory with name: no-name-8443874a-97f8-4901-94ea-53528daa5f56\n"
     ]
    },
    {
     "name": "stdout",
     "output_type": "stream",
     "text": [
      "[LightGBM] [Info] Number of positive: 6381, number of negative: 97964\n",
      "[LightGBM] [Info] Auto-choosing col-wise multi-threading, the overhead of testing was 0.036216 seconds.\n",
      "You can set `force_col_wise=true` to remove the overhead.\n",
      "[LightGBM] [Info] Total Bins 19852\n",
      "[LightGBM] [Info] Number of data points in the train set: 104345, number of used features: 80\n",
      "[LightGBM] [Info] [binary:BoostFromScore]: pavg=0.061153 -> initscore=-2.731275\n",
      "[LightGBM] [Info] Start training from score -2.731275\n",
      "Training until validation scores don't improve for 3 rounds\n"
     ]
    },
    {
     "name": "stderr",
     "output_type": "stream",
     "text": [
      "[I 2024-12-10 16:17:05,370] Trial 0 finished with value: 0.6293152597457451 and parameters: {'version_number': 1650, 'grouping_method': 'mostoccurence', 'num_round': 2588}. Best is trial 0 with value: 0.6293152597457451.\n"
     ]
    },
    {
     "name": "stdout",
     "output_type": "stream",
     "text": [
      "Early stopping, best iteration is:\n",
      "[24]\tvalid_0's binary_logloss: 0.223731\n",
      "[LightGBM] [Info] Number of positive: 6381, number of negative: 97964\n",
      "[LightGBM] [Info] Auto-choosing col-wise multi-threading, the overhead of testing was 0.035839 seconds.\n",
      "You can set `force_col_wise=true` to remove the overhead.\n",
      "[LightGBM] [Info] Total Bins 19849\n",
      "[LightGBM] [Info] Number of data points in the train set: 104345, number of used features: 80\n",
      "[LightGBM] [Info] [binary:BoostFromScore]: pavg=0.061153 -> initscore=-2.731275\n",
      "[LightGBM] [Info] Start training from score -2.731275\n",
      "Training until validation scores don't improve for 3 rounds\n"
     ]
    },
    {
     "name": "stderr",
     "output_type": "stream",
     "text": [
      "[I 2024-12-10 16:21:03,988] Trial 1 finished with value: 0.6359568500903885 and parameters: {'version_number': 950, 'grouping_method': 'mostoccurence', 'num_round': 948}. Best is trial 1 with value: 0.6359568500903885.\n"
     ]
    },
    {
     "name": "stdout",
     "output_type": "stream",
     "text": [
      "Early stopping, best iteration is:\n",
      "[32]\tvalid_0's binary_logloss: 0.223248\n",
      "[LightGBM] [Info] Number of positive: 6381, number of negative: 97964\n",
      "[LightGBM] [Info] Auto-choosing col-wise multi-threading, the overhead of testing was 0.035707 seconds.\n",
      "You can set `force_col_wise=true` to remove the overhead.\n",
      "[LightGBM] [Info] Total Bins 19865\n",
      "[LightGBM] [Info] Number of data points in the train set: 104345, number of used features: 80\n",
      "[LightGBM] [Info] [binary:BoostFromScore]: pavg=0.061153 -> initscore=-2.731275\n",
      "[LightGBM] [Info] Start training from score -2.731275\n",
      "Training until validation scores don't improve for 3 rounds\n"
     ]
    },
    {
     "name": "stderr",
     "output_type": "stream",
     "text": [
      "[I 2024-12-10 16:24:52,256] Trial 2 finished with value: 0.6331618743654764 and parameters: {'version_number': 1750, 'grouping_method': 'mostoccurence', 'num_round': 2779}. Best is trial 1 with value: 0.6359568500903885.\n"
     ]
    },
    {
     "name": "stdout",
     "output_type": "stream",
     "text": [
      "Early stopping, best iteration is:\n",
      "[24]\tvalid_0's binary_logloss: 0.223139\n",
      "[LightGBM] [Info] Number of positive: 6381, number of negative: 97964\n",
      "[LightGBM] [Info] Auto-choosing col-wise multi-threading, the overhead of testing was 0.035687 seconds.\n",
      "You can set `force_col_wise=true` to remove the overhead.\n",
      "[LightGBM] [Info] Total Bins 19830\n",
      "[LightGBM] [Info] Number of data points in the train set: 104345, number of used features: 80\n",
      "[LightGBM] [Info] [binary:BoostFromScore]: pavg=0.061153 -> initscore=-2.731275\n",
      "[LightGBM] [Info] Start training from score -2.731275\n",
      "Training until validation scores don't improve for 3 rounds\n"
     ]
    },
    {
     "name": "stderr",
     "output_type": "stream",
     "text": [
      "[I 2024-12-10 16:28:31,982] Trial 3 finished with value: 0.6389596091001758 and parameters: {'version_number': 1000, 'grouping_method': 'mostoccurence', 'num_round': 1375}. Best is trial 3 with value: 0.6389596091001758.\n"
     ]
    },
    {
     "name": "stdout",
     "output_type": "stream",
     "text": [
      "Early stopping, best iteration is:\n",
      "[29]\tvalid_0's binary_logloss: 0.222806\n",
      "[LightGBM] [Info] Number of positive: 6381, number of negative: 97964\n",
      "[LightGBM] [Info] Auto-choosing col-wise multi-threading, the overhead of testing was 0.036038 seconds.\n",
      "You can set `force_col_wise=true` to remove the overhead.\n",
      "[LightGBM] [Info] Total Bins 19834\n",
      "[LightGBM] [Info] Number of data points in the train set: 104345, number of used features: 80\n",
      "[LightGBM] [Info] [binary:BoostFromScore]: pavg=0.061153 -> initscore=-2.731275\n",
      "[LightGBM] [Info] Start training from score -2.731275\n",
      "Training until validation scores don't improve for 3 rounds\n"
     ]
    },
    {
     "name": "stderr",
     "output_type": "stream",
     "text": [
      "[I 2024-12-10 16:32:32,505] Trial 4 finished with value: 0.6301410811898402 and parameters: {'version_number': 1950, 'grouping_method': 'average', 'num_round': 1263}. Best is trial 3 with value: 0.6389596091001758.\n"
     ]
    },
    {
     "name": "stdout",
     "output_type": "stream",
     "text": [
      "Early stopping, best iteration is:\n",
      "[33]\tvalid_0's binary_logloss: 0.223207\n",
      "[LightGBM] [Info] Number of positive: 6381, number of negative: 97964\n",
      "[LightGBM] [Info] Auto-choosing col-wise multi-threading, the overhead of testing was 0.033753 seconds.\n",
      "You can set `force_col_wise=true` to remove the overhead.\n",
      "[LightGBM] [Info] Total Bins 19835\n",
      "[LightGBM] [Info] Number of data points in the train set: 104345, number of used features: 80\n",
      "[LightGBM] [Info] [binary:BoostFromScore]: pavg=0.061153 -> initscore=-2.731275\n",
      "[LightGBM] [Info] Start training from score -2.731275\n",
      "Training until validation scores don't improve for 3 rounds\n"
     ]
    },
    {
     "name": "stderr",
     "output_type": "stream",
     "text": [
      "[I 2024-12-10 16:36:40,186] Trial 5 finished with value: 0.6369824552780845 and parameters: {'version_number': 1150, 'grouping_method': 'average', 'num_round': 1816}. Best is trial 3 with value: 0.6389596091001758.\n"
     ]
    },
    {
     "name": "stdout",
     "output_type": "stream",
     "text": [
      "Early stopping, best iteration is:\n",
      "[37]\tvalid_0's binary_logloss: 0.22309\n",
      "[LightGBM] [Info] Number of positive: 6381, number of negative: 97964\n",
      "[LightGBM] [Info] Auto-choosing col-wise multi-threading, the overhead of testing was 0.035883 seconds.\n",
      "You can set `force_col_wise=true` to remove the overhead.\n",
      "[LightGBM] [Info] Total Bins 19835\n",
      "[LightGBM] [Info] Number of data points in the train set: 104345, number of used features: 80\n",
      "[LightGBM] [Info] [binary:BoostFromScore]: pavg=0.061153 -> initscore=-2.731275\n",
      "[LightGBM] [Info] Start training from score -2.731275\n",
      "Training until validation scores don't improve for 3 rounds\n"
     ]
    },
    {
     "name": "stderr",
     "output_type": "stream",
     "text": [
      "[I 2024-12-10 16:40:58,118] Trial 6 finished with value: 0.6404562528766351 and parameters: {'version_number': 1400, 'grouping_method': 'unique_average', 'num_round': 1478}. Best is trial 6 with value: 0.6404562528766351.\n"
     ]
    },
    {
     "name": "stdout",
     "output_type": "stream",
     "text": [
      "Early stopping, best iteration is:\n",
      "[35]\tvalid_0's binary_logloss: 0.222756\n",
      "[LightGBM] [Info] Number of positive: 6381, number of negative: 97964\n",
      "[LightGBM] [Info] Auto-choosing col-wise multi-threading, the overhead of testing was 0.036852 seconds.\n",
      "You can set `force_col_wise=true` to remove the overhead.\n",
      "[LightGBM] [Info] Total Bins 19830\n",
      "[LightGBM] [Info] Number of data points in the train set: 104345, number of used features: 80\n",
      "[LightGBM] [Info] [binary:BoostFromScore]: pavg=0.061153 -> initscore=-2.731275\n",
      "[LightGBM] [Info] Start training from score -2.731275\n",
      "Training until validation scores don't improve for 3 rounds\n"
     ]
    },
    {
     "name": "stderr",
     "output_type": "stream",
     "text": [
      "[I 2024-12-10 16:44:53,005] Trial 7 finished with value: 0.6389596091001758 and parameters: {'version_number': 1000, 'grouping_method': 'unique_average', 'num_round': 2107}. Best is trial 6 with value: 0.6404562528766351.\n"
     ]
    },
    {
     "name": "stdout",
     "output_type": "stream",
     "text": [
      "Early stopping, best iteration is:\n",
      "[29]\tvalid_0's binary_logloss: 0.222806\n",
      "[LightGBM] [Info] Number of positive: 6381, number of negative: 97964\n",
      "[LightGBM] [Info] Auto-choosing col-wise multi-threading, the overhead of testing was 0.036508 seconds.\n",
      "You can set `force_col_wise=true` to remove the overhead.\n",
      "[LightGBM] [Info] Total Bins 19863\n",
      "[LightGBM] [Info] Number of data points in the train set: 104345, number of used features: 80\n",
      "[LightGBM] [Info] [binary:BoostFromScore]: pavg=0.061153 -> initscore=-2.731275\n",
      "[LightGBM] [Info] Start training from score -2.731275\n",
      "Training until validation scores don't improve for 3 rounds\n"
     ]
    },
    {
     "name": "stderr",
     "output_type": "stream",
     "text": [
      "[I 2024-12-10 16:48:44,543] Trial 8 finished with value: 0.6366670685636202 and parameters: {'version_number': 600, 'grouping_method': 'unique_average', 'num_round': 2086}. Best is trial 6 with value: 0.6404562528766351.\n"
     ]
    },
    {
     "name": "stdout",
     "output_type": "stream",
     "text": [
      "Early stopping, best iteration is:\n",
      "[25]\tvalid_0's binary_logloss: 0.223016\n",
      "[LightGBM] [Info] Number of positive: 6381, number of negative: 97964\n",
      "[LightGBM] [Info] Auto-choosing col-wise multi-threading, the overhead of testing was 0.035949 seconds.\n",
      "You can set `force_col_wise=true` to remove the overhead.\n",
      "[LightGBM] [Info] Total Bins 19828\n",
      "[LightGBM] [Info] Number of data points in the train set: 104345, number of used features: 80\n",
      "[LightGBM] [Info] [binary:BoostFromScore]: pavg=0.061153 -> initscore=-2.731275\n",
      "[LightGBM] [Info] Start training from score -2.731275\n",
      "Training until validation scores don't improve for 3 rounds\n"
     ]
    },
    {
     "name": "stderr",
     "output_type": "stream",
     "text": [
      "[I 2024-12-10 16:52:09,996] Trial 9 finished with value: 0.637201809099459 and parameters: {'version_number': 550, 'grouping_method': 'unique_average', 'num_round': 1129}. Best is trial 6 with value: 0.6404562528766351.\n"
     ]
    },
    {
     "name": "stdout",
     "output_type": "stream",
     "text": [
      "Early stopping, best iteration is:\n",
      "[32]\tvalid_0's binary_logloss: 0.223149\n",
      "[LightGBM] [Info] Number of positive: 6381, number of negative: 97964\n",
      "[LightGBM] [Info] Auto-choosing col-wise multi-threading, the overhead of testing was 0.034401 seconds.\n",
      "You can set `force_col_wise=true` to remove the overhead.\n",
      "[LightGBM] [Info] Total Bins 20238\n",
      "[LightGBM] [Info] Number of data points in the train set: 104345, number of used features: 80\n",
      "[LightGBM] [Info] [binary:BoostFromScore]: pavg=0.061153 -> initscore=-2.731275\n",
      "[LightGBM] [Info] Start training from score -2.731275\n",
      "Training until validation scores don't improve for 3 rounds\n"
     ]
    },
    {
     "name": "stderr",
     "output_type": "stream",
     "text": [
      "[I 2024-12-10 16:56:02,249] Trial 10 finished with value: 0.6368557809420976 and parameters: {'version_number': 0, 'grouping_method': 'unique_sum', 'num_round': 523}. Best is trial 6 with value: 0.6404562528766351.\n"
     ]
    },
    {
     "name": "stdout",
     "output_type": "stream",
     "text": [
      "Early stopping, best iteration is:\n",
      "[26]\tvalid_0's binary_logloss: 0.223299\n",
      "[LightGBM] [Info] Number of positive: 6381, number of negative: 97964\n",
      "[LightGBM] [Info] Auto-choosing col-wise multi-threading, the overhead of testing was 0.036039 seconds.\n",
      "You can set `force_col_wise=true` to remove the overhead.\n",
      "[LightGBM] [Info] Total Bins 19860\n",
      "[LightGBM] [Info] Number of data points in the train set: 104345, number of used features: 80\n",
      "[LightGBM] [Info] [binary:BoostFromScore]: pavg=0.061153 -> initscore=-2.731275\n",
      "[LightGBM] [Info] Start training from score -2.731275\n",
      "Training until validation scores don't improve for 3 rounds\n"
     ]
    },
    {
     "name": "stderr",
     "output_type": "stream",
     "text": [
      "[I 2024-12-10 16:59:57,039] Trial 11 finished with value: 0.6312582779253106 and parameters: {'version_number': 1450, 'grouping_method': 'sum', 'num_round': 1548}. Best is trial 6 with value: 0.6404562528766351.\n"
     ]
    },
    {
     "name": "stdout",
     "output_type": "stream",
     "text": [
      "Early stopping, best iteration is:\n",
      "[30]\tvalid_0's binary_logloss: 0.223009\n",
      "[LightGBM] [Info] Number of positive: 6381, number of negative: 97964\n",
      "[LightGBM] [Info] Auto-choosing col-wise multi-threading, the overhead of testing was 0.035445 seconds.\n",
      "You can set `force_col_wise=true` to remove the overhead.\n",
      "[LightGBM] [Info] Total Bins 19846\n",
      "[LightGBM] [Info] Number of data points in the train set: 104345, number of used features: 80\n",
      "[LightGBM] [Info] [binary:BoostFromScore]: pavg=0.061153 -> initscore=-2.731275\n",
      "[LightGBM] [Info] Start training from score -2.731275\n",
      "Training until validation scores don't improve for 3 rounds\n"
     ]
    },
    {
     "name": "stderr",
     "output_type": "stream",
     "text": [
      "[I 2024-12-10 17:03:52,444] Trial 12 finished with value: 0.6368803939306904 and parameters: {'version_number': 1350, 'grouping_method': 'unique_sum', 'num_round': 1439}. Best is trial 6 with value: 0.6404562528766351.\n"
     ]
    },
    {
     "name": "stdout",
     "output_type": "stream",
     "text": [
      "Early stopping, best iteration is:\n",
      "[34]\tvalid_0's binary_logloss: 0.222933\n",
      "[LightGBM] [Info] Number of positive: 6381, number of negative: 97964\n",
      "[LightGBM] [Info] Auto-choosing col-wise multi-threading, the overhead of testing was 0.036016 seconds.\n",
      "You can set `force_col_wise=true` to remove the overhead.\n",
      "[LightGBM] [Info] Total Bins 19830\n",
      "[LightGBM] [Info] Number of data points in the train set: 104345, number of used features: 80\n",
      "[LightGBM] [Info] [binary:BoostFromScore]: pavg=0.061153 -> initscore=-2.731275\n",
      "[LightGBM] [Info] Start training from score -2.731275\n",
      "Training until validation scores don't improve for 3 rounds\n"
     ]
    },
    {
     "name": "stderr",
     "output_type": "stream",
     "text": [
      "[I 2024-12-10 17:07:37,206] Trial 13 finished with value: 0.636027450841859 and parameters: {'version_number': 650, 'grouping_method': 'sum', 'num_round': 726}. Best is trial 6 with value: 0.6404562528766351.\n"
     ]
    },
    {
     "name": "stdout",
     "output_type": "stream",
     "text": [
      "Early stopping, best iteration is:\n",
      "[24]\tvalid_0's binary_logloss: 0.223136\n"
     ]
    }
   ],
   "source": [
    "import optuna\n",
    "import logging\n",
    "\n",
    "logging.basicConfig(filename='optuna_output.log', level=logging.INFO,\n",
    "                    format='%(asctime)s - %(name)s - %(levelname)s - %(message)s')\n",
    "def trial_maximization(trial):\n",
    "    versions = trial.suggest_int(\"version_number\", 0, 2000, step = 50)\n",
    "    grouping_method = trial.suggest_categorical(\"grouping_method\", [\"unique_average\", \"average\", \"unique_sum\", \"sum\", \"mostoccurence\"])\n",
    "    num_round = trial.suggest_int(\"num_round\", 500, 3000)\n",
    "    _, _, auc_valid = training_iteration(metadata, f\"version1_{versions}.pt\", grouping_method = \"average\", num_round=1000, checkpoint_folder = \"embedding_checkpoint_folder\", \n",
    "    save_model_path = \"lightgbm.txt\", use_embedding=True, save_model = False)\n",
    "    logging.info(f'Trial {trial.number}, Params: {{versions: {versions}, grouping_method: {grouping_method}}}, num_round: {num_round}. AUC Result: {auc_valid}')\n",
    "    return auc_valid\n",
    "logging.info('Trial begins')\n",
    "study = optuna.create_study(direction=\"maximize\")\n",
    "study.optimize(trial_maximization, n_trials=300)\n",
    "\n",
    "# Best hyperparameters\n",
    "print(\"Best hyperparameters:\", study.best_params)\n",
    "print(\"Best AUC:\", study.best_value)\n",
    "logging.info(\"Best hyperparameters:\", study.best_params)\n",
    "logging.info(\"Best AUC:\", study.best_value)"
   ]
  },
  {
   "cell_type": "code",
   "execution_count": 41,
   "metadata": {},
   "outputs": [
    {
     "name": "stdout",
     "output_type": "stream",
     "text": [
      "[LightGBM] [Info] Number of positive: 6381, number of negative: 97964\n",
      "[LightGBM] [Info] Auto-choosing col-wise multi-threading, the overhead of testing was 0.034511 seconds.\n",
      "You can set `force_col_wise=true` to remove the overhead.\n",
      "[LightGBM] [Info] Total Bins 509\n",
      "[LightGBM] [Info] Number of data points in the train set: 104345, number of used features: 2\n",
      "[LightGBM] [Info] [binary:BoostFromScore]: pavg=0.061153 -> initscore=-2.731275\n",
      "[LightGBM] [Info] Start training from score -2.731275\n",
      "Training until validation scores don't improve for 3 rounds\n",
      "Early stopping, best iteration is:\n",
      "[21]\tvalid_0's binary_logloss: 0.228212\n",
      "Accuracy: 0.9388584352359413\n",
      "AUC Score: 0.571221618267522\n"
     ]
    }
   ],
   "source": []
  },
  {
   "cell_type": "code",
   "execution_count": null,
   "metadata": {},
   "outputs": [],
   "source": [
    "#Train lightgbm\n",
    "#split already included in metadata\n",
    "# Convert the datasets to LightGBM dataset format\n",
    "train_X = metadata[\"train_df_sampled_X\"]\n",
    "train_y = metadata[\"train_df_sampled_y\"]\n",
    "valid_X= metadata[\"val_df_sampled_X\"]\n",
    "valid_y = metadata[\"val_df_sampled_y\"]\n",
    "train_data = lgb.Dataset(metadata[\"train_df_sampled_X\"], label=metadata[\"train_df_sampled_y\"])\n",
    "valid_data = lgb.Dataset(metadata[\"val_df_sampled_X\"], label=metadata[\"val_df_sampled_y\"], reference=train_data)\n",
    "\n",
    "# Define parameters for the LightGBM model\n",
    "params = {\n",
    "    'boosting_type': 'gbdt',  # Gradient Boosting Decision Tree\n",
    "    'objective': 'binary',    # Binary classification\n",
    "    'metric': 'binary_logloss'  # Logarithmic loss for binary classification\n",
    "}\n",
    "\n",
    "# Train the model\n",
    "print(\"Starting training...\")\n",
    "model = lgb.train(params,\n",
    "                  train_data,\n",
    "                  valid_sets=[valid_data],\n",
    "                  num_boost_round=1000,\n",
    "                  early_stopping_rounds=100)\n",
    "\n",
    "y_pred_valid = model.predict(valid_X, num_iteration=model.best_iteration)\n",
    "# Convert probabilities to binary output if needed, for example:\n",
    "y_pred_binary_valid = (y_pred_valid >= 0.5).astype(int)\n",
    "\n",
    "# Evaluate the model\n",
    "accuracy_valid = accuracy_score(valid_y, y_pred_binary_valid)\n",
    "auc_valid = roc_auc_score(valid_y, y_pred_valid)\n",
    "\n",
    "print(f\"Accuracy: {accuracy}\")\n",
    "print(f\"AUC Score: {auc_score}\")"
   ]
  },
  {
   "cell_type": "code",
   "execution_count": null,
   "metadata": {},
   "outputs": [],
   "source": []
  },
  {
   "cell_type": "code",
   "execution_count": null,
   "metadata": {},
   "outputs": [],
   "source": []
  },
  {
   "cell_type": "code",
   "execution_count": null,
   "metadata": {},
   "outputs": [],
   "source": []
  },
  {
   "cell_type": "code",
   "execution_count": null,
   "metadata": {},
   "outputs": [],
   "source": []
  },
  {
   "cell_type": "code",
   "execution_count": null,
   "metadata": {},
   "outputs": [],
   "source": []
  },
  {
   "cell_type": "code",
   "execution_count": null,
   "metadata": {},
   "outputs": [],
   "source": []
  },
  {
   "cell_type": "code",
   "execution_count": null,
   "metadata": {},
   "outputs": [],
   "source": []
  },
  {
   "cell_type": "code",
   "execution_count": null,
   "metadata": {},
   "outputs": [],
   "source": []
  },
  {
   "cell_type": "code",
   "execution_count": null,
   "metadata": {},
   "outputs": [],
   "source": []
  },
  {
   "cell_type": "code",
   "execution_count": null,
   "metadata": {},
   "outputs": [],
   "source": []
  },
  {
   "cell_type": "code",
   "execution_count": null,
   "metadata": {},
   "outputs": [],
   "source": []
  },
  {
   "cell_type": "code",
   "execution_count": null,
   "metadata": {},
   "outputs": [],
   "source": []
  },
  {
   "cell_type": "code",
   "execution_count": null,
   "metadata": {},
   "outputs": [],
   "source": []
  },
  {
   "cell_type": "code",
   "execution_count": null,
   "metadata": {},
   "outputs": [],
   "source": []
  },
  {
   "cell_type": "code",
   "execution_count": null,
   "metadata": {},
   "outputs": [],
   "source": []
  },
  {
   "cell_type": "code",
   "execution_count": null,
   "metadata": {},
   "outputs": [],
   "source": []
  },
  {
   "cell_type": "code",
   "execution_count": null,
   "metadata": {},
   "outputs": [],
   "source": []
  },
  {
   "cell_type": "code",
   "execution_count": null,
   "metadata": {},
   "outputs": [],
   "source": []
  },
  {
   "cell_type": "code",
   "execution_count": null,
   "metadata": {},
   "outputs": [],
   "source": []
  },
  {
   "cell_type": "code",
   "execution_count": null,
   "metadata": {},
   "outputs": [],
   "source": []
  },
  {
   "cell_type": "code",
   "execution_count": null,
   "metadata": {},
   "outputs": [],
   "source": []
  },
  {
   "cell_type": "code",
   "execution_count": null,
   "metadata": {},
   "outputs": [],
   "source": []
  },
  {
   "cell_type": "code",
   "execution_count": null,
   "metadata": {},
   "outputs": [],
   "source": []
  },
  {
   "cell_type": "code",
   "execution_count": null,
   "metadata": {},
   "outputs": [],
   "source": []
  },
  {
   "cell_type": "code",
   "execution_count": null,
   "metadata": {},
   "outputs": [],
   "source": []
  },
  {
   "cell_type": "code",
   "execution_count": null,
   "metadata": {},
   "outputs": [],
   "source": []
  },
  {
   "cell_type": "code",
   "execution_count": null,
   "metadata": {},
   "outputs": [],
   "source": []
  },
  {
   "cell_type": "code",
   "execution_count": null,
   "metadata": {},
   "outputs": [],
   "source": []
  },
  {
   "cell_type": "code",
   "execution_count": null,
   "metadata": {},
   "outputs": [],
   "source": []
  },
  {
   "cell_type": "code",
   "execution_count": null,
   "metadata": {},
   "outputs": [],
   "source": []
  },
  {
   "cell_type": "code",
   "execution_count": null,
   "metadata": {},
   "outputs": [],
   "source": []
  },
  {
   "cell_type": "code",
   "execution_count": null,
   "metadata": {},
   "outputs": [],
   "source": []
  },
  {
   "cell_type": "code",
   "execution_count": null,
   "metadata": {},
   "outputs": [],
   "source": []
  },
  {
   "cell_type": "code",
   "execution_count": null,
   "metadata": {},
   "outputs": [],
   "source": []
  },
  {
   "cell_type": "code",
   "execution_count": null,
   "metadata": {},
   "outputs": [],
   "source": []
  },
  {
   "cell_type": "code",
   "execution_count": null,
   "metadata": {},
   "outputs": [],
   "source": []
  },
  {
   "cell_type": "code",
   "execution_count": null,
   "metadata": {},
   "outputs": [],
   "source": []
  },
  {
   "cell_type": "code",
   "execution_count": null,
   "metadata": {},
   "outputs": [],
   "source": []
  },
  {
   "cell_type": "code",
   "execution_count": null,
   "metadata": {},
   "outputs": [],
   "source": []
  },
  {
   "cell_type": "code",
   "execution_count": null,
   "metadata": {},
   "outputs": [],
   "source": []
  },
  {
   "cell_type": "code",
   "execution_count": null,
   "metadata": {},
   "outputs": [],
   "source": []
  },
  {
   "cell_type": "code",
   "execution_count": null,
   "metadata": {},
   "outputs": [],
   "source": []
  },
  {
   "cell_type": "code",
   "execution_count": null,
   "metadata": {},
   "outputs": [],
   "source": []
  },
  {
   "cell_type": "code",
   "execution_count": null,
   "metadata": {},
   "outputs": [],
   "source": []
  },
  {
   "cell_type": "code",
   "execution_count": null,
   "metadata": {},
   "outputs": [],
   "source": []
  },
  {
   "cell_type": "code",
   "execution_count": null,
   "metadata": {},
   "outputs": [],
   "source": []
  },
  {
   "cell_type": "code",
   "execution_count": null,
   "metadata": {},
   "outputs": [],
   "source": []
  },
  {
   "cell_type": "code",
   "execution_count": null,
   "metadata": {},
   "outputs": [],
   "source": []
  },
  {
   "cell_type": "code",
   "execution_count": null,
   "metadata": {},
   "outputs": [],
   "source": []
  },
  {
   "cell_type": "code",
   "execution_count": null,
   "metadata": {},
   "outputs": [],
   "source": []
  },
  {
   "cell_type": "code",
   "execution_count": null,
   "metadata": {},
   "outputs": [],
   "source": []
  },
  {
   "cell_type": "code",
   "execution_count": null,
   "metadata": {},
   "outputs": [],
   "source": []
  },
  {
   "cell_type": "code",
   "execution_count": null,
   "metadata": {},
   "outputs": [],
   "source": []
  },
  {
   "cell_type": "code",
   "execution_count": null,
   "metadata": {},
   "outputs": [],
   "source": []
  },
  {
   "cell_type": "code",
   "execution_count": null,
   "metadata": {},
   "outputs": [],
   "source": []
  },
  {
   "cell_type": "code",
   "execution_count": null,
   "metadata": {},
   "outputs": [],
   "source": []
  },
  {
   "cell_type": "code",
   "execution_count": null,
   "metadata": {},
   "outputs": [],
   "source": []
  },
  {
   "cell_type": "code",
   "execution_count": null,
   "metadata": {},
   "outputs": [],
   "source": []
  },
  {
   "cell_type": "code",
   "execution_count": null,
   "metadata": {},
   "outputs": [],
   "source": []
  },
  {
   "cell_type": "code",
   "execution_count": null,
   "metadata": {},
   "outputs": [],
   "source": []
  },
  {
   "cell_type": "code",
   "execution_count": null,
   "metadata": {},
   "outputs": [],
   "source": []
  },
  {
   "cell_type": "code",
   "execution_count": null,
   "metadata": {},
   "outputs": [],
   "source": []
  },
  {
   "cell_type": "code",
   "execution_count": null,
   "metadata": {},
   "outputs": [],
   "source": []
  },
  {
   "cell_type": "code",
   "execution_count": null,
   "metadata": {},
   "outputs": [],
   "source": []
  },
  {
   "cell_type": "code",
   "execution_count": null,
   "metadata": {},
   "outputs": [],
   "source": []
  },
  {
   "cell_type": "code",
   "execution_count": null,
   "metadata": {},
   "outputs": [],
   "source": []
  },
  {
   "cell_type": "code",
   "execution_count": null,
   "metadata": {},
   "outputs": [],
   "source": []
  },
  {
   "cell_type": "code",
   "execution_count": null,
   "metadata": {},
   "outputs": [],
   "source": []
  },
  {
   "cell_type": "code",
   "execution_count": null,
   "metadata": {},
   "outputs": [],
   "source": []
  },
  {
   "cell_type": "code",
   "execution_count": null,
   "metadata": {},
   "outputs": [],
   "source": []
  },
  {
   "cell_type": "code",
   "execution_count": null,
   "metadata": {},
   "outputs": [],
   "source": []
  },
  {
   "cell_type": "code",
   "execution_count": null,
   "metadata": {},
   "outputs": [],
   "source": []
  },
  {
   "cell_type": "code",
   "execution_count": null,
   "metadata": {},
   "outputs": [],
   "source": []
  },
  {
   "cell_type": "code",
   "execution_count": null,
   "metadata": {},
   "outputs": [],
   "source": []
  },
  {
   "cell_type": "code",
   "execution_count": null,
   "metadata": {},
   "outputs": [],
   "source": []
  },
  {
   "cell_type": "code",
   "execution_count": null,
   "metadata": {},
   "outputs": [],
   "source": []
  },
  {
   "cell_type": "code",
   "execution_count": null,
   "metadata": {},
   "outputs": [],
   "source": []
  },
  {
   "cell_type": "code",
   "execution_count": null,
   "metadata": {},
   "outputs": [],
   "source": []
  },
  {
   "cell_type": "code",
   "execution_count": null,
   "metadata": {},
   "outputs": [],
   "source": []
  },
  {
   "cell_type": "code",
   "execution_count": null,
   "metadata": {},
   "outputs": [],
   "source": []
  },
  {
   "cell_type": "code",
   "execution_count": null,
   "metadata": {},
   "outputs": [],
   "source": []
  },
  {
   "cell_type": "code",
   "execution_count": null,
   "metadata": {},
   "outputs": [],
   "source": []
  },
  {
   "cell_type": "code",
   "execution_count": null,
   "metadata": {},
   "outputs": [],
   "source": []
  },
  {
   "cell_type": "code",
   "execution_count": null,
   "metadata": {},
   "outputs": [],
   "source": []
  },
  {
   "cell_type": "code",
   "execution_count": null,
   "metadata": {},
   "outputs": [],
   "source": []
  },
  {
   "cell_type": "code",
   "execution_count": null,
   "metadata": {},
   "outputs": [],
   "source": []
  },
  {
   "cell_type": "code",
   "execution_count": null,
   "metadata": {},
   "outputs": [],
   "source": []
  },
  {
   "cell_type": "code",
   "execution_count": null,
   "metadata": {},
   "outputs": [],
   "source": []
  },
  {
   "cell_type": "code",
   "execution_count": null,
   "metadata": {},
   "outputs": [],
   "source": []
  },
  {
   "cell_type": "code",
   "execution_count": null,
   "metadata": {},
   "outputs": [],
   "source": []
  },
  {
   "cell_type": "code",
   "execution_count": null,
   "metadata": {},
   "outputs": [],
   "source": []
  },
  {
   "cell_type": "code",
   "execution_count": null,
   "metadata": {},
   "outputs": [],
   "source": []
  },
  {
   "cell_type": "code",
   "execution_count": null,
   "metadata": {},
   "outputs": [],
   "source": []
  },
  {
   "cell_type": "code",
   "execution_count": null,
   "metadata": {},
   "outputs": [],
   "source": []
  },
  {
   "cell_type": "code",
   "execution_count": null,
   "metadata": {},
   "outputs": [],
   "source": []
  },
  {
   "cell_type": "code",
   "execution_count": null,
   "metadata": {},
   "outputs": [],
   "source": []
  },
  {
   "cell_type": "code",
   "execution_count": null,
   "metadata": {},
   "outputs": [],
   "source": []
  },
  {
   "cell_type": "code",
   "execution_count": null,
   "metadata": {},
   "outputs": [],
   "source": []
  },
  {
   "cell_type": "code",
   "execution_count": null,
   "metadata": {},
   "outputs": [],
   "source": []
  },
  {
   "cell_type": "code",
   "execution_count": null,
   "metadata": {},
   "outputs": [],
   "source": []
  },
  {
   "cell_type": "code",
   "execution_count": null,
   "metadata": {},
   "outputs": [],
   "source": []
  },
  {
   "cell_type": "code",
   "execution_count": null,
   "metadata": {},
   "outputs": [],
   "source": []
  },
  {
   "cell_type": "code",
   "execution_count": null,
   "metadata": {},
   "outputs": [],
   "source": []
  },
  {
   "cell_type": "code",
   "execution_count": null,
   "metadata": {},
   "outputs": [],
   "source": []
  },
  {
   "cell_type": "code",
   "execution_count": null,
   "metadata": {},
   "outputs": [],
   "source": []
  },
  {
   "cell_type": "code",
   "execution_count": null,
   "metadata": {},
   "outputs": [],
   "source": []
  },
  {
   "cell_type": "code",
   "execution_count": null,
   "metadata": {},
   "outputs": [],
   "source": []
  },
  {
   "cell_type": "code",
   "execution_count": null,
   "metadata": {},
   "outputs": [],
   "source": []
  },
  {
   "cell_type": "code",
   "execution_count": null,
   "metadata": {},
   "outputs": [],
   "source": []
  },
  {
   "cell_type": "code",
   "execution_count": null,
   "metadata": {},
   "outputs": [],
   "source": []
  },
  {
   "cell_type": "code",
   "execution_count": null,
   "metadata": {},
   "outputs": [],
   "source": []
  },
  {
   "cell_type": "code",
   "execution_count": null,
   "metadata": {},
   "outputs": [],
   "source": []
  },
  {
   "cell_type": "code",
   "execution_count": null,
   "metadata": {},
   "outputs": [],
   "source": []
  },
  {
   "cell_type": "code",
   "execution_count": null,
   "metadata": {},
   "outputs": [],
   "source": []
  },
  {
   "cell_type": "code",
   "execution_count": null,
   "metadata": {},
   "outputs": [],
   "source": []
  },
  {
   "cell_type": "code",
   "execution_count": null,
   "metadata": {},
   "outputs": [],
   "source": []
  },
  {
   "cell_type": "code",
   "execution_count": null,
   "metadata": {},
   "outputs": [],
   "source": []
  },
  {
   "cell_type": "code",
   "execution_count": null,
   "metadata": {},
   "outputs": [],
   "source": []
  },
  {
   "cell_type": "code",
   "execution_count": null,
   "metadata": {},
   "outputs": [],
   "source": []
  },
  {
   "cell_type": "code",
   "execution_count": null,
   "metadata": {},
   "outputs": [],
   "source": []
  },
  {
   "cell_type": "code",
   "execution_count": null,
   "metadata": {},
   "outputs": [],
   "source": []
  },
  {
   "cell_type": "code",
   "execution_count": null,
   "metadata": {},
   "outputs": [],
   "source": []
  },
  {
   "cell_type": "code",
   "execution_count": null,
   "metadata": {},
   "outputs": [],
   "source": []
  },
  {
   "cell_type": "code",
   "execution_count": null,
   "metadata": {},
   "outputs": [],
   "source": []
  },
  {
   "cell_type": "code",
   "execution_count": null,
   "metadata": {},
   "outputs": [],
   "source": []
  },
  {
   "cell_type": "code",
   "execution_count": null,
   "metadata": {},
   "outputs": [],
   "source": []
  },
  {
   "cell_type": "code",
   "execution_count": null,
   "metadata": {},
   "outputs": [],
   "source": []
  },
  {
   "cell_type": "code",
   "execution_count": 39,
   "metadata": {},
   "outputs": [
    {
     "name": "stdout",
     "output_type": "stream",
     "text": [
      "Amount of user id duplicated in train and test:  0\n",
      "Ratio toward the whole test:  0.0\n",
      "Amount of merchant id duplicated in train and test:  260863\n",
      "Ratio toward the whole test:  0.9976518011144384\n"
     ]
    }
   ],
   "source": [
    "#how many users in train appear in test set\n",
    "print(\"Amount of user id duplicated in train and test: \", train_format1['user_id'].isin(test_format1['user_id']).sum())\n",
    "print(\"Ratio toward the whole test: \", train_format1['user_id'].isin(test_format1['user_id']).sum() / len(test_format1['user_id']))\n",
    "\n",
    "#how many merchants in train appear in test set\n",
    "print(\"Amount of merchant id duplicated in train and test: \", train_format1['merchant_id'].isin(test_format1['merchant_id']).sum())\n",
    "print(\"Ratio toward the whole test: \", train_format1['merchant_id'].isin(test_format1['merchant_id']).sum() / len(test_format1['merchant_id']))"
   ]
  },
  {
   "cell_type": "code",
   "execution_count": 46,
   "metadata": {},
   "outputs": [
    {
     "data": {
      "image/png": "[encoded data removed]",
      "text/plain": [
       "<Figure size 432x288 with 1 Axes>"
      ]
     },
     "metadata": {
      "needs_background": "light"
     },
     "output_type": "display_data"
    }
   ],
   "source": [
    "#for each merchant, how many users get the label 1 (ratio)\n",
    "merchant_ratios = train_format1['label'].groupby(train_format1['merchant_id']).mean()\n",
    "\n",
    "sns.kdeplot(merchant_ratios, bw_adjust=1)  # bw_adjust adjusts the bandwidth; tweak as needed\n",
    "plt.title(\"KDE of Mean Label Ratio Per Merchant\")\n",
    "plt.xlabel(\"Mean Label Ratio\")\n",
    "plt.ylabel(\"Density\")\n",
    "plt.show()"
   ]
  },
  {
   "cell_type": "code",
   "execution_count": 27,
   "metadata": {},
   "outputs": [
    {
     "name": "stdout",
     "output_type": "stream",
     "text": [
      "Train label 0 ratio:  0.9388493621197253\n"
     ]
    }
   ],
   "source": [
    "# class balance or imbalance\n",
    "print(\"Train label 0 ratio: \", train_format1[train_format1['label'] == 0].shape[0] / len(train_format1['label']))"
   ]
  },
  {
   "cell_type": "code",
   "execution_count": 35,
   "metadata": {},
   "outputs": [],
   "source": [
    "def training_iteration_lightgbm(train_data, val_data, train_target, val_target, params):\n",
    "    lgbm_train_data = lgb.Dataset(train_data, label=train_target)\n",
    "    lgbm_val_data = lgb.Dataset(val_data, label=val_target, reference=train_data)\n",
    "    model = lgb.train(params, lgbm_train_data, num_boost_round=1000, valid_sets=[lgbm_val_data], early_stopping_rounds=50, verbose_eval=50)\n",
    "    return model"
   ]
  },
  {
   "cell_type": "code",
   "execution_count": null,
   "metadata": {},
   "outputs": [],
   "source": [
    "#lightgbm baseline\n",
    "params = {\n",
    "    'boosting_type': 'gbdt',\n",
    "    'objective': 'binary',\n",
    "    'metric': 'binary_logloss',\n",
    "}\n",
    "baseline_train_data = train_format1.drop(['label'], axis=1)\n",
    "\n",
    "#preprocessing null in age range\n",
    "baseline_user_info = \n",
    "baseline_train_data = baseline_train_data.merge(user_info_format1, on='user_id', how='left')\n",
    "baseline_train_target = train_format1['label']\n",
    "\n",
    "baseline_train_data.join(other, lsuffix='_caller', rsuffix='_other')"
   ]
  }
 ],
 "metadata": {
  "kernelspec": {
   "display_name": "base",
   "language": "python",
   "name": "python3"
  },
  "language_info": {
   "codemirror_mode": {
    "name": "ipython",
    "version": 3
   },
   "file_extension": ".py",
   "mimetype": "text/x-python",
   "name": "python",
   "nbconvert_exporter": "python",
   "pygments_lexer": "ipython3",
   "version": "3.9.12"
  }
 },
 "nbformat": 4,
 "nbformat_minor": 2
}
