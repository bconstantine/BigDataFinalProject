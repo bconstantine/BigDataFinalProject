{
 "cells": [
  {
   "cell_type": "code",
   "execution_count": null,
   "metadata": {},
   "outputs": [],
   "source": [
    "import pandas as pd\n",
    "import os\n",
    "import lightgbm as lgb\n",
    "import matplotlib.pyplot as plt\n",
    "import seaborn as sns\n",
    "from sklearn.decomposition import NMF\n",
    "from sklearn.preprocessing import LabelEncoder\n",
    "from scipy.sparse import csr_matrix\n",
    "from sklearn.decomposition import NMF\n",
    "import numpy as np\n",
    "import torch\n",
    "import gc\n",
    "from tqdm import tqdm\n",
    "import torch.nn.init as init\n",
    "from sklearn.model_selection import train_test_split\n",
    "from sklearn.metrics import accuracy_score, roc_auc_score\n",
    "import pickle\n",
    "os.environ[\"CUDA_VISIBLE_DEVICES\"]=\"1\""
   ]
  },
  {
   "cell_type": "code",
   "execution_count": null,
   "metadata": {},
   "outputs": [],
   "source": [
    "data_format1_path = \"data_format1\"\n",
    "data_format2_path = \"data_format2\"\n",
    "train_format1_path = os.path.join(data_format1_path, \"train_format1.csv\")\n",
    "train_format2_path = os.path.join(data_format2_path, \"train_format2.csv\")\n",
    "test_format1_path = os.path.join(data_format1_path, \"test_format1.csv\")\n",
    "test_format2_path = os.path.join(data_format2_path, \"test_format2.csv\")\n",
    "user_info_format1_path = os.path.join(data_format1_path, \"user_info_format1.csv\") \n",
    "user_log_format1_path = os.path.join(data_format1_path, \"user_log_format1.csv\", ) "
   ]
  },
  {
   "cell_type": "code",
   "execution_count": 3,
   "metadata": {},
   "outputs": [],
   "source": [
    "train_format1 = pd.read_csv(train_format1_path)\n",
    "#train_format2 = pd.read_csv(train_format2_path)\n",
    "test_format1 = pd.read_csv(test_format1_path)\n",
    "#test_format2 = pd.read_csv(test_format2_path)\n",
    "user_info_format1 = pd.read_csv(user_info_format1_path)\n",
    "user_log_format1 = pd.read_csv(user_log_format1_path, dtype={'time_stamp': str}).rename(columns={\"seller_id\": \"merchant_id\"})"
   ]
  },
  {
   "cell_type": "code",
   "execution_count": 4,
   "metadata": {},
   "outputs": [
    {
     "name": "stdout",
     "output_type": "stream",
     "text": [
      "len train_format|1: 260864\n",
      "len test_format1: 261477\n"
     ]
    }
   ],
   "source": [
    "print(\"len train_format|1:\", len(train_format1))\n",
    "#print(\"len train_format2:\", len(train_format2))\n",
    "print(\"len test_format1:\", len(test_format1))\n",
    "#print(\"len test_format2:\", len(test_format2))"
   ]
  },
  {
   "cell_type": "code",
   "execution_count": 5,
   "metadata": {},
   "outputs": [
    {
     "name": "stdout",
     "output_type": "stream",
     "text": [
      "54925330\n",
      "10582633\n"
     ]
    }
   ],
   "source": [
    "print(len(user_log_format1))\n",
    "#only filter the log with time_stamp 11.11\n",
    "user_log_format1 = user_log_format1[user_log_format1[\"time_stamp\"] == \"1111\"]\n",
    "print(len(user_log_format1))"
   ]
  },
  {
   "cell_type": "code",
   "execution_count": 6,
   "metadata": {},
   "outputs": [
    {
     "name": "stdout",
     "output_type": "stream",
     "text": [
      "     user_id  item_id  cat_id  merchant_id  brand_id time_stamp  action_type\n",
      "171   328862   406349    1280         2700    5476.0       1111            0\n",
      "172   328862   406349    1280         2700    5476.0       1111            0\n",
      "173   328862   807126    1181         1963    6109.0       1111            0\n",
      "174   328862   406349    1280         2700    5476.0       1111            2\n",
      "175   328862   406349    1280         2700    5476.0       1111            0\n"
     ]
    }
   ],
   "source": [
    "print(user_log_format1.head())"
   ]
  },
  {
   "cell_type": "code",
   "execution_count": 7,
   "metadata": {},
   "outputs": [],
   "source": [
    "user_log_format1 = user_log_format1.drop(columns=[\"action_type\", \"time_stamp\"])"
   ]
  },
  {
   "cell_type": "code",
   "execution_count": 8,
   "metadata": {},
   "outputs": [
    {
     "name": "stdout",
     "output_type": "stream",
     "text": [
      "user_log_info1 columns: Index(['user_id', 'item_id', 'cat_id', 'merchant_id', 'brand_id'], dtype='object')\n"
     ]
    }
   ],
   "source": [
    "print(\"user_log_info1 columns: \" + str(user_log_format1.columns))"
   ]
  },
  {
   "cell_type": "code",
   "execution_count": 9,
   "metadata": {},
   "outputs": [
    {
     "name": "stdout",
     "output_type": "stream",
     "text": [
      "   user_id  merchant_id  label\n",
      "0    34176         3906      0\n",
      "1    34176          121      0\n",
      "2    34176         4356      1\n",
      "3    34176         2217      0\n",
      "4   230784         4818      0\n",
      "============================================\n",
      "             user_id    merchant_id          label\n",
      "count  260864.000000  260864.000000  260864.000000\n",
      "mean   211889.321420    2540.292363       0.061151\n",
      "std    122399.488027    1451.207514       0.239607\n",
      "min         1.000000       2.000000       0.000000\n",
      "25%    105488.000000    1340.000000       0.000000\n",
      "50%    211927.500000    2482.000000       0.000000\n",
      "75%    317670.500000    3898.000000       0.000000\n",
      "max    424170.000000    4993.000000       1.000000\n",
      "============================================\n",
      "user_id        0\n",
      "merchant_id    0\n",
      "label          0\n",
      "dtype: int64\n",
      "user_id        0.0\n",
      "merchant_id    0.0\n",
      "label          0.0\n",
      "dtype: float64\n"
     ]
    }
   ],
   "source": [
    "print(train_format1.head())\n",
    "print(\"============================================\")\n",
    "print(train_format1.describe())\n",
    "print(\"============================================\")\n",
    "#check for nan\n",
    "print(train_format1.isnull().sum())\n",
    "#nan ratio\n",
    "print(train_format1.isnull().sum()/len(train_format1))"
   ]
  },
  {
   "cell_type": "code",
   "execution_count": 10,
   "metadata": {},
   "outputs": [],
   "source": [
    "# print(train_format2.head())\n",
    "# print(\"============================================\")\n",
    "# print(train_format2.describe())\n",
    "# print(\"============================================\")\n",
    "# #check for nan\n",
    "# print(train_format2.isnull().sum())\n",
    "# #nan ratio\n",
    "# print(train_format2.isnull().sum()/len(train_format2))"
   ]
  },
  {
   "cell_type": "code",
   "execution_count": 11,
   "metadata": {},
   "outputs": [
    {
     "name": "stdout",
     "output_type": "stream",
     "text": [
      "   user_id  merchant_id  prob\n",
      "0   163968         4605   NaN\n",
      "1   360576         1581   NaN\n",
      "2    98688         1964   NaN\n",
      "3    98688         3645   NaN\n",
      "4   295296         3361   NaN\n",
      "============================================\n",
      "============================================\n",
      "user_id             0\n",
      "merchant_id         0\n",
      "prob           261477\n",
      "dtype: int64\n",
      "user_id        0.0\n",
      "merchant_id    0.0\n",
      "prob           1.0\n",
      "dtype: float64\n"
     ]
    }
   ],
   "source": [
    "print(test_format1.head())\n",
    "print(\"============================================\")\n",
    "test_format1.describe()\n",
    "print(\"============================================\")\n",
    "print(test_format1.isnull().sum())\n",
    "print(test_format1.isnull().sum()/len(test_format1))"
   ]
  },
  {
   "cell_type": "code",
   "execution_count": 12,
   "metadata": {},
   "outputs": [],
   "source": [
    "# print(test_format2.head())\n",
    "# print(\"============================================\")\n",
    "# test_format2.describe()\n",
    "# print(\"============================================\")\n",
    "# print(test_format2.isnull().sum())\n",
    "# print(test_format2.isnull().sum()/len(test_format2))"
   ]
  },
  {
   "cell_type": "code",
   "execution_count": 13,
   "metadata": {},
   "outputs": [
    {
     "name": "stdout",
     "output_type": "stream",
     "text": [
      "   user_id  age_range  gender\n",
      "0   376517        6.0     1.0\n",
      "1   234512        5.0     0.0\n",
      "2   344532        5.0     0.0\n",
      "3   186135        5.0     0.0\n",
      "4    30230        5.0     0.0\n",
      "============================================\n",
      "             user_id      age_range         gender\n",
      "count  424170.000000  421953.000000  417734.000000\n",
      "mean   212085.500000       2.930262       0.341179\n",
      "std    122447.476179       1.942978       0.524112\n",
      "min         1.000000       0.000000       0.000000\n",
      "25%    106043.250000       2.000000       0.000000\n",
      "50%    212085.500000       3.000000       0.000000\n",
      "75%    318127.750000       4.000000       1.000000\n",
      "max    424170.000000       8.000000       2.000000\n",
      "============================================\n",
      "user_id         0\n",
      "age_range    2217\n",
      "gender       6436\n",
      "dtype: int64\n",
      "user_id      0.000000\n",
      "age_range    0.005227\n",
      "gender       0.015173\n",
      "dtype: float64\n"
     ]
    }
   ],
   "source": [
    "print(user_info_format1.head())\n",
    "print(\"============================================\")\n",
    "print(user_info_format1.describe())\n",
    "print(\"============================================\")\n",
    "print(user_info_format1.isnull().sum())\n",
    "print(user_info_format1.isnull().sum()/len(user_info_format1))"
   ]
  },
  {
   "cell_type": "code",
   "execution_count": 14,
   "metadata": {},
   "outputs": [
    {
     "name": "stdout",
     "output_type": "stream",
     "text": [
      "     user_id  item_id  cat_id  merchant_id  brand_id\n",
      "171   328862   406349    1280         2700    5476.0\n",
      "172   328862   406349    1280         2700    5476.0\n",
      "173   328862   807126    1181         1963    6109.0\n",
      "174   328862   406349    1280         2700    5476.0\n",
      "175   328862   406349    1280         2700    5476.0\n",
      "============================================\n"
     ]
    },
    {
     "name": "stdout",
     "output_type": "stream",
     "text": [
      "            user_id       item_id        cat_id   merchant_id      brand_id\n",
      "count  1.058263e+07  1.058263e+07  1.058263e+07  1.058263e+07  1.056487e+07\n",
      "mean   2.123082e+05  5.477336e+05  8.938849e+02  2.408522e+03  4.079078e+03\n",
      "std    1.222255e+05  3.246887e+05  4.371969e+02  1.512776e+03  2.422199e+03\n",
      "min    1.000000e+00  2.000000e+00  1.000000e+00  1.000000e+00  1.000000e+00\n",
      "25%    1.067360e+05  2.608150e+05  6.020000e+02  1.087000e+03  1.866000e+03\n",
      "50%    2.125260e+05  5.544080e+05  9.460000e+02  2.387000e+03  3.969000e+03\n",
      "75%    3.179590e+05  8.225780e+05  1.238000e+03  3.760000e+03  6.143000e+03\n",
      "max    4.241700e+05  1.113166e+06  1.671000e+03  4.995000e+03  8.477000e+03\n",
      "============================================\n",
      "user_id            0\n",
      "item_id            0\n",
      "cat_id             0\n",
      "merchant_id        0\n",
      "brand_id       17767\n",
      "dtype: int64\n",
      "user_id        0.000000\n",
      "item_id        0.000000\n",
      "cat_id         0.000000\n",
      "merchant_id    0.000000\n",
      "brand_id       0.001679\n",
      "dtype: float64\n"
     ]
    }
   ],
   "source": [
    "print(user_log_format1.head())\n",
    "print(\"============================================\")\n",
    "print(user_log_format1.describe())\n",
    "print(\"============================================\")\n",
    "print(user_log_format1.isnull().sum())\n",
    "print(user_log_format1.isnull().sum()/len(user_log_format1))"
   ]
  },
  {
   "cell_type": "code",
   "execution_count": 15,
   "metadata": {},
   "outputs": [
    {
     "name": "stdout",
     "output_type": "stream",
     "text": [
      "Empty DataFrame\n",
      "Columns: [user_id, merchant_id]\n",
      "Index: []\n"
     ]
    },
    {
     "name": "stdout",
     "output_type": "stream",
     "text": [
      "Empty DataFrame\n",
      "Columns: [user_id, merchant_id_x, merchant_id_y]\n",
      "Index: []\n",
      "           user_id_x  merchant_id  user_id_y\n",
      "0              34176         3906     325008\n",
      "1              34176         3906     282768\n",
      "2              34176         3906     187542\n",
      "3              34176         3906      97206\n",
      "4              34176         3906     153795\n",
      "...              ...          ...        ...\n",
      "150064189     229247         4140     188243\n",
      "150064190     229247         4140     171110\n",
      "150064191     229247         4140     238697\n",
      "150064192     229247         4140     176240\n",
      "150064193     229247         4140     333428\n",
      "\n",
      "[150064194 rows x 3 columns]\n"
     ]
    }
   ],
   "source": [
    "# does there exist user_id and merchant_id pair that appears in test set\n",
    "print(pd.merge(train_format1[[\"user_id\", \"merchant_id\"]].drop_duplicates(), test_format1[[\"user_id\", \"merchant_id\"]].drop_duplicates(), how=\"inner\", on=[\"user_id\", \"merchant_id\"]))\n",
    "print(pd.merge(train_format1[[\"user_id\", \"merchant_id\"]].drop_duplicates(), test_format1[[\"user_id\", \"merchant_id\"]].drop_duplicates(), how=\"inner\", on=[\"user_id\"]))\n",
    "print(pd.merge(train_format1[[\"user_id\", \"merchant_id\"]].drop_duplicates(), test_format1[[\"user_id\", \"merchant_id\"]].drop_duplicates(), how=\"inner\", on=[\"merchant_id\"]))"
   ]
  },
  {
   "cell_type": "code",
   "execution_count": 16,
   "metadata": {},
   "outputs": [
    {
     "name": "stdout",
     "output_type": "stream",
     "text": [
      "         user_id  item_id  cat_id  merchant_id  brand_id\n",
      "4930955   360576   991507    1142         4044      82.0\n",
      "4930956   360576   948181     614         1581    4066.0\n",
      "4930958   360576  1111020     614         1581    4066.0\n",
      "4930959   360576   755622     614         1783    5041.0\n",
      "4930960   360576   294442     614         1581    4066.0\n",
      "4930961   360576   864510     614         1581    4066.0\n",
      "4930962   360576   326679     614         1581    4066.0\n",
      "4930963   360576   720542     748         2582    7208.0\n",
      "4930964   360576   755622     614         1783    5041.0\n",
      "4930967   360576   794107     614         1581    4066.0\n",
      "4930969   360576   864510     614         1581    4066.0\n",
      "4930970   360576   755622     614         1783    5041.0\n",
      "4930971   360576   755622     614         1783    5041.0\n",
      "4930973   360576   982117     632         1581    4066.0\n",
      "4930974   360576    61318     229         1581    4066.0\n",
      "4930975   360576   164776     389         3848    4452.0\n",
      "4930976   360576  1091811    1142         4044      82.0\n",
      "4930977   360576   863626     119         1581    4066.0\n",
      "4930978   360576   613888     748         3311    6548.0\n"
     ]
    }
   ],
   "source": [
    "print(user_log_format1[user_log_format1[\"user_id\"] == 360576])"
   ]
  },
  {
   "cell_type": "code",
   "execution_count": 17,
   "metadata": {},
   "outputs": [
    {
     "data": {
      "text/html": [
       "<div>\n",
       "<style scoped>\n",
       "    .dataframe tbody tr th:only-of-type {\n",
       "        vertical-align: middle;\n",
       "    }\n",
       "\n",
       "    .dataframe tbody tr th {\n",
       "        vertical-align: top;\n",
       "    }\n",
       "\n",
       "    .dataframe thead th {\n",
       "        text-align: right;\n",
       "    }\n",
       "</style>\n",
       "<table border=\"1\" class=\"dataframe\">\n",
       "  <thead>\n",
       "    <tr style=\"text-align: right;\">\n",
       "      <th></th>\n",
       "      <th>user_id</th>\n",
       "      <th>merchant_id</th>\n",
       "      <th>prob</th>\n",
       "    </tr>\n",
       "  </thead>\n",
       "  <tbody>\n",
       "  </tbody>\n",
       "</table>\n",
       "</div>"
      ],
      "text/plain": [
       "Empty DataFrame\n",
       "Columns: [user_id, merchant_id, prob]\n",
       "Index: []"
      ]
     },
     "execution_count": 17,
     "metadata": {},
     "output_type": "execute_result"
    }
   ],
   "source": [
    "test_format1[~test_format1['user_id'].isin(user_log_format1['user_id'])]"
   ]
  },
  {
   "cell_type": "code",
   "execution_count": 18,
   "metadata": {},
   "outputs": [
    {
     "name": "stdout",
     "output_type": "stream",
     "text": [
      "Original test length:  261477\n",
      "User merchant pair in test not appear in log:  261477\n",
      "User in test not appear in log:  0\n",
      "merchant in test not appear in log:  0\n"
     ]
    }
   ],
   "source": [
    "#verify user activity of test users all exist inside the data\n",
    "missing_keys = test_format1[~test_format1[['user_id', 'merchant_id']].isin(user_log_format1[['user_id', 'merchant_id']])]\n",
    "missing_keys_user_only = test_format1[~test_format1['user_id'].isin(user_log_format1['user_id'])]\n",
    "missing_keys_merchant_only = test_format1[~test_format1[ 'merchant_id'].isin(user_log_format1['merchant_id'])]\n",
    "print(\"Original test length: \", len(test_format1))\n",
    "print(\"User merchant pair in test not appear in log: \", len(missing_keys.drop_duplicates()))\n",
    "print(\"User in test not appear in log: \", len(missing_keys_user_only.drop_duplicates()))\n",
    "print(\"merchant in test not appear in log: \", len(missing_keys_merchant_only.drop_duplicates()))"
   ]
  },
  {
   "cell_type": "code",
   "execution_count": 19,
   "metadata": {},
   "outputs": [
    {
     "name": "stdout",
     "output_type": "stream",
     "text": [
      "Train user id Uniqueness ratio:  0.8129216756624141\n",
      "Test user id Uniqueness ratio:  0.8111918065451263\n",
      "Train merchant id Uniqueness ratio:  0.007639996319921492\n",
      "Test merchant Uniqueness ratio:  0.007622085307694367\n"
     ]
    }
   ],
   "source": [
    "#unique value of user id\n",
    "train_format1['user_id'].nunique()\n",
    "print(\"Train user id Uniqueness ratio: \", train_format1['user_id'].nunique() / len(train_format1['user_id']))\n",
    "print(\"Test user id Uniqueness ratio: \", test_format1['user_id'].nunique() / len(test_format1['user_id']))\n",
    "\n",
    "print(\"Train merchant id Uniqueness ratio: \", train_format1['merchant_id'].nunique() / len(train_format1['merchant_id']))\n",
    "print(\"Test merchant Uniqueness ratio: \", test_format1['merchant_id'].nunique() / len(test_format1['merchant_id']))"
   ]
  },
  {
   "cell_type": "code",
   "execution_count": 20,
   "metadata": {},
   "outputs": [
    {
     "name": "stdout",
     "output_type": "stream",
     "text": [
      "Amount of user id and merchant id duplicated in train:  0\n",
      "Amount of user id and merchant id duplicated in test:  0\n"
     ]
    }
   ],
   "source": [
    "#duplicate data in train_format1 between merchant and user id\n",
    "print(\"Amount of user id and merchant id duplicated in train: \", train_format1[['user_id', 'merchant_id']].duplicated().sum())\n",
    "print(\"Amount of user id and merchant id duplicated in test: \",test_format1[['user_id', 'merchant_id']].duplicated().sum())"
   ]
  },
  {
   "cell_type": "code",
   "execution_count": 21,
   "metadata": {},
   "outputs": [],
   "source": [
    "#check if all label -1 in format_2 is all contains in user_log format 1\n",
    "# tmp = test_format2[test_format2[\"label\"] == -1][[\"user_id\", \"merchant_id\"]]\n",
    "# mask = tmp.isin(user_log_format1[[\"user_id\", \"merchant_id\"]]).all(axis=1)\n",
    "# print(\"total of merchant and user in test format 2: \", len(tmp))\n",
    "# print(\"======= Mask ==========\")\n",
    "# print(mask)\n",
    "# print(\"Amount that is contained in format1: \", len(tmp[mask]))\n",
    "# del tmp"
   ]
  },
  {
   "cell_type": "code",
   "execution_count": 22,
   "metadata": {},
   "outputs": [
    {
     "name": "stdout",
     "output_type": "stream",
     "text": [
      "   user_id  merchant_id  label  item_id  cat_id  brand_id\n",
      "0    34176         3906      0   757713     821    6268.0\n",
      "1    34176         3906      0   757713     821    6268.0\n",
      "2    34176         3906      0   757713     821    6268.0\n",
      "3    34176         3906      0   757713     821    6268.0\n",
      "4    34176          121      0   800752    1028    2337.0\n",
      "====\n",
      "   user_id  merchant_id  prob  item_id  cat_id  brand_id\n",
      "0   163968         4605   NaN   772645    1368    7622.0\n",
      "1   163968         4605   NaN   772645    1368    7622.0\n",
      "2   360576         1581   NaN   948181     614    4066.0\n",
      "3   360576         1581   NaN  1111020     614    4066.0\n",
      "4   360576         1581   NaN   294442     614    4066.0\n",
      "====\n",
      "   user_id  merchant_id  label  item_id  cat_id  brand_id  age_range  gender\n",
      "0    34176         3906      0   757713     821    6268.0        6.0     0.0\n",
      "1    34176         3906      0   757713     821    6268.0        6.0     0.0\n",
      "2    34176         3906      0   757713     821    6268.0        6.0     0.0\n",
      "3    34176         3906      0   757713     821    6268.0        6.0     0.0\n",
      "4    34176          121      0   800752    1028    2337.0        6.0     0.0\n",
      "====\n",
      "   user_id  merchant_id  prob  item_id  cat_id  brand_id  age_range  gender\n",
      "0   163968         4605   NaN   772645    1368    7622.0        0.0     0.0\n",
      "1   163968         4605   NaN   772645    1368    7622.0        0.0     0.0\n",
      "2   360576         1581   NaN   948181     614    4066.0        2.0     2.0\n",
      "3   360576         1581   NaN  1111020     614    4066.0        2.0     2.0\n",
      "4   360576         1581   NaN   294442     614    4066.0        2.0     2.0\n",
      "====\n"
     ]
    }
   ],
   "source": [
    "#join the tables\n",
    "train_format1 = pd.merge(train_format1, user_log_format1, on=['user_id', 'merchant_id'], how='left')\n",
    "print(train_format1.head())\n",
    "print(\"====\")\n",
    "test_format1 = pd.merge(test_format1, user_log_format1, on=['user_id', 'merchant_id'], how='left')\n",
    "print(test_format1.head())\n",
    "print(\"====\")\n",
    "train_format1 = pd.merge(train_format1, user_info_format1, on='user_id', how='left')\n",
    "print(train_format1.head())\n",
    "print(\"====\")\n",
    "test_format1 = pd.merge(test_format1, user_info_format1, on='user_id', how='left')\n",
    "print(test_format1.head())\n",
    "print(\"====\")"
   ]
  },
  {
   "cell_type": "code",
   "execution_count": 24,
   "metadata": {},
   "outputs": [
    {
     "name": "stdout",
     "output_type": "stream",
     "text": [
      "1653030\n",
      "1650271\n"
     ]
    }
   ],
   "source": [
    "print(len(train_format1))\n",
    "print(len(test_format1))"
   ]
  },
  {
   "cell_type": "code",
   "execution_count": 25,
   "metadata": {},
   "outputs": [
    {
     "name": "stdout",
     "output_type": "stream",
     "text": [
      "Test user id not in train:  212108\n",
      "Test user id not in log 0\n",
      "Test merchant id not in log:  0\n",
      "Test merchant id not in train:  1\n",
      "Category not in train:  86\n",
      "Brand not in train:  3403\n"
     ]
    }
   ],
   "source": [
    "# are all users and merchant in tests appear in trains\n",
    "print(\"Test user id not in train: \", len(set(test_format1['user_id']) - set(train_format1['user_id'])))\n",
    "print(\"Test user id not in log\", len(set(test_format1['user_id']) - set(user_log_format1['user_id'])))\n",
    "print(\"Test merchant id not in log: \", len(set(test_format1['merchant_id']) - set(user_log_format1['merchant_id'])))\n",
    "print(\"Test merchant id not in train: \", len(set(test_format1['merchant_id']) - set(train_format1['merchant_id'])))\n",
    "print(\"Category not in train: \", len(set(test_format1['cat_id']) - set(train_format1['cat_id'])))\n",
    "print(\"Brand not in train: \", len(set(test_format1['brand_id']) - set(train_format1['brand_id'])))"
   ]
  },
  {
   "cell_type": "code",
   "execution_count": 26,
   "metadata": {},
   "outputs": [
    {
     "name": "stdout",
     "output_type": "stream",
     "text": [
      "424170\n"
     ]
    }
   ],
   "source": [
    "print(len(np.union1d(test_format1['user_id'].unique(), train_format1['user_id'].unique())))"
   ]
  },
  {
   "cell_type": "code",
   "execution_count": 27,
   "metadata": {},
   "outputs": [
    {
     "name": "stdout",
     "output_type": "stream",
     "text": [
      "212108\n",
      "260864\n"
     ]
    }
   ],
   "source": [
    "print(len(test_format1['user_id'].unique()))\n",
    "print(len(train_format1[['user_id','merchant_id']].drop_duplicates()))"
   ]
  },
  {
   "cell_type": "code",
   "execution_count": null,
   "metadata": {},
   "outputs": [],
   "source": [
    "#erase the original dataframe\n",
    "del user_info_format1\n",
    "del user_log_format1"
   ]
  },
  {
   "cell_type": "code",
   "execution_count": 9,
   "metadata": {},
   "outputs": [
    {
     "name": "stdout",
     "output_type": "stream",
     "text": [
      "         user_id  age_range  gender  merchant_id  label  \\\n",
      "0         163968        0.0     0.0         4378   -1.0   \n",
      "1         163968        0.0     0.0         2300   -1.0   \n",
      "2         163968        0.0     0.0         1551   -1.0   \n",
      "3         163968        0.0     0.0         4343   -1.0   \n",
      "4         163968        0.0     0.0         4911   -1.0   \n",
      "...          ...        ...     ...          ...    ...   \n",
      "7027938    32639        0.0     0.0         2550   -1.0   \n",
      "7027939    32639        0.0     0.0         1364   -1.0   \n",
      "7027940    32639        0.0     0.0          503   -1.0   \n",
      "7027941    32639        0.0     0.0         2286   -1.0   \n",
      "7027942    32639        0.0     0.0         1506   -1.0   \n",
      "\n",
      "                                              activity_log  \n",
      "0                                   101206:812:6968:0614:0  \n",
      "1        588758:844:3833:0618:0#71782:844:3833:1111:2#7...  \n",
      "2        312747:243:1954:0627:0#312747:243:1954:0627:0#...  \n",
      "3                                  932390:1612:3201:0628:0  \n",
      "4                                   957657:662:3089:0612:0  \n",
      "...                                                    ...  \n",
      "7027938  380306:177:3545:1028:0#987028:177:3545:1028:0#...  \n",
      "7027939                            927267:1213:6326:0807:0  \n",
      "7027940                              12898:420:5197:0926:3  \n",
      "7027941                            805269:1455:5262:1026:0  \n",
      "7027942                              28017:812:4888:0525:0  \n",
      "\n",
      "[7027943 rows x 6 columns]\n"
     ]
    }
   ],
   "source": [
    "print(test_format2)"
   ]
  },
  {
   "cell_type": "code",
   "execution_count": null,
   "metadata": {},
   "outputs": [
    {
     "data": {
      "text/html": [
       "<div>\n",
       "<style scoped>\n",
       "    .dataframe tbody tr th:only-of-type {\n",
       "        vertical-align: middle;\n",
       "    }\n",
       "\n",
       "    .dataframe tbody tr th {\n",
       "        vertical-align: top;\n",
       "    }\n",
       "\n",
       "    .dataframe thead th {\n",
       "        text-align: right;\n",
       "    }\n",
       "</style>\n",
       "<table border=\"1\" class=\"dataframe\">\n",
       "  <thead>\n",
       "    <tr style=\"text-align: right;\">\n",
       "      <th></th>\n",
       "      <th>user_id</th>\n",
       "      <th>merchant_id</th>\n",
       "    </tr>\n",
       "  </thead>\n",
       "  <tbody>\n",
       "    <tr>\n",
       "      <th>0</th>\n",
       "      <td>163968</td>\n",
       "      <td>4378</td>\n",
       "    </tr>\n",
       "    <tr>\n",
       "      <th>1</th>\n",
       "      <td>163968</td>\n",
       "      <td>2300</td>\n",
       "    </tr>\n",
       "    <tr>\n",
       "      <th>2</th>\n",
       "      <td>163968</td>\n",
       "      <td>1551</td>\n",
       "    </tr>\n",
       "    <tr>\n",
       "      <th>3</th>\n",
       "      <td>163968</td>\n",
       "      <td>4343</td>\n",
       "    </tr>\n",
       "    <tr>\n",
       "      <th>4</th>\n",
       "      <td>163968</td>\n",
       "      <td>4911</td>\n",
       "    </tr>\n",
       "    <tr>\n",
       "      <th>...</th>\n",
       "      <td>...</td>\n",
       "      <td>...</td>\n",
       "    </tr>\n",
       "    <tr>\n",
       "      <th>7027938</th>\n",
       "      <td>32639</td>\n",
       "      <td>2550</td>\n",
       "    </tr>\n",
       "    <tr>\n",
       "      <th>7027939</th>\n",
       "      <td>32639</td>\n",
       "      <td>1364</td>\n",
       "    </tr>\n",
       "    <tr>\n",
       "      <th>7027940</th>\n",
       "      <td>32639</td>\n",
       "      <td>503</td>\n",
       "    </tr>\n",
       "    <tr>\n",
       "      <th>7027941</th>\n",
       "      <td>32639</td>\n",
       "      <td>2286</td>\n",
       "    </tr>\n",
       "    <tr>\n",
       "      <th>7027942</th>\n",
       "      <td>32639</td>\n",
       "      <td>1506</td>\n",
       "    </tr>\n",
       "  </tbody>\n",
       "</table>\n",
       "<p>6766466 rows × 2 columns</p>\n",
       "</div>"
      ],
      "text/plain": [
       "         user_id  merchant_id\n",
       "0         163968         4378\n",
       "1         163968         2300\n",
       "2         163968         1551\n",
       "3         163968         4343\n",
       "4         163968         4911\n",
       "...          ...          ...\n",
       "7027938    32639         2550\n",
       "7027939    32639         1364\n",
       "7027940    32639          503\n",
       "7027941    32639         2286\n",
       "7027942    32639         1506\n",
       "\n",
       "[6766466 rows x 2 columns]"
      ]
     },
     "execution_count": 11,
     "metadata": {},
     "output_type": "execute_result"
    }
   ],
   "source": []
  },
  {
   "cell_type": "markdown",
   "metadata": {},
   "source": [
    "# 1. Preprocess Data"
   ]
  },
  {
   "cell_type": "markdown",
   "metadata": {},
   "source": []
  },
  {
   "cell_type": "markdown",
   "metadata": {},
   "source": [
    "# 2. Matrix Decomposition, with sklearn"
   ]
  },
  {
   "cell_type": "markdown",
   "metadata": {},
   "source": [
    "## Construct the embedding matrix of user_id (row), and merchant (column), and embedding vector (latent_size), for each "
   ]
  },
  {
   "cell_type": "code",
   "execution_count": 9,
   "metadata": {},
   "outputs": [
    {
     "name": "stdout",
     "output_type": "stream",
     "text": [
      "user_id  merchant_id\n",
      "1        1019           1\n",
      "282488   2193           1\n",
      "282467   2278           1\n",
      "         3958           1\n",
      "         4976           1\n",
      "                       ..\n",
      "140925   2537           1\n",
      "140931   71             1\n",
      "140933   2277           1\n",
      "140934   3835           1\n",
      "424170   4268           1\n",
      "Length: 260864, dtype: int64\n",
      "1\n"
     ]
    }
   ],
   "source": [
    "count_series = train_format1[[\"user_id\", \"merchant_id\"]].value_counts()\n",
    "print(count_series)\n",
    "print(count_series[391188][1102])\n",
    "del count_series"
   ]
  },
  {
   "cell_type": "code",
   "execution_count": null,
   "metadata": {},
   "outputs": [
    {
     "name": "stdout",
     "output_type": "stream",
     "text": [
      "User encoder length:  328995\n",
      "Merchant encoder length:  1993\n",
      "Brand encoder length:  3406\n",
      "Cat encoder length:  1183\n",
      "User_encoder.classes_: [     1      2      3 ... 424168 424169 424170]\n",
      "User idx len: 328994, Second idx len: 328995\n",
      "Merchant idx len: 1992, Second idx len: 1993\n",
      "User idx len: 328994, Second idx len: 328995\n",
      "Brand idx index: MultiIndex([(233137, 2922),\n",
      "            (273685,  494),\n",
      "            ( 85365,  494),\n",
      "            (105029, 2145),\n",
      "            (277362, 2174),\n",
      "            ( 95553, 2174),\n",
      "            (285732,   34),\n",
      "            (217648, 3096),\n",
      "            (324402, 2922),\n",
      "            (264939,  494),\n",
      "            ...\n",
      "            (328981, 2730),\n",
      "            (328981, 3190),\n",
      "            (    10,  580),\n",
      "            (    10, 1828),\n",
      "            (    11,  207),\n",
      "            (    11, 1345),\n",
      "            (    11, 2812),\n",
      "            (    12,  267),\n",
      "            (    12,  547),\n",
      "            (    12, 2586)],\n",
      "           names=['user_id_enc', 'brand_id_enc'], length=1012784), Second idx len: 3406\n",
      "Brand idx len: 3405, Second idx len: 3406\n",
      "User idx len: 328994, Second idx len: 328995\n",
      "Cat idx len: 1182, Second idx len: 1183\n"
     ]
    }
   ],
   "source": [
    "# Prepare interaction matrices from the training data\n",
    "def prepare_value_matrix(train_data, test_data, user_log_path, user_filter_mode = \"ALL\", \\\n",
    "    frac_users_merchants_from_train = 0.3, normalized = True, \\\n",
    "    latent_size = 10, empty_value=-100, device=\"cuda\", val_size=0.2):\n",
    "    \"\"\"\n",
    "    Prepares a sparse interaction matrix for the given row and column.\n",
    "    \"\"\"\n",
    "    gc.collect()\n",
    "    torch.cuda.empty_cache()\n",
    "    np.random.seed(42)\n",
    "    #temporarily upload user_info_log\n",
    "    user_info_log = pd.read_csv(user_log_path, dtype={'time_stamp': str}).rename(columns={\"seller_id\": \"merchant_id\"})\n",
    "    user_info_log = user_info_log[user_info_log[\"time_stamp\"] == \"1111\"]\n",
    "    user_encoder = LabelEncoder()\n",
    "    merchant_encoder = LabelEncoder()\n",
    "    brand_encoder = LabelEncoder()\n",
    "    cat_encoder = LabelEncoder()\n",
    "\n",
    "\n",
    "    # Get unique user and merchant IDs from test data\n",
    "    unique_test_user_ids = set(test_data[\"user_id\"].unique())\n",
    "    unique_test_merchant_ids = set(test_data[\"merchant_id\"].unique())\n",
    "\n",
    "    if user_filter_mode == \"TEST_ONLY\":\n",
    "        # Filter only using test data\n",
    "        user_info_log = user_info_log[\n",
    "            user_info_log['user_id'].isin(unique_test_user_ids) &\n",
    "            user_info_log['merchant_id'].isin(unique_test_merchant_ids)\n",
    "        ]\n",
    "        train_df_sampled_X = None\n",
    "        train_df_sampled_y = None\n",
    "        val_df_sampled_X = None\n",
    "        val_df_sampled_y = None\n",
    "    else:\n",
    "        # Get unique user and merchant IDs from train data\n",
    "        unique_train_user_merchant_ids = train_data[[\"user_id\", \"merchant_id\", \"label\"]].drop_duplicates()\n",
    "        \n",
    "        if user_filter_mode == \"TEST_ALL_TRAIN_PARTIAL\":\n",
    "            grouped = unique_train_user_merchant_ids.groupby('label')\n",
    "            sampled = pd.DataFrame()  # Initialize an empty DataFrame to hold samples\n",
    "            for name, group in grouped:\n",
    "                group_sample = group.sample(frac=frac_users_merchants_from_train, random_state=42)\n",
    "                sampled = pd.concat([sampled, group_sample], axis=0)\n",
    "            sampled = sampled.sample(frac=1, random_state=42).reset_index(drop=True) #shuffle dataframe\n",
    "            \n",
    "            # Combine user and merchant IDs\n",
    "            train_df_sampled_X = sampled.drop('label', axis=1)  # Assuming 'label' is your target variable\n",
    "            train_df_sampled_y = sampled['label']\n",
    "            \n",
    "            combined_user_ids = unique_test_user_ids.union(set(sampled[\"user_id\"]))\n",
    "            combined_merchant_ids = unique_test_merchant_ids.union(set(sampled[\"merchant_id\"]))\n",
    "        else:\n",
    "            # Combine all train and test user/merchant IDs\n",
    "            combined_user_ids = unique_test_user_ids.union(set(unique_train_user_merchant_ids[\"user_id\"]))\n",
    "            combined_merchant_ids = unique_test_merchant_ids.union(set(unique_train_user_merchant_ids[\"merchant_id\"]))\n",
    "            train_df_sampled_X = train_df.drop('label', axis=1)  # Assuming 'label' is your target variable\n",
    "            train_df_sampled_y = train_df['label']\n",
    "        \n",
    "        train_df_sampled_X, val_df_sampled_X, train_df_sampled_y, val_df_sampled_y = train_test_split(train_df_sampled_X, train_df_sampled_y, \\\n",
    "            test_size=val_size, random_state=42, stratify=train_df_sampled_y)\n",
    "\n",
    "        # Filter `user_info_log` based on combined IDs\n",
    "        user_info_log = user_info_log[\n",
    "            user_info_log['user_id'].isin(combined_user_ids) &\n",
    "            user_info_log['merchant_id'].isin(combined_merchant_ids)\n",
    "        ]\n",
    "\n",
    "    user_info_log['user_id_enc'] = user_encoder.fit_transform(user_info_log['user_id'])\n",
    "    user_info_log['merchant_id_enc'] = merchant_encoder.fit_transform(user_info_log['merchant_id'])\n",
    "    user_info_log['brand_id_enc'] = brand_encoder.fit_transform(user_info_log['brand_id'])\n",
    "    user_info_log['cat_id_enc'] = cat_encoder.fit_transform(user_info_log['cat_id'])\n",
    "\n",
    "    #construct the embedding matrix\n",
    "    print(\"User encoder length: \", len(user_encoder.classes_))\n",
    "    print(\"Merchant encoder length: \", len(merchant_encoder.classes_))\n",
    "    print(\"Brand encoder length: \", len(brand_encoder.classes_))\n",
    "    print(\"Cat encoder length: \", len(cat_encoder.classes_))\n",
    "\n",
    "    value_counts_user_merchants = user_info_log[['user_id_enc', 'merchant_id_enc']].value_counts()\n",
    "    value_counts_user_brands = user_info_log[['user_id_enc', 'brand_id_enc']].value_counts()\n",
    "    value_counts_user_cats = user_info_log[['user_id_enc', 'cat_id_enc']].value_counts()\n",
    "\n",
    "    del user_info_log\n",
    "\n",
    "    if normalized:\n",
    "        value_counts_user_merchants = (value_counts_user_merchants - value_counts_user_merchants.mean()) / value_counts_user_merchants.std()\n",
    "        value_counts_user_brands = (value_counts_user_brands - value_counts_user_brands.mean()) / value_counts_user_brands.std()\n",
    "        value_counts_user_cats = (value_counts_user_cats - value_counts_user_cats.mean()) / value_counts_user_cats.std()\n",
    "\n",
    "    #create embedding matrices for user, merchant, brand, cat\n",
    "    print(f\"User_encoder.classes_: {user_encoder.classes_}\")\n",
    "    user_embedding = torch.empty(len(user_encoder.classes_), latent_size, device=device,dtype=torch.bfloat16)\n",
    "    init.xavier_uniform_(user_embedding)\n",
    "    merchant_embedding = torch.empty(len(merchant_encoder.classes_), latent_size, device=device,dtype=torch.bfloat16)\n",
    "    init.xavier_uniform_(merchant_embedding)\n",
    "    cat_embedding = torch.empty(len(cat_encoder.classes_), latent_size, device=device,dtype=torch.bfloat16)\n",
    "    init.xavier_uniform_(cat_embedding)\n",
    "    brand_embedding = torch.empty(len(brand_encoder.classes_), latent_size, device=device,dtype=torch.bfloat16)\n",
    "    init.xavier_uniform_(brand_embedding)\n",
    "\n",
    "    #populate interaction based on value_counts\n",
    "    user_merchant_mask = torch.zeros(len(user_encoder.classes_), len(merchant_encoder.classes_), device=device,dtype=torch.bfloat16)\n",
    "    user_brand_mask = torch.zeros(len(user_encoder.classes_), len(brand_encoder.classes_), device=device,dtype=torch.bfloat16)\n",
    "    user_cat_mask = torch.zeros(len(user_encoder.classes_), len(cat_encoder.classes_), device=device,dtype=torch.bfloat16)\n",
    "    user_merchant_gt = torch.full((len(user_encoder.classes_), len(merchant_encoder.classes_)), empty_value, device=device,dtype=torch.bfloat16)\n",
    "    user_brand_gt = torch.full((len(user_encoder.classes_), len(brand_encoder.classes_)), empty_value, device=device,dtype=torch.bfloat16)\n",
    "    user_cat_gt = torch.full((len(user_encoder.classes_), len(cat_encoder.classes_)), empty_value, device=device,dtype=torch.bfloat16)\n",
    "    \n",
    "    indices = torch.tensor(value_counts_user_merchants.index.to_list(), device=device, dtype=torch.int32)\n",
    "    values = torch.tensor(value_counts_user_merchants.values, device=device, dtype=torch.bfloat16)\n",
    "    first_idx = indices[:, 0].int() #user\n",
    "    second_idx = indices[:, 1].int()  #merchant\n",
    "    print(f\"User idx len: {first_idx.max()}, Second idx len: {len(user_encoder.classes_)}\")\n",
    "    assert first_idx.max() < len(user_encoder.classes_), \"User index out of bounds\"\n",
    "    print(f\"Merchant idx len: {second_idx.max()}, Second idx len: {len(merchant_encoder.classes_)}\")\n",
    "    assert second_idx.max() < len(merchant_encoder.classes_), \"Merchant index out of bounds\"\n",
    "    user_merchant_gt[first_idx, second_idx] = values\n",
    "    user_merchant_mask[first_idx, second_idx] = 1\n",
    "    del value_counts_user_merchants\n",
    "\n",
    "    indices = torch.tensor(value_counts_user_brands.index.to_list(), device=device, dtype=torch.int32)\n",
    "    values = torch.tensor(value_counts_user_brands.values, device=device, dtype=torch.bfloat16)\n",
    "    first_idx = indices[:, 0].int() #user\n",
    "    second_idx = indices[:, 1].int() #brand\n",
    "    print(f\"User idx len: {first_idx.max()}, Second idx len: {len(user_encoder.classes_)}\")\n",
    "    assert first_idx.max() < len(user_encoder.classes_), \"User index out of bounds\"\n",
    "    print(f\"Brand idx index: {value_counts_user_brands.index}, Second idx len: {len(brand_encoder.classes_)}\")\n",
    "    print(f\"Brand idx len: {second_idx.max()}, Second idx len: {len(brand_encoder.classes_)}\")\n",
    "    assert second_idx.max() < len(brand_encoder.classes_), \"Brand index out of bounds\"\n",
    "    user_brand_mask[first_idx, second_idx] = 1\n",
    "    user_brand_gt[first_idx, second_idx] = values\n",
    "    del value_counts_user_brands\n",
    "\n",
    "    indices = torch.tensor(value_counts_user_cats.index.to_list(), device=device, dtype=torch.int32)\n",
    "    values = torch.tensor(value_counts_user_cats.values, device=device, dtype=torch.bfloat16)\n",
    "    gc.collect()\n",
    "    torch.cuda.empty_cache()\n",
    "    first_idx = indices[:, 0].int() #user\n",
    "    second_idx = indices[:, 1].int() #cats\n",
    "    print(f\"User idx len: {first_idx.max()}, Second idx len: {len(user_encoder.classes_)}\")\n",
    "    assert first_idx.max() < len(user_encoder.classes_), \"User index out of bounds\"\n",
    "    print(f\"Cat idx len: {second_idx.max()}, Second idx len: {len(cat_encoder.classes_)}\")\n",
    "    assert second_idx.max() < len(cat_encoder.classes_), \"Cat index out of bounds\"\n",
    "    user_cat_mask[first_idx, second_idx] = 1\n",
    "    user_cat_gt[first_idx, second_idx] = values\n",
    "    del value_counts_user_cats\n",
    "    del indices\n",
    "    del values\n",
    "\n",
    "    #check for any nan inside the data\n",
    "    assert not torch.isnan(user_merchant_gt).any(), \"user_merchant_gt contains NaN\"\n",
    "    assert not torch.isnan(user_brand_gt).any(), \"user_brand_gt contains NaN\"\n",
    "    assert not torch.isnan(user_cat_gt).any(), \"user_cat_gt contains NaN\"\n",
    "\n",
    "    # metadata:\n",
    "    metadata = {\n",
    "        'user_encoder': user_encoder,\n",
    "        'merchant_encoder': merchant_encoder,\n",
    "        'brand_encoder': brand_encoder,\n",
    "        'cat_encoder': cat_encoder,\n",
    "\n",
    "        'user_embedding': user_embedding,\n",
    "        'merchant_embedding': merchant_embedding,\n",
    "        'brand_embedding': brand_embedding,\n",
    "        'cat_embedding': cat_embedding,\n",
    "\n",
    "        'user_merchant_mask': user_merchant_mask,\n",
    "        'user_brand_mask': user_brand_mask,\n",
    "        'user_cat_mask': user_cat_mask,\n",
    "\n",
    "        'user_merchant_gt': user_merchant_gt,\n",
    "        'user_brand_gt': user_brand_gt,\n",
    "        'user_cat_gt': user_cat_gt,\n",
    "\n",
    "        'train_df_sampled_X': train_df_sampled_X,\n",
    "        'train_df_sampled_y': train_df_sampled_y,\n",
    "        'val_df_sampled_X': val_df_sampled_X, \n",
    "        'val_df_sampled_y': val_df_sampled_y,\n",
    "\n",
    "        # 'value_counts_user_merchants': value_counts_user_merchants,\n",
    "        # 'value_coutns_user_brands': value_counts_user_brands, \n",
    "        # 'value_counts_user_cats': value_counts_user_cats,\n",
    "    }\n",
    "    gc.collect()\n",
    "    torch.cuda.empty_cache()\n",
    "    return metadata\n",
    "\n",
    "#sampling_type=\"TEST_ONLY\"\n",
    "sampling_type=\"TEST_ALL_TRAIN_PARTIAL\"\n",
    "metadata = prepare_value_matrix(train_format1, test_format1, user_log_path = os.path.join(data_format1_path, \"user_log_format1.csv\"), \n",
    "                     user_filter_mode =sampling_type, frac_users_merchants_from_train = 0.5, normalized = True, \n",
    "                     latent_size = 20, empty_value=-100, device=\"cuda\", val_size=0.2)"
   ]
  },
  {
   "cell_type": "code",
   "execution_count": 24,
   "metadata": {},
   "outputs": [],
   "source": [
    "# save metadata object\n",
    "metadata_path = \"metadata_file\"\n",
    "user_encoder_path = os.path.join(metadata_path, 'user_encoder.pkl')\n",
    "merchant_encoder_path = os.path.join(metadata_path, 'merchant_encoder.pkl')\n",
    "brand_encoder_path = os.path.join(metadata_path, 'brand_encoder.pkl')\n",
    "cat_encoder_path = os.path.join(metadata_path, 'cat_encoder.pkl')\n",
    "\n",
    "user_embedding_path = os.path.join(metadata_path, 'user_embedding.pth')\n",
    "merchant_embedding_path = os.path.join(metadata_path, 'merchant_embedding.pth')\n",
    "brand_embedding_path = os.path.join(metadata_path, 'brand_embedding.pth')\n",
    "cat_embedding_path = os.path.join(metadata_path, 'cat_embedding.pth')\n",
    "\n",
    "user_merchant_mask_path = os.path.join(metadata_path, 'user_merchant_mask.pth')\n",
    "user_brand_mask_path = os.path.join(metadata_path, 'user_brand_mask.pth')\n",
    "user_cat_mask_path = os.path.join(metadata_path, 'user_cat_mask.pth')\n",
    "\n",
    "user_merchant_gt_path = os.path.join(metadata_path, 'user_merchant_gt.pth')\n",
    "user_brand_gt_path = os.path.join(metadata_path, 'user_brand_gt.pth')\n",
    "user_cat_gt_path = os.path.join(metadata_path, 'user_cat_gt.pth')\n",
    "\n",
    "train_df_sampled_X_path = os.path.join(metadata_path, 'train_df_sampled_X.csv')\n",
    "train_df_sampled_y_path = os.path.join(metadata_path, 'train_df_sampled_y.csv')\n",
    "val_df_sampled_X_path = os.path.join(metadata_path, 'val_df_sampled_X.csv')\n",
    "val_df_sampled_y_path = os.path.join(metadata_path, 'val_df_sampled_y.csv')\n"
   ]
  },
  {
   "cell_type": "code",
   "execution_count": 19,
   "metadata": {},
   "outputs": [],
   "source": [
    "#save \n",
    "with open(user_encoder_path, 'wb') as f:\n",
    "    pickle.dump(metadata['user_encoder'], f)\n",
    "with open(merchant_encoder_path, 'wb') as f:\n",
    "    pickle.dump(metadata['merchant_encoder'], f)\n",
    "with open(brand_encoder_path, 'wb') as f:\n",
    "    pickle.dump(metadata['brand_encoder'], f)\n",
    "with open(cat_encoder_path, 'wb') as f:\n",
    "    pickle.dump(metadata['cat_encoder'], f)\n",
    "\n",
    "#dump the rest to \n",
    "torch.save(metadata['user_embedding'], user_embedding_path)\n",
    "torch.save(metadata['merchant_embedding'], merchant_embedding_path)\n",
    "torch.save(metadata['brand_embedding'], brand_embedding_path)\n",
    "torch.save(metadata['cat_embedding'], cat_embedding_path)\n",
    "\n",
    "torch.save(metadata['user_merchant_mask'], user_merchant_mask_path)\n",
    "torch.save(metadata['user_brand_mask'], user_brand_mask_path)\n",
    "torch.save(metadata['user_cat_mask'], user_cat_mask_path)\n",
    "\n",
    "torch.save(metadata['user_merchant_gt'], user_merchant_gt_path)\n",
    "torch.save(metadata['user_brand_gt'], user_brand_gt_path)\n",
    "torch.save(metadata['user_cat_gt'], user_cat_gt_path)\n",
    "\n",
    "metadata['train_df_sampled_X'].to_csv(train_df_sampled_X_path, index=False)\n",
    "metadata['train_df_sampled_y'].to_csv(train_df_sampled_y_path, index=False)\n",
    "metadata['val_df_sampled_X'].to_csv(val_df_sampled_X_path, index=False)\n",
    "metadata['val_df_sampled_y'].to_csv(val_df_sampled_y_path, index=False)"
   ]
  },
  {
   "cell_type": "code",
   "execution_count": 25,
   "metadata": {},
   "outputs": [],
   "source": [
    "# Set the device to load tensors to GPU if available\n",
    "device = torch.device('cuda' if torch.cuda.is_available() else 'cpu')\n",
    "\n",
    "# Initialize metadata dictionary\n",
    "metadata = {}\n",
    "\n",
    "# Load LabelEncoders using pickle\n",
    "with open(user_encoder_path, 'rb') as f:\n",
    "    metadata['user_encoder'] = pickle.load(f)\n",
    "with open(merchant_encoder_path, 'rb') as f:\n",
    "    metadata['merchant_encoder'] = pickle.load(f)\n",
    "with open(brand_encoder_path, 'rb') as f:\n",
    "    metadata['brand_encoder'] = pickle.load(f)\n",
    "with open(cat_encoder_path, 'rb') as f:\n",
    "    metadata['cat_encoder'] = pickle.load(f)\n",
    "\n",
    "# Load PyTorch tensors and move them directly to the GPU (if CUDA is available)\n",
    "metadata['user_embedding'] = torch.load(user_embedding_path, map_location=device)\n",
    "metadata['merchant_embedding'] = torch.load(merchant_embedding_path, map_location=device)\n",
    "metadata['brand_embedding'] = torch.load(brand_embedding_path, map_location=device)\n",
    "metadata['cat_embedding'] = torch.load(cat_embedding_path, map_location=device)\n",
    "\n",
    "metadata['user_merchant_mask'] = torch.load(user_merchant_mask_path, map_location=device)\n",
    "metadata['user_brand_mask'] = torch.load(user_brand_mask_path, map_location=device)\n",
    "metadata['user_cat_mask'] = torch.load(user_cat_mask_path, map_location=device)\n",
    "\n",
    "metadata['user_merchant_gt'] = torch.load(user_merchant_gt_path, map_location=device)\n",
    "metadata['user_brand_gt'] = torch.load(user_brand_gt_path, map_location=device)\n",
    "metadata['user_cat_gt'] = torch.load(user_cat_gt_path, map_location=device)\n",
    "\n",
    "# Load DataFrames from CSV\n",
    "metadata['train_df_sampled_X'] = pd.read_csv(train_df_sampled_X_path)\n",
    "metadata['train_df_sampled_y'] = pd.read_csv(train_df_sampled_y_path)\n",
    "metadata['val_df_sampled_X'] = pd.read_csv(val_df_sampled_X_path)\n",
    "metadata['val_df_sampled_y'] = pd.read_csv(val_df_sampled_y_path)\n",
    "gc.collect()\n",
    "torch.cuda.empty_cache()"
   ]
  },
  {
   "cell_type": "markdown",
   "metadata": {},
   "source": [
    "## Training the embedding"
   ]
  },
  {
   "cell_type": "code",
   "execution_count": null,
   "metadata": {},
   "outputs": [
    {
     "name": "stderr",
     "output_type": "stream",
     "text": [
      "  0%|          | 2/2000 [00:00<04:13,  7.88it/s]"
     ]
    },
    {
     "name": "stdout",
     "output_type": "stream",
     "text": [
      "End of epoch:  0  Loss:  1540096.0  RMSE:  3.0\n"
     ]
    },
    {
     "name": "stderr",
     "output_type": "stream",
     "text": [
      "  3%|▎         | 52/2000 [00:06<04:23,  7.39it/s]"
     ]
    },
    {
     "name": "stdout",
     "output_type": "stream",
     "text": [
      "End of epoch:  50  Loss:  1482752.0  RMSE:  2.953125\n"
     ]
    },
    {
     "name": "stderr",
     "output_type": "stream",
     "text": [
      "  5%|▌         | 102/2000 [00:13<04:16,  7.40it/s]"
     ]
    },
    {
     "name": "stdout",
     "output_type": "stream",
     "text": [
      "End of epoch:  100  Loss:  1351680.0  RMSE:  2.8125\n"
     ]
    },
    {
     "name": "stderr",
     "output_type": "stream",
     "text": [
      "  8%|▊         | 152/2000 [00:20<04:10,  7.39it/s]"
     ]
    },
    {
     "name": "stdout",
     "output_type": "stream",
     "text": [
      "End of epoch:  150  Loss:  1212416.0  RMSE:  2.65625\n"
     ]
    },
    {
     "name": "stderr",
     "output_type": "stream",
     "text": [
      " 10%|█         | 202/2000 [00:27<04:03,  7.39it/s]"
     ]
    },
    {
     "name": "stdout",
     "output_type": "stream",
     "text": [
      "End of epoch:  200  Loss:  1073152.0  RMSE:  2.5\n"
     ]
    },
    {
     "name": "stderr",
     "output_type": "stream",
     "text": [
      " 13%|█▎        | 252/2000 [00:33<03:56,  7.39it/s]"
     ]
    },
    {
     "name": "stdout",
     "output_type": "stream",
     "text": [
      "End of epoch:  250  Loss:  933888.0  RMSE:  2.328125\n"
     ]
    },
    {
     "name": "stderr",
     "output_type": "stream",
     "text": [
      " 15%|█▌        | 302/2000 [00:40<03:49,  7.38it/s]"
     ]
    },
    {
     "name": "stdout",
     "output_type": "stream",
     "text": [
      "End of epoch:  300  Loss:  851968.0  RMSE:  2.21875\n"
     ]
    },
    {
     "name": "stderr",
     "output_type": "stream",
     "text": [
      " 18%|█▊        | 352/2000 [00:47<03:42,  7.40it/s]"
     ]
    },
    {
     "name": "stdout",
     "output_type": "stream",
     "text": [
      "End of epoch:  350  Loss:  831488.0  RMSE:  2.203125\n"
     ]
    },
    {
     "name": "stderr",
     "output_type": "stream",
     "text": [
      " 20%|██        | 402/2000 [00:54<03:36,  7.40it/s]"
     ]
    },
    {
     "name": "stdout",
     "output_type": "stream",
     "text": [
      "End of epoch:  400  Loss:  823296.0  RMSE:  2.1875\n"
     ]
    },
    {
     "name": "stderr",
     "output_type": "stream",
     "text": [
      " 23%|██▎       | 452/2000 [01:00<03:29,  7.39it/s]"
     ]
    },
    {
     "name": "stdout",
     "output_type": "stream",
     "text": [
      "End of epoch:  450  Loss:  815104.0  RMSE:  2.171875\n"
     ]
    },
    {
     "name": "stderr",
     "output_type": "stream",
     "text": [
      " 25%|██▌       | 502/2000 [01:07<03:23,  7.37it/s]"
     ]
    },
    {
     "name": "stdout",
     "output_type": "stream",
     "text": [
      "End of epoch:  500  Loss:  806912.0  RMSE:  2.15625\n"
     ]
    },
    {
     "name": "stderr",
     "output_type": "stream",
     "text": [
      " 28%|██▊       | 552/2000 [01:14<03:16,  7.35it/s]"
     ]
    },
    {
     "name": "stdout",
     "output_type": "stream",
     "text": [
      "End of epoch:  550  Loss:  798720.0  RMSE:  2.15625\n"
     ]
    },
    {
     "name": "stderr",
     "output_type": "stream",
     "text": [
      " 30%|███       | 602/2000 [01:20<03:08,  7.40it/s]"
     ]
    },
    {
     "name": "stdout",
     "output_type": "stream",
     "text": [
      "End of epoch:  600  Loss:  798720.0  RMSE:  2.140625\n"
     ]
    },
    {
     "name": "stderr",
     "output_type": "stream",
     "text": [
      " 33%|███▎      | 652/2000 [01:27<03:02,  7.38it/s]"
     ]
    },
    {
     "name": "stdout",
     "output_type": "stream",
     "text": [
      "End of epoch:  650  Loss:  790528.0  RMSE:  2.125\n"
     ]
    },
    {
     "name": "stderr",
     "output_type": "stream",
     "text": [
      " 35%|███▌      | 702/2000 [01:34<02:55,  7.39it/s]"
     ]
    },
    {
     "name": "stdout",
     "output_type": "stream",
     "text": [
      "End of epoch:  700  Loss:  790528.0  RMSE:  2.125\n"
     ]
    },
    {
     "name": "stderr",
     "output_type": "stream",
     "text": [
      " 38%|███▊      | 752/2000 [01:41<02:49,  7.38it/s]"
     ]
    },
    {
     "name": "stdout",
     "output_type": "stream",
     "text": [
      "End of epoch:  750  Loss:  790528.0  RMSE:  2.125\n"
     ]
    },
    {
     "name": "stderr",
     "output_type": "stream",
     "text": [
      " 40%|████      | 802/2000 [01:47<02:42,  7.35it/s]"
     ]
    },
    {
     "name": "stdout",
     "output_type": "stream",
     "text": [
      "End of epoch:  800  Loss:  782336.0  RMSE:  2.125\n"
     ]
    },
    {
     "name": "stderr",
     "output_type": "stream",
     "text": [
      " 43%|████▎     | 852/2000 [01:54<02:35,  7.37it/s]"
     ]
    },
    {
     "name": "stdout",
     "output_type": "stream",
     "text": [
      "End of epoch:  850  Loss:  782336.0  RMSE:  2.125\n"
     ]
    },
    {
     "name": "stderr",
     "output_type": "stream",
     "text": [
      " 45%|████▌     | 902/2000 [02:01<02:29,  7.37it/s]"
     ]
    },
    {
     "name": "stdout",
     "output_type": "stream",
     "text": [
      "End of epoch:  900  Loss:  782336.0  RMSE:  2.125\n"
     ]
    },
    {
     "name": "stderr",
     "output_type": "stream",
     "text": [
      " 48%|████▊     | 952/2000 [02:08<02:22,  7.36it/s]"
     ]
    },
    {
     "name": "stdout",
     "output_type": "stream",
     "text": [
      "End of epoch:  950  Loss:  782336.0  RMSE:  2.125\n"
     ]
    },
    {
     "name": "stderr",
     "output_type": "stream",
     "text": [
      " 50%|█████     | 1002/2000 [02:14<02:15,  7.38it/s]"
     ]
    },
    {
     "name": "stdout",
     "output_type": "stream",
     "text": [
      "End of epoch:  1000  Loss:  782336.0  RMSE:  2.125\n"
     ]
    },
    {
     "name": "stderr",
     "output_type": "stream",
     "text": [
      " 53%|█████▎    | 1052/2000 [02:21<02:14,  7.05it/s]"
     ]
    },
    {
     "name": "stdout",
     "output_type": "stream",
     "text": [
      "End of epoch:  1050  Loss:  778240.0  RMSE:  2.125\n"
     ]
    },
    {
     "name": "stderr",
     "output_type": "stream",
     "text": [
      " 55%|█████▌    | 1102/2000 [02:28<02:01,  7.37it/s]"
     ]
    },
    {
     "name": "stdout",
     "output_type": "stream",
     "text": [
      "End of epoch:  1100  Loss:  770048.0  RMSE:  2.109375\n"
     ]
    },
    {
     "name": "stderr",
     "output_type": "stream",
     "text": [
      " 58%|█████▊    | 1152/2000 [02:35<01:54,  7.37it/s]"
     ]
    },
    {
     "name": "stdout",
     "output_type": "stream",
     "text": [
      "End of epoch:  1150  Loss:  770048.0  RMSE:  2.109375\n"
     ]
    },
    {
     "name": "stderr",
     "output_type": "stream",
     "text": [
      " 60%|██████    | 1202/2000 [02:41<01:47,  7.41it/s]"
     ]
    },
    {
     "name": "stdout",
     "output_type": "stream",
     "text": [
      "End of epoch:  1200  Loss:  770048.0  RMSE:  2.109375\n"
     ]
    },
    {
     "name": "stderr",
     "output_type": "stream",
     "text": [
      " 63%|██████▎   | 1252/2000 [02:48<01:40,  7.41it/s]"
     ]
    },
    {
     "name": "stdout",
     "output_type": "stream",
     "text": [
      "End of epoch:  1250  Loss:  770048.0  RMSE:  2.109375\n"
     ]
    },
    {
     "name": "stderr",
     "output_type": "stream",
     "text": [
      " 65%|██████▌   | 1302/2000 [02:55<01:34,  7.39it/s]"
     ]
    },
    {
     "name": "stdout",
     "output_type": "stream",
     "text": [
      "End of epoch:  1300  Loss:  770048.0  RMSE:  2.109375\n"
     ]
    },
    {
     "name": "stderr",
     "output_type": "stream",
     "text": [
      " 68%|██████▊   | 1352/2000 [03:02<01:27,  7.38it/s]"
     ]
    },
    {
     "name": "stdout",
     "output_type": "stream",
     "text": [
      "End of epoch:  1350  Loss:  770048.0  RMSE:  2.109375\n"
     ]
    },
    {
     "name": "stderr",
     "output_type": "stream",
     "text": [
      " 70%|███████   | 1402/2000 [03:08<01:20,  7.40it/s]"
     ]
    },
    {
     "name": "stdout",
     "output_type": "stream",
     "text": [
      "End of epoch:  1400  Loss:  770048.0  RMSE:  2.109375\n"
     ]
    },
    {
     "name": "stderr",
     "output_type": "stream",
     "text": [
      " 73%|███████▎  | 1452/2000 [03:15<01:14,  7.36it/s]"
     ]
    },
    {
     "name": "stdout",
     "output_type": "stream",
     "text": [
      "End of epoch:  1450  Loss:  770048.0  RMSE:  2.109375\n"
     ]
    },
    {
     "name": "stderr",
     "output_type": "stream",
     "text": [
      " 75%|███████▌  | 1502/2000 [03:22<01:07,  7.40it/s]"
     ]
    },
    {
     "name": "stdout",
     "output_type": "stream",
     "text": [
      "End of epoch:  1500  Loss:  770048.0  RMSE:  2.109375\n"
     ]
    },
    {
     "name": "stderr",
     "output_type": "stream",
     "text": [
      " 78%|███████▊  | 1552/2000 [03:28<01:00,  7.41it/s]"
     ]
    },
    {
     "name": "stdout",
     "output_type": "stream",
     "text": [
      "End of epoch:  1550  Loss:  770048.0  RMSE:  2.109375\n"
     ]
    },
    {
     "name": "stderr",
     "output_type": "stream",
     "text": [
      " 80%|████████  | 1602/2000 [03:35<00:53,  7.40it/s]"
     ]
    },
    {
     "name": "stdout",
     "output_type": "stream",
     "text": [
      "End of epoch:  1600  Loss:  765952.0  RMSE:  2.109375\n"
     ]
    },
    {
     "name": "stderr",
     "output_type": "stream",
     "text": [
      " 83%|████████▎ | 1652/2000 [03:42<00:47,  7.39it/s]"
     ]
    },
    {
     "name": "stdout",
     "output_type": "stream",
     "text": [
      "End of epoch:  1650  Loss:  765952.0  RMSE:  2.109375\n"
     ]
    },
    {
     "name": "stderr",
     "output_type": "stream",
     "text": [
      " 85%|████████▌ | 1702/2000 [03:49<00:40,  7.38it/s]"
     ]
    },
    {
     "name": "stdout",
     "output_type": "stream",
     "text": [
      "End of epoch:  1700  Loss:  765952.0  RMSE:  2.109375\n"
     ]
    },
    {
     "name": "stderr",
     "output_type": "stream",
     "text": [
      " 88%|████████▊ | 1752/2000 [03:55<00:33,  7.38it/s]"
     ]
    },
    {
     "name": "stdout",
     "output_type": "stream",
     "text": [
      "End of epoch:  1750  Loss:  765952.0  RMSE:  2.109375\n"
     ]
    },
    {
     "name": "stderr",
     "output_type": "stream",
     "text": [
      " 90%|█████████ | 1802/2000 [04:02<00:26,  7.42it/s]"
     ]
    },
    {
     "name": "stdout",
     "output_type": "stream",
     "text": [
      "End of epoch:  1800  Loss:  765952.0  RMSE:  2.109375\n"
     ]
    },
    {
     "name": "stderr",
     "output_type": "stream",
     "text": [
      " 93%|█████████▎| 1852/2000 [04:09<00:20,  7.40it/s]"
     ]
    },
    {
     "name": "stdout",
     "output_type": "stream",
     "text": [
      "End of epoch:  1850  Loss:  765952.0  RMSE:  2.109375\n"
     ]
    },
    {
     "name": "stderr",
     "output_type": "stream",
     "text": [
      " 95%|█████████▌| 1902/2000 [04:16<00:13,  7.38it/s]"
     ]
    },
    {
     "name": "stdout",
     "output_type": "stream",
     "text": [
      "End of epoch:  1900  Loss:  765952.0  RMSE:  2.109375\n"
     ]
    },
    {
     "name": "stderr",
     "output_type": "stream",
     "text": [
      " 98%|█████████▊| 1952/2000 [04:22<00:06,  7.41it/s]"
     ]
    },
    {
     "name": "stdout",
     "output_type": "stream",
     "text": [
      "End of epoch:  1950  Loss:  765952.0  RMSE:  2.109375\n"
     ]
    },
    {
     "name": "stderr",
     "output_type": "stream",
     "text": [
      "100%|██████████| 2000/2000 [04:29<00:00,  7.43it/s]\n"
     ]
    },
    {
     "data": {
      "image/png": "[encoded data removed]",
      "text/plain": [
       "<Figure size 640x480 with 1 Axes>"
      ]
     },
     "metadata": {},
     "output_type": "display_data"
    },
    {
     "data": {
      "image/png": "[encoded data removed]",
      "text/plain": [
       "<Figure size 640x480 with 1 Axes>"
      ]
     },
     "metadata": {},
     "output_type": "display_data"
    },
    {
     "name": "stdout",
     "output_type": "stream",
     "text": [
      "Final train Loss:  765952.0  RMSE:  2.109375\n"
     ]
    }
   ],
   "source": [
    "#iterate for all versions of all_versions, which one is the best\n",
    "\n",
    "def safe_check_unique(tensor):\n",
    "    # Convert tensor to float32 if it's BFloat16\n",
    "    if tensor.dtype == torch.bfloat16:\n",
    "        tensor = tensor.to(torch.float32)\n",
    "    # Perform the unique operation\n",
    "    unique_values = torch.unique(tensor)\n",
    "    return unique_values\n",
    "\n",
    "def calculate_rmse(predictions1, actual1, mask1, predictions2, actual2, mask2, predictions3, actual3, mask3):\n",
    "    # Check inputs do not contain NaN or Inf\n",
    "    assert not torch.isnan(predictions1).any() and not torch.isinf(predictions1).any(), \"predictions1 contains NaN or Inf\"\n",
    "    assert not torch.isnan(actual1).any() and not torch.isinf(actual1).any(), \"actual1 contains NaN or Inf\"\n",
    "    assert not torch.isnan(predictions2).any() and not torch.isinf(predictions2).any(), \"predictions2 contains NaN or Inf\"\n",
    "    assert not torch.isnan(actual3).any() and not torch.isinf(actual3).any(), \"actual3 contains NaN or Inf\"\n",
    "    \n",
    "    # Calculate the squared differences\n",
    "    squared_diff1 = (predictions1 - actual1) ** 2\n",
    "    squared_diff2 = (predictions2 - actual2) ** 2\n",
    "    squared_diff3 = (predictions3 - actual3) ** 2\n",
    "    \n",
    "    # Apply the mask to the squared differences\n",
    "    squared_diff1 = squared_diff1 * mask1\n",
    "    squared_diff2 = squared_diff2 * mask2\n",
    "    squared_diff3 = squared_diff3 * mask3\n",
    "\n",
    "    # Verify masks are binary and valid\n",
    "    unique_mask1 = safe_check_unique(mask1)\n",
    "    unique_mask2 = safe_check_unique(mask2)\n",
    "    unique_mask3 = safe_check_unique(mask3)\n",
    "\n",
    "    assert unique_mask1.tolist() in [[0.0], [1.0], [0.0, 1.0]], \"mask1 contains values other than 0 and 1\"\n",
    "    assert unique_mask2.tolist() in [[0.0], [1.0], [0.0, 1.0]], \"mask2 contains values other than 0 and 1\"\n",
    "    assert unique_mask3.tolist() in [[0.0], [1.0], [0.0, 1.0]], \"mask3 contains values other than 0 and 1\"\n",
    "    \n",
    "    # Compute the mean of the squared differences where mask is 1\n",
    "    rmse1 = torch.sqrt(squared_diff1.sum() / (mask1.sum() + 1e-8))\n",
    "    rmse2 = torch.sqrt(squared_diff2.sum() / (mask2.sum() + 1e-8))\n",
    "    rmse3 = torch.sqrt(squared_diff3.sum() / (mask3.sum() + 1e-8))\n",
    "    rmse = rmse1 + rmse2 + rmse3\n",
    "\n",
    "    # Assert final RMSE values do not contain NaN\n",
    "    assert not torch.isnan(rmse).any(), \"Final rmse calculation resulted in NaN\"\n",
    "\n",
    "    return rmse\n",
    "\n",
    "\n",
    "def training_iteration(epoch, lr, lambda_reg, metadata, \n",
    "                plot_graph =True, epoch_print_result = True, epoch_print_mult=50, \n",
    "                save_checkpoint = True, epoch_save_mult = 100, checkpoint_folder=\"embedding_checkpoint_folder\",\n",
    "                save_version_key = \"\"):\n",
    "    gc.collect()\n",
    "    torch.cuda.empty_cache()\n",
    "\n",
    "    #initialize tensor U and V\n",
    "    UM_mask = metadata[\"user_merchant_mask\"]\n",
    "    UB_mask = metadata[\"user_brand_mask\"]\n",
    "    UC_mask = metadata[\"user_cat_mask\"]\n",
    "    UM_mask.requires_grad = False\n",
    "    UB_mask.requires_grad = False\n",
    "    UC_mask.requires_grad = False\n",
    "    UM_gt = metadata[\"user_merchant_gt\"]\n",
    "    UB_gt = metadata[\"user_brand_gt\"]\n",
    "    UC_gt = metadata[\"user_cat_gt\"]\n",
    "    UM_gt.requires_grad = False\n",
    "    UB_gt.requires_grad = False\n",
    "    UC_gt.requires_grad = False\n",
    "    \n",
    "    user_embedding = metadata[\"user_embedding\"].clone()\n",
    "    merchant_embedding = metadata[\"merchant_embedding\"].clone()\n",
    "    brand_embedding = metadata[\"brand_embedding\"].clone()\n",
    "    cat_embedding = metadata[\"cat_embedding\"].clone()\n",
    "\n",
    "    user_embedding.requires_grad = True\n",
    "    merchant_embedding.requires_grad = True\n",
    "    brand_embedding.requires_grad = True\n",
    "    cat_embedding.requires_grad = True\n",
    "    \n",
    "    #optimizer\n",
    "    optimizer = torch.optim.Adam([user_embedding, merchant_embedding, brand_embedding, cat_embedding], lr=lr)\n",
    "    loss_train_list = []\n",
    "    #loss_test_list = []\n",
    "    rmse_train_list = []\n",
    "    #rmse_test_list = []\n",
    "    counter = 0\n",
    "    for iteration in tqdm(range(epoch)):\n",
    "\n",
    "        UM_pred = user_embedding.mm(merchant_embedding.T)\n",
    "        assert not torch.isnan(UM_pred).any(), \"user_merchant_gt contains NaN\"\n",
    "        UB_pred = user_embedding.mm(brand_embedding.T)\n",
    "        assert not torch.isnan(UB_pred).any(), \"user_brand_gt contains NaN\"\n",
    "        UC_pred = user_embedding.mm(cat_embedding.T)\n",
    "        assert not torch.isnan(UC_pred).any(), \"user_cat_gt contains NaN\"\n",
    "\n",
    "        #calculate losses\n",
    "        UM_term = UM_mask*(UM_gt - UM_pred)\n",
    "        UM_term = 1/2 * torch.norm(input = UM_term, p=\"fro\")**2\n",
    "        assert not torch.isnan(UM_term).any(), \"UM_term contains NaN\"\n",
    "        UB_term = UB_mask*(UB_gt - UB_pred)\n",
    "        UB_term = 1/2 * torch.norm(input = UB_term, p=\"fro\")**2\n",
    "        assert not torch.isnan(UB_term).any(), \"UB_term contains NaN\"\n",
    "        UC_term = UC_mask*(UC_gt - UC_pred)\n",
    "        UC_term = 1/2 * torch.norm(input = UC_term, p=\"fro\")**2\n",
    "        assert not torch.isnan(UC_term).any(), \"UC_term contains NaN\"\n",
    "        error_regularization = lambda_reg * (torch.norm(input = user_embedding, p=\"fro\")**2 + torch.norm(input = merchant_embedding, p=\"fro\")**2 + \\\n",
    "            torch.norm(input = brand_embedding, p=\"fro\")**2 + torch.norm(input = cat_embedding, p=\"fro\")**2  )\n",
    "        assert not torch.isnan(error_regularization).any(), \"error_regularization contains NaN\"\n",
    "        loss_train = UM_term + UB_term+ UC_term+ error_regularization\n",
    "        loss_train_list.append(loss_train.item())\n",
    "\n",
    "        \n",
    "        #calculate rmse:\n",
    "        rmse_error_train = calculate_rmse(UM_pred, UM_gt, UM_mask, UB_pred, UB_gt, UB_mask, UC_pred, UC_gt, UC_mask).detach()\n",
    "        rmse_train_list.append(rmse_error_train.item())\n",
    "\n",
    "        #update U and V\n",
    "        loss_train.backward()\n",
    "        optimizer.step()\n",
    "        optimizer.zero_grad()\n",
    "        if epoch_print_result and not iteration % epoch_print_mult:\n",
    "            #print(\"End of epoch: \", iter, \" Loss: \", loss_train.item(), \" RMSE: \", rmse_error_train.item(), \" Test Loss: \", loss_test.item(), \" Test RMSE: \", rmse_error_test.item())\n",
    "            print(\"End of epoch: \", iteration, \" Loss: \", loss_train.item(), \" RMSE: \", rmse_error_train.item())\n",
    "        # if iter > 0 and loss_test_list[-2] - loss_test_list[-1] < test_loss_not_change_limit:\n",
    "        #     counter += 1\n",
    "        #     if counter >= test_loss_not_changing_counter:\n",
    "        #         print(\"Test loss not changing, break\")\n",
    "        #         break\n",
    "        # else:\n",
    "        #     counter = 0\n",
    "        if save_checkpoint and not iteration % epoch_print_mult:\n",
    "            user_embedding_path = os.path.join(checkpoint_folder, f\"user_embedding_{save_version_key}_{iteration}.pt\")\n",
    "            merchant_embedding_path = os.path.join(checkpoint_folder, f\"merchant_embedding_{save_version_key}_{iteration}.pt\")\n",
    "            brand_embedding_path = os.path.join(checkpoint_folder, f\"brand_embedding_{save_version_key}_{iteration}.pt\")\n",
    "            cat_embedding_path = os.path.join(checkpoint_folder, f\"cat_embedding_{save_version_key}_{iteration}.pt\")\n",
    "            torch.save(user_embedding, user_embedding_path)\n",
    "            torch.save(merchant_embedding, merchant_embedding_path)\n",
    "            torch.save(brand_embedding, brand_embedding_path)\n",
    "            torch.save(cat_embedding, cat_embedding_path)\n",
    "            \n",
    "\n",
    "    if plot_graph:\n",
    "        plt.plot(loss_train_list, label='Loss train')\n",
    "        #plt.plot(loss_test_list, label='Loss test')\n",
    "        plt.title('Loss vs. epoch')\n",
    "        plt.xlabel('Epoch')\n",
    "        plt.ylabel('Loss')\n",
    "        plt.grid(True)\n",
    "        plt.legend()\n",
    "        plt.show()\n",
    "\n",
    "        #plot RMSE also\n",
    "        plt.plot(rmse_train_list, label='RMSE train')\n",
    "        #plt.plot(rmse_test_list, label='RMSE test')\n",
    "        plt.title('RMSE vs. epoch')\n",
    "        plt.xlabel('Epoch')\n",
    "        plt.ylabel('RMSE')\n",
    "        plt.grid(True)\n",
    "        plt.legend()\n",
    "        plt.show()\n",
    "    #print(\"Final train Loss: \", loss_train_list[-1], \" RMSE: \", rmse_train_list[-1], \" Test Loss: \", loss_test_list[-1], \" Test RMSE: \", rmse_test_list[-1])\n",
    "    print(\"Final train Loss: \", loss_train_list[-1], \" RMSE: \", rmse_train_list[-1])\n",
    "    return user_embedding, merchant_embedding, brand_embedding, cat_embedding, loss_train_list, rmse_train_list\n",
    "\n",
    "metadata[\"user_embedding\"], metadata[\"merchant_embedding\"], \\\n",
    "    metadata[\"brand_embedding\"], metadata[\"cat_embedding\"], loss_train_list, rmse_train_list = training_iteration(epoch=2000, lr=0.001, lambda_reg=0.01, metadata=metadata, \\\n",
    "        plot_graph =True, epoch_print_result = True, epoch_print_mult=50, \\\n",
    "        save_checkpoint = True, epoch_save_mult = 100, checkpoint_folder=\"embedding_checkpoint_folder\", \\\n",
    "        save_version_key = \"version1\")"
   ]
  },
  {
   "cell_type": "code",
   "execution_count": 34,
   "metadata": {},
   "outputs": [
    {
     "name": "stdout",
     "output_type": "stream",
     "text": [
      "['version1_0.pt', 'version1_50.pt', 'version1_100.pt', 'version1_150.pt', 'version1_200.pt', 'version1_250.pt', 'version1_300.pt', 'version1_350.pt', 'version1_400.pt', 'version1_450.pt', 'version1_500.pt', 'version1_550.pt', 'version1_600.pt', 'version1_650.pt', 'version1_700.pt', 'version1_750.pt', 'version1_800.pt', 'version1_850.pt', 'version1_900.pt', 'version1_950.pt', 'version1_1000.pt', 'version1_1050.pt', 'version1_1100.pt', 'version1_1150.pt', 'version1_1200.pt', 'version1_1250.pt', 'version1_1300.pt', 'version1_1350.pt', 'version1_1400.pt', 'version1_1450.pt', 'version1_1500.pt', 'version1_1550.pt', 'version1_1600.pt', 'version1_1650.pt', 'version1_1700.pt', 'version1_1750.pt', 'version1_1800.pt', 'version1_1850.pt', 'version1_1900.pt', 'version1_1950.pt']\n"
     ]
    }
   ],
   "source": [
    "#ablate and get all the versions of the embeddings\n",
    "checkpoint_folder=\"embedding_checkpoint_folder\"\n",
    "all_versions = os.listdir(checkpoint_folder)\n",
    "all_versions = [\"_\".join(i.split(\"_\")[2:]) for i in all_versions]\n",
    "all_versions = list(set(all_versions))\n",
    "# Sort the files based on the numeric value\n",
    "all_versions = sorted(all_versions, key=lambda x: int(x.split(\"_\")[1][:-3]))\n",
    "print(all_versions)"
   ]
  },
  {
   "cell_type": "code",
   "execution_count": 26,
   "metadata": {},
   "outputs": [],
   "source": [
    "# Set the device to load tensors to GPU if available\n",
    "device = torch.device('cuda' if torch.cuda.is_available() else 'cpu')\n",
    "\n",
    "# Initialize metadata dictionary\n",
    "metadata = {}\n",
    "\n",
    "# Load LabelEncoders using pickle\n",
    "with open(user_encoder_path, 'rb') as f:\n",
    "    metadata['user_encoder'] = pickle.load(f)\n",
    "with open(merchant_encoder_path, 'rb') as f:\n",
    "    metadata['merchant_encoder'] = pickle.load(f)\n",
    "with open(brand_encoder_path, 'rb') as f:\n",
    "    metadata['brand_encoder'] = pickle.load(f)\n",
    "with open(cat_encoder_path, 'rb') as f:\n",
    "    metadata['cat_encoder'] = pickle.load(f)\n",
    "\n",
    "# Load PyTorch tensors and move them directly to the GPU (if CUDA is available)\n",
    "metadata['user_embedding'] = torch.load(user_embedding_path, map_location=device)\n",
    "metadata['merchant_embedding'] = torch.load(merchant_embedding_path, map_location=device)\n",
    "metadata['brand_embedding'] = torch.load(brand_embedding_path, map_location=device)\n",
    "metadata['cat_embedding'] = torch.load(cat_embedding_path, map_location=device)\n",
    "\n",
    "metadata['user_merchant_mask'] = torch.load(user_merchant_mask_path, map_location=device)\n",
    "metadata['user_brand_mask'] = torch.load(user_brand_mask_path, map_location=device)\n",
    "metadata['user_cat_mask'] = torch.load(user_cat_mask_path, map_location=device)\n",
    "\n",
    "metadata['user_merchant_gt'] = torch.load(user_merchant_gt_path, map_location=device)\n",
    "metadata['user_brand_gt'] = torch.load(user_brand_gt_path, map_location=device)\n",
    "metadata['user_cat_gt'] = torch.load(user_cat_gt_path, map_location=device)\n",
    "\n",
    "# Load DataFrames from CSV\n",
    "metadata['train_df_sampled_X'] = pd.read_csv(train_df_sampled_X_path)\n",
    "metadata['train_df_sampled_y'] = pd.read_csv(train_df_sampled_y_path)\n",
    "metadata['val_df_sampled_X'] = pd.read_csv(val_df_sampled_X_path)\n",
    "metadata['val_df_sampled_y'] = pd.read_csv(val_df_sampled_y_path)\n",
    "gc.collect()\n",
    "torch.cuda.empty_cache()"
   ]
  },
  {
   "cell_type": "code",
   "execution_count": null,
   "metadata": {},
   "outputs": [],
   "source": [
    "def training_iteration(metadata, chosen_versioning, grouping_method,\n",
    "    num_round, checkpoint_folder = \"embedding_checkpoint_folder\", \n",
    "    save_model_path = \"lightgbm.txt\", use_embedding=True, save_model = True):\n",
    "\n",
    "    assert grouping_method in [\"unique_average\", \"average\", \"unique_sum\", \"sum\", \"mostoccurence\"]\n",
    "\n",
    "    metadata['user_embedding'] = torch.load(os.path.join(checkpoint_folder, \"user_embedding_\"+chosen_versioning), map_location=device)\n",
    "    metadata['merchant_embedding'] = torch.load(os.path.join(checkpoint_folder, \"merchant_embedding_\"+chosen_versioning), map_location=device)\n",
    "    metadata['brand_embedding'] = torch.load(os.path.join(checkpoint_folder, \"brand_embedding_\"+chosen_versioning), map_location=device)\n",
    "    metadata['cat_embedding'] = torch.load(os.path.join(checkpoint_folder, \"cat_embedding_\"+chosen_versioning), map_location=device)\n",
    "    metadata['user_embedding'].requires_grad = False\n",
    "    metadata['merchant_embedding'].requires_grad = False\n",
    "    metadata['brand_embedding'].requires_grad = False\n",
    "    metadata['cat_embedding'].requires_grad = False\n",
    "\n",
    "    def get_averaged_embedding(ids, embedding_tensor):\n",
    "        embeddings = [embedding_tensor[torch.tensor(id_list)].float().cpu() for id_list in ids]\n",
    "        aggregated_embeddings = torch.stack(embeddings).mean(0).float().cpu().numpy()\n",
    "        return aggregated_embeddings\n",
    "    def get_summed_embedding(ids, embedding_tensor):\n",
    "        embeddings = [embedding_tensor[torch.tensor(id_list)].float().cpu() for id_list in ids]\n",
    "        aggregated_embeddings = torch.stack(embeddings).sum(0).float().cpu().numpy()\n",
    "        return aggregated_embeddings\n",
    "    def get_mostoccurence_embedding(ids, embedding_tensor):\n",
    "        most_common_id, _ = Counter(id_list).most_common(1)[0]\n",
    "        aggregated_embeddings = [embedding_tensor[torch.tensor(most_common_id)].float().cpu()]\n",
    "        aggregated_embeddings = torch.stack(aggregated_embeddings).float().cpu().numpy()\n",
    "        return aggregated_embeddings\n",
    "    \n",
    "    chosen_embedding_method = None\n",
    "    if \"average\" in grouping_method:\n",
    "        chosen_embedding_method = get_averaged_embedding\n",
    "    elif \"sum\" in grouping_method:\n",
    "        chosen_embedding_method = get_summed_embedding\n",
    "    elif \"mostoccurence\" in grouping_method:\n",
    "        chosen_embedding_method = get_mostoccurence_embedding\n",
    "    else:\n",
    "        raise ValueError()\n",
    "\n",
    "    gc.collect()\n",
    "    torch.cuda.empty_cache()\n",
    "\n",
    "    train_X = metadata[\"train_df_sampled_X\"].copy()\n",
    "    train_y = metadata[\"train_df_sampled_y\"].copy()\n",
    "    valid_X = metadata[\"val_df_sampled_X\"].copy()\n",
    "    valid_y = metadata[\"val_df_sampled_y\"].copy()\n",
    "\n",
    "    # Load user_info_log and filter for specific time_stamp\n",
    "    user_info_log = pd.read_csv(user_log_format1_path, dtype={'time_stamp': str}).rename(columns={\"seller_id\": \"merchant_id\"})\n",
    "    user_info_log = user_info_log[user_info_log[\"time_stamp\"] == \"1111\"]\n",
    "    user_info_log = user_info_log.drop([\"time_stamp\", \"action_type\", \"item_id\"],axis=1)\n",
    "\n",
    "    train_X = pd.concat([train_X, train_y], axis=1)\n",
    "    train_X = train_X.merge(user_info_log, on=[\"user_id\", \"merchant_id\"], how=\"left\")\n",
    "    train_X = train_X.groupby(['user_id', 'merchant_id', \"label\"]).agg({\n",
    "        'cat_id': lambda x: list(set(x)) if (\"unique\" in grouping_method) else list(x),\n",
    "        'brand_id': lambda x: list(set(x)) if (\"unique\" in grouping_method) else list(x)\n",
    "    }).reset_index()\n",
    "    train_y = train_X[\"label\"]\n",
    "    train_X = train_X.drop(\"label\", axis=1)\n",
    "\n",
    "    train_X['encoded_user_id'] = metadata['user_encoder'].transform(train_X['user_id'])\n",
    "    train_X['encoded_merchant_id'] = metadata['merchant_encoder'].transform(train_X['merchant_id'])\n",
    "    train_X['encoded_cat_id'] = train_X['cat_id'].apply(lambda ids: [metadata['cat_encoder'].transform([id])[0] for id in ids])\n",
    "    train_X['encoded_brand_id'] = train_X['brand_id'].apply(lambda ids: [metadata['brand_encoder'].transform([id])[0] for id in ids])\n",
    "\n",
    "    # Then, fetch embeddings using the encoded indices\n",
    "    train_X['user_embeddings'] = train_X['encoded_user_id'].apply(lambda x: metadata['user_embedding'][x].float().cpu().numpy())\n",
    "    train_X['merchant_embeddings'] = train_X['encoded_merchant_id'].apply(lambda x: metadata['merchant_embedding'][x].float().cpu().numpy())\n",
    "    train_X['aggr_cat_embeddings'] = train_X['encoded_cat_id'].apply(lambda x: chosen_embedding_method(x, metadata['cat_embedding']))\n",
    "    train_X['aggr_brand_embeddings'] = train_X['encoded_brand_id'].apply(lambda x: chosen_embedding_method(x, metadata['brand_embedding']))\n",
    "\n",
    "    valid_X = pd.concat([valid_X, valid_y], axis=1)\n",
    "    valid_X = valid_X.merge(user_info_log, on=[\"user_id\", \"merchant_id\"], how=\"left\")\n",
    "    valid_X = valid_X.groupby(['user_id', 'merchant_id', \"label\"]).agg({\n",
    "        'cat_id': lambda x: list(set(x)) if (\"unique\" in grouping_method) else list(x),\n",
    "        'brand_id': lambda x: list(set(x)) if (\"unique\" in grouping_method) else list(x)\n",
    "    }).reset_index()\n",
    "    valid_y = valid_X[\"label\"]\n",
    "    valid_X = valid_X.drop(\"label\", axis=1)\n",
    "\n",
    "    valid_X['encoded_user_id'] = metadata['user_encoder'].transform(valid_X['user_id'])\n",
    "    valid_X['encoded_merchant_id'] = metadata['merchant_encoder'].transform(valid_X['merchant_id'])\n",
    "    valid_X['encoded_cat_id'] = valid_X['cat_id'].apply(lambda ids: [metadata['cat_encoder'].transform([id])[0] for id in ids])\n",
    "    valid_X['encoded_brand_id'] = valid_X['brand_id'].apply(lambda ids: [metadata['brand_encoder'].transform([id])[0] for id in ids])\n",
    "\n",
    "    # Then, fetch embeddings using the encoded indices\n",
    "    valid_X['user_embeddings'] = valid_X['encoded_user_id'].apply(lambda x: metadata['user_embedding'][x].float().cpu().numpy())\n",
    "    valid_X['merchant_embeddings'] = valid_X['encoded_merchant_id'].apply(lambda x: metadata['merchant_embedding'][x].float().cpu().numpy())\n",
    "    valid_X['aggr_cat_embeddings'] = valid_X['encoded_cat_id'].apply(lambda x: chosen_embedding_method(x, metadata['cat_embedding']))\n",
    "    valid_X['aggr_brand_embeddings'] = valid_X['encoded_brand_id'].apply(lambda x: chosen_embedding_method(x, metadata['brand_embedding']))\n",
    "    del user_info_log\n",
    "    gc.collect()\n",
    "    torch.cuda.empty_cache()\n",
    "    # =============== BEGIN TRAINING\n",
    "    # Define the function to expand embedding arrays into separate DataFrame columns\n",
    "    def expand_embeddings(df, column_names):\n",
    "        \"\"\"\n",
    "        Expand multiple columns containing embedded lists into multiple distinct columns for each embedding,\n",
    "        and concatenate them into a single DataFrame.\n",
    "        \n",
    "        Args:\n",
    "        df (pd.DataFrame): The original DataFrame containing embedding columns.\n",
    "        column_names (list of str): A list of column names to expand.\n",
    "\n",
    "        Returns:\n",
    "        pd.DataFrame: A new DataFrame with expanded embedding columns.\n",
    "        \"\"\"\n",
    "        expanded_df = pd.DataFrame(index=df.index)\n",
    "        for column_name in column_names:\n",
    "            embeddings = np.stack(df[column_name].to_numpy())\n",
    "            col_names = [f'{column_name}_{i}' for i in range(embeddings.shape[1])]\n",
    "            embeddings_df = pd.DataFrame(embeddings, columns=col_names, index=df.index)\n",
    "            expanded_df = pd.concat([expanded_df, embeddings_df], axis=1)\n",
    "        return expanded_df\n",
    "\n",
    "    \n",
    "    # Configure parameters for LightGBM\n",
    "    params = {\n",
    "        'boosting_type': 'gbdt',\n",
    "        'objective': 'binary',\n",
    "        'metric': 'binary_logloss',\n",
    "    }\n",
    "    if use_embedding:\n",
    "        # Assuming 'metadata' contains all your embeddings and the 'train_X', 'val_X' have been prepared\n",
    "        # Expand embeddings into separate columns for training and validation sets\n",
    "        train_X = expand_embeddings(train_X, \n",
    "                                            ['user_embeddings', 'merchant_embeddings', 'aggr_cat_embeddings', 'aggr_brand_embeddings'])\n",
    "        valid_X = expand_embeddings(valid_X, \n",
    "                                        ['user_embeddings', 'merchant_embeddings', 'aggr_cat_embeddings', 'aggr_brand_embeddings'])\n",
    "\n",
    "    else:\n",
    "        train_X = metadata[\"train_df_sampled_X\"]\n",
    "        train_y = metadata[\"train_df_sampled_y\"]\n",
    "        valid_X= metadata[\"val_df_sampled_X\"]\n",
    "        valid_y = metadata[\"val_df_sampled_y\"]\n",
    "    \n",
    "    # Free up memory\n",
    "    gc.collect()\n",
    "    train_data = lgb.Dataset(train_X, label=train_y)\n",
    "    valid_data = lgb.Dataset(valid_X, label=valid_y, reference=train_data)\n",
    "\n",
    "\n",
    "    # Train the model\n",
    "    lgb_model = lgb.train(params, train_data, \n",
    "        num_boost_round=num_round, valid_sets=[valid_data],\n",
    "        callbacks=[lgb.early_stopping(stopping_rounds=3)])\n",
    "\n",
    "    # Save the model\n",
    "    if save_model: \n",
    "        lgb_model.save_model(save_model_path)\n",
    "\n",
    "    # Predictions\n",
    "    y_pred_valid = lgb_model.predict(valid_X, num_iteration=lgb_model.best_iteration)\n",
    "    # Convert probabilities to binary output if needed, for example:\n",
    "    y_pred_binary_valid = (y_pred_valid >= 0.5).astype(int)\n",
    "    accuracy_valid = accuracy_score(valid_y, y_pred_binary_valid)\n",
    "    auc_valid = roc_auc_score(valid_y, y_pred_valid)\n",
    "    return lgb_model, accuracy_valid, auc_valid"
   ]
  },
  {
   "cell_type": "code",
   "execution_count": 33,
   "metadata": {},
   "outputs": [
    {
     "ename": "NameError",
     "evalue": "name 'all_versions' is not defined",
     "output_type": "error",
     "traceback": [
      "\u001b[0;31m---------------------------------------------------------------------------\u001b[0m",
      "\u001b[0;31mNameError\u001b[0m                                 Traceback (most recent call last)",
      "Cell \u001b[0;32mIn[33], line 1\u001b[0m\n\u001b[0;32m----> 1\u001b[0m model, accuracy_valid, auc_valid \u001b[38;5;241m=\u001b[39m training_iteration(metadata, \u001b[43mall_versions\u001b[49m[\u001b[38;5;241m-\u001b[39m\u001b[38;5;241m1\u001b[39m], grouping_method \u001b[38;5;241m=\u001b[39m \u001b[38;5;124m\"\u001b[39m\u001b[38;5;124maverage\u001b[39m\u001b[38;5;124m\"\u001b[39m, num_round\u001b[38;5;241m=\u001b[39m\u001b[38;5;241m1000\u001b[39m, checkpoint_folder \u001b[38;5;241m=\u001b[39m \u001b[38;5;124m\"\u001b[39m\u001b[38;5;124membedding_checkpoint_folder\u001b[39m\u001b[38;5;124m\"\u001b[39m, \n\u001b[1;32m      2\u001b[0m     save_model_path \u001b[38;5;241m=\u001b[39m \u001b[38;5;124m\"\u001b[39m\u001b[38;5;124mlightgbm.txt\u001b[39m\u001b[38;5;124m\"\u001b[39m, use_embedding\u001b[38;5;241m=\u001b[39m\u001b[38;5;28;01mTrue\u001b[39;00m, save_model \u001b[38;5;241m=\u001b[39m \u001b[38;5;28;01mTrue\u001b[39;00m)\n",
      "\u001b[0;31mNameError\u001b[0m: name 'all_versions' is not defined"
     ]
    }
   ],
   "source": [
    "model, accuracy_valid, auc_valid = training_iteration(metadata, all_versions[-1], grouping_method = \"average\", num_round=1000, checkpoint_folder = \"embedding_checkpoint_folder\", \n",
    "    save_model_path = \"lightgbm.txt\", use_embedding=True, save_model = True)"
   ]
  },
  {
   "cell_type": "code",
   "execution_count": 65,
   "metadata": {},
   "outputs": [
    {
     "name": "stdout",
     "output_type": "stream",
     "text": [
      "0.6277901504016155\n",
      "0.9388584352359413\n"
     ]
    }
   ],
   "source": [
    "print(auc_valid)\n",
    "print(accuracy_valid)"
   ]
  },
  {
   "cell_type": "code",
   "execution_count": 68,
   "metadata": {},
   "outputs": [
    {
     "name": "stdout",
     "output_type": "stream",
     "text": [
      "Collecting optuna\n",
      "  Downloading optuna-4.1.0-py3-none-any.whl.metadata (16 kB)\n",
      "Collecting alembic>=1.5.0 (from optuna)\n",
      "  Downloading alembic-1.14.0-py3-none-any.whl.metadata (7.4 kB)\n",
      "Collecting colorlog (from optuna)\n",
      "  Downloading colorlog-6.9.0-py3-none-any.whl.metadata (10 kB)\n",
      "Requirement already satisfied: numpy in /flash2/aml/miniconda3/envs/wangwd24/lib/python3.10/site-packages (from optuna) (1.26.4)\n",
      "Requirement already satisfied: packaging>=20.0 in /flash2/aml/miniconda3/envs/wangwd24/lib/python3.10/site-packages (from optuna) (24.2)\n",
      "Collecting sqlalchemy>=1.4.2 (from optuna)\n",
      "  Downloading SQLAlchemy-2.0.36-cp310-cp310-manylinux_2_17_x86_64.manylinux2014_x86_64.whl.metadata (9.7 kB)\n",
      "Requirement already satisfied: tqdm in /flash2/aml/miniconda3/envs/wangwd24/lib/python3.10/site-packages (from optuna) (4.67.0)\n",
      "Requirement already satisfied: PyYAML in /flash2/aml/miniconda3/envs/wangwd24/lib/python3.10/site-packages (from optuna) (6.0.2)\n",
      "Collecting Mako (from alembic>=1.5.0->optuna)\n",
      "  Downloading Mako-1.3.8-py3-none-any.whl.metadata (2.9 kB)\n",
      "Requirement already satisfied: typing-extensions>=4 in /flash2/aml/miniconda3/envs/wangwd24/lib/python3.10/site-packages (from alembic>=1.5.0->optuna) (4.12.2)\n",
      "Collecting greenlet!=0.4.17 (from sqlalchemy>=1.4.2->optuna)\n",
      "  Downloading greenlet-3.1.1-cp310-cp310-manylinux_2_24_x86_64.manylinux_2_28_x86_64.whl.metadata (3.8 kB)\n",
      "Requirement already satisfied: MarkupSafe>=0.9.2 in /flash2/aml/miniconda3/envs/wangwd24/lib/python3.10/site-packages (from Mako->alembic>=1.5.0->optuna) (3.0.2)\n",
      "Downloading optuna-4.1.0-py3-none-any.whl (364 kB)\n",
      "Downloading alembic-1.14.0-py3-none-any.whl (233 kB)\n",
      "Downloading SQLAlchemy-2.0.36-cp310-cp310-manylinux_2_17_x86_64.manylinux2014_x86_64.whl (3.1 MB)\n",
      "\u001b[2K   \u001b[90m━━━━━━━━━━━━━━━━━━━━━━━━━━━━━━━━━━━━━━━━\u001b[0m \u001b[32m3.1/3.1 MB\u001b[0m \u001b[31m13.8 MB/s\u001b[0m eta \u001b[36m0:00:00\u001b[0ma \u001b[36m0:00:01\u001b[0m\n",
      "\u001b[?25hDownloading colorlog-6.9.0-py3-none-any.whl (11 kB)\n",
      "Downloading greenlet-3.1.1-cp310-cp310-manylinux_2_24_x86_64.manylinux_2_28_x86_64.whl (599 kB)\n",
      "\u001b[2K   \u001b[90m━━━━━━━━━━━━━━━━━━━━━━━━━━━━━━━━━━━━━━━━\u001b[0m \u001b[32m599.5/599.5 kB\u001b[0m \u001b[31m74.0 MB/s\u001b[0m eta \u001b[36m0:00:00\u001b[0m\n",
      "\u001b[?25hDownloading Mako-1.3.8-py3-none-any.whl (78 kB)\n",
      "Installing collected packages: Mako, greenlet, colorlog, sqlalchemy, alembic, optuna\n",
      "Successfully installed Mako-1.3.8 alembic-1.14.0 colorlog-6.9.0 greenlet-3.1.1 optuna-4.1.0 sqlalchemy-2.0.36\n"
     ]
    }
   ],
   "source": [
    "!pip install optuna"
   ]
  },
  {
   "cell_type": "code",
   "execution_count": null,
   "metadata": {},
   "outputs": [
    {
     "name": "stderr",
     "output_type": "stream",
     "text": [
      "[I 2024-12-10 16:13:14,772] A new study created in memory with name: no-name-8443874a-97f8-4901-94ea-53528daa5f56\n"
     ]
    },
    {
     "name": "stdout",
     "output_type": "stream",
     "text": [
      "[LightGBM] [Info] Number of positive: 6381, number of negative: 97964\n",
      "[LightGBM] [Info] Auto-choosing col-wise multi-threading, the overhead of testing was 0.036216 seconds.\n",
      "You can set `force_col_wise=true` to remove the overhead.\n",
      "[LightGBM] [Info] Total Bins 19852\n",
      "[LightGBM] [Info] Number of data points in the train set: 104345, number of used features: 80\n",
      "[LightGBM] [Info] [binary:BoostFromScore]: pavg=0.061153 -> initscore=-2.731275\n",
      "[LightGBM] [Info] Start training from score -2.731275\n",
      "Training until validation scores don't improve for 3 rounds\n"
     ]
    },
    {
     "name": "stderr",
     "output_type": "stream",
     "text": [
      "[I 2024-12-10 16:17:05,370] Trial 0 finished with value: 0.6293152597457451 and parameters: {'version_number': 1650, 'grouping_method': 'mostoccurence', 'num_round': 2588}. Best is trial 0 with value: 0.6293152597457451.\n"
     ]
    },
    {
     "name": "stdout",
     "output_type": "stream",
     "text": [
      "Early stopping, best iteration is:\n",
      "[24]\tvalid_0's binary_logloss: 0.223731\n",
      "[LightGBM] [Info] Number of positive: 6381, number of negative: 97964\n",
      "[LightGBM] [Info] Auto-choosing col-wise multi-threading, the overhead of testing was 0.035839 seconds.\n",
      "You can set `force_col_wise=true` to remove the overhead.\n",
      "[LightGBM] [Info] Total Bins 19849\n",
      "[LightGBM] [Info] Number of data points in the train set: 104345, number of used features: 80\n",
      "[LightGBM] [Info] [binary:BoostFromScore]: pavg=0.061153 -> initscore=-2.731275\n",
      "[LightGBM] [Info] Start training from score -2.731275\n",
      "Training until validation scores don't improve for 3 rounds\n"
     ]
    },
    {
     "name": "stderr",
     "output_type": "stream",
     "text": [
      "[I 2024-12-10 16:21:03,988] Trial 1 finished with value: 0.6359568500903885 and parameters: {'version_number': 950, 'grouping_method': 'mostoccurence', 'num_round': 948}. Best is trial 1 with value: 0.6359568500903885.\n"
     ]
    },
    {
     "name": "stdout",
     "output_type": "stream",
     "text": [
      "Early stopping, best iteration is:\n",
      "[32]\tvalid_0's binary_logloss: 0.223248\n",
      "[LightGBM] [Info] Number of positive: 6381, number of negative: 97964\n",
      "[LightGBM] [Info] Auto-choosing col-wise multi-threading, the overhead of testing was 0.035707 seconds.\n",
      "You can set `force_col_wise=true` to remove the overhead.\n",
      "[LightGBM] [Info] Total Bins 19865\n",
      "[LightGBM] [Info] Number of data points in the train set: 104345, number of used features: 80\n",
      "[LightGBM] [Info] [binary:BoostFromScore]: pavg=0.061153 -> initscore=-2.731275\n",
      "[LightGBM] [Info] Start training from score -2.731275\n",
      "Training until validation scores don't improve for 3 rounds\n"
     ]
    },
    {
     "name": "stderr",
     "output_type": "stream",
     "text": [
      "[I 2024-12-10 16:24:52,256] Trial 2 finished with value: 0.6331618743654764 and parameters: {'version_number': 1750, 'grouping_method': 'mostoccurence', 'num_round': 2779}. Best is trial 1 with value: 0.6359568500903885.\n"
     ]
    },
    {
     "name": "stdout",
     "output_type": "stream",
     "text": [
      "Early stopping, best iteration is:\n",
      "[24]\tvalid_0's binary_logloss: 0.223139\n",
      "[LightGBM] [Info] Number of positive: 6381, number of negative: 97964\n",
      "[LightGBM] [Info] Auto-choosing col-wise multi-threading, the overhead of testing was 0.035687 seconds.\n",
      "You can set `force_col_wise=true` to remove the overhead.\n",
      "[LightGBM] [Info] Total Bins 19830\n",
      "[LightGBM] [Info] Number of data points in the train set: 104345, number of used features: 80\n",
      "[LightGBM] [Info] [binary:BoostFromScore]: pavg=0.061153 -> initscore=-2.731275\n",
      "[LightGBM] [Info] Start training from score -2.731275\n",
      "Training until validation scores don't improve for 3 rounds\n"
     ]
    },
    {
     "name": "stderr",
     "output_type": "stream",
     "text": [
      "[I 2024-12-10 16:28:31,982] Trial 3 finished with value: 0.6389596091001758 and parameters: {'version_number': 1000, 'grouping_method': 'mostoccurence', 'num_round': 1375}. Best is trial 3 with value: 0.6389596091001758.\n"
     ]
    },
    {
     "name": "stdout",
     "output_type": "stream",
     "text": [
      "Early stopping, best iteration is:\n",
      "[29]\tvalid_0's binary_logloss: 0.222806\n",
      "[LightGBM] [Info] Number of positive: 6381, number of negative: 97964\n",
      "[LightGBM] [Info] Auto-choosing col-wise multi-threading, the overhead of testing was 0.036038 seconds.\n",
      "You can set `force_col_wise=true` to remove the overhead.\n",
      "[LightGBM] [Info] Total Bins 19834\n",
      "[LightGBM] [Info] Number of data points in the train set: 104345, number of used features: 80\n",
      "[LightGBM] [Info] [binary:BoostFromScore]: pavg=0.061153 -> initscore=-2.731275\n",
      "[LightGBM] [Info] Start training from score -2.731275\n",
      "Training until validation scores don't improve for 3 rounds\n"
     ]
    },
    {
     "name": "stderr",
     "output_type": "stream",
     "text": [
      "[I 2024-12-10 16:32:32,505] Trial 4 finished with value: 0.6301410811898402 and parameters: {'version_number': 1950, 'grouping_method': 'average', 'num_round': 1263}. Best is trial 3 with value: 0.6389596091001758.\n"
     ]
    },
    {
     "name": "stdout",
     "output_type": "stream",
     "text": [
      "Early stopping, best iteration is:\n",
      "[33]\tvalid_0's binary_logloss: 0.223207\n",
      "[LightGBM] [Info] Number of positive: 6381, number of negative: 97964\n",
      "[LightGBM] [Info] Auto-choosing col-wise multi-threading, the overhead of testing was 0.033753 seconds.\n",
      "You can set `force_col_wise=true` to remove the overhead.\n",
      "[LightGBM] [Info] Total Bins 19835\n",
      "[LightGBM] [Info] Number of data points in the train set: 104345, number of used features: 80\n",
      "[LightGBM] [Info] [binary:BoostFromScore]: pavg=0.061153 -> initscore=-2.731275\n",
      "[LightGBM] [Info] Start training from score -2.731275\n",
      "Training until validation scores don't improve for 3 rounds\n"
     ]
    },
    {
     "name": "stderr",
     "output_type": "stream",
     "text": [
      "[I 2024-12-10 16:36:40,186] Trial 5 finished with value: 0.6369824552780845 and parameters: {'version_number': 1150, 'grouping_method': 'average', 'num_round': 1816}. Best is trial 3 with value: 0.6389596091001758.\n"
     ]
    },
    {
     "name": "stdout",
     "output_type": "stream",
     "text": [
      "Early stopping, best iteration is:\n",
      "[37]\tvalid_0's binary_logloss: 0.22309\n",
      "[LightGBM] [Info] Number of positive: 6381, number of negative: 97964\n",
      "[LightGBM] [Info] Auto-choosing col-wise multi-threading, the overhead of testing was 0.035883 seconds.\n",
      "You can set `force_col_wise=true` to remove the overhead.\n",
      "[LightGBM] [Info] Total Bins 19835\n",
      "[LightGBM] [Info] Number of data points in the train set: 104345, number of used features: 80\n",
      "[LightGBM] [Info] [binary:BoostFromScore]: pavg=0.061153 -> initscore=-2.731275\n",
      "[LightGBM] [Info] Start training from score -2.731275\n",
      "Training until validation scores don't improve for 3 rounds\n"
     ]
    },
    {
     "name": "stderr",
     "output_type": "stream",
     "text": [
      "[I 2024-12-10 16:40:58,118] Trial 6 finished with value: 0.6404562528766351 and parameters: {'version_number': 1400, 'grouping_method': 'unique_average', 'num_round': 1478}. Best is trial 6 with value: 0.6404562528766351.\n"
     ]
    },
    {
     "name": "stdout",
     "output_type": "stream",
     "text": [
      "Early stopping, best iteration is:\n",
      "[35]\tvalid_0's binary_logloss: 0.222756\n",
      "[LightGBM] [Info] Number of positive: 6381, number of negative: 97964\n",
      "[LightGBM] [Info] Auto-choosing col-wise multi-threading, the overhead of testing was 0.036852 seconds.\n",
      "You can set `force_col_wise=true` to remove the overhead.\n",
      "[LightGBM] [Info] Total Bins 19830\n",
      "[LightGBM] [Info] Number of data points in the train set: 104345, number of used features: 80\n",
      "[LightGBM] [Info] [binary:BoostFromScore]: pavg=0.061153 -> initscore=-2.731275\n",
      "[LightGBM] [Info] Start training from score -2.731275\n",
      "Training until validation scores don't improve for 3 rounds\n"
     ]
    },
    {
     "name": "stderr",
     "output_type": "stream",
     "text": [
      "[I 2024-12-10 16:44:53,005] Trial 7 finished with value: 0.6389596091001758 and parameters: {'version_number': 1000, 'grouping_method': 'unique_average', 'num_round': 2107}. Best is trial 6 with value: 0.6404562528766351.\n"
     ]
    },
    {
     "name": "stdout",
     "output_type": "stream",
     "text": [
      "Early stopping, best iteration is:\n",
      "[29]\tvalid_0's binary_logloss: 0.222806\n",
      "[LightGBM] [Info] Number of positive: 6381, number of negative: 97964\n",
      "[LightGBM] [Info] Auto-choosing col-wise multi-threading, the overhead of testing was 0.036508 seconds.\n",
      "You can set `force_col_wise=true` to remove the overhead.\n",
      "[LightGBM] [Info] Total Bins 19863\n",
      "[LightGBM] [Info] Number of data points in the train set: 104345, number of used features: 80\n",
      "[LightGBM] [Info] [binary:BoostFromScore]: pavg=0.061153 -> initscore=-2.731275\n",
      "[LightGBM] [Info] Start training from score -2.731275\n",
      "Training until validation scores don't improve for 3 rounds\n"
     ]
    },
    {
     "name": "stderr",
     "output_type": "stream",
     "text": [
      "[I 2024-12-10 16:48:44,543] Trial 8 finished with value: 0.6366670685636202 and parameters: {'version_number': 600, 'grouping_method': 'unique_average', 'num_round': 2086}. Best is trial 6 with value: 0.6404562528766351.\n"
     ]
    },
    {
     "name": "stdout",
     "output_type": "stream",
     "text": [
      "Early stopping, best iteration is:\n",
      "[25]\tvalid_0's binary_logloss: 0.223016\n",
      "[LightGBM] [Info] Number of positive: 6381, number of negative: 97964\n",
      "[LightGBM] [Info] Auto-choosing col-wise multi-threading, the overhead of testing was 0.035949 seconds.\n",
      "You can set `force_col_wise=true` to remove the overhead.\n",
      "[LightGBM] [Info] Total Bins 19828\n",
      "[LightGBM] [Info] Number of data points in the train set: 104345, number of used features: 80\n",
      "[LightGBM] [Info] [binary:BoostFromScore]: pavg=0.061153 -> initscore=-2.731275\n",
      "[LightGBM] [Info] Start training from score -2.731275\n",
      "Training until validation scores don't improve for 3 rounds\n"
     ]
    },
    {
     "name": "stderr",
     "output_type": "stream",
     "text": [
      "[I 2024-12-10 16:52:09,996] Trial 9 finished with value: 0.637201809099459 and parameters: {'version_number': 550, 'grouping_method': 'unique_average', 'num_round': 1129}. Best is trial 6 with value: 0.6404562528766351.\n"
     ]
    },
    {
     "name": "stdout",
     "output_type": "stream",
     "text": [
      "Early stopping, best iteration is:\n",
      "[32]\tvalid_0's binary_logloss: 0.223149\n",
      "[LightGBM] [Info] Number of positive: 6381, number of negative: 97964\n",
      "[LightGBM] [Info] Auto-choosing col-wise multi-threading, the overhead of testing was 0.034401 seconds.\n",
      "You can set `force_col_wise=true` to remove the overhead.\n",
      "[LightGBM] [Info] Total Bins 20238\n",
      "[LightGBM] [Info] Number of data points in the train set: 104345, number of used features: 80\n",
      "[LightGBM] [Info] [binary:BoostFromScore]: pavg=0.061153 -> initscore=-2.731275\n",
      "[LightGBM] [Info] Start training from score -2.731275\n",
      "Training until validation scores don't improve for 3 rounds\n"
     ]
    },
    {
     "name": "stderr",
     "output_type": "stream",
     "text": [
      "[I 2024-12-10 16:56:02,249] Trial 10 finished with value: 0.6368557809420976 and parameters: {'version_number': 0, 'grouping_method': 'unique_sum', 'num_round': 523}. Best is trial 6 with value: 0.6404562528766351.\n"
     ]
    },
    {
     "name": "stdout",
     "output_type": "stream",
     "text": [
      "Early stopping, best iteration is:\n",
      "[26]\tvalid_0's binary_logloss: 0.223299\n",
      "[LightGBM] [Info] Number of positive: 6381, number of negative: 97964\n",
      "[LightGBM] [Info] Auto-choosing col-wise multi-threading, the overhead of testing was 0.036039 seconds.\n",
      "You can set `force_col_wise=true` to remove the overhead.\n",
      "[LightGBM] [Info] Total Bins 19860\n",
      "[LightGBM] [Info] Number of data points in the train set: 104345, number of used features: 80\n",
      "[LightGBM] [Info] [binary:BoostFromScore]: pavg=0.061153 -> initscore=-2.731275\n",
      "[LightGBM] [Info] Start training from score -2.731275\n",
      "Training until validation scores don't improve for 3 rounds\n"
     ]
    },
    {
     "name": "stderr",
     "output_type": "stream",
     "text": [
      "[I 2024-12-10 16:59:57,039] Trial 11 finished with value: 0.6312582779253106 and parameters: {'version_number': 1450, 'grouping_method': 'sum', 'num_round': 1548}. Best is trial 6 with value: 0.6404562528766351.\n"
     ]
    },
    {
     "name": "stdout",
     "output_type": "stream",
     "text": [
      "Early stopping, best iteration is:\n",
      "[30]\tvalid_0's binary_logloss: 0.223009\n",
      "[LightGBM] [Info] Number of positive: 6381, number of negative: 97964\n",
      "[LightGBM] [Info] Auto-choosing col-wise multi-threading, the overhead of testing was 0.035445 seconds.\n",
      "You can set `force_col_wise=true` to remove the overhead.\n",
      "[LightGBM] [Info] Total Bins 19846\n",
      "[LightGBM] [Info] Number of data points in the train set: 104345, number of used features: 80\n",
      "[LightGBM] [Info] [binary:BoostFromScore]: pavg=0.061153 -> initscore=-2.731275\n",
      "[LightGBM] [Info] Start training from score -2.731275\n",
      "Training until validation scores don't improve for 3 rounds\n"
     ]
    },
    {
     "name": "stderr",
     "output_type": "stream",
     "text": [
      "[I 2024-12-10 17:03:52,444] Trial 12 finished with value: 0.6368803939306904 and parameters: {'version_number': 1350, 'grouping_method': 'unique_sum', 'num_round': 1439}. Best is trial 6 with value: 0.6404562528766351.\n"
     ]
    },
    {
     "name": "stdout",
     "output_type": "stream",
     "text": [
      "Early stopping, best iteration is:\n",
      "[34]\tvalid_0's binary_logloss: 0.222933\n",
      "[LightGBM] [Info] Number of positive: 6381, number of negative: 97964\n",
      "[LightGBM] [Info] Auto-choosing col-wise multi-threading, the overhead of testing was 0.036016 seconds.\n",
      "You can set `force_col_wise=true` to remove the overhead.\n",
      "[LightGBM] [Info] Total Bins 19830\n",
      "[LightGBM] [Info] Number of data points in the train set: 104345, number of used features: 80\n",
      "[LightGBM] [Info] [binary:BoostFromScore]: pavg=0.061153 -> initscore=-2.731275\n",
      "[LightGBM] [Info] Start training from score -2.731275\n",
      "Training until validation scores don't improve for 3 rounds\n"
     ]
    },
    {
     "name": "stderr",
     "output_type": "stream",
     "text": [
      "[I 2024-12-10 17:07:37,206] Trial 13 finished with value: 0.636027450841859 and parameters: {'version_number': 650, 'grouping_method': 'sum', 'num_round': 726}. Best is trial 6 with value: 0.6404562528766351.\n"
     ]
    },
    {
     "name": "stdout",
     "output_type": "stream",
     "text": [
      "Early stopping, best iteration is:\n",
      "[24]\tvalid_0's binary_logloss: 0.223136\n"
     ]
    }
   ],
   "source": [
    "import optuna\n",
    "import logging\n",
    "\n",
    "logging.basicConfig(filename='optuna_output.log', level=logging.INFO,\n",
    "                    format='%(asctime)s - %(name)s - %(levelname)s - %(message)s')\n",
    "def trial_maximization(trial):\n",
    "    versions = trial.suggest_int(\"version_number\", 0, 2000, step = 50)\n",
    "    grouping_method = trial.suggest_categorical(\"grouping_method\", [\"unique_average\", \"average\", \"unique_sum\", \"sum\", \"mostoccurence\"])\n",
    "    num_round = trial.suggest_int(\"num_round\", 500, 3000)\n",
    "    _, _, auc_valid = training_iteration(metadata, f\"version1_{versions}.pt\", grouping_method = \"average\", num_round=1000, checkpoint_folder = \"embedding_checkpoint_folder\", \n",
    "    save_model_path = \"lightgbm.txt\", use_embedding=True, save_model = False)\n",
    "    logging.info(f'Trial {trial.number}, Params: {{versions: {versions}, grouping_method: {grouping_method}}}, num_round: {num_round}. AUC Result: {auc_valid}')\n",
    "    return auc_valid\n",
    "logging.info('Trial begins')\n",
    "study = optuna.create_study(direction=\"maximize\")\n",
    "study.optimize(trial_maximization, n_trials=300)\n",
    "\n",
    "# Best hyperparameters\n",
    "print(\"Best hyperparameters:\", study.best_params)\n",
    "print(\"Best AUC:\", study.best_value)\n",
    "logging.info(\"Best hyperparameters:\", study.best_params)\n",
    "logging.info(\"Best AUC:\", study.best_value)"
   ]
  },
  {
   "cell_type": "code",
   "execution_count": 41,
   "metadata": {},
   "outputs": [
    {
     "name": "stdout",
     "output_type": "stream",
     "text": [
      "[LightGBM] [Info] Number of positive: 6381, number of negative: 97964\n",
      "[LightGBM] [Info] Auto-choosing col-wise multi-threading, the overhead of testing was 0.034511 seconds.\n",
      "You can set `force_col_wise=true` to remove the overhead.\n",
      "[LightGBM] [Info] Total Bins 509\n",
      "[LightGBM] [Info] Number of data points in the train set: 104345, number of used features: 2\n",
      "[LightGBM] [Info] [binary:BoostFromScore]: pavg=0.061153 -> initscore=-2.731275\n",
      "[LightGBM] [Info] Start training from score -2.731275\n",
      "Training until validation scores don't improve for 3 rounds\n",
      "Early stopping, best iteration is:\n",
      "[21]\tvalid_0's binary_logloss: 0.228212\n",
      "Accuracy: 0.9388584352359413\n",
      "AUC Score: 0.571221618267522\n"
     ]
    }
   ],
   "source": []
  },
  {
   "cell_type": "code",
   "execution_count": null,
   "metadata": {},
   "outputs": [],
   "source": [
    "#Train lightgbm\n",
    "#split already included in metadata\n",
    "# Convert the datasets to LightGBM dataset format\n",
    "train_X = metadata[\"train_df_sampled_X\"]\n",
    "train_y = metadata[\"train_df_sampled_y\"]\n",
    "valid_X= metadata[\"val_df_sampled_X\"]\n",
    "valid_y = metadata[\"val_df_sampled_y\"]\n",
    "train_data = lgb.Dataset(metadata[\"train_df_sampled_X\"], label=metadata[\"train_df_sampled_y\"])\n",
    "valid_data = lgb.Dataset(metadata[\"val_df_sampled_X\"], label=metadata[\"val_df_sampled_y\"], reference=train_data)\n",
    "\n",
    "# Define parameters for the LightGBM model\n",
    "params = {\n",
    "    'boosting_type': 'gbdt',  # Gradient Boosting Decision Tree\n",
    "    'objective': 'binary',    # Binary classification\n",
    "    'metric': 'binary_logloss'  # Logarithmic loss for binary classification\n",
    "}\n",
    "\n",
    "# Train the model\n",
    "print(\"Starting training...\")\n",
    "model = lgb.train(params,\n",
    "                  train_data,\n",
    "                  valid_sets=[valid_data],\n",
    "                  num_boost_round=1000,\n",
    "                  early_stopping_rounds=100)\n",
    "\n",
    "y_pred_valid = model.predict(valid_X, num_iteration=model.best_iteration)\n",
    "# Convert probabilities to binary output if needed, for example:\n",
    "y_pred_binary_valid = (y_pred_valid >= 0.5).astype(int)\n",
    "\n",
    "# Evaluate the model\n",
    "accuracy_valid = accuracy_score(valid_y, y_pred_binary_valid)\n",
    "auc_valid = roc_auc_score(valid_y, y_pred_valid)\n",
    "\n",
    "print(f\"Accuracy: {accuracy}\")\n",
    "print(f\"AUC Score: {auc_score}\")"
   ]
  },
  {
   "cell_type": "code",
   "execution_count": null,
   "metadata": {},
   "outputs": [],
   "source": []
  },
  {
   "cell_type": "code",
   "execution_count": null,
   "metadata": {},
   "outputs": [],
   "source": []
  },
  {
   "cell_type": "code",
   "execution_count": null,
   "metadata": {},
   "outputs": [],
   "source": []
  },
  {
   "cell_type": "code",
   "execution_count": null,
   "metadata": {},
   "outputs": [],
   "source": []
  },
  {
   "cell_type": "code",
   "execution_count": null,
   "metadata": {},
   "outputs": [],
   "source": []
  },
  {
   "cell_type": "code",
   "execution_count": null,
   "metadata": {},
   "outputs": [],
   "source": []
  },
  {
   "cell_type": "code",
   "execution_count": null,
   "metadata": {},
   "outputs": [],
   "source": []
  },
  {
   "cell_type": "code",
   "execution_count": null,
   "metadata": {},
   "outputs": [],
   "source": []
  },
  {
   "cell_type": "code",
   "execution_count": null,
   "metadata": {},
   "outputs": [],
   "source": []
  },
  {
   "cell_type": "code",
   "execution_count": null,
   "metadata": {},
   "outputs": [],
   "source": []
  },
  {
   "cell_type": "code",
   "execution_count": null,
   "metadata": {},
   "outputs": [],
   "source": []
  },
  {
   "cell_type": "code",
   "execution_count": null,
   "metadata": {},
   "outputs": [],
   "source": []
  },
  {
   "cell_type": "code",
   "execution_count": null,
   "metadata": {},
   "outputs": [],
   "source": []
  },
  {
   "cell_type": "code",
   "execution_count": null,
   "metadata": {},
   "outputs": [],
   "source": []
  },
  {
   "cell_type": "code",
   "execution_count": null,
   "metadata": {},
   "outputs": [],
   "source": []
  },
  {
   "cell_type": "code",
   "execution_count": null,
   "metadata": {},
   "outputs": [],
   "source": []
  },
  {
   "cell_type": "code",
   "execution_count": null,
   "metadata": {},
   "outputs": [],
   "source": []
  },
  {
   "cell_type": "code",
   "execution_count": null,
   "metadata": {},
   "outputs": [],
   "source": []
  },
  {
   "cell_type": "code",
   "execution_count": null,
   "metadata": {},
   "outputs": [],
   "source": []
  },
  {
   "cell_type": "code",
   "execution_count": null,
   "metadata": {},
   "outputs": [],
   "source": []
  },
  {
   "cell_type": "code",
   "execution_count": null,
   "metadata": {},
   "outputs": [],
   "source": []
  },
  {
   "cell_type": "code",
   "execution_count": null,
   "metadata": {},
   "outputs": [],
   "source": []
  },
  {
   "cell_type": "code",
   "execution_count": null,
   "metadata": {},
   "outputs": [],
   "source": []
  },
  {
   "cell_type": "code",
   "execution_count": null,
   "metadata": {},
   "outputs": [],
   "source": []
  },
  {
   "cell_type": "code",
   "execution_count": null,
   "metadata": {},
   "outputs": [],
   "source": []
  },
  {
   "cell_type": "code",
   "execution_count": null,
   "metadata": {},
   "outputs": [],
   "source": []
  },
  {
   "cell_type": "code",
   "execution_count": null,
   "metadata": {},
   "outputs": [],
   "source": []
  },
  {
   "cell_type": "code",
   "execution_count": null,
   "metadata": {},
   "outputs": [],
   "source": []
  },
  {
   "cell_type": "code",
   "execution_count": null,
   "metadata": {},
   "outputs": [],
   "source": []
  },
  {
   "cell_type": "code",
   "execution_count": null,
   "metadata": {},
   "outputs": [],
   "source": []
  },
  {
   "cell_type": "code",
   "execution_count": null,
   "metadata": {},
   "outputs": [],
   "source": []
  },
  {
   "cell_type": "code",
   "execution_count": null,
   "metadata": {},
   "outputs": [],
   "source": []
  },
  {
   "cell_type": "code",
   "execution_count": null,
   "metadata": {},
   "outputs": [],
   "source": []
  },
  {
   "cell_type": "code",
   "execution_count": null,
   "metadata": {},
   "outputs": [],
   "source": []
  },
  {
   "cell_type": "code",
   "execution_count": null,
   "metadata": {},
   "outputs": [],
   "source": []
  },
  {
   "cell_type": "code",
   "execution_count": null,
   "metadata": {},
   "outputs": [],
   "source": []
  },
  {
   "cell_type": "code",
   "execution_count": null,
   "metadata": {},
   "outputs": [],
   "source": []
  },
  {
   "cell_type": "code",
   "execution_count": null,
   "metadata": {},
   "outputs": [],
   "source": []
  },
  {
   "cell_type": "code",
   "execution_count": null,
   "metadata": {},
   "outputs": [],
   "source": []
  },
  {
   "cell_type": "code",
   "execution_count": null,
   "metadata": {},
   "outputs": [],
   "source": []
  },
  {
   "cell_type": "code",
   "execution_count": null,
   "metadata": {},
   "outputs": [],
   "source": []
  },
  {
   "cell_type": "code",
   "execution_count": null,
   "metadata": {},
   "outputs": [],
   "source": []
  },
  {
   "cell_type": "code",
   "execution_count": null,
   "metadata": {},
   "outputs": [],
   "source": []
  },
  {
   "cell_type": "code",
   "execution_count": null,
   "metadata": {},
   "outputs": [],
   "source": []
  },
  {
   "cell_type": "code",
   "execution_count": null,
   "metadata": {},
   "outputs": [],
   "source": []
  },
  {
   "cell_type": "code",
   "execution_count": null,
   "metadata": {},
   "outputs": [],
   "source": []
  },
  {
   "cell_type": "code",
   "execution_count": null,
   "metadata": {},
   "outputs": [],
   "source": []
  },
  {
   "cell_type": "code",
   "execution_count": null,
   "metadata": {},
   "outputs": [],
   "source": []
  },
  {
   "cell_type": "code",
   "execution_count": null,
   "metadata": {},
   "outputs": [],
   "source": []
  },
  {
   "cell_type": "code",
   "execution_count": null,
   "metadata": {},
   "outputs": [],
   "source": []
  },
  {
   "cell_type": "code",
   "execution_count": null,
   "metadata": {},
   "outputs": [],
   "source": []
  },
  {
   "cell_type": "code",
   "execution_count": null,
   "metadata": {},
   "outputs": [],
   "source": []
  },
  {
   "cell_type": "code",
   "execution_count": null,
   "metadata": {},
   "outputs": [],
   "source": []
  },
  {
   "cell_type": "code",
   "execution_count": null,
   "metadata": {},
   "outputs": [],
   "source": []
  },
  {
   "cell_type": "code",
   "execution_count": null,
   "metadata": {},
   "outputs": [],
   "source": []
  },
  {
   "cell_type": "code",
   "execution_count": null,
   "metadata": {},
   "outputs": [],
   "source": []
  },
  {
   "cell_type": "code",
   "execution_count": null,
   "metadata": {},
   "outputs": [],
   "source": []
  },
  {
   "cell_type": "code",
   "execution_count": null,
   "metadata": {},
   "outputs": [],
   "source": []
  },
  {
   "cell_type": "code",
   "execution_count": null,
   "metadata": {},
   "outputs": [],
   "source": []
  },
  {
   "cell_type": "code",
   "execution_count": null,
   "metadata": {},
   "outputs": [],
   "source": []
  },
  {
   "cell_type": "code",
   "execution_count": null,
   "metadata": {},
   "outputs": [],
   "source": []
  },
  {
   "cell_type": "code",
   "execution_count": null,
   "metadata": {},
   "outputs": [],
   "source": []
  },
  {
   "cell_type": "code",
   "execution_count": null,
   "metadata": {},
   "outputs": [],
   "source": []
  },
  {
   "cell_type": "code",
   "execution_count": null,
   "metadata": {},
   "outputs": [],
   "source": []
  },
  {
   "cell_type": "code",
   "execution_count": null,
   "metadata": {},
   "outputs": [],
   "source": []
  },
  {
   "cell_type": "code",
   "execution_count": null,
   "metadata": {},
   "outputs": [],
   "source": []
  },
  {
   "cell_type": "code",
   "execution_count": null,
   "metadata": {},
   "outputs": [],
   "source": []
  },
  {
   "cell_type": "code",
   "execution_count": null,
   "metadata": {},
   "outputs": [],
   "source": []
  },
  {
   "cell_type": "code",
   "execution_count": null,
   "metadata": {},
   "outputs": [],
   "source": []
  },
  {
   "cell_type": "code",
   "execution_count": null,
   "metadata": {},
   "outputs": [],
   "source": []
  },
  {
   "cell_type": "code",
   "execution_count": null,
   "metadata": {},
   "outputs": [],
   "source": []
  },
  {
   "cell_type": "code",
   "execution_count": null,
   "metadata": {},
   "outputs": [],
   "source": []
  },
  {
   "cell_type": "code",
   "execution_count": null,
   "metadata": {},
   "outputs": [],
   "source": []
  },
  {
   "cell_type": "code",
   "execution_count": null,
   "metadata": {},
   "outputs": [],
   "source": []
  },
  {
   "cell_type": "code",
   "execution_count": null,
   "metadata": {},
   "outputs": [],
   "source": []
  },
  {
   "cell_type": "code",
   "execution_count": null,
   "metadata": {},
   "outputs": [],
   "source": []
  },
  {
   "cell_type": "code",
   "execution_count": null,
   "metadata": {},
   "outputs": [],
   "source": []
  },
  {
   "cell_type": "code",
   "execution_count": null,
   "metadata": {},
   "outputs": [],
   "source": []
  },
  {
   "cell_type": "code",
   "execution_count": null,
   "metadata": {},
   "outputs": [],
   "source": []
  },
  {
   "cell_type": "code",
   "execution_count": null,
   "metadata": {},
   "outputs": [],
   "source": []
  },
  {
   "cell_type": "code",
   "execution_count": null,
   "metadata": {},
   "outputs": [],
   "source": []
  },
  {
   "cell_type": "code",
   "execution_count": null,
   "metadata": {},
   "outputs": [],
   "source": []
  },
  {
   "cell_type": "code",
   "execution_count": null,
   "metadata": {},
   "outputs": [],
   "source": []
  },
  {
   "cell_type": "code",
   "execution_count": null,
   "metadata": {},
   "outputs": [],
   "source": []
  },
  {
   "cell_type": "code",
   "execution_count": null,
   "metadata": {},
   "outputs": [],
   "source": []
  },
  {
   "cell_type": "code",
   "execution_count": null,
   "metadata": {},
   "outputs": [],
   "source": []
  },
  {
   "cell_type": "code",
   "execution_count": null,
   "metadata": {},
   "outputs": [],
   "source": []
  },
  {
   "cell_type": "code",
   "execution_count": null,
   "metadata": {},
   "outputs": [],
   "source": []
  },
  {
   "cell_type": "code",
   "execution_count": null,
   "metadata": {},
   "outputs": [],
   "source": []
  },
  {
   "cell_type": "code",
   "execution_count": null,
   "metadata": {},
   "outputs": [],
   "source": []
  },
  {
   "cell_type": "code",
   "execution_count": null,
   "metadata": {},
   "outputs": [],
   "source": []
  },
  {
   "cell_type": "code",
   "execution_count": null,
   "metadata": {},
   "outputs": [],
   "source": []
  },
  {
   "cell_type": "code",
   "execution_count": null,
   "metadata": {},
   "outputs": [],
   "source": []
  },
  {
   "cell_type": "code",
   "execution_count": null,
   "metadata": {},
   "outputs": [],
   "source": []
  },
  {
   "cell_type": "code",
   "execution_count": null,
   "metadata": {},
   "outputs": [],
   "source": []
  },
  {
   "cell_type": "code",
   "execution_count": null,
   "metadata": {},
   "outputs": [],
   "source": []
  },
  {
   "cell_type": "code",
   "execution_count": null,
   "metadata": {},
   "outputs": [],
   "source": []
  },
  {
   "cell_type": "code",
   "execution_count": null,
   "metadata": {},
   "outputs": [],
   "source": []
  },
  {
   "cell_type": "code",
   "execution_count": null,
   "metadata": {},
   "outputs": [],
   "source": []
  },
  {
   "cell_type": "code",
   "execution_count": null,
   "metadata": {},
   "outputs": [],
   "source": []
  },
  {
   "cell_type": "code",
   "execution_count": null,
   "metadata": {},
   "outputs": [],
   "source": []
  },
  {
   "cell_type": "code",
   "execution_count": null,
   "metadata": {},
   "outputs": [],
   "source": []
  },
  {
   "cell_type": "code",
   "execution_count": null,
   "metadata": {},
   "outputs": [],
   "source": []
  },
  {
   "cell_type": "code",
   "execution_count": null,
   "metadata": {},
   "outputs": [],
   "source": []
  },
  {
   "cell_type": "code",
   "execution_count": null,
   "metadata": {},
   "outputs": [],
   "source": []
  },
  {
   "cell_type": "code",
   "execution_count": null,
   "metadata": {},
   "outputs": [],
   "source": []
  },
  {
   "cell_type": "code",
   "execution_count": null,
   "metadata": {},
   "outputs": [],
   "source": []
  },
  {
   "cell_type": "code",
   "execution_count": null,
   "metadata": {},
   "outputs": [],
   "source": []
  },
  {
   "cell_type": "code",
   "execution_count": null,
   "metadata": {},
   "outputs": [],
   "source": []
  },
  {
   "cell_type": "code",
   "execution_count": null,
   "metadata": {},
   "outputs": [],
   "source": []
  },
  {
   "cell_type": "code",
   "execution_count": null,
   "metadata": {},
   "outputs": [],
   "source": []
  },
  {
   "cell_type": "code",
   "execution_count": null,
   "metadata": {},
   "outputs": [],
   "source": []
  },
  {
   "cell_type": "code",
   "execution_count": null,
   "metadata": {},
   "outputs": [],
   "source": []
  },
  {
   "cell_type": "code",
   "execution_count": null,
   "metadata": {},
   "outputs": [],
   "source": []
  },
  {
   "cell_type": "code",
   "execution_count": null,
   "metadata": {},
   "outputs": [],
   "source": []
  },
  {
   "cell_type": "code",
   "execution_count": null,
   "metadata": {},
   "outputs": [],
   "source": []
  },
  {
   "cell_type": "code",
   "execution_count": null,
   "metadata": {},
   "outputs": [],
   "source": []
  },
  {
   "cell_type": "code",
   "execution_count": null,
   "metadata": {},
   "outputs": [],
   "source": []
  },
  {
   "cell_type": "code",
   "execution_count": null,
   "metadata": {},
   "outputs": [],
   "source": []
  },
  {
   "cell_type": "code",
   "execution_count": null,
   "metadata": {},
   "outputs": [],
   "source": []
  },
  {
   "cell_type": "code",
   "execution_count": null,
   "metadata": {},
   "outputs": [],
   "source": []
  },
  {
   "cell_type": "code",
   "execution_count": null,
   "metadata": {},
   "outputs": [],
   "source": []
  },
  {
   "cell_type": "code",
   "execution_count": null,
   "metadata": {},
   "outputs": [],
   "source": []
  },
  {
   "cell_type": "code",
   "execution_count": null,
   "metadata": {},
   "outputs": [],
   "source": []
  },
  {
   "cell_type": "code",
   "execution_count": null,
   "metadata": {},
   "outputs": [],
   "source": []
  },
  {
   "cell_type": "code",
   "execution_count": null,
   "metadata": {},
   "outputs": [],
   "source": []
  },
  {
   "cell_type": "code",
   "execution_count": null,
   "metadata": {},
   "outputs": [],
   "source": []
  },
  {
   "cell_type": "code",
   "execution_count": 39,
   "metadata": {},
   "outputs": [
    {
     "name": "stdout",
     "output_type": "stream",
     "text": [
      "Amount of user id duplicated in train and test:  0\n",
      "Ratio toward the whole test:  0.0\n",
      "Amount of merchant id duplicated in train and test:  260863\n",
      "Ratio toward the whole test:  0.9976518011144384\n"
     ]
    }
   ],
   "source": [
    "#how many users in train appear in test set\n",
    "print(\"Amount of user id duplicated in train and test: \", train_format1['user_id'].isin(test_format1['user_id']).sum())\n",
    "print(\"Ratio toward the whole test: \", train_format1['user_id'].isin(test_format1['user_id']).sum() / len(test_format1['user_id']))\n",
    "\n",
    "#how many merchants in train appear in test set\n",
    "print(\"Amount of merchant id duplicated in train and test: \", train_format1['merchant_id'].isin(test_format1['merchant_id']).sum())\n",
    "print(\"Ratio toward the whole test: \", train_format1['merchant_id'].isin(test_format1['merchant_id']).sum() / len(test_format1['merchant_id']))"
   ]
  },
  {
   "cell_type": "code",
   "execution_count": 46,
   "metadata": {},
   "outputs": [
    {
     "data": {
      "image/png": "[encoded data removed]",
      "text/plain": [
       "<Figure size 432x288 with 1 Axes>"
      ]
     },
     "metadata": {
      "needs_background": "light"
     },
     "output_type": "display_data"
    }
   ],
   "source": [
    "#for each merchant, how many users get the label 1 (ratio)\n",
    "merchant_ratios = train_format1['label'].groupby(train_format1['merchant_id']).mean()\n",
    "\n",
    "sns.kdeplot(merchant_ratios, bw_adjust=1)  # bw_adjust adjusts the bandwidth; tweak as needed\n",
    "plt.title(\"KDE of Mean Label Ratio Per Merchant\")\n",
    "plt.xlabel(\"Mean Label Ratio\")\n",
    "plt.ylabel(\"Density\")\n",
    "plt.show()"
   ]
  },
  {
   "cell_type": "code",
   "execution_count": 27,
   "metadata": {},
   "outputs": [
    {
     "name": "stdout",
     "output_type": "stream",
     "text": [
      "Train label 0 ratio:  0.9388493621197253\n"
     ]
    }
   ],
   "source": [
    "# class balance or imbalance\n",
    "print(\"Train label 0 ratio: \", train_format1[train_format1['label'] == 0].shape[0] / len(train_format1['label']))"
   ]
  },
  {
   "cell_type": "code",
   "execution_count": 35,
   "metadata": {},
   "outputs": [],
   "source": [
    "def training_iteration_lightgbm(train_data, val_data, train_target, val_target, params):\n",
    "    lgbm_train_data = lgb.Dataset(train_data, label=train_target)\n",
    "    lgbm_val_data = lgb.Dataset(val_data, label=val_target, reference=train_data)\n",
    "    model = lgb.train(params, lgbm_train_data, num_boost_round=1000, valid_sets=[lgbm_val_data], early_stopping_rounds=50, verbose_eval=50)\n",
    "    return model"
   ]
  },
  {
   "cell_type": "code",
   "execution_count": null,
   "metadata": {},
   "outputs": [],
   "source": [
    "#lightgbm baseline\n",
    "params = {\n",
    "    'boosting_type': 'gbdt',\n",
    "    'objective': 'binary',\n",
    "    'metric': 'binary_logloss',\n",
    "}\n",
    "baseline_train_data = train_format1.drop(['label'], axis=1)\n",
    "\n",
    "#preprocessing null in age range\n",
    "baseline_user_info = \n",
    "baseline_train_data = baseline_train_data.merge(user_info_format1, on='user_id', how='left')\n",
    "baseline_train_target = train_format1['label']\n",
    "\n",
    "baseline_train_data.join(other, lsuffix='_caller', rsuffix='_other')"
   ]
  }
 ],
 "metadata": {
  "kernelspec": {
   "display_name": "base",
   "language": "python",
   "name": "python3"
  },
  "language_info": {
   "codemirror_mode": {
    "name": "ipython",
    "version": 3
   },
   "file_extension": ".py",
   "mimetype": "text/x-python",
   "name": "python",
   "nbconvert_exporter": "python",
   "pygments_lexer": "ipython3",
   "version": "3.9.12"
  }
 },
 "nbformat": 4,
 "nbformat_minor": 2
}
