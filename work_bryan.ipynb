{
 "cells": [
  {
   "cell_type": "code",
   "execution_count": 1,
   "metadata": {},
   "outputs": [],
   "source": [
    "import pandas as pd\n",
    "import os\n",
    "import lightgbm as lgb\n",
    "import matplotlib.pyplot as plt\n",
    "import seaborn as sns\n",
    "from sklearn.decomposition import NMF\n",
    "from sklearn.preprocessing import LabelEncoder\n",
    "from scipy.sparse import csr_matrix"
   ]
  },
  {
   "cell_type": "code",
   "execution_count": 2,
   "metadata": {},
   "outputs": [],
   "source": [
    "data_format1_path = \"data_format1\"\n",
    "data_format2_path = \"data_format2\"\n",
    "train_format1_path = os.path.join(data_format1_path, \"train_format1.csv\")\n",
    "train_format2_path = os.path.join(data_format2_path, \"train_format2.csv\")\n",
    "test_format1_path = os.path.join(data_format1_path, \"test_format1.csv\")\n",
    "test_format2_path = os.path.join(data_format2_path, \"test_format2.csv\")\n",
    "user_info_format1_path = os.path.join(data_format1_path, \"user_info_format1.csv\") \n",
    "user_log_format1_path = os.path.join(data_format1_path, \"user_log_format1.csv\", ) "
   ]
  },
  {
   "cell_type": "code",
   "execution_count": 3,
   "metadata": {},
   "outputs": [],
   "source": [
    "train_format1 = pd.read_csv(train_format1_path)\n",
    "train_format2 = pd.read_csv(train_format2_path)\n",
    "test_format1 = pd.read_csv(test_format1_path)\n",
    "test_format2 = pd.read_csv(test_format2_path)\n",
    "user_info_format1 = pd.read_csv(user_info_format1_path)\n",
    "user_log_format1 = pd.read_csv(user_log_format1_path, dtype={'time_stamp': str}).rename(columns={\"seller_id\": \"merchant_id\"})"
   ]
  },
  {
   "cell_type": "code",
   "execution_count": 5,
   "metadata": {},
   "outputs": [
    {
     "name": "stdout",
     "output_type": "stream",
     "text": [
      "len train_format1: 260864\n",
      "len train_format2: 7030723\n",
      "len test_format1: 261477\n",
      "len test_format2: 7027943\n"
     ]
    }
   ],
   "source": [
    "print(\"len train_format1:\", len(train_format1))\n",
    "print(\"len train_format2:\", len(train_format2))\n",
    "print(\"len test_format1:\", len(test_format1))\n",
    "print(\"len test_format2:\", len(test_format2))"
   ]
  },
  {
   "cell_type": "code",
   "execution_count": 6,
   "metadata": {},
   "outputs": [
    {
     "name": "stdout",
     "output_type": "stream",
     "text": [
      "54925330\n",
      "10582633\n"
     ]
    }
   ],
   "source": [
    "print(len(user_log_format1))\n",
    "#only filter the log with time_stamp 11.11\n",
    "user_log_format1 = user_log_format1[user_log_format1[\"time_stamp\"] == \"1111\"]\n",
    "print(len(user_log_format1))"
   ]
  },
  {
   "cell_type": "code",
   "execution_count": 7,
   "metadata": {},
   "outputs": [
    {
     "name": "stdout",
     "output_type": "stream",
     "text": [
      "     user_id  item_id  cat_id  merchant_id  brand_id time_stamp  action_type\n",
      "171   328862   406349    1280         2700    5476.0       1111            0\n",
      "172   328862   406349    1280         2700    5476.0       1111            0\n",
      "173   328862   807126    1181         1963    6109.0       1111            0\n",
      "174   328862   406349    1280         2700    5476.0       1111            2\n",
      "175   328862   406349    1280         2700    5476.0       1111            0\n"
     ]
    }
   ],
   "source": [
    "print(user_log_format1.head())"
   ]
  },
  {
   "cell_type": "code",
   "execution_count": 8,
   "metadata": {},
   "outputs": [],
   "source": [
    "user_log_format1 = user_log_format1.drop(columns=[\"action_type\", \"time_stamp\"])"
   ]
  },
  {
   "cell_type": "code",
   "execution_count": 4,
   "metadata": {},
   "outputs": [
    {
     "name": "stdout",
     "output_type": "stream",
     "text": [
      "user_log_info1 columns: Index(['user_id', 'item_id', 'cat_id', 'merchant_id', 'brand_id'], dtype='object')\n"
     ]
    }
   ],
   "source": [
    "print(\"user_log_info1 columns: \" + str(user_log_format1.columns))"
   ]
  },
  {
   "cell_type": "code",
   "execution_count": null,
   "metadata": {},
   "outputs": [
    {
     "name": "stdout",
     "output_type": "stream",
     "text": [
      "   user_id  merchant_id  label\n",
      "0    34176         3906      0\n",
      "1    34176          121      0\n",
      "2    34176         4356      1\n",
      "3    34176         2217      0\n",
      "4   230784         4818      0\n",
      "============================================\n",
      "             user_id    merchant_id          label\n",
      "count  260864.000000  260864.000000  260864.000000\n",
      "mean   211889.321420    2540.292363       0.061151\n",
      "std    122399.488027    1451.207514       0.239607\n",
      "min         1.000000       2.000000       0.000000\n",
      "25%    105488.000000    1340.000000       0.000000\n",
      "50%    211927.500000    2482.000000       0.000000\n",
      "75%    317670.500000    3898.000000       0.000000\n",
      "max    424170.000000    4993.000000       1.000000\n",
      "============================================\n",
      "user_id        0\n",
      "merchant_id    0\n",
      "label          0\n",
      "dtype: int64\n",
      "user_id        0.0\n",
      "merchant_id    0.0\n",
      "label          0.0\n",
      "dtype: float64\n"
     ]
    }
   ],
   "source": [
    "print(train_format1.head())\n",
    "print(\"============================================\")\n",
    "print(train_format1.describe())\n",
    "print(\"============================================\")\n",
    "#check for nan\n",
    "print(train_format1.isnull().sum())\n",
    "#nan ratio\n",
    "print(train_format1.isnull().sum()/len(train_format1))"
   ]
  },
  {
   "cell_type": "code",
   "execution_count": null,
   "metadata": {},
   "outputs": [
    {
     "name": "stdout",
     "output_type": "stream",
     "text": [
      "   user_id  age_range  gender  merchant_id  label  \\\n",
      "0    34176        6.0     0.0          944     -1   \n",
      "1    34176        6.0     0.0          412     -1   \n",
      "2    34176        6.0     0.0         1945     -1   \n",
      "3    34176        6.0     0.0         4752     -1   \n",
      "4    34176        6.0     0.0          643     -1   \n",
      "\n",
      "                                        activity_log  \n",
      "0                            408895:1505:7370:1107:0  \n",
      "1  17235:1604:4396:0818:0#954723:1604:4396:0818:0...  \n",
      "2  231901:662:2758:0818:0#231901:662:2758:0818:0#...  \n",
      "3                             174142:821:6938:1027:0  \n",
      "4                             716371:1505:968:1024:3  \n",
      "============================================\n",
      "            user_id     age_range        gender   merchant_id         label\n",
      "count  7.030723e+06  7.011343e+06  6.969011e+06  7.030723e+06  7.030723e+06\n",
      "mean   2.120120e+05  3.106246e+00  3.036947e-01  2.455233e+03 -9.606277e-01\n",
      "std    1.223200e+05  1.914345e+00  5.319517e-01  1.456245e+03  2.058154e-01\n",
      "min    1.000000e+00  0.000000e+00  0.000000e+00  1.000000e+00 -1.000000e+00\n",
      "25%    1.055770e+05  2.000000e+00  0.000000e+00  1.176000e+03 -1.000000e+00\n",
      "50%    2.126810e+05  3.000000e+00  0.000000e+00  2.404000e+03 -1.000000e+00\n",
      "75%    3.175440e+05  4.000000e+00  1.000000e+00  3.743000e+03 -1.000000e+00\n",
      "max    4.241700e+05  8.000000e+00  2.000000e+00  4.995000e+03  1.000000e+00\n",
      "============================================\n",
      "user_id             0\n",
      "age_range       19380\n",
      "gender          61712\n",
      "merchant_id         0\n",
      "label               0\n",
      "activity_log     2975\n",
      "dtype: int64\n",
      "user_id         0.000000\n",
      "age_range       0.002756\n",
      "gender          0.008777\n",
      "merchant_id     0.000000\n",
      "label           0.000000\n",
      "activity_log    0.000423\n",
      "dtype: float64\n"
     ]
    }
   ],
   "source": [
    "# print(train_format2.head())\n",
    "# print(\"============================================\")\n",
    "# print(train_format2.describe())\n",
    "# print(\"============================================\")\n",
    "# #check for nan\n",
    "# print(train_format2.isnull().sum())\n",
    "# #nan ratio\n",
    "# print(train_format2.isnull().sum()/len(train_format2))"
   ]
  },
  {
   "cell_type": "code",
   "execution_count": 6,
   "metadata": {},
   "outputs": [
    {
     "name": "stdout",
     "output_type": "stream",
     "text": [
      "   user_id  merchant_id  prob\n",
      "0   163968         4605   NaN\n",
      "1   360576         1581   NaN\n",
      "2    98688         1964   NaN\n",
      "3    98688         3645   NaN\n",
      "4   295296         3361   NaN\n",
      "============================================\n",
      "============================================\n",
      "user_id             0\n",
      "merchant_id         0\n",
      "prob           261477\n",
      "dtype: int64\n",
      "user_id        0.0\n",
      "merchant_id    0.0\n",
      "prob           1.0\n",
      "dtype: float64\n"
     ]
    }
   ],
   "source": [
    "print(test_format1.head())\n",
    "print(\"============================================\")\n",
    "test_format1.describe()\n",
    "print(\"============================================\")\n",
    "print(test_format1.isnull().sum())\n",
    "print(test_format1.isnull().sum()/len(test_format1))"
   ]
  },
  {
   "cell_type": "code",
   "execution_count": null,
   "metadata": {},
   "outputs": [
    {
     "name": "stdout",
     "output_type": "stream",
     "text": [
      "   user_id  age_range  gender  merchant_id  label  \\\n",
      "0   163968        0.0     0.0         4378   -1.0   \n",
      "1   163968        0.0     0.0         2300   -1.0   \n",
      "2   163968        0.0     0.0         1551   -1.0   \n",
      "3   163968        0.0     0.0         4343   -1.0   \n",
      "4   163968        0.0     0.0         4911   -1.0   \n",
      "\n",
      "                                        activity_log  \n",
      "0                             101206:812:6968:0614:0  \n",
      "1  588758:844:3833:0618:0#71782:844:3833:1111:2#7...  \n",
      "2  312747:243:1954:0627:0#312747:243:1954:0627:0#...  \n",
      "3                            932390:1612:3201:0628:0  \n",
      "4                             957657:662:3089:0612:0  \n",
      "============================================\n",
      "============================================\n",
      "user_id              0\n",
      "age_range        19420\n",
      "gender           63250\n",
      "merchant_id          0\n",
      "label           261477\n",
      "activity_log      3006\n",
      "dtype: int64\n",
      "user_id         0.000000\n",
      "age_range       0.002763\n",
      "gender          0.009000\n",
      "merchant_id     0.000000\n",
      "label           0.037205\n",
      "activity_log    0.000428\n",
      "dtype: float64\n"
     ]
    }
   ],
   "source": [
    "# print(test_format2.head())\n",
    "# print(\"============================================\")\n",
    "# test_format2.describe()\n",
    "# print(\"============================================\")\n",
    "# print(test_format2.isnull().sum())\n",
    "# print(test_format2.isnull().sum()/len(test_format2))"
   ]
  },
  {
   "cell_type": "code",
   "execution_count": 8,
   "metadata": {},
   "outputs": [
    {
     "name": "stdout",
     "output_type": "stream",
     "text": [
      "   user_id  age_range  gender\n",
      "0   376517        6.0     1.0\n",
      "1   234512        5.0     0.0\n",
      "2   344532        5.0     0.0\n",
      "3   186135        5.0     0.0\n",
      "4    30230        5.0     0.0\n",
      "============================================\n",
      "             user_id      age_range         gender\n",
      "count  424170.000000  421953.000000  417734.000000\n",
      "mean   212085.500000       2.930262       0.341179\n",
      "std    122447.476178       1.942978       0.524112\n",
      "min         1.000000       0.000000       0.000000\n",
      "25%    106043.250000       2.000000       0.000000\n",
      "50%    212085.500000       3.000000       0.000000\n",
      "75%    318127.750000       4.000000       1.000000\n",
      "max    424170.000000       8.000000       2.000000\n",
      "============================================\n",
      "user_id         0\n",
      "age_range    2217\n",
      "gender       6436\n",
      "dtype: int64\n",
      "user_id      0.000000\n",
      "age_range    0.005227\n",
      "gender       0.015173\n",
      "dtype: float64\n"
     ]
    }
   ],
   "source": [
    "print(user_info_format1.head())\n",
    "print(\"============================================\")\n",
    "print(user_info_format1.describe())\n",
    "print(\"============================================\")\n",
    "print(user_info_format1.isnull().sum())\n",
    "print(user_info_format1.isnull().sum()/len(user_info_format1))"
   ]
  },
  {
   "cell_type": "code",
   "execution_count": 9,
   "metadata": {},
   "outputs": [
    {
     "name": "stdout",
     "output_type": "stream",
     "text": [
      "   user_id  item_id  cat_id  merchant_id  brand_id  time_stamp  action_type\n",
      "0   328862   323294     833         2882    2661.0         829            0\n",
      "1   328862   844400    1271         2882    2661.0         829            0\n",
      "2   328862   575153    1271         2882    2661.0         829            0\n",
      "3   328862   996875    1271         2882    2661.0         829            0\n",
      "4   328862  1086186    1271         1253    1049.0         829            0\n",
      "============================================\n",
      "            user_id       item_id        cat_id   merchant_id      brand_id  \\\n",
      "count  5.492533e+07  5.492533e+07  5.492533e+07  5.492533e+07  5.483432e+07   \n",
      "mean   2.121568e+05  5.538613e+05  8.770308e+02  2.470941e+03  4.153348e+03   \n",
      "std    1.222872e+05  3.221459e+05  4.486269e+02  1.473310e+03  2.397679e+03   \n",
      "min    1.000000e+00  1.000000e+00  1.000000e+00  1.000000e+00  1.000000e+00   \n",
      "25%    1.063360e+05  2.731680e+05  5.550000e+02  1.151000e+03  2.027000e+03   \n",
      "50%    2.126540e+05  5.555290e+05  8.210000e+02  2.459000e+03  4.065000e+03   \n",
      "75%    3.177500e+05  8.306890e+05  1.252000e+03  3.760000e+03  6.196000e+03   \n",
      "max    4.241700e+05  1.113166e+06  1.671000e+03  4.995000e+03  8.477000e+03   \n",
      "\n",
      "         time_stamp   action_type  \n",
      "count  5.492533e+07  5.492533e+07  \n",
      "mean   9.230953e+02  2.854458e-01  \n",
      "std    1.954305e+02  8.075806e-01  \n",
      "min    5.110000e+02  0.000000e+00  \n",
      "25%    7.300000e+02  0.000000e+00  \n",
      "50%    1.010000e+03  0.000000e+00  \n",
      "75%    1.109000e+03  0.000000e+00  \n",
      "max    1.112000e+03  3.000000e+00  \n",
      "============================================\n",
      "user_id            0\n",
      "item_id            0\n",
      "cat_id             0\n",
      "merchant_id        0\n",
      "brand_id       91015\n",
      "time_stamp         0\n",
      "action_type        0\n",
      "dtype: int64\n",
      "user_id        0.000000\n",
      "item_id        0.000000\n",
      "cat_id         0.000000\n",
      "merchant_id    0.000000\n",
      "brand_id       0.001657\n",
      "time_stamp     0.000000\n",
      "action_type    0.000000\n",
      "dtype: float64\n"
     ]
    }
   ],
   "source": [
    "print(user_log_format1.head())\n",
    "print(\"============================================\")\n",
    "print(user_log_format1.describe())\n",
    "print(\"============================================\")\n",
    "print(user_log_format1.isnull().sum())\n",
    "print(user_log_format1.isnull().sum()/len(user_log_format1))"
   ]
  },
  {
   "cell_type": "code",
   "execution_count": 15,
   "metadata": {},
   "outputs": [
    {
     "name": "stdout",
     "output_type": "stream",
     "text": [
      "Empty DataFrame\n",
      "Columns: [user_id, merchant_id]\n",
      "Index: []\n",
      "Empty DataFrame\n",
      "Columns: [user_id, merchant_id_x, merchant_id_y]\n",
      "Index: []\n",
      "           user_id_x  merchant_id  user_id_y\n",
      "0              34176         3906     325008\n",
      "1              34176         3906     282768\n",
      "2              34176         3906     187542\n",
      "3              34176         3906      97206\n",
      "4              34176         3906     153795\n",
      "...              ...          ...        ...\n",
      "150064189      41078         3966     395099\n",
      "150064190      41078         3966     218750\n",
      "150064191      76387         2350     174237\n",
      "150064192      76387         2350       3123\n",
      "150064193      76387         2350      66667\n",
      "\n",
      "[150064194 rows x 3 columns]\n"
     ]
    }
   ],
   "source": [
    "# does there exist user_id and merchant_id pair that appears in test set\n",
    "print(pd.merge(train_format1[[\"user_id\", \"merchant_id\"]].drop_duplicates(), test_format1[[\"user_id\", \"merchant_id\"]].drop_duplicates(), how=\"inner\", on=[\"user_id\", \"merchant_id\"]))\n",
    "print(pd.merge(train_format1[[\"user_id\", \"merchant_id\"]].drop_duplicates(), test_format1[[\"user_id\", \"merchant_id\"]].drop_duplicates(), how=\"inner\", on=[\"user_id\"]))\n",
    "print(pd.merge(train_format1[[\"user_id\", \"merchant_id\"]].drop_duplicates(), test_format1[[\"user_id\", \"merchant_id\"]].drop_duplicates(), how=\"inner\", on=[\"merchant_id\"]))"
   ]
  },
  {
   "cell_type": "code",
   "execution_count": 25,
   "metadata": {},
   "outputs": [
    {
     "name": "stdout",
     "output_type": "stream",
     "text": [
      "         user_id  item_id  cat_id  merchant_id  brand_id\n",
      "4930955   360576   991507    1142         4044      82.0\n",
      "4930956   360576   948181     614         1581    4066.0\n",
      "4930958   360576  1111020     614         1581    4066.0\n",
      "4930959   360576   755622     614         1783    5041.0\n",
      "4930960   360576   294442     614         1581    4066.0\n",
      "4930961   360576   864510     614         1581    4066.0\n",
      "4930962   360576   326679     614         1581    4066.0\n",
      "4930963   360576   720542     748         2582    7208.0\n",
      "4930964   360576   755622     614         1783    5041.0\n",
      "4930967   360576   794107     614         1581    4066.0\n",
      "4930969   360576   864510     614         1581    4066.0\n",
      "4930970   360576   755622     614         1783    5041.0\n",
      "4930971   360576   755622     614         1783    5041.0\n",
      "4930973   360576   982117     632         1581    4066.0\n",
      "4930974   360576    61318     229         1581    4066.0\n",
      "4930975   360576   164776     389         3848    4452.0\n",
      "4930976   360576  1091811    1142         4044      82.0\n",
      "4930977   360576   863626     119         1581    4066.0\n",
      "4930978   360576   613888     748         3311    6548.0\n"
     ]
    }
   ],
   "source": [
    "print(user_log_format1[user_log_format1[\"user_id\"] == 360576])"
   ]
  },
  {
   "cell_type": "code",
   "execution_count": 26,
   "metadata": {},
   "outputs": [
    {
     "data": {
      "text/html": [
       "<div>\n",
       "<style scoped>\n",
       "    .dataframe tbody tr th:only-of-type {\n",
       "        vertical-align: middle;\n",
       "    }\n",
       "\n",
       "    .dataframe tbody tr th {\n",
       "        vertical-align: top;\n",
       "    }\n",
       "\n",
       "    .dataframe thead th {\n",
       "        text-align: right;\n",
       "    }\n",
       "</style>\n",
       "<table border=\"1\" class=\"dataframe\">\n",
       "  <thead>\n",
       "    <tr style=\"text-align: right;\">\n",
       "      <th></th>\n",
       "      <th>user_id</th>\n",
       "      <th>merchant_id</th>\n",
       "      <th>prob</th>\n",
       "    </tr>\n",
       "  </thead>\n",
       "  <tbody>\n",
       "  </tbody>\n",
       "</table>\n",
       "</div>"
      ],
      "text/plain": [
       "Empty DataFrame\n",
       "Columns: [user_id, merchant_id, prob]\n",
       "Index: []"
      ]
     },
     "execution_count": 26,
     "metadata": {},
     "output_type": "execute_result"
    }
   ],
   "source": [
    "test_format1[~test_format1['user_id'].isin(user_log_format1['user_id'])]"
   ]
  },
  {
   "cell_type": "code",
   "execution_count": 4,
   "metadata": {},
   "outputs": [
    {
     "name": "stdout",
     "output_type": "stream",
     "text": [
      "Original test length:  261477\n",
      "User merchant pair in test not appear in log:  261477\n",
      "User in test not appear in log:  0\n",
      "merchant in test not appear in log:  0\n"
     ]
    }
   ],
   "source": [
    "#verify user activity of test users all exist inside the data\n",
    "missing_keys = test_format1[~test_format1[['user_id', 'merchant_id']].isin(user_log_format1[['user_id', 'merchant_id']])]\n",
    "missing_keys_user_only = test_format1[~test_format1['user_id'].isin(user_log_format1['user_id'])]\n",
    "missing_keys_merchant_only = test_format1[~test_format1[ 'merchant_id'].isin(user_log_format1['merchant_id'])]\n",
    "print(\"Original test length: \", len(test_format1))\n",
    "print(\"User merchant pair in test not appear in log: \", len(missing_keys.drop_duplicates()))\n",
    "print(\"User in test not appear in log: \", len(missing_keys_user_only.drop_duplicates()))\n",
    "print(\"merchant in test not appear in log: \", len(missing_keys_merchant_only.drop_duplicates()))"
   ]
  },
  {
   "cell_type": "code",
   "execution_count": 22,
   "metadata": {},
   "outputs": [
    {
     "name": "stdout",
     "output_type": "stream",
     "text": [
      "Train user id Uniqueness ratio:  0.8129216756624141\n",
      "Test user id Uniqueness ratio:  0.8111918065451263\n",
      "Train merchant id Uniqueness ratio:  0.007639996319921492\n",
      "Test merchant Uniqueness ratio:  0.007622085307694367\n"
     ]
    }
   ],
   "source": [
    "#unique value of user id\n",
    "train_format1['user_id'].nunique()\n",
    "print(\"Train user id Uniqueness ratio: \", train_format1['user_id'].nunique() / len(train_format1['user_id']))\n",
    "print(\"Test user id Uniqueness ratio: \", test_format1['user_id'].nunique() / len(test_format1['user_id']))\n",
    "\n",
    "print(\"Train merchant id Uniqueness ratio: \", train_format1['merchant_id'].nunique() / len(train_format1['merchant_id']))\n",
    "print(\"Test merchant Uniqueness ratio: \", test_format1['merchant_id'].nunique() / len(test_format1['merchant_id']))"
   ]
  },
  {
   "cell_type": "code",
   "execution_count": 25,
   "metadata": {},
   "outputs": [
    {
     "name": "stdout",
     "output_type": "stream",
     "text": [
      "Amount of user id and merchant id duplicated in train:  0\n",
      "Amount of user id and merchant id duplicated in test:  0\n"
     ]
    }
   ],
   "source": [
    "#duplicate data in train_format1 between merchant and user id\n",
    "print(\"Amount of user id and merchant id duplicated in train: \", train_format1[['user_id', 'merchant_id']].duplicated().sum())\n",
    "print(\"Amount of user id and merchant id duplicated in test: \",test_format1[['user_id', 'merchant_id']].duplicated().sum())"
   ]
  },
  {
   "cell_type": "code",
   "execution_count": 28,
   "metadata": {},
   "outputs": [
    {
     "name": "stdout",
     "output_type": "stream",
     "text": [
      "total of merchant and user in test format 2:  6766466\n",
      "======= Mask ==========\n",
      "0          False\n",
      "1          False\n",
      "2          False\n",
      "3          False\n",
      "4          False\n",
      "           ...  \n",
      "7027938    False\n",
      "7027939    False\n",
      "7027940    False\n",
      "7027941    False\n",
      "7027942    False\n",
      "Length: 6766466, dtype: bool\n",
      "Amount that is contained in format1:  0\n"
     ]
    }
   ],
   "source": [
    "#check if all label -1 in format_2 is all contains in user_log format 1\n",
    "tmp = test_format2[test_format2[\"label\"] == -1][[\"user_id\", \"merchant_id\"]]\n",
    "mask = tmp.isin(user_log_format1[[\"user_id\", \"merchant_id\"]]).all(axis=1)\n",
    "print(\"total of merchant and user in test format 2: \", len(tmp))\n",
    "print(\"======= Mask ==========\")\n",
    "print(mask)\n",
    "print(\"Amount that is contained in format1: \", len(tmp[mask]))\n",
    "del tmp"
   ]
  },
  {
   "cell_type": "code",
   "execution_count": 5,
   "metadata": {},
   "outputs": [
    {
     "name": "stdout",
     "output_type": "stream",
     "text": [
      "   user_id  merchant_id  label  item_id  cat_id  brand_id time_stamp  \\\n",
      "0    34176         3906      0   757713     821    6268.0       1111   \n",
      "1    34176         3906      0   757713     821    6268.0       1111   \n",
      "2    34176         3906      0   757713     821    6268.0       1111   \n",
      "3    34176         3906      0   757713     821    6268.0       1111   \n",
      "4    34176          121      0   800752    1028    2337.0       1111   \n",
      "\n",
      "   action_type  \n",
      "0            2  \n",
      "1            0  \n",
      "2            0  \n",
      "3            0  \n",
      "4            2  \n",
      "====\n",
      "   user_id  merchant_id  prob  item_id  cat_id  brand_id time_stamp  \\\n",
      "0   163968         4605   NaN   772645    1368    7622.0       1111   \n",
      "1   163968         4605   NaN   772645    1368    7622.0       1111   \n",
      "2   360576         1581   NaN   948181     614    4066.0       1111   \n",
      "3   360576         1581   NaN  1111020     614    4066.0       1111   \n",
      "4   360576         1581   NaN   294442     614    4066.0       1111   \n",
      "\n",
      "   action_type  \n",
      "0            2  \n",
      "1            0  \n",
      "2            2  \n",
      "3            2  \n",
      "4            2  \n",
      "====\n",
      "   user_id  merchant_id  label  item_id  cat_id  brand_id time_stamp  \\\n",
      "0    34176         3906      0   757713     821    6268.0       1111   \n",
      "1    34176         3906      0   757713     821    6268.0       1111   \n",
      "2    34176         3906      0   757713     821    6268.0       1111   \n",
      "3    34176         3906      0   757713     821    6268.0       1111   \n",
      "4    34176          121      0   800752    1028    2337.0       1111   \n",
      "\n",
      "   action_type  age_range  gender  \n",
      "0            2        6.0     0.0  \n",
      "1            0        6.0     0.0  \n",
      "2            0        6.0     0.0  \n",
      "3            0        6.0     0.0  \n",
      "4            2        6.0     0.0  \n",
      "====\n",
      "   user_id  merchant_id  prob  item_id  cat_id  brand_id time_stamp  \\\n",
      "0   163968         4605   NaN   772645    1368    7622.0       1111   \n",
      "1   163968         4605   NaN   772645    1368    7622.0       1111   \n",
      "2   360576         1581   NaN   948181     614    4066.0       1111   \n",
      "3   360576         1581   NaN  1111020     614    4066.0       1111   \n",
      "4   360576         1581   NaN   294442     614    4066.0       1111   \n",
      "\n",
      "   action_type  age_range  gender  \n",
      "0            2        0.0     0.0  \n",
      "1            0        0.0     0.0  \n",
      "2            2        2.0     2.0  \n",
      "3            2        2.0     2.0  \n",
      "4            2        2.0     2.0  \n",
      "====\n"
     ]
    }
   ],
   "source": [
    "#join the tables\n",
    "train_format1 = pd.merge(train_format1, user_log_format1, on=['user_id', 'merchant_id'], how='left')\n",
    "print(train_format1.head())\n",
    "print(\"====\")\n",
    "test_format1 = pd.merge(test_format1, user_log_format1, on=['user_id', 'merchant_id'], how='left')\n",
    "print(test_format1.head())\n",
    "print(\"====\")\n",
    "train_format1 = pd.merge(train_format1, user_info_format1, on='user_id', how='left')\n",
    "print(train_format1.head())\n",
    "print(\"====\")\n",
    "test_format1 = pd.merge(test_format1, user_info_format1, on='user_id', how='left')\n",
    "print(test_format1.head())\n",
    "print(\"====\")\n",
    "#erase the original dataframe\n",
    "del user_info_format1\n",
    "del user_log_format1"
   ]
  },
  {
   "cell_type": "code",
   "execution_count": 6,
   "metadata": {},
   "outputs": [
    {
     "name": "stdout",
     "output_type": "stream",
     "text": [
      "1653030\n",
      "1650271\n"
     ]
    }
   ],
   "source": [
    "print(len(train_format1))\n",
    "print(len(test_format1))"
   ]
  },
  {
   "cell_type": "code",
   "execution_count": 14,
   "metadata": {},
   "outputs": [
    {
     "name": "stdout",
     "output_type": "stream",
     "text": [
      "Test user id not in train:  212108\n",
      "Test merchant id not in train:  1\n",
      "Category not in train:  86\n",
      "Brand not in train:  3403\n"
     ]
    }
   ],
   "source": [
    "# are all users and merchant in tests appear in trains\n",
    "print(\"Test user id not in train: \", len(set(test_format1['user_id']) - set(train_format1['user_id'])))\n",
    "print(\"Test merchant id not in train: \", len(set(test_format1['merchant_id']) - set(train_format1['merchant_id'])))\n",
    "print(\"Category not in train: \", len(set(test_format1['cat_id']) - set(train_format1['cat_id'])))\n",
    "print(\"Brand not in train: \", len(set(test_format1['brand_id']) - set(train_format1['brand_id'])))"
   ]
  },
  {
   "cell_type": "code",
   "execution_count": 9,
   "metadata": {},
   "outputs": [
    {
     "name": "stdout",
     "output_type": "stream",
     "text": [
      "         user_id  age_range  gender  merchant_id  label  \\\n",
      "0         163968        0.0     0.0         4378   -1.0   \n",
      "1         163968        0.0     0.0         2300   -1.0   \n",
      "2         163968        0.0     0.0         1551   -1.0   \n",
      "3         163968        0.0     0.0         4343   -1.0   \n",
      "4         163968        0.0     0.0         4911   -1.0   \n",
      "...          ...        ...     ...          ...    ...   \n",
      "7027938    32639        0.0     0.0         2550   -1.0   \n",
      "7027939    32639        0.0     0.0         1364   -1.0   \n",
      "7027940    32639        0.0     0.0          503   -1.0   \n",
      "7027941    32639        0.0     0.0         2286   -1.0   \n",
      "7027942    32639        0.0     0.0         1506   -1.0   \n",
      "\n",
      "                                              activity_log  \n",
      "0                                   101206:812:6968:0614:0  \n",
      "1        588758:844:3833:0618:0#71782:844:3833:1111:2#7...  \n",
      "2        312747:243:1954:0627:0#312747:243:1954:0627:0#...  \n",
      "3                                  932390:1612:3201:0628:0  \n",
      "4                                   957657:662:3089:0612:0  \n",
      "...                                                    ...  \n",
      "7027938  380306:177:3545:1028:0#987028:177:3545:1028:0#...  \n",
      "7027939                            927267:1213:6326:0807:0  \n",
      "7027940                              12898:420:5197:0926:3  \n",
      "7027941                            805269:1455:5262:1026:0  \n",
      "7027942                              28017:812:4888:0525:0  \n",
      "\n",
      "[7027943 rows x 6 columns]\n"
     ]
    }
   ],
   "source": [
    "print(test_format2)"
   ]
  },
  {
   "cell_type": "code",
   "execution_count": null,
   "metadata": {},
   "outputs": [
    {
     "data": {
      "text/html": [
       "<div>\n",
       "<style scoped>\n",
       "    .dataframe tbody tr th:only-of-type {\n",
       "        vertical-align: middle;\n",
       "    }\n",
       "\n",
       "    .dataframe tbody tr th {\n",
       "        vertical-align: top;\n",
       "    }\n",
       "\n",
       "    .dataframe thead th {\n",
       "        text-align: right;\n",
       "    }\n",
       "</style>\n",
       "<table border=\"1\" class=\"dataframe\">\n",
       "  <thead>\n",
       "    <tr style=\"text-align: right;\">\n",
       "      <th></th>\n",
       "      <th>user_id</th>\n",
       "      <th>merchant_id</th>\n",
       "    </tr>\n",
       "  </thead>\n",
       "  <tbody>\n",
       "    <tr>\n",
       "      <th>0</th>\n",
       "      <td>163968</td>\n",
       "      <td>4378</td>\n",
       "    </tr>\n",
       "    <tr>\n",
       "      <th>1</th>\n",
       "      <td>163968</td>\n",
       "      <td>2300</td>\n",
       "    </tr>\n",
       "    <tr>\n",
       "      <th>2</th>\n",
       "      <td>163968</td>\n",
       "      <td>1551</td>\n",
       "    </tr>\n",
       "    <tr>\n",
       "      <th>3</th>\n",
       "      <td>163968</td>\n",
       "      <td>4343</td>\n",
       "    </tr>\n",
       "    <tr>\n",
       "      <th>4</th>\n",
       "      <td>163968</td>\n",
       "      <td>4911</td>\n",
       "    </tr>\n",
       "    <tr>\n",
       "      <th>...</th>\n",
       "      <td>...</td>\n",
       "      <td>...</td>\n",
       "    </tr>\n",
       "    <tr>\n",
       "      <th>7027938</th>\n",
       "      <td>32639</td>\n",
       "      <td>2550</td>\n",
       "    </tr>\n",
       "    <tr>\n",
       "      <th>7027939</th>\n",
       "      <td>32639</td>\n",
       "      <td>1364</td>\n",
       "    </tr>\n",
       "    <tr>\n",
       "      <th>7027940</th>\n",
       "      <td>32639</td>\n",
       "      <td>503</td>\n",
       "    </tr>\n",
       "    <tr>\n",
       "      <th>7027941</th>\n",
       "      <td>32639</td>\n",
       "      <td>2286</td>\n",
       "    </tr>\n",
       "    <tr>\n",
       "      <th>7027942</th>\n",
       "      <td>32639</td>\n",
       "      <td>1506</td>\n",
       "    </tr>\n",
       "  </tbody>\n",
       "</table>\n",
       "<p>6766466 rows × 2 columns</p>\n",
       "</div>"
      ],
      "text/plain": [
       "         user_id  merchant_id\n",
       "0         163968         4378\n",
       "1         163968         2300\n",
       "2         163968         1551\n",
       "3         163968         4343\n",
       "4         163968         4911\n",
       "...          ...          ...\n",
       "7027938    32639         2550\n",
       "7027939    32639         1364\n",
       "7027940    32639          503\n",
       "7027941    32639         2286\n",
       "7027942    32639         1506\n",
       "\n",
       "[6766466 rows x 2 columns]"
      ]
     },
     "execution_count": 11,
     "metadata": {},
     "output_type": "execute_result"
    }
   ],
   "source": []
  },
  {
   "cell_type": "markdown",
   "metadata": {},
   "source": [
    "# 1. Preprocess Data"
   ]
  },
  {
   "cell_type": "markdown",
   "metadata": {},
   "source": []
  },
  {
   "cell_type": "markdown",
   "metadata": {},
   "source": [
    "# 2. Matrix Decomposition, with sklearn"
   ]
  },
  {
   "cell_type": "markdown",
   "metadata": {},
   "source": [
    "## Construct the embedding matrix of user_id (row), and merchant (column), and embedding vector (latent_size), for each "
   ]
  },
  {
   "cell_type": "code",
   "execution_count": 8,
   "metadata": {},
   "outputs": [
    {
     "name": "stdout",
     "output_type": "stream",
     "text": [
      "user_id  merchant_id\n",
      "391188   1102           3904\n",
      "109962   1102           1253\n",
      "368492   4044            683\n",
      "100051   1457            629\n",
      "351957   1963            612\n",
      "                        ... \n",
      "108932   2031              1\n",
      "         3090              1\n",
      "253012   3205              1\n",
      "108939   3862              1\n",
      "239925   2273              1\n",
      "Length: 260864, dtype: int64\n"
     ]
    }
   ],
   "source": [
    "print(train_format1[[\"user_id\", \"merchant_id\"]].value_counts())"
   ]
  },
  {
   "cell_type": "code",
   "execution_count": null,
   "metadata": {},
   "outputs": [
    {
     "name": "stdout",
     "output_type": "stream",
     "text": [
      "Value counts: =====================================\n",
      "user_id_enc  merchant_id_enc\n",
      "195520       419                3904\n",
      "55077        419                1253\n",
      "184303       1575                683\n",
      "50106        554                 629\n",
      "176047       757                 612\n",
      "                                ... \n",
      "54564        783                   1\n",
      "             1210                  1\n",
      "126495       1254                  1\n",
      "54570        1502                  1\n",
      "119918       885                   1\n",
      "Length: 260864, dtype: int64\n",
      "Brand group: =====================================\n",
      "user_id_enc  merchant_id_enc\n",
      "0            378                [2447]\n",
      "1            446                 [274]\n",
      "2            510                [3032]\n",
      "             1661               [1166]\n",
      "3            439                [1635]\n",
      "                                 ...  \n",
      "212057       652                [2854]\n",
      "212058       1488                [808]\n",
      "212059       229                 [139]\n",
      "212060       451                 [827]\n",
      "212061       1670                [596]\n",
      "Name: brand_id_enc, Length: 260864, dtype: object\n",
      "Cat group: =====================================\n"
     ]
    },
    {
     "data": {
      "text/plain": [
       "(None,\n",
       " {'row_encoder': LabelEncoder(),\n",
       "  'col_encoder': LabelEncoder(),\n",
       "  'brand_encoder': LabelEncoder(),\n",
       "  'cat_encoder': LabelEncoder(),\n",
       "  'value_counts': user_id_enc  merchant_id_enc\n",
       "  195520       419                3904\n",
       "  55077        419                1253\n",
       "  184303       1575                683\n",
       "  50106        554                 629\n",
       "  176047       757                 612\n",
       "                                  ... \n",
       "  54564        783                   1\n",
       "               1210                  1\n",
       "  126495       1254                  1\n",
       "  54570        1502                  1\n",
       "  119918       885                   1\n",
       "  Length: 260864, dtype: int64,\n",
       "  'brand_group': user_id_enc  merchant_id_enc\n",
       "  0            378                [2447]\n",
       "  1            446                 [274]\n",
       "  2            510                [3032]\n",
       "               1661               [1166]\n",
       "  3            439                [1635]\n",
       "                                   ...  \n",
       "  212057       652                [2854]\n",
       "  212058       1488                [808]\n",
       "  212059       229                 [139]\n",
       "  212060       451                 [827]\n",
       "  212061       1670                [596]\n",
       "  Name: brand_id_enc, Length: 260864, dtype: object,\n",
       "  'cat_group': user_id_enc  merchant_id_enc\n",
       "  0            378                                      [643]\n",
       "  1            446                                      [181]\n",
       "  2            510                                      [160]\n",
       "               1661                                     [496]\n",
       "  3            439                                 [459, 605]\n",
       "                                             ...             \n",
       "  212057       652                                      [732]\n",
       "  212058       1488                                     [583]\n",
       "  212059       229                [1000, 1013, 445, 256, 805]\n",
       "  212060       451                                      [784]\n",
       "  212061       1670                                     [441]\n",
       "  Name: cat_id_enc, Length: 260864, dtype: object})"
      ]
     },
     "execution_count": 10,
     "metadata": {},
     "output_type": "execute_result"
    }
   ],
   "source": [
    "\n",
    "# Prepare interaction matrices from the training data\n",
    "def prepare_interaction_matrix(train_data, test_data, latent_size=20, sample_top_occurence=None):\n",
    "    \"\"\"\n",
    "    Prepares a sparse interaction matrix for the given row and column.\n",
    "    \"\"\"\n",
    "    row_encoder = LabelEncoder()\n",
    "    col_encoder = LabelEncoder()\n",
    "    brand_encoder = LabelEncoder()\n",
    "    cat_encoder = LabelEncoder()\n",
    "\n",
    "    #merge to get the embedding in one space\n",
    "    train_test_data = train_data.concat(test_data)\n",
    "\n",
    "\n",
    "    train_test_data['user_id_enc'] = row_encoder.fit_transform(train_test_data['user_id'])\n",
    "    train_test_data['merchant_id_enc'] = col_encoder.fit_transform(train_test_data['merchant_id'])\n",
    "    train_test_data['brand_id_enc'] = brand_encoder.fit_transform(train_test_data['brand_id'])\n",
    "    train_test_data['cat_id_enc'] = cat_encoder.fit_transform(train_test_data['cat_id'])\n",
    "\n",
    "\n",
    "    value_counts_user_merchants = train_test_data[['user_id_enc', 'merchant_id_enc']].value_counts()\n",
    "    value_counts_user_brands = train_test_data[['user_id_enc', 'brand_id_enc']].value_counts()\n",
    "    value_counts_user_cats = train_test_data[['user_id_enc', 'cat_id_enc']].value_counts()\\\n",
    "    \n",
    "    #arrange into csr matrix\n",
    "    csr_matrix_user_merchants = csr_matrix()\n",
    "    value_counts_user_merchants = \n",
    "    print(\"Value counts: =====================================\")\n",
    "    print(value_counts)\n",
    "    if sample_top_occurence is not None:\n",
    "        #only pick top k interaction\n",
    "        top_occurence = value_counts[:sample_top_occurence]\n",
    "        train_data = train_data.set_index(['user_id_enc', 'merchant_id_enc']).loc[top_occurence.index].reset_index()\n",
    "    \n",
    "    #group the user_id and merchant id brand and cat\n",
    "    brand_group = train_data.groupby(['user_id_enc', 'merchant_id_enc'])['brand_id_enc'].unique()\n",
    "    \n",
    "    print(\"Brand group: =====================================\")\n",
    "    print(brand_group)\n",
    "\n",
    "    print(\"Cat group: =====================================\")\n",
    "    cat_group = train_data.groupby(['user_id_enc', 'merchant_id_enc'])['cat_id_enc'].unique()\n",
    "\n",
    "    # metadata:\n",
    "    metadata = {\n",
    "        'row_encoder': row_encoder,\n",
    "        'col_encoder': col_encoder,\n",
    "        'brand_encoder': brand_encoder,\n",
    "        'cat_encoder': cat_encoder,\n",
    "        'value_counts': value_counts,\n",
    "        'brand_group': brand_group,\n",
    "        'cat_group': cat_group\n",
    "    }\n",
    "\n",
    "    #create embedding matrices for user, merchant\n",
    "\n",
    "    return None, metadata\n",
    "\n",
    "prepare_interaction_matrix(train_data=train_format1, latent_size=20, sample_top_occurence=None)"
   ]
  },
  {
   "cell_type": "code",
   "execution_count": null,
   "metadata": {},
   "outputs": [],
   "source": [
    "from scipy.sparse import csr_matrix\n",
    "\n",
    "\n",
    "# Create user-merchant interaction matrix\n",
    "interaction_matrix, user_encoder, merchant_encoder = prepare_interaction_matrix(\n",
    "    train_format1, row_name='user_id', col_name='merchant_id'\n",
    ")\n",
    "\n",
    "# Shape of the matrix\n",
    "interaction_matrix_shape = interaction_matrix.shape\n",
    "\n",
    "interaction_matrix_shape\n",
    "\n",
    "\n",
    "embedding_latent_dim = 20\n",
    "\n",
    "# Apply NMF to derive merchant embeddings\n",
    "num_components = 20  # Number of latent features\n",
    "nmf_model = NMF(n_components=num_components, init='random', random_state=42, max_iter=500)\n",
    "\n",
    "# Fit the NMF model on the interaction matrix\n",
    "merchant_embeddings = nmf_model.fit_transform(interaction_matrix)\n",
    "user_embeddings = nmf_model.components_.T\n",
    "\n",
    "# Dimensions of the embeddings\n",
    "merchant_embeddings_shape = merchant_embeddings.shape\n",
    "user_embeddings_shape = user_embeddings.shape\n",
    "\n",
    "merchant_embeddings_shape, user_embeddings_shape"
   ]
  },
  {
   "cell_type": "code",
   "execution_count": null,
   "metadata": {},
   "outputs": [],
   "source": [
    "# Extract `seller_id` embeddings (merchant embeddings are already associated with seller_id)\n",
    "train_data['seller_id'] = merchant_encoder.inverse_transform(train_data['col_index'])\n",
    "\n",
    "# Now prepare for category (cat_id) and brand (brand_id) embeddings\n",
    "# Assuming the original dataset has `cat_id` and `brand_id` to compute their averages\n",
    "def compute_average_embeddings(data, target_col, embedding_matrix, encoder):\n",
    "    \"\"\"\n",
    "    Computes average embeddings for a target column based on the embedding matrix.\n",
    "    If multiple embeddings exist for a single target (e.g., user interaction with multiple categories),\n",
    "    the mean is calculated.\n",
    "    \"\"\"\n",
    "    data['target_index'] = encoder.transform(data[target_col])\n",
    "    grouped = data.groupby('user_id')['target_index'].apply(list)\n",
    "\n",
    "    average_embeddings = []\n",
    "    for user, indices in grouped.items():\n",
    "        if indices:  # Check for valid indices\n",
    "            average_embeddings.append(embedding_matrix[indices].mean(axis=0))\n",
    "        else:\n",
    "            average_embeddings.append([0] * embedding_matrix.shape[1])  # Zero vector if no indices\n",
    "\n",
    "    return pd.DataFrame(average_embeddings, index=grouped.index)\n",
    "\n",
    "# Encode `cat_id` and `brand_id` (dummy for demonstration as we lack the columns here)\n",
    "# Assume `cat_id` and `brand_id` are numeric in real data\n",
    "cat_encoder = LabelEncoder()\n",
    "brand_encoder = LabelEncoder()\n",
    "\n",
    "# Simulating `cat_id` and `brand_id` in train_data (mock process as real columns are absent)\n",
    "train_data['cat_id'] = train_data['merchant_id'] % 100  # Mock category IDs\n",
    "train_data['brand_id'] = train_data['merchant_id'] % 50  # Mock brand IDs\n",
    "\n",
    "# Encode categorical features\n",
    "train_data['cat_index'] = cat_encoder.fit_transform(train_data['cat_id'])\n",
    "train_data['brand_index'] = brand_encoder.fit_transform(train_data['brand_id'])\n",
    "\n",
    "# Simulate embeddings for categories and brands based on merchant embeddings\n",
    "category_embeddings = merchant_embeddings.copy()  # Mock: categories share merchant embeddings\n",
    "brand_embeddings = merchant_embeddings.copy()     # Mock: brands share merchant embeddings\n",
    "\n",
    "# Compute average embeddings for categories and brands\n",
    "average_cat_embeddings = compute_average_embeddings(train_data, 'cat_id', category_embeddings, cat_encoder)\n",
    "average_brand_embeddings = compute_average_embeddings(train_data, 'brand_id', brand_embeddings, brand_encoder)\n",
    "\n",
    "# Dimensions of the average embeddings\n",
    "average_cat_embeddings_shape = average_cat_embeddings.shape\n",
    "average_brand_embeddings_shape = average_brand_embeddings.shape\n",
    "\n",
    "average_cat_embeddings_shape, average_brand_embeddings_shape\n"
   ]
  },
  {
   "cell_type": "code",
   "execution_count": null,
   "metadata": {},
   "outputs": [],
   "source": []
  },
  {
   "cell_type": "code",
   "execution_count": null,
   "metadata": {},
   "outputs": [],
   "source": []
  },
  {
   "cell_type": "code",
   "execution_count": null,
   "metadata": {},
   "outputs": [],
   "source": []
  },
  {
   "cell_type": "code",
   "execution_count": null,
   "metadata": {},
   "outputs": [],
   "source": []
  },
  {
   "cell_type": "code",
   "execution_count": null,
   "metadata": {},
   "outputs": [],
   "source": []
  },
  {
   "cell_type": "code",
   "execution_count": null,
   "metadata": {},
   "outputs": [],
   "source": []
  },
  {
   "cell_type": "code",
   "execution_count": null,
   "metadata": {},
   "outputs": [],
   "source": []
  },
  {
   "cell_type": "code",
   "execution_count": null,
   "metadata": {},
   "outputs": [],
   "source": []
  },
  {
   "cell_type": "code",
   "execution_count": null,
   "metadata": {},
   "outputs": [],
   "source": []
  },
  {
   "cell_type": "code",
   "execution_count": null,
   "metadata": {},
   "outputs": [],
   "source": []
  },
  {
   "cell_type": "code",
   "execution_count": null,
   "metadata": {},
   "outputs": [],
   "source": []
  },
  {
   "cell_type": "code",
   "execution_count": null,
   "metadata": {},
   "outputs": [],
   "source": []
  },
  {
   "cell_type": "code",
   "execution_count": null,
   "metadata": {},
   "outputs": [],
   "source": []
  },
  {
   "cell_type": "code",
   "execution_count": null,
   "metadata": {},
   "outputs": [],
   "source": []
  },
  {
   "cell_type": "code",
   "execution_count": null,
   "metadata": {},
   "outputs": [],
   "source": []
  },
  {
   "cell_type": "code",
   "execution_count": null,
   "metadata": {},
   "outputs": [],
   "source": []
  },
  {
   "cell_type": "code",
   "execution_count": null,
   "metadata": {},
   "outputs": [],
   "source": []
  },
  {
   "cell_type": "code",
   "execution_count": null,
   "metadata": {},
   "outputs": [],
   "source": []
  },
  {
   "cell_type": "code",
   "execution_count": null,
   "metadata": {},
   "outputs": [],
   "source": []
  },
  {
   "cell_type": "code",
   "execution_count": null,
   "metadata": {},
   "outputs": [],
   "source": []
  },
  {
   "cell_type": "code",
   "execution_count": null,
   "metadata": {},
   "outputs": [],
   "source": []
  },
  {
   "cell_type": "code",
   "execution_count": null,
   "metadata": {},
   "outputs": [],
   "source": []
  },
  {
   "cell_type": "code",
   "execution_count": null,
   "metadata": {},
   "outputs": [],
   "source": []
  },
  {
   "cell_type": "code",
   "execution_count": null,
   "metadata": {},
   "outputs": [],
   "source": []
  },
  {
   "cell_type": "code",
   "execution_count": null,
   "metadata": {},
   "outputs": [],
   "source": []
  },
  {
   "cell_type": "code",
   "execution_count": null,
   "metadata": {},
   "outputs": [],
   "source": []
  },
  {
   "cell_type": "code",
   "execution_count": null,
   "metadata": {},
   "outputs": [],
   "source": []
  },
  {
   "cell_type": "code",
   "execution_count": null,
   "metadata": {},
   "outputs": [],
   "source": []
  },
  {
   "cell_type": "code",
   "execution_count": null,
   "metadata": {},
   "outputs": [],
   "source": []
  },
  {
   "cell_type": "code",
   "execution_count": null,
   "metadata": {},
   "outputs": [],
   "source": []
  },
  {
   "cell_type": "code",
   "execution_count": null,
   "metadata": {},
   "outputs": [],
   "source": []
  },
  {
   "cell_type": "code",
   "execution_count": null,
   "metadata": {},
   "outputs": [],
   "source": []
  },
  {
   "cell_type": "code",
   "execution_count": null,
   "metadata": {},
   "outputs": [],
   "source": []
  },
  {
   "cell_type": "code",
   "execution_count": null,
   "metadata": {},
   "outputs": [],
   "source": []
  },
  {
   "cell_type": "code",
   "execution_count": null,
   "metadata": {},
   "outputs": [],
   "source": []
  },
  {
   "cell_type": "code",
   "execution_count": null,
   "metadata": {},
   "outputs": [],
   "source": []
  },
  {
   "cell_type": "code",
   "execution_count": null,
   "metadata": {},
   "outputs": [],
   "source": []
  },
  {
   "cell_type": "code",
   "execution_count": null,
   "metadata": {},
   "outputs": [],
   "source": []
  },
  {
   "cell_type": "code",
   "execution_count": null,
   "metadata": {},
   "outputs": [],
   "source": []
  },
  {
   "cell_type": "code",
   "execution_count": null,
   "metadata": {},
   "outputs": [],
   "source": []
  },
  {
   "cell_type": "code",
   "execution_count": null,
   "metadata": {},
   "outputs": [],
   "source": []
  },
  {
   "cell_type": "code",
   "execution_count": null,
   "metadata": {},
   "outputs": [],
   "source": []
  },
  {
   "cell_type": "code",
   "execution_count": null,
   "metadata": {},
   "outputs": [],
   "source": []
  },
  {
   "cell_type": "code",
   "execution_count": null,
   "metadata": {},
   "outputs": [],
   "source": []
  },
  {
   "cell_type": "code",
   "execution_count": null,
   "metadata": {},
   "outputs": [],
   "source": []
  },
  {
   "cell_type": "code",
   "execution_count": null,
   "metadata": {},
   "outputs": [],
   "source": []
  },
  {
   "cell_type": "code",
   "execution_count": null,
   "metadata": {},
   "outputs": [],
   "source": []
  },
  {
   "cell_type": "code",
   "execution_count": null,
   "metadata": {},
   "outputs": [],
   "source": []
  },
  {
   "cell_type": "code",
   "execution_count": null,
   "metadata": {},
   "outputs": [],
   "source": []
  },
  {
   "cell_type": "code",
   "execution_count": null,
   "metadata": {},
   "outputs": [],
   "source": []
  },
  {
   "cell_type": "code",
   "execution_count": null,
   "metadata": {},
   "outputs": [],
   "source": []
  },
  {
   "cell_type": "code",
   "execution_count": null,
   "metadata": {},
   "outputs": [],
   "source": []
  },
  {
   "cell_type": "code",
   "execution_count": null,
   "metadata": {},
   "outputs": [],
   "source": []
  },
  {
   "cell_type": "code",
   "execution_count": null,
   "metadata": {},
   "outputs": [],
   "source": []
  },
  {
   "cell_type": "code",
   "execution_count": null,
   "metadata": {},
   "outputs": [],
   "source": []
  },
  {
   "cell_type": "code",
   "execution_count": null,
   "metadata": {},
   "outputs": [],
   "source": []
  },
  {
   "cell_type": "code",
   "execution_count": null,
   "metadata": {},
   "outputs": [],
   "source": []
  },
  {
   "cell_type": "code",
   "execution_count": null,
   "metadata": {},
   "outputs": [],
   "source": []
  },
  {
   "cell_type": "code",
   "execution_count": null,
   "metadata": {},
   "outputs": [],
   "source": []
  },
  {
   "cell_type": "code",
   "execution_count": null,
   "metadata": {},
   "outputs": [],
   "source": []
  },
  {
   "cell_type": "code",
   "execution_count": null,
   "metadata": {},
   "outputs": [],
   "source": []
  },
  {
   "cell_type": "code",
   "execution_count": null,
   "metadata": {},
   "outputs": [],
   "source": []
  },
  {
   "cell_type": "code",
   "execution_count": null,
   "metadata": {},
   "outputs": [],
   "source": []
  },
  {
   "cell_type": "code",
   "execution_count": null,
   "metadata": {},
   "outputs": [],
   "source": []
  },
  {
   "cell_type": "code",
   "execution_count": null,
   "metadata": {},
   "outputs": [],
   "source": []
  },
  {
   "cell_type": "code",
   "execution_count": null,
   "metadata": {},
   "outputs": [],
   "source": []
  },
  {
   "cell_type": "code",
   "execution_count": null,
   "metadata": {},
   "outputs": [],
   "source": []
  },
  {
   "cell_type": "code",
   "execution_count": null,
   "metadata": {},
   "outputs": [],
   "source": []
  },
  {
   "cell_type": "code",
   "execution_count": null,
   "metadata": {},
   "outputs": [],
   "source": []
  },
  {
   "cell_type": "code",
   "execution_count": null,
   "metadata": {},
   "outputs": [],
   "source": []
  },
  {
   "cell_type": "code",
   "execution_count": null,
   "metadata": {},
   "outputs": [],
   "source": []
  },
  {
   "cell_type": "code",
   "execution_count": null,
   "metadata": {},
   "outputs": [],
   "source": []
  },
  {
   "cell_type": "code",
   "execution_count": null,
   "metadata": {},
   "outputs": [],
   "source": []
  },
  {
   "cell_type": "code",
   "execution_count": null,
   "metadata": {},
   "outputs": [],
   "source": []
  },
  {
   "cell_type": "code",
   "execution_count": null,
   "metadata": {},
   "outputs": [],
   "source": []
  },
  {
   "cell_type": "code",
   "execution_count": null,
   "metadata": {},
   "outputs": [],
   "source": []
  },
  {
   "cell_type": "code",
   "execution_count": null,
   "metadata": {},
   "outputs": [],
   "source": []
  },
  {
   "cell_type": "code",
   "execution_count": null,
   "metadata": {},
   "outputs": [],
   "source": []
  },
  {
   "cell_type": "code",
   "execution_count": null,
   "metadata": {},
   "outputs": [],
   "source": []
  },
  {
   "cell_type": "code",
   "execution_count": null,
   "metadata": {},
   "outputs": [],
   "source": []
  },
  {
   "cell_type": "code",
   "execution_count": null,
   "metadata": {},
   "outputs": [],
   "source": []
  },
  {
   "cell_type": "code",
   "execution_count": null,
   "metadata": {},
   "outputs": [],
   "source": []
  },
  {
   "cell_type": "code",
   "execution_count": null,
   "metadata": {},
   "outputs": [],
   "source": []
  },
  {
   "cell_type": "code",
   "execution_count": null,
   "metadata": {},
   "outputs": [],
   "source": []
  },
  {
   "cell_type": "code",
   "execution_count": null,
   "metadata": {},
   "outputs": [],
   "source": []
  },
  {
   "cell_type": "code",
   "execution_count": null,
   "metadata": {},
   "outputs": [],
   "source": []
  },
  {
   "cell_type": "code",
   "execution_count": null,
   "metadata": {},
   "outputs": [],
   "source": []
  },
  {
   "cell_type": "code",
   "execution_count": null,
   "metadata": {},
   "outputs": [],
   "source": []
  },
  {
   "cell_type": "code",
   "execution_count": null,
   "metadata": {},
   "outputs": [],
   "source": []
  },
  {
   "cell_type": "code",
   "execution_count": null,
   "metadata": {},
   "outputs": [],
   "source": []
  },
  {
   "cell_type": "code",
   "execution_count": null,
   "metadata": {},
   "outputs": [],
   "source": []
  },
  {
   "cell_type": "code",
   "execution_count": null,
   "metadata": {},
   "outputs": [],
   "source": []
  },
  {
   "cell_type": "code",
   "execution_count": null,
   "metadata": {},
   "outputs": [],
   "source": []
  },
  {
   "cell_type": "code",
   "execution_count": null,
   "metadata": {},
   "outputs": [],
   "source": []
  },
  {
   "cell_type": "code",
   "execution_count": null,
   "metadata": {},
   "outputs": [],
   "source": []
  },
  {
   "cell_type": "code",
   "execution_count": null,
   "metadata": {},
   "outputs": [],
   "source": []
  },
  {
   "cell_type": "code",
   "execution_count": null,
   "metadata": {},
   "outputs": [],
   "source": []
  },
  {
   "cell_type": "code",
   "execution_count": null,
   "metadata": {},
   "outputs": [],
   "source": []
  },
  {
   "cell_type": "code",
   "execution_count": null,
   "metadata": {},
   "outputs": [],
   "source": []
  },
  {
   "cell_type": "code",
   "execution_count": null,
   "metadata": {},
   "outputs": [],
   "source": []
  },
  {
   "cell_type": "code",
   "execution_count": null,
   "metadata": {},
   "outputs": [],
   "source": []
  },
  {
   "cell_type": "code",
   "execution_count": null,
   "metadata": {},
   "outputs": [],
   "source": []
  },
  {
   "cell_type": "code",
   "execution_count": null,
   "metadata": {},
   "outputs": [],
   "source": []
  },
  {
   "cell_type": "code",
   "execution_count": null,
   "metadata": {},
   "outputs": [],
   "source": []
  },
  {
   "cell_type": "code",
   "execution_count": null,
   "metadata": {},
   "outputs": [],
   "source": []
  },
  {
   "cell_type": "code",
   "execution_count": null,
   "metadata": {},
   "outputs": [],
   "source": []
  },
  {
   "cell_type": "code",
   "execution_count": null,
   "metadata": {},
   "outputs": [],
   "source": []
  },
  {
   "cell_type": "code",
   "execution_count": null,
   "metadata": {},
   "outputs": [],
   "source": []
  },
  {
   "cell_type": "code",
   "execution_count": null,
   "metadata": {},
   "outputs": [],
   "source": []
  },
  {
   "cell_type": "code",
   "execution_count": null,
   "metadata": {},
   "outputs": [],
   "source": []
  },
  {
   "cell_type": "code",
   "execution_count": null,
   "metadata": {},
   "outputs": [],
   "source": []
  },
  {
   "cell_type": "code",
   "execution_count": null,
   "metadata": {},
   "outputs": [],
   "source": []
  },
  {
   "cell_type": "code",
   "execution_count": null,
   "metadata": {},
   "outputs": [],
   "source": []
  },
  {
   "cell_type": "code",
   "execution_count": null,
   "metadata": {},
   "outputs": [],
   "source": []
  },
  {
   "cell_type": "code",
   "execution_count": null,
   "metadata": {},
   "outputs": [],
   "source": []
  },
  {
   "cell_type": "code",
   "execution_count": null,
   "metadata": {},
   "outputs": [],
   "source": []
  },
  {
   "cell_type": "code",
   "execution_count": null,
   "metadata": {},
   "outputs": [],
   "source": []
  },
  {
   "cell_type": "code",
   "execution_count": null,
   "metadata": {},
   "outputs": [],
   "source": []
  },
  {
   "cell_type": "code",
   "execution_count": null,
   "metadata": {},
   "outputs": [],
   "source": []
  },
  {
   "cell_type": "code",
   "execution_count": null,
   "metadata": {},
   "outputs": [],
   "source": []
  },
  {
   "cell_type": "code",
   "execution_count": null,
   "metadata": {},
   "outputs": [],
   "source": []
  },
  {
   "cell_type": "code",
   "execution_count": null,
   "metadata": {},
   "outputs": [],
   "source": []
  },
  {
   "cell_type": "code",
   "execution_count": null,
   "metadata": {},
   "outputs": [],
   "source": []
  },
  {
   "cell_type": "code",
   "execution_count": null,
   "metadata": {},
   "outputs": [],
   "source": []
  },
  {
   "cell_type": "code",
   "execution_count": null,
   "metadata": {},
   "outputs": [],
   "source": []
  },
  {
   "cell_type": "code",
   "execution_count": null,
   "metadata": {},
   "outputs": [],
   "source": []
  },
  {
   "cell_type": "code",
   "execution_count": null,
   "metadata": {},
   "outputs": [],
   "source": []
  },
  {
   "cell_type": "code",
   "execution_count": 39,
   "metadata": {},
   "outputs": [
    {
     "name": "stdout",
     "output_type": "stream",
     "text": [
      "Amount of user id duplicated in train and test:  0\n",
      "Ratio toward the whole test:  0.0\n",
      "Amount of merchant id duplicated in train and test:  260863\n",
      "Ratio toward the whole test:  0.9976518011144384\n"
     ]
    }
   ],
   "source": [
    "#how many users in train appear in test set\n",
    "print(\"Amount of user id duplicated in train and test: \", train_format1['user_id'].isin(test_format1['user_id']).sum())\n",
    "print(\"Ratio toward the whole test: \", train_format1['user_id'].isin(test_format1['user_id']).sum() / len(test_format1['user_id']))\n",
    "\n",
    "#how many merchants in train appear in test set\n",
    "print(\"Amount of merchant id duplicated in train and test: \", train_format1['merchant_id'].isin(test_format1['merchant_id']).sum())\n",
    "print(\"Ratio toward the whole test: \", train_format1['merchant_id'].isin(test_format1['merchant_id']).sum() / len(test_format1['merchant_id']))"
   ]
  },
  {
   "cell_type": "code",
   "execution_count": 46,
   "metadata": {},
   "outputs": [
    {
     "data": {
      "image/png": "[encoded data removed]",
      "text/plain": [
       "<Figure size 432x288 with 1 Axes>"
      ]
     },
     "metadata": {
      "needs_background": "light"
     },
     "output_type": "display_data"
    }
   ],
   "source": [
    "#for each merchant, how many users get the label 1 (ratio)\n",
    "merchant_ratios = train_format1['label'].groupby(train_format1['merchant_id']).mean()\n",
    "\n",
    "sns.kdeplot(merchant_ratios, bw_adjust=1)  # bw_adjust adjusts the bandwidth; tweak as needed\n",
    "plt.title(\"KDE of Mean Label Ratio Per Merchant\")\n",
    "plt.xlabel(\"Mean Label Ratio\")\n",
    "plt.ylabel(\"Density\")\n",
    "plt.show()"
   ]
  },
  {
   "cell_type": "code",
   "execution_count": 27,
   "metadata": {},
   "outputs": [
    {
     "name": "stdout",
     "output_type": "stream",
     "text": [
      "Train label 0 ratio:  0.9388493621197253\n"
     ]
    }
   ],
   "source": [
    "# class balance or imbalance\n",
    "print(\"Train label 0 ratio: \", train_format1[train_format1['label'] == 0].shape[0] / len(train_format1['label']))"
   ]
  },
  {
   "cell_type": "code",
   "execution_count": 35,
   "metadata": {},
   "outputs": [],
   "source": [
    "def training_iteration_lightgbm(train_data, val_data, train_target, val_target, params):\n",
    "    lgbm_train_data = lgb.Dataset(train_data, label=train_target)\n",
    "    lgbm_val_data = lgb.Dataset(val_data, label=val_target, reference=train_data)\n",
    "    model = lgb.train(params, lgbm_train_data, num_boost_round=1000, valid_sets=[lgbm_val_data], early_stopping_rounds=50, verbose_eval=50)\n",
    "    return model"
   ]
  },
  {
   "cell_type": "code",
   "execution_count": null,
   "metadata": {},
   "outputs": [],
   "source": [
    "#lightgbm baseline\n",
    "params = {\n",
    "    'boosting_type': 'gbdt',\n",
    "    'objective': 'binary',\n",
    "    'metric': 'binary_logloss',\n",
    "}\n",
    "baseline_train_data = train_format1.drop(['label'], axis=1)\n",
    "\n",
    "#preprocessing null in age range\n",
    "baseline_user_info = \n",
    "baseline_train_data = baseline_train_data.merge(user_info_format1, on='user_id', how='left')\n",
    "baseline_train_target = train_format1['label']\n",
    "\n",
    "baseline_train_data.join(other, lsuffix='_caller', rsuffix='_other')"
   ]
  }
 ],
 "metadata": {
  "kernelspec": {
   "display_name": "base",
   "language": "python",
   "name": "python3"
  },
  "language_info": {
   "codemirror_mode": {
    "name": "ipython",
    "version": 3
   },
   "file_extension": ".py",
   "mimetype": "text/x-python",
   "name": "python",
   "nbconvert_exporter": "python",
   "pygments_lexer": "ipython3",
   "version": "3.9.12"
  }
 },
 "nbformat": 4,
 "nbformat_minor": 2
}
