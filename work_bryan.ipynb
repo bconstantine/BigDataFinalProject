{
 "cells": [
  {
   "cell_type": "code",
   "execution_count": 24,
   "metadata": {},
   "outputs": [],
   "source": [
    "import pandas as pd\n",
    "import os\n",
    "#import lightgbm as lgb\n",
    "import matplotlib.pyplot as plt\n",
    "import seaborn as sns\n",
    "from sklearn.decomposition import NMF\n",
    "from sklearn.preprocessing import LabelEncoder\n",
    "from scipy.sparse import csr_matrix\n",
    "from sklearn.decomposition import NMF\n",
    "import numpy as np\n",
    "import torch\n",
    "import gc\n",
    "from tqdm import tqdm\n",
    "os.environ[\"CUDA_VISIBLE_DEVICES\"]=\"1\""
   ]
  },
  {
   "cell_type": "code",
   "execution_count": 2,
   "metadata": {},
   "outputs": [],
   "source": [
    "data_format1_path = \"data_format1\"\n",
    "data_format2_path = \"data_format2\"\n",
    "train_format1_path = os.path.join(data_format1_path, \"train_format1.csv\")\n",
    "train_format2_path = os.path.join(data_format2_path, \"train_format2.csv\")\n",
    "test_format1_path = os.path.join(data_format1_path, \"test_format1.csv\")\n",
    "test_format2_path = os.path.join(data_format2_path, \"test_format2.csv\")\n",
    "user_info_format1_path = os.path.join(data_format1_path, \"user_info_format1.csv\") \n",
    "user_log_format1_path = os.path.join(data_format1_path, \"user_log_format1.csv\", ) "
   ]
  },
  {
   "cell_type": "code",
   "execution_count": 3,
   "metadata": {},
   "outputs": [],
   "source": [
    "train_format1 = pd.read_csv(train_format1_path)\n",
    "#train_format2 = pd.read_csv(train_format2_path)\n",
    "test_format1 = pd.read_csv(test_format1_path)\n",
    "#test_format2 = pd.read_csv(test_format2_path)\n",
    "user_info_format1 = pd.read_csv(user_info_format1_path)\n",
    "user_log_format1 = pd.read_csv(user_log_format1_path, dtype={'time_stamp': str}).rename(columns={\"seller_id\": \"merchant_id\"})"
   ]
  },
  {
   "cell_type": "code",
   "execution_count": 4,
   "metadata": {},
   "outputs": [
    {
     "name": "stdout",
     "output_type": "stream",
     "text": [
      "len train_format1: 260864\n",
      "len test_format1: 261477\n"
     ]
    }
   ],
   "source": [
    "print(\"len train_format1:\", len(train_format1))\n",
    "#print(\"len train_format2:\", len(train_format2))\n",
    "print(\"len test_format1:\", len(test_format1))\n",
    "#print(\"len test_format2:\", len(test_format2))"
   ]
  },
  {
   "cell_type": "code",
   "execution_count": 5,
   "metadata": {},
   "outputs": [
    {
     "name": "stdout",
     "output_type": "stream",
     "text": [
      "54925330\n",
      "10582633\n"
     ]
    }
   ],
   "source": [
    "print(len(user_log_format1))\n",
    "#only filter the log with time_stamp 11.11\n",
    "user_log_format1 = user_log_format1[user_log_format1[\"time_stamp\"] == \"1111\"]\n",
    "print(len(user_log_format1))"
   ]
  },
  {
   "cell_type": "code",
   "execution_count": 6,
   "metadata": {},
   "outputs": [
    {
     "name": "stdout",
     "output_type": "stream",
     "text": [
      "     user_id  item_id  cat_id  merchant_id  brand_id time_stamp  action_type\n",
      "171   328862   406349    1280         2700    5476.0       1111            0\n",
      "172   328862   406349    1280         2700    5476.0       1111            0\n",
      "173   328862   807126    1181         1963    6109.0       1111            0\n",
      "174   328862   406349    1280         2700    5476.0       1111            2\n",
      "175   328862   406349    1280         2700    5476.0       1111            0\n"
     ]
    }
   ],
   "source": [
    "print(user_log_format1.head())"
   ]
  },
  {
   "cell_type": "code",
   "execution_count": 7,
   "metadata": {},
   "outputs": [],
   "source": [
    "user_log_format1 = user_log_format1.drop(columns=[\"action_type\", \"time_stamp\"])"
   ]
  },
  {
   "cell_type": "code",
   "execution_count": 8,
   "metadata": {},
   "outputs": [
    {
     "name": "stdout",
     "output_type": "stream",
     "text": [
      "user_log_info1 columns: Index(['user_id', 'item_id', 'cat_id', 'merchant_id', 'brand_id'], dtype='object')\n"
     ]
    }
   ],
   "source": [
    "print(\"user_log_info1 columns: \" + str(user_log_format1.columns))"
   ]
  },
  {
   "cell_type": "code",
   "execution_count": null,
   "metadata": {},
   "outputs": [
    {
     "name": "stdout",
     "output_type": "stream",
     "text": [
      "   user_id  merchant_id  label\n",
      "0    34176         3906      0\n",
      "1    34176          121      0\n",
      "2    34176         4356      1\n",
      "3    34176         2217      0\n",
      "4   230784         4818      0\n",
      "============================================\n",
      "             user_id    merchant_id          label\n",
      "count  260864.000000  260864.000000  260864.000000\n",
      "mean   211889.321420    2540.292363       0.061151\n",
      "std    122399.488027    1451.207514       0.239607\n",
      "min         1.000000       2.000000       0.000000\n",
      "25%    105488.000000    1340.000000       0.000000\n",
      "50%    211927.500000    2482.000000       0.000000\n",
      "75%    317670.500000    3898.000000       0.000000\n",
      "max    424170.000000    4993.000000       1.000000\n",
      "============================================\n",
      "user_id        0\n",
      "merchant_id    0\n",
      "label          0\n",
      "dtype: int64\n",
      "user_id        0.0\n",
      "merchant_id    0.0\n",
      "label          0.0\n",
      "dtype: float64\n"
     ]
    }
   ],
   "source": [
    "print(train_format1.head())\n",
    "print(\"============================================\")\n",
    "print(train_format1.describe())\n",
    "print(\"============================================\")\n",
    "#check for nan\n",
    "print(train_format1.isnull().sum())\n",
    "#nan ratio\n",
    "print(train_format1.isnull().sum()/len(train_format1))"
   ]
  },
  {
   "cell_type": "code",
   "execution_count": null,
   "metadata": {},
   "outputs": [
    {
     "name": "stdout",
     "output_type": "stream",
     "text": [
      "   user_id  age_range  gender  merchant_id  label  \\\n",
      "0    34176        6.0     0.0          944     -1   \n",
      "1    34176        6.0     0.0          412     -1   \n",
      "2    34176        6.0     0.0         1945     -1   \n",
      "3    34176        6.0     0.0         4752     -1   \n",
      "4    34176        6.0     0.0          643     -1   \n",
      "\n",
      "                                        activity_log  \n",
      "0                            408895:1505:7370:1107:0  \n",
      "1  17235:1604:4396:0818:0#954723:1604:4396:0818:0...  \n",
      "2  231901:662:2758:0818:0#231901:662:2758:0818:0#...  \n",
      "3                             174142:821:6938:1027:0  \n",
      "4                             716371:1505:968:1024:3  \n",
      "============================================\n",
      "            user_id     age_range        gender   merchant_id         label\n",
      "count  7.030723e+06  7.011343e+06  6.969011e+06  7.030723e+06  7.030723e+06\n",
      "mean   2.120120e+05  3.106246e+00  3.036947e-01  2.455233e+03 -9.606277e-01\n",
      "std    1.223200e+05  1.914345e+00  5.319517e-01  1.456245e+03  2.058154e-01\n",
      "min    1.000000e+00  0.000000e+00  0.000000e+00  1.000000e+00 -1.000000e+00\n",
      "25%    1.055770e+05  2.000000e+00  0.000000e+00  1.176000e+03 -1.000000e+00\n",
      "50%    2.126810e+05  3.000000e+00  0.000000e+00  2.404000e+03 -1.000000e+00\n",
      "75%    3.175440e+05  4.000000e+00  1.000000e+00  3.743000e+03 -1.000000e+00\n",
      "max    4.241700e+05  8.000000e+00  2.000000e+00  4.995000e+03  1.000000e+00\n",
      "============================================\n",
      "user_id             0\n",
      "age_range       19380\n",
      "gender          61712\n",
      "merchant_id         0\n",
      "label               0\n",
      "activity_log     2975\n",
      "dtype: int64\n",
      "user_id         0.000000\n",
      "age_range       0.002756\n",
      "gender          0.008777\n",
      "merchant_id     0.000000\n",
      "label           0.000000\n",
      "activity_log    0.000423\n",
      "dtype: float64\n"
     ]
    }
   ],
   "source": [
    "# print(train_format2.head())\n",
    "# print(\"============================================\")\n",
    "# print(train_format2.describe())\n",
    "# print(\"============================================\")\n",
    "# #check for nan\n",
    "# print(train_format2.isnull().sum())\n",
    "# #nan ratio\n",
    "# print(train_format2.isnull().sum()/len(train_format2))"
   ]
  },
  {
   "cell_type": "code",
   "execution_count": 6,
   "metadata": {},
   "outputs": [
    {
     "name": "stdout",
     "output_type": "stream",
     "text": [
      "   user_id  merchant_id  prob\n",
      "0   163968         4605   NaN\n",
      "1   360576         1581   NaN\n",
      "2    98688         1964   NaN\n",
      "3    98688         3645   NaN\n",
      "4   295296         3361   NaN\n",
      "============================================\n",
      "============================================\n",
      "user_id             0\n",
      "merchant_id         0\n",
      "prob           261477\n",
      "dtype: int64\n",
      "user_id        0.0\n",
      "merchant_id    0.0\n",
      "prob           1.0\n",
      "dtype: float64\n"
     ]
    }
   ],
   "source": [
    "print(test_format1.head())\n",
    "print(\"============================================\")\n",
    "test_format1.describe()\n",
    "print(\"============================================\")\n",
    "print(test_format1.isnull().sum())\n",
    "print(test_format1.isnull().sum()/len(test_format1))"
   ]
  },
  {
   "cell_type": "code",
   "execution_count": null,
   "metadata": {},
   "outputs": [
    {
     "name": "stdout",
     "output_type": "stream",
     "text": [
      "   user_id  age_range  gender  merchant_id  label  \\\n",
      "0   163968        0.0     0.0         4378   -1.0   \n",
      "1   163968        0.0     0.0         2300   -1.0   \n",
      "2   163968        0.0     0.0         1551   -1.0   \n",
      "3   163968        0.0     0.0         4343   -1.0   \n",
      "4   163968        0.0     0.0         4911   -1.0   \n",
      "\n",
      "                                        activity_log  \n",
      "0                             101206:812:6968:0614:0  \n",
      "1  588758:844:3833:0618:0#71782:844:3833:1111:2#7...  \n",
      "2  312747:243:1954:0627:0#312747:243:1954:0627:0#...  \n",
      "3                            932390:1612:3201:0628:0  \n",
      "4                             957657:662:3089:0612:0  \n",
      "============================================\n",
      "============================================\n",
      "user_id              0\n",
      "age_range        19420\n",
      "gender           63250\n",
      "merchant_id          0\n",
      "label           261477\n",
      "activity_log      3006\n",
      "dtype: int64\n",
      "user_id         0.000000\n",
      "age_range       0.002763\n",
      "gender          0.009000\n",
      "merchant_id     0.000000\n",
      "label           0.037205\n",
      "activity_log    0.000428\n",
      "dtype: float64\n"
     ]
    }
   ],
   "source": [
    "# print(test_format2.head())\n",
    "# print(\"============================================\")\n",
    "# test_format2.describe()\n",
    "# print(\"============================================\")\n",
    "# print(test_format2.isnull().sum())\n",
    "# print(test_format2.isnull().sum()/len(test_format2))"
   ]
  },
  {
   "cell_type": "code",
   "execution_count": 8,
   "metadata": {},
   "outputs": [
    {
     "name": "stdout",
     "output_type": "stream",
     "text": [
      "   user_id  age_range  gender\n",
      "0   376517        6.0     1.0\n",
      "1   234512        5.0     0.0\n",
      "2   344532        5.0     0.0\n",
      "3   186135        5.0     0.0\n",
      "4    30230        5.0     0.0\n",
      "============================================\n",
      "             user_id      age_range         gender\n",
      "count  424170.000000  421953.000000  417734.000000\n",
      "mean   212085.500000       2.930262       0.341179\n",
      "std    122447.476178       1.942978       0.524112\n",
      "min         1.000000       0.000000       0.000000\n",
      "25%    106043.250000       2.000000       0.000000\n",
      "50%    212085.500000       3.000000       0.000000\n",
      "75%    318127.750000       4.000000       1.000000\n",
      "max    424170.000000       8.000000       2.000000\n",
      "============================================\n",
      "user_id         0\n",
      "age_range    2217\n",
      "gender       6436\n",
      "dtype: int64\n",
      "user_id      0.000000\n",
      "age_range    0.005227\n",
      "gender       0.015173\n",
      "dtype: float64\n"
     ]
    }
   ],
   "source": [
    "print(user_info_format1.head())\n",
    "print(\"============================================\")\n",
    "print(user_info_format1.describe())\n",
    "print(\"============================================\")\n",
    "print(user_info_format1.isnull().sum())\n",
    "print(user_info_format1.isnull().sum()/len(user_info_format1))"
   ]
  },
  {
   "cell_type": "code",
   "execution_count": 9,
   "metadata": {},
   "outputs": [
    {
     "name": "stdout",
     "output_type": "stream",
     "text": [
      "   user_id  item_id  cat_id  merchant_id  brand_id  time_stamp  action_type\n",
      "0   328862   323294     833         2882    2661.0         829            0\n",
      "1   328862   844400    1271         2882    2661.0         829            0\n",
      "2   328862   575153    1271         2882    2661.0         829            0\n",
      "3   328862   996875    1271         2882    2661.0         829            0\n",
      "4   328862  1086186    1271         1253    1049.0         829            0\n",
      "============================================\n",
      "            user_id       item_id        cat_id   merchant_id      brand_id  \\\n",
      "count  5.492533e+07  5.492533e+07  5.492533e+07  5.492533e+07  5.483432e+07   \n",
      "mean   2.121568e+05  5.538613e+05  8.770308e+02  2.470941e+03  4.153348e+03   \n",
      "std    1.222872e+05  3.221459e+05  4.486269e+02  1.473310e+03  2.397679e+03   \n",
      "min    1.000000e+00  1.000000e+00  1.000000e+00  1.000000e+00  1.000000e+00   \n",
      "25%    1.063360e+05  2.731680e+05  5.550000e+02  1.151000e+03  2.027000e+03   \n",
      "50%    2.126540e+05  5.555290e+05  8.210000e+02  2.459000e+03  4.065000e+03   \n",
      "75%    3.177500e+05  8.306890e+05  1.252000e+03  3.760000e+03  6.196000e+03   \n",
      "max    4.241700e+05  1.113166e+06  1.671000e+03  4.995000e+03  8.477000e+03   \n",
      "\n",
      "         time_stamp   action_type  \n",
      "count  5.492533e+07  5.492533e+07  \n",
      "mean   9.230953e+02  2.854458e-01  \n",
      "std    1.954305e+02  8.075806e-01  \n",
      "min    5.110000e+02  0.000000e+00  \n",
      "25%    7.300000e+02  0.000000e+00  \n",
      "50%    1.010000e+03  0.000000e+00  \n",
      "75%    1.109000e+03  0.000000e+00  \n",
      "max    1.112000e+03  3.000000e+00  \n",
      "============================================\n",
      "user_id            0\n",
      "item_id            0\n",
      "cat_id             0\n",
      "merchant_id        0\n",
      "brand_id       91015\n",
      "time_stamp         0\n",
      "action_type        0\n",
      "dtype: int64\n",
      "user_id        0.000000\n",
      "item_id        0.000000\n",
      "cat_id         0.000000\n",
      "merchant_id    0.000000\n",
      "brand_id       0.001657\n",
      "time_stamp     0.000000\n",
      "action_type    0.000000\n",
      "dtype: float64\n"
     ]
    }
   ],
   "source": [
    "print(user_log_format1.head())\n",
    "print(\"============================================\")\n",
    "print(user_log_format1.describe())\n",
    "print(\"============================================\")\n",
    "print(user_log_format1.isnull().sum())\n",
    "print(user_log_format1.isnull().sum()/len(user_log_format1))"
   ]
  },
  {
   "cell_type": "code",
   "execution_count": 15,
   "metadata": {},
   "outputs": [
    {
     "name": "stdout",
     "output_type": "stream",
     "text": [
      "Empty DataFrame\n",
      "Columns: [user_id, merchant_id]\n",
      "Index: []\n",
      "Empty DataFrame\n",
      "Columns: [user_id, merchant_id_x, merchant_id_y]\n",
      "Index: []\n",
      "           user_id_x  merchant_id  user_id_y\n",
      "0              34176         3906     325008\n",
      "1              34176         3906     282768\n",
      "2              34176         3906     187542\n",
      "3              34176         3906      97206\n",
      "4              34176         3906     153795\n",
      "...              ...          ...        ...\n",
      "150064189      41078         3966     395099\n",
      "150064190      41078         3966     218750\n",
      "150064191      76387         2350     174237\n",
      "150064192      76387         2350       3123\n",
      "150064193      76387         2350      66667\n",
      "\n",
      "[150064194 rows x 3 columns]\n"
     ]
    }
   ],
   "source": [
    "# does there exist user_id and merchant_id pair that appears in test set\n",
    "print(pd.merge(train_format1[[\"user_id\", \"merchant_id\"]].drop_duplicates(), test_format1[[\"user_id\", \"merchant_id\"]].drop_duplicates(), how=\"inner\", on=[\"user_id\", \"merchant_id\"]))\n",
    "print(pd.merge(train_format1[[\"user_id\", \"merchant_id\"]].drop_duplicates(), test_format1[[\"user_id\", \"merchant_id\"]].drop_duplicates(), how=\"inner\", on=[\"user_id\"]))\n",
    "print(pd.merge(train_format1[[\"user_id\", \"merchant_id\"]].drop_duplicates(), test_format1[[\"user_id\", \"merchant_id\"]].drop_duplicates(), how=\"inner\", on=[\"merchant_id\"]))"
   ]
  },
  {
   "cell_type": "code",
   "execution_count": 25,
   "metadata": {},
   "outputs": [
    {
     "name": "stdout",
     "output_type": "stream",
     "text": [
      "         user_id  item_id  cat_id  merchant_id  brand_id\n",
      "4930955   360576   991507    1142         4044      82.0\n",
      "4930956   360576   948181     614         1581    4066.0\n",
      "4930958   360576  1111020     614         1581    4066.0\n",
      "4930959   360576   755622     614         1783    5041.0\n",
      "4930960   360576   294442     614         1581    4066.0\n",
      "4930961   360576   864510     614         1581    4066.0\n",
      "4930962   360576   326679     614         1581    4066.0\n",
      "4930963   360576   720542     748         2582    7208.0\n",
      "4930964   360576   755622     614         1783    5041.0\n",
      "4930967   360576   794107     614         1581    4066.0\n",
      "4930969   360576   864510     614         1581    4066.0\n",
      "4930970   360576   755622     614         1783    5041.0\n",
      "4930971   360576   755622     614         1783    5041.0\n",
      "4930973   360576   982117     632         1581    4066.0\n",
      "4930974   360576    61318     229         1581    4066.0\n",
      "4930975   360576   164776     389         3848    4452.0\n",
      "4930976   360576  1091811    1142         4044      82.0\n",
      "4930977   360576   863626     119         1581    4066.0\n",
      "4930978   360576   613888     748         3311    6548.0\n"
     ]
    }
   ],
   "source": [
    "print(user_log_format1[user_log_format1[\"user_id\"] == 360576])"
   ]
  },
  {
   "cell_type": "code",
   "execution_count": 26,
   "metadata": {},
   "outputs": [
    {
     "data": {
      "text/html": [
       "<div>\n",
       "<style scoped>\n",
       "    .dataframe tbody tr th:only-of-type {\n",
       "        vertical-align: middle;\n",
       "    }\n",
       "\n",
       "    .dataframe tbody tr th {\n",
       "        vertical-align: top;\n",
       "    }\n",
       "\n",
       "    .dataframe thead th {\n",
       "        text-align: right;\n",
       "    }\n",
       "</style>\n",
       "<table border=\"1\" class=\"dataframe\">\n",
       "  <thead>\n",
       "    <tr style=\"text-align: right;\">\n",
       "      <th></th>\n",
       "      <th>user_id</th>\n",
       "      <th>merchant_id</th>\n",
       "      <th>prob</th>\n",
       "    </tr>\n",
       "  </thead>\n",
       "  <tbody>\n",
       "  </tbody>\n",
       "</table>\n",
       "</div>"
      ],
      "text/plain": [
       "Empty DataFrame\n",
       "Columns: [user_id, merchant_id, prob]\n",
       "Index: []"
      ]
     },
     "execution_count": 26,
     "metadata": {},
     "output_type": "execute_result"
    }
   ],
   "source": [
    "test_format1[~test_format1['user_id'].isin(user_log_format1['user_id'])]"
   ]
  },
  {
   "cell_type": "code",
   "execution_count": 4,
   "metadata": {},
   "outputs": [
    {
     "name": "stdout",
     "output_type": "stream",
     "text": [
      "Original test length:  261477\n",
      "User merchant pair in test not appear in log:  261477\n",
      "User in test not appear in log:  0\n",
      "merchant in test not appear in log:  0\n"
     ]
    }
   ],
   "source": [
    "#verify user activity of test users all exist inside the data\n",
    "missing_keys = test_format1[~test_format1[['user_id', 'merchant_id']].isin(user_log_format1[['user_id', 'merchant_id']])]\n",
    "missing_keys_user_only = test_format1[~test_format1['user_id'].isin(user_log_format1['user_id'])]\n",
    "missing_keys_merchant_only = test_format1[~test_format1[ 'merchant_id'].isin(user_log_format1['merchant_id'])]\n",
    "print(\"Original test length: \", len(test_format1))\n",
    "print(\"User merchant pair in test not appear in log: \", len(missing_keys.drop_duplicates()))\n",
    "print(\"User in test not appear in log: \", len(missing_keys_user_only.drop_duplicates()))\n",
    "print(\"merchant in test not appear in log: \", len(missing_keys_merchant_only.drop_duplicates()))"
   ]
  },
  {
   "cell_type": "code",
   "execution_count": 22,
   "metadata": {},
   "outputs": [
    {
     "name": "stdout",
     "output_type": "stream",
     "text": [
      "Train user id Uniqueness ratio:  0.8129216756624141\n",
      "Test user id Uniqueness ratio:  0.8111918065451263\n",
      "Train merchant id Uniqueness ratio:  0.007639996319921492\n",
      "Test merchant Uniqueness ratio:  0.007622085307694367\n"
     ]
    }
   ],
   "source": [
    "#unique value of user id\n",
    "train_format1['user_id'].nunique()\n",
    "print(\"Train user id Uniqueness ratio: \", train_format1['user_id'].nunique() / len(train_format1['user_id']))\n",
    "print(\"Test user id Uniqueness ratio: \", test_format1['user_id'].nunique() / len(test_format1['user_id']))\n",
    "\n",
    "print(\"Train merchant id Uniqueness ratio: \", train_format1['merchant_id'].nunique() / len(train_format1['merchant_id']))\n",
    "print(\"Test merchant Uniqueness ratio: \", test_format1['merchant_id'].nunique() / len(test_format1['merchant_id']))"
   ]
  },
  {
   "cell_type": "code",
   "execution_count": 25,
   "metadata": {},
   "outputs": [
    {
     "name": "stdout",
     "output_type": "stream",
     "text": [
      "Amount of user id and merchant id duplicated in train:  0\n",
      "Amount of user id and merchant id duplicated in test:  0\n"
     ]
    }
   ],
   "source": [
    "#duplicate data in train_format1 between merchant and user id\n",
    "print(\"Amount of user id and merchant id duplicated in train: \", train_format1[['user_id', 'merchant_id']].duplicated().sum())\n",
    "print(\"Amount of user id and merchant id duplicated in test: \",test_format1[['user_id', 'merchant_id']].duplicated().sum())"
   ]
  },
  {
   "cell_type": "code",
   "execution_count": 28,
   "metadata": {},
   "outputs": [
    {
     "name": "stdout",
     "output_type": "stream",
     "text": [
      "total of merchant and user in test format 2:  6766466\n",
      "======= Mask ==========\n",
      "0          False\n",
      "1          False\n",
      "2          False\n",
      "3          False\n",
      "4          False\n",
      "           ...  \n",
      "7027938    False\n",
      "7027939    False\n",
      "7027940    False\n",
      "7027941    False\n",
      "7027942    False\n",
      "Length: 6766466, dtype: bool\n",
      "Amount that is contained in format1:  0\n"
     ]
    }
   ],
   "source": [
    "#check if all label -1 in format_2 is all contains in user_log format 1\n",
    "tmp = test_format2[test_format2[\"label\"] == -1][[\"user_id\", \"merchant_id\"]]\n",
    "mask = tmp.isin(user_log_format1[[\"user_id\", \"merchant_id\"]]).all(axis=1)\n",
    "print(\"total of merchant and user in test format 2: \", len(tmp))\n",
    "print(\"======= Mask ==========\")\n",
    "print(mask)\n",
    "print(\"Amount that is contained in format1: \", len(tmp[mask]))\n",
    "del tmp"
   ]
  },
  {
   "cell_type": "code",
   "execution_count": 22,
   "metadata": {},
   "outputs": [
    {
     "name": "stdout",
     "output_type": "stream",
     "text": [
      "   user_id  merchant_id  label  item_id  cat_id  brand_id\n",
      "0    34176         3906      0   757713     821    6268.0\n",
      "1    34176         3906      0   757713     821    6268.0\n",
      "2    34176         3906      0   757713     821    6268.0\n",
      "3    34176         3906      0   757713     821    6268.0\n",
      "4    34176          121      0   800752    1028    2337.0\n",
      "====\n",
      "   user_id  merchant_id  prob  item_id  cat_id  brand_id\n",
      "0   163968         4605   NaN   772645    1368    7622.0\n",
      "1   163968         4605   NaN   772645    1368    7622.0\n",
      "2   360576         1581   NaN   948181     614    4066.0\n",
      "3   360576         1581   NaN  1111020     614    4066.0\n",
      "4   360576         1581   NaN   294442     614    4066.0\n",
      "====\n",
      "   user_id  merchant_id  label  item_id  cat_id  brand_id  age_range  gender\n",
      "0    34176         3906      0   757713     821    6268.0        6.0     0.0\n",
      "1    34176         3906      0   757713     821    6268.0        6.0     0.0\n",
      "2    34176         3906      0   757713     821    6268.0        6.0     0.0\n",
      "3    34176         3906      0   757713     821    6268.0        6.0     0.0\n",
      "4    34176          121      0   800752    1028    2337.0        6.0     0.0\n",
      "====\n",
      "   user_id  merchant_id  prob  item_id  cat_id  brand_id  age_range  gender\n",
      "0   163968         4605   NaN   772645    1368    7622.0        0.0     0.0\n",
      "1   163968         4605   NaN   772645    1368    7622.0        0.0     0.0\n",
      "2   360576         1581   NaN   948181     614    4066.0        2.0     2.0\n",
      "3   360576         1581   NaN  1111020     614    4066.0        2.0     2.0\n",
      "4   360576         1581   NaN   294442     614    4066.0        2.0     2.0\n",
      "====\n"
     ]
    }
   ],
   "source": [
    "#join the tables\n",
    "train_format1 = pd.merge(train_format1, user_log_format1, on=['user_id', 'merchant_id'], how='left')\n",
    "print(train_format1.head())\n",
    "print(\"====\")\n",
    "test_format1 = pd.merge(test_format1, user_log_format1, on=['user_id', 'merchant_id'], how='left')\n",
    "print(test_format1.head())\n",
    "print(\"====\")\n",
    "train_format1 = pd.merge(train_format1, user_info_format1, on='user_id', how='left')\n",
    "print(train_format1.head())\n",
    "print(\"====\")\n",
    "test_format1 = pd.merge(test_format1, user_info_format1, on='user_id', how='left')\n",
    "print(test_format1.head())\n",
    "print(\"====\")"
   ]
  },
  {
   "cell_type": "code",
   "execution_count": 23,
   "metadata": {},
   "outputs": [
    {
     "name": "stdout",
     "output_type": "stream",
     "text": [
      "1653030\n",
      "1650271\n"
     ]
    }
   ],
   "source": [
    "print(len(train_format1))\n",
    "print(len(test_format1))"
   ]
  },
  {
   "cell_type": "code",
   "execution_count": 12,
   "metadata": {},
   "outputs": [
    {
     "name": "stdout",
     "output_type": "stream",
     "text": [
      "Test user id not in train:  212108\n",
      "Test user id not in log 0\n",
      "Test merchant id not in log:  0\n",
      "Test merchant id not in train:  1\n"
     ]
    },
    {
     "ename": "KeyError",
     "evalue": "'cat_id'",
     "output_type": "error",
     "traceback": [
      "\u001b[0;31m---------------------------------------------------------------------------\u001b[0m",
      "\u001b[0;31mKeyError\u001b[0m                                  Traceback (most recent call last)",
      "File \u001b[0;32m/flash2/aml/miniconda3/envs/wangwd24/lib/python3.10/site-packages/pandas/core/indexes/base.py:3805\u001b[0m, in \u001b[0;36mIndex.get_loc\u001b[0;34m(self, key)\u001b[0m\n\u001b[1;32m   3804\u001b[0m \u001b[38;5;28;01mtry\u001b[39;00m:\n\u001b[0;32m-> 3805\u001b[0m     \u001b[38;5;28;01mreturn\u001b[39;00m \u001b[38;5;28;43mself\u001b[39;49m\u001b[38;5;241;43m.\u001b[39;49m\u001b[43m_engine\u001b[49m\u001b[38;5;241;43m.\u001b[39;49m\u001b[43mget_loc\u001b[49m\u001b[43m(\u001b[49m\u001b[43mcasted_key\u001b[49m\u001b[43m)\u001b[49m\n\u001b[1;32m   3806\u001b[0m \u001b[38;5;28;01mexcept\u001b[39;00m \u001b[38;5;167;01mKeyError\u001b[39;00m \u001b[38;5;28;01mas\u001b[39;00m err:\n",
      "File \u001b[0;32mindex.pyx:167\u001b[0m, in \u001b[0;36mpandas._libs.index.IndexEngine.get_loc\u001b[0;34m()\u001b[0m\n",
      "File \u001b[0;32mindex.pyx:196\u001b[0m, in \u001b[0;36mpandas._libs.index.IndexEngine.get_loc\u001b[0;34m()\u001b[0m\n",
      "File \u001b[0;32mpandas/_libs/hashtable_class_helper.pxi:7081\u001b[0m, in \u001b[0;36mpandas._libs.hashtable.PyObjectHashTable.get_item\u001b[0;34m()\u001b[0m\n",
      "File \u001b[0;32mpandas/_libs/hashtable_class_helper.pxi:7089\u001b[0m, in \u001b[0;36mpandas._libs.hashtable.PyObjectHashTable.get_item\u001b[0;34m()\u001b[0m\n",
      "\u001b[0;31mKeyError\u001b[0m: 'cat_id'",
      "\nThe above exception was the direct cause of the following exception:\n",
      "\u001b[0;31mKeyError\u001b[0m                                  Traceback (most recent call last)",
      "Cell \u001b[0;32mIn[12], line 6\u001b[0m\n\u001b[1;32m      4\u001b[0m \u001b[38;5;28mprint\u001b[39m(\u001b[38;5;124m\"\u001b[39m\u001b[38;5;124mTest merchant id not in log: \u001b[39m\u001b[38;5;124m\"\u001b[39m, \u001b[38;5;28mlen\u001b[39m(\u001b[38;5;28mset\u001b[39m(test_format1[\u001b[38;5;124m'\u001b[39m\u001b[38;5;124mmerchant_id\u001b[39m\u001b[38;5;124m'\u001b[39m]) \u001b[38;5;241m-\u001b[39m \u001b[38;5;28mset\u001b[39m(user_log_format1[\u001b[38;5;124m'\u001b[39m\u001b[38;5;124mmerchant_id\u001b[39m\u001b[38;5;124m'\u001b[39m])))\n\u001b[1;32m      5\u001b[0m \u001b[38;5;28mprint\u001b[39m(\u001b[38;5;124m\"\u001b[39m\u001b[38;5;124mTest merchant id not in train: \u001b[39m\u001b[38;5;124m\"\u001b[39m, \u001b[38;5;28mlen\u001b[39m(\u001b[38;5;28mset\u001b[39m(test_format1[\u001b[38;5;124m'\u001b[39m\u001b[38;5;124mmerchant_id\u001b[39m\u001b[38;5;124m'\u001b[39m]) \u001b[38;5;241m-\u001b[39m \u001b[38;5;28mset\u001b[39m(train_format1[\u001b[38;5;124m'\u001b[39m\u001b[38;5;124mmerchant_id\u001b[39m\u001b[38;5;124m'\u001b[39m])))\n\u001b[0;32m----> 6\u001b[0m \u001b[38;5;28mprint\u001b[39m(\u001b[38;5;124m\"\u001b[39m\u001b[38;5;124mCategory not in train: \u001b[39m\u001b[38;5;124m\"\u001b[39m, \u001b[38;5;28mlen\u001b[39m(\u001b[38;5;28mset\u001b[39m(\u001b[43mtest_format1\u001b[49m\u001b[43m[\u001b[49m\u001b[38;5;124;43m'\u001b[39;49m\u001b[38;5;124;43mcat_id\u001b[39;49m\u001b[38;5;124;43m'\u001b[39;49m\u001b[43m]\u001b[49m) \u001b[38;5;241m-\u001b[39m \u001b[38;5;28mset\u001b[39m(train_format1[\u001b[38;5;124m'\u001b[39m\u001b[38;5;124mcat_id\u001b[39m\u001b[38;5;124m'\u001b[39m])))\n\u001b[1;32m      7\u001b[0m \u001b[38;5;28mprint\u001b[39m(\u001b[38;5;124m\"\u001b[39m\u001b[38;5;124mBrand not in train: \u001b[39m\u001b[38;5;124m\"\u001b[39m, \u001b[38;5;28mlen\u001b[39m(\u001b[38;5;28mset\u001b[39m(test_format1[\u001b[38;5;124m'\u001b[39m\u001b[38;5;124mbrand_id\u001b[39m\u001b[38;5;124m'\u001b[39m]) \u001b[38;5;241m-\u001b[39m \u001b[38;5;28mset\u001b[39m(train_format1[\u001b[38;5;124m'\u001b[39m\u001b[38;5;124mbrand_id\u001b[39m\u001b[38;5;124m'\u001b[39m])))\n",
      "File \u001b[0;32m/flash2/aml/miniconda3/envs/wangwd24/lib/python3.10/site-packages/pandas/core/frame.py:4102\u001b[0m, in \u001b[0;36mDataFrame.__getitem__\u001b[0;34m(self, key)\u001b[0m\n\u001b[1;32m   4100\u001b[0m \u001b[38;5;28;01mif\u001b[39;00m \u001b[38;5;28mself\u001b[39m\u001b[38;5;241m.\u001b[39mcolumns\u001b[38;5;241m.\u001b[39mnlevels \u001b[38;5;241m>\u001b[39m \u001b[38;5;241m1\u001b[39m:\n\u001b[1;32m   4101\u001b[0m     \u001b[38;5;28;01mreturn\u001b[39;00m \u001b[38;5;28mself\u001b[39m\u001b[38;5;241m.\u001b[39m_getitem_multilevel(key)\n\u001b[0;32m-> 4102\u001b[0m indexer \u001b[38;5;241m=\u001b[39m \u001b[38;5;28;43mself\u001b[39;49m\u001b[38;5;241;43m.\u001b[39;49m\u001b[43mcolumns\u001b[49m\u001b[38;5;241;43m.\u001b[39;49m\u001b[43mget_loc\u001b[49m\u001b[43m(\u001b[49m\u001b[43mkey\u001b[49m\u001b[43m)\u001b[49m\n\u001b[1;32m   4103\u001b[0m \u001b[38;5;28;01mif\u001b[39;00m is_integer(indexer):\n\u001b[1;32m   4104\u001b[0m     indexer \u001b[38;5;241m=\u001b[39m [indexer]\n",
      "File \u001b[0;32m/flash2/aml/miniconda3/envs/wangwd24/lib/python3.10/site-packages/pandas/core/indexes/base.py:3812\u001b[0m, in \u001b[0;36mIndex.get_loc\u001b[0;34m(self, key)\u001b[0m\n\u001b[1;32m   3807\u001b[0m     \u001b[38;5;28;01mif\u001b[39;00m \u001b[38;5;28misinstance\u001b[39m(casted_key, \u001b[38;5;28mslice\u001b[39m) \u001b[38;5;129;01mor\u001b[39;00m (\n\u001b[1;32m   3808\u001b[0m         \u001b[38;5;28misinstance\u001b[39m(casted_key, abc\u001b[38;5;241m.\u001b[39mIterable)\n\u001b[1;32m   3809\u001b[0m         \u001b[38;5;129;01mand\u001b[39;00m \u001b[38;5;28many\u001b[39m(\u001b[38;5;28misinstance\u001b[39m(x, \u001b[38;5;28mslice\u001b[39m) \u001b[38;5;28;01mfor\u001b[39;00m x \u001b[38;5;129;01min\u001b[39;00m casted_key)\n\u001b[1;32m   3810\u001b[0m     ):\n\u001b[1;32m   3811\u001b[0m         \u001b[38;5;28;01mraise\u001b[39;00m InvalidIndexError(key)\n\u001b[0;32m-> 3812\u001b[0m     \u001b[38;5;28;01mraise\u001b[39;00m \u001b[38;5;167;01mKeyError\u001b[39;00m(key) \u001b[38;5;28;01mfrom\u001b[39;00m \u001b[38;5;21;01merr\u001b[39;00m\n\u001b[1;32m   3813\u001b[0m \u001b[38;5;28;01mexcept\u001b[39;00m \u001b[38;5;167;01mTypeError\u001b[39;00m:\n\u001b[1;32m   3814\u001b[0m     \u001b[38;5;66;03m# If we have a listlike key, _check_indexing_error will raise\u001b[39;00m\n\u001b[1;32m   3815\u001b[0m     \u001b[38;5;66;03m#  InvalidIndexError. Otherwise we fall through and re-raise\u001b[39;00m\n\u001b[1;32m   3816\u001b[0m     \u001b[38;5;66;03m#  the TypeError.\u001b[39;00m\n\u001b[1;32m   3817\u001b[0m     \u001b[38;5;28mself\u001b[39m\u001b[38;5;241m.\u001b[39m_check_indexing_error(key)\n",
      "\u001b[0;31mKeyError\u001b[0m: 'cat_id'"
     ]
    }
   ],
   "source": [
    "# are all users and merchant in tests appear in trains\n",
    "print(\"Test user id not in train: \", len(set(test_format1['user_id']) - set(train_format1['user_id'])))\n",
    "print(\"Test user id not in log\", len(set(test_format1['user_id']) - set(user_log_format1['user_id'])))\n",
    "print(\"Test merchant id not in log: \", len(set(test_format1['merchant_id']) - set(user_log_format1['merchant_id'])))\n",
    "print(\"Test merchant id not in train: \", len(set(test_format1['merchant_id']) - set(train_format1['merchant_id'])))\n",
    "print(\"Category not in train: \", len(set(test_format1['cat_id']) - set(train_format1['cat_id'])))\n",
    "print(\"Brand not in train: \", len(set(test_format1['brand_id']) - set(train_format1['brand_id'])))"
   ]
  },
  {
   "cell_type": "code",
   "execution_count": 24,
   "metadata": {},
   "outputs": [
    {
     "name": "stdout",
     "output_type": "stream",
     "text": [
      "212108\n",
      "260864\n"
     ]
    }
   ],
   "source": [
    "print(len(test_format1['user_id'].unique()))\n",
    "print(len(train_format1[['user_id','merchant_id']].drop_duplicates()))"
   ]
  },
  {
   "cell_type": "code",
   "execution_count": 8,
   "metadata": {},
   "outputs": [],
   "source": [
    "#erase the original dataframe\n",
    "del user_info_format1\n",
    "del user_log_format1"
   ]
  },
  {
   "cell_type": "code",
   "execution_count": 9,
   "metadata": {},
   "outputs": [
    {
     "name": "stdout",
     "output_type": "stream",
     "text": [
      "         user_id  age_range  gender  merchant_id  label  \\\n",
      "0         163968        0.0     0.0         4378   -1.0   \n",
      "1         163968        0.0     0.0         2300   -1.0   \n",
      "2         163968        0.0     0.0         1551   -1.0   \n",
      "3         163968        0.0     0.0         4343   -1.0   \n",
      "4         163968        0.0     0.0         4911   -1.0   \n",
      "...          ...        ...     ...          ...    ...   \n",
      "7027938    32639        0.0     0.0         2550   -1.0   \n",
      "7027939    32639        0.0     0.0         1364   -1.0   \n",
      "7027940    32639        0.0     0.0          503   -1.0   \n",
      "7027941    32639        0.0     0.0         2286   -1.0   \n",
      "7027942    32639        0.0     0.0         1506   -1.0   \n",
      "\n",
      "                                              activity_log  \n",
      "0                                   101206:812:6968:0614:0  \n",
      "1        588758:844:3833:0618:0#71782:844:3833:1111:2#7...  \n",
      "2        312747:243:1954:0627:0#312747:243:1954:0627:0#...  \n",
      "3                                  932390:1612:3201:0628:0  \n",
      "4                                   957657:662:3089:0612:0  \n",
      "...                                                    ...  \n",
      "7027938  380306:177:3545:1028:0#987028:177:3545:1028:0#...  \n",
      "7027939                            927267:1213:6326:0807:0  \n",
      "7027940                              12898:420:5197:0926:3  \n",
      "7027941                            805269:1455:5262:1026:0  \n",
      "7027942                              28017:812:4888:0525:0  \n",
      "\n",
      "[7027943 rows x 6 columns]\n"
     ]
    }
   ],
   "source": [
    "print(test_format2)"
   ]
  },
  {
   "cell_type": "code",
   "execution_count": null,
   "metadata": {},
   "outputs": [
    {
     "data": {
      "text/html": [
       "<div>\n",
       "<style scoped>\n",
       "    .dataframe tbody tr th:only-of-type {\n",
       "        vertical-align: middle;\n",
       "    }\n",
       "\n",
       "    .dataframe tbody tr th {\n",
       "        vertical-align: top;\n",
       "    }\n",
       "\n",
       "    .dataframe thead th {\n",
       "        text-align: right;\n",
       "    }\n",
       "</style>\n",
       "<table border=\"1\" class=\"dataframe\">\n",
       "  <thead>\n",
       "    <tr style=\"text-align: right;\">\n",
       "      <th></th>\n",
       "      <th>user_id</th>\n",
       "      <th>merchant_id</th>\n",
       "    </tr>\n",
       "  </thead>\n",
       "  <tbody>\n",
       "    <tr>\n",
       "      <th>0</th>\n",
       "      <td>163968</td>\n",
       "      <td>4378</td>\n",
       "    </tr>\n",
       "    <tr>\n",
       "      <th>1</th>\n",
       "      <td>163968</td>\n",
       "      <td>2300</td>\n",
       "    </tr>\n",
       "    <tr>\n",
       "      <th>2</th>\n",
       "      <td>163968</td>\n",
       "      <td>1551</td>\n",
       "    </tr>\n",
       "    <tr>\n",
       "      <th>3</th>\n",
       "      <td>163968</td>\n",
       "      <td>4343</td>\n",
       "    </tr>\n",
       "    <tr>\n",
       "      <th>4</th>\n",
       "      <td>163968</td>\n",
       "      <td>4911</td>\n",
       "    </tr>\n",
       "    <tr>\n",
       "      <th>...</th>\n",
       "      <td>...</td>\n",
       "      <td>...</td>\n",
       "    </tr>\n",
       "    <tr>\n",
       "      <th>7027938</th>\n",
       "      <td>32639</td>\n",
       "      <td>2550</td>\n",
       "    </tr>\n",
       "    <tr>\n",
       "      <th>7027939</th>\n",
       "      <td>32639</td>\n",
       "      <td>1364</td>\n",
       "    </tr>\n",
       "    <tr>\n",
       "      <th>7027940</th>\n",
       "      <td>32639</td>\n",
       "      <td>503</td>\n",
       "    </tr>\n",
       "    <tr>\n",
       "      <th>7027941</th>\n",
       "      <td>32639</td>\n",
       "      <td>2286</td>\n",
       "    </tr>\n",
       "    <tr>\n",
       "      <th>7027942</th>\n",
       "      <td>32639</td>\n",
       "      <td>1506</td>\n",
       "    </tr>\n",
       "  </tbody>\n",
       "</table>\n",
       "<p>6766466 rows × 2 columns</p>\n",
       "</div>"
      ],
      "text/plain": [
       "         user_id  merchant_id\n",
       "0         163968         4378\n",
       "1         163968         2300\n",
       "2         163968         1551\n",
       "3         163968         4343\n",
       "4         163968         4911\n",
       "...          ...          ...\n",
       "7027938    32639         2550\n",
       "7027939    32639         1364\n",
       "7027940    32639          503\n",
       "7027941    32639         2286\n",
       "7027942    32639         1506\n",
       "\n",
       "[6766466 rows x 2 columns]"
      ]
     },
     "execution_count": 11,
     "metadata": {},
     "output_type": "execute_result"
    }
   ],
   "source": []
  },
  {
   "cell_type": "markdown",
   "metadata": {},
   "source": [
    "# 1. Preprocess Data"
   ]
  },
  {
   "cell_type": "markdown",
   "metadata": {},
   "source": []
  },
  {
   "cell_type": "markdown",
   "metadata": {},
   "source": [
    "# 2. Matrix Decomposition, with sklearn"
   ]
  },
  {
   "cell_type": "markdown",
   "metadata": {},
   "source": [
    "## Construct the embedding matrix of user_id (row), and merchant (column), and embedding vector (latent_size), for each "
   ]
  },
  {
   "cell_type": "code",
   "execution_count": 9,
   "metadata": {},
   "outputs": [
    {
     "name": "stdout",
     "output_type": "stream",
     "text": [
      "user_id  merchant_id\n",
      "1        1019           1\n",
      "282488   2193           1\n",
      "282467   2278           1\n",
      "         3958           1\n",
      "         4976           1\n",
      "                       ..\n",
      "140925   2537           1\n",
      "140931   71             1\n",
      "140933   2277           1\n",
      "140934   3835           1\n",
      "424170   4268           1\n",
      "Length: 260864, dtype: int64\n",
      "1\n"
     ]
    }
   ],
   "source": [
    "count_series = train_format1[[\"user_id\", \"merchant_id\"]].value_counts()\n",
    "print(count_series)\n",
    "print(count_series[391188][1102])\n",
    "del count_series"
   ]
  },
  {
   "cell_type": "code",
   "execution_count": 20,
   "metadata": {},
   "outputs": [
    {
     "name": "stdout",
     "output_type": "stream",
     "text": [
      "User encoder length:  424170\n",
      "Merchant encoder length:  4992\n",
      "Brand encoder length:  6782\n",
      "Cat encoder length:  1348\n",
      "User_encoder.classes_: [     1      2      3 ... 424168 424169 424170]\n",
      "User idx len: 424168, Second idx len: 424170\n",
      "Merchant idx len: 4990, Second idx len: 4992\n",
      "User idx len: 424168, Second idx len: 424170\n",
      "Brand idx index: MultiIndex([( 83652, 4971),\n",
      "            (391187,  959),\n",
      "            (177384, 1076),\n",
      "            (313933, 1076),\n",
      "            ( 96723, 1076),\n",
      "            (163406, 1076),\n",
      "            (296477, 1076),\n",
      "            ( 68857, 1076),\n",
      "            (244470, 2608),\n",
      "            (414238, 4971),\n",
      "            ...\n",
      "            (    10, 5974),\n",
      "            (424157, 4731),\n",
      "            (     4, 1914),\n",
      "            (     4, 1989),\n",
      "            (     4, 3431),\n",
      "            (     4, 4438),\n",
      "            (     4, 4583),\n",
      "            (     4, 6000),\n",
      "            (     8, 4508),\n",
      "            (     9, 4398)],\n",
      "           names=['user_id_enc', 'brand_id_enc'], length=2038774), Second idx len: 6782\n",
      "Brand idx len: 6780, Second idx len: 6782\n",
      "User idx len: 424168, Second idx len: 424170\n",
      "Cat idx len: 1346, Second idx len: 1348\n"
     ]
    }
   ],
   "source": [
    "# Prepare interaction matrices from the training data\n",
    "def prepare_value_matrix(train_data, test_data, user_log_path, user_filter_mode = \"ALL\", frac_users_merchants_from_train = 0.3, normalized = True, latent_size = 10, empty_value=-100, device=\"cuda\"):\n",
    "    \"\"\"\n",
    "    Prepares a sparse interaction matrix for the given row and column.\n",
    "    \"\"\"\n",
    "    gc.collect()\n",
    "    torch.cuda.empty_cache()\n",
    "    np.random.seed(42)\n",
    "    #temporarily upload user_info_log\n",
    "    user_info_log = pd.read_csv(user_log_path, dtype={'time_stamp': str}).rename(columns={\"seller_id\": \"merchant_id\"})\n",
    "    user_info_log = user_info_log[user_info_log[\"time_stamp\"] == \"1111\"]\n",
    "    user_encoder = LabelEncoder()\n",
    "    merchant_encoder = LabelEncoder()\n",
    "    brand_encoder = LabelEncoder()\n",
    "    cat_encoder = LabelEncoder()\n",
    "\n",
    "\n",
    "    # Get unique user and merchant IDs from test data\n",
    "    unique_test_user_ids = set(test_data[\"user_id\"].unique())\n",
    "    unique_test_merchant_ids = set(test_data[\"merchant_id\"].unique())\n",
    "\n",
    "    if user_filter_mode == \"TEST_ONLY\":\n",
    "        # Filter only using test data\n",
    "        user_info_log = user_info_log[\n",
    "            user_info_log['user_id'].isin(unique_test_user_ids) |\n",
    "            user_info_log['merchant_id'].isin(unique_test_merchant_ids)\n",
    "        ]\n",
    "    else:\n",
    "        # Get unique user and merchant IDs from train data\n",
    "        unique_train_user_merchant_ids = train_data[[\"user_id\", \"merchant_id\"]].drop_duplicates()\n",
    "        \n",
    "        if user_filter_mode == \"TEST_ALL_TRAIN_PARTIAL\":\n",
    "            # Shuffle train user IDs\n",
    "            shuffled_train_user_merchant_ids = unique_train_user_merchant_ids.sample(frac=frac_users_merchants_from_train, random_state=42)\n",
    "            \n",
    "            # Combine user and merchant IDs\n",
    "            sampled_user_ids = set(shuffled_train_user_merchant_ids[\"user_id\"])\n",
    "            sampled_merchant_ids = set(shuffled_train_user_merchant_ids[\"merchant_id\"])\n",
    "            \n",
    "            combined_user_ids = unique_test_user_ids.union(sampled_user_ids)\n",
    "            combined_merchant_ids = unique_test_merchant_ids.union(sampled_merchant_ids)\n",
    "        else:\n",
    "            # Combine all train and test user/merchant IDs\n",
    "            combined_user_ids = unique_test_user_ids.union(set(unique_train_user_merchant_ids[\"user_id\"]))\n",
    "            combined_merchant_ids = unique_test_merchant_ids.union(set(unique_train_user_merchant_ids[\"merchant_id\"]))\n",
    "\n",
    "\n",
    "        # Filter `user_info_log` based on combined IDs\n",
    "        user_info_log = user_info_log[\n",
    "            user_info_log['user_id'].isin(combined_user_ids) |\n",
    "            user_info_log['merchant_id'].isin(combined_merchant_ids)\n",
    "        ]\n",
    "\n",
    "    user_info_log['user_id_enc'] = user_encoder.fit_transform(user_info_log['user_id'])\n",
    "    user_info_log['merchant_id_enc'] = merchant_encoder.fit_transform(user_info_log['merchant_id'])\n",
    "    user_info_log['brand_id_enc'] = brand_encoder.fit_transform(user_info_log['brand_id'])\n",
    "    user_info_log['cat_id_enc'] = cat_encoder.fit_transform(user_info_log['cat_id'])\n",
    "\n",
    "    #construct the embedding matrix\n",
    "    print(\"User encoder length: \", len(user_encoder.classes_))\n",
    "    print(\"Merchant encoder length: \", len(merchant_encoder.classes_))\n",
    "    print(\"Brand encoder length: \", len(brand_encoder.classes_))\n",
    "    print(\"Cat encoder length: \", len(cat_encoder.classes_))\n",
    "\n",
    "    value_counts_user_merchants = user_info_log[['user_id_enc', 'merchant_id_enc']].value_counts()\n",
    "    value_counts_user_brands = user_info_log[['user_id_enc', 'brand_id_enc']].value_counts()\n",
    "    value_counts_user_cats = user_info_log[['user_id_enc', 'cat_id_enc']].value_counts()\n",
    "\n",
    "    del user_info_log\n",
    "\n",
    "    if normalized:\n",
    "        value_counts_user_merchants = (value_counts_user_merchants - value_counts_user_merchants.mean()) / value_counts_user_merchants.std()\n",
    "        value_counts_user_brands = (value_counts_user_brands - value_counts_user_brands.mean()) / value_counts_user_brands.std()\n",
    "        value_counts_user_cats = (value_counts_user_cats - value_counts_user_cats.mean()) / value_counts_user_cats.std()\n",
    "\n",
    "    #create embedding matrices for user, merchant, brand, cat\n",
    "    print(f\"User_encoder.classes_: {user_encoder.classes_}\")\n",
    "    user_embedding = torch.rand(len(user_encoder.classes_), latent_size, device=device,dtype=torch.bfloat16)\n",
    "    merchant_embedding = torch.rand(len(merchant_encoder.classes_), latent_size, device=device,dtype=torch.bfloat16)\n",
    "    cat_embedding = torch.rand(len(cat_encoder.classes_), latent_size, device=device,dtype=torch.bfloat16)\n",
    "    brand_embedding = torch.rand(len(brand_encoder.classes_), latent_size, device=device,dtype=torch.bfloat16)\n",
    "\n",
    "    #populate interaction based on value_counts\n",
    "    user_merchant_mask = torch.zeros(len(user_encoder.classes_), len(merchant_encoder.classes_), device=device,dtype=torch.bfloat16)\n",
    "    user_brand_mask = torch.zeros(len(user_encoder.classes_), len(brand_encoder.classes_), device=device,dtype=torch.bfloat16)\n",
    "    user_cat_mask = torch.zeros(len(user_encoder.classes_), len(cat_encoder.classes_), device=device,dtype=torch.bfloat16)\n",
    "    user_merchant_gt = torch.full((len(user_encoder.classes_), len(merchant_encoder.classes_)), empty_value, device=device,dtype=torch.bfloat16)\n",
    "    user_brand_gt = torch.full((len(user_encoder.classes_), len(brand_encoder.classes_)), empty_value, device=device,dtype=torch.bfloat16)\n",
    "    user_cat_gt = torch.full((len(user_encoder.classes_), len(cat_encoder.classes_)), empty_value, device=device,dtype=torch.bfloat16)\n",
    "    \n",
    "    indices = torch.tensor(value_counts_user_merchants.index.to_list(), device=device, dtype=torch.int32)\n",
    "    values = torch.tensor(value_counts_user_merchants.values, device=device, dtype=torch.bfloat16)\n",
    "    first_idx = indices[:, 0].int() - 1#user\n",
    "    second_idx = indices[:, 1].int() - 1 #merchant\n",
    "    print(f\"User idx len: {first_idx.max()}, Second idx len: {len(user_encoder.classes_)}\")\n",
    "    assert first_idx.max() < len(user_encoder.classes_), \"User index out of bounds\"\n",
    "    print(f\"Merchant idx len: {second_idx.max()}, Second idx len: {len(merchant_encoder.classes_)}\")\n",
    "    assert second_idx.max() < len(merchant_encoder.classes_), \"Merchant index out of bounds\"\n",
    "    user_merchant_gt[first_idx, second_idx] = values\n",
    "    user_merchant_mask[first_idx, second_idx] = 1\n",
    "    del value_counts_user_merchants\n",
    "\n",
    "    indices = torch.tensor(value_counts_user_brands.index.to_list(), device=device, dtype=torch.int32)\n",
    "    values = torch.tensor(value_counts_user_brands.values, device=device, dtype=torch.bfloat16)\n",
    "    first_idx = indices[:, 0].int() - 1 #user\n",
    "    second_idx = indices[:, 1].int() - 1#brand\n",
    "    print(f\"User idx len: {first_idx.max()}, Second idx len: {len(user_encoder.classes_)}\")\n",
    "    assert first_idx.max() < len(user_encoder.classes_), \"User index out of bounds\"\n",
    "    print(f\"Brand idx index: {value_counts_user_brands.index}, Second idx len: {len(brand_encoder.classes_)}\")\n",
    "    print(f\"Brand idx len: {second_idx.max()}, Second idx len: {len(brand_encoder.classes_)}\")\n",
    "    assert second_idx.max() < len(brand_encoder.classes_), \"Brand index out of bounds\"\n",
    "    user_brand_mask[first_idx, second_idx] = values\n",
    "    user_brand_gt[first_idx, second_idx] = 1\n",
    "    del value_counts_user_brands\n",
    "\n",
    "    indices = torch.tensor(value_counts_user_cats.index.to_list(), device=device, dtype=torch.int32)\n",
    "    values = torch.tensor(value_counts_user_cats.values, device=device, dtype=torch.bfloat16)\n",
    "    gc.collect()\n",
    "    torch.cuda.empty_cache()\n",
    "    first_idx = indices[:, 0].int() - 1 #user\n",
    "    second_idx = indices[:, 1].int() - 1 #cats\n",
    "    print(f\"User idx len: {first_idx.max()}, Second idx len: {len(user_encoder.classes_)}\")\n",
    "    assert first_idx.max() < len(user_encoder.classes_), \"User index out of bounds\"\n",
    "    print(f\"Cat idx len: {second_idx.max()}, Second idx len: {len(cat_encoder.classes_)}\")\n",
    "    assert second_idx.max() < len(cat_encoder.classes_), \"Cat index out of bounds\"\n",
    "    user_cat_mask[first_idx, second_idx] = values\n",
    "    user_cat_gt[first_idx, second_idx] = 1\n",
    "    del value_counts_user_cats\n",
    "    del indices\n",
    "    del values\n",
    "\n",
    "    # metadata:\n",
    "    metadata = {\n",
    "        'user_encoder': user_encoder,\n",
    "        'merchant_encoder': merchant_encoder,\n",
    "        'brand_encoder': brand_encoder,\n",
    "        'cat_encoder': cat_encoder,\n",
    "\n",
    "        'user_embedding': user_embedding,\n",
    "        'merchant_embedding': merchant_embedding,\n",
    "        'brand_embedding': brand_embedding,\n",
    "        'cat_embedding': cat_embedding,\n",
    "\n",
    "        'user_merchant_mask': user_merchant_mask,\n",
    "        'user_brand_mask': user_brand_mask,\n",
    "        'user_cat_mask': user_cat_mask,\n",
    "\n",
    "        'user_merchant_gt': user_merchant_gt,\n",
    "        'user_brand_gt': user_brand_gt,\n",
    "        'user_cat_gt': user_cat_gt,\n",
    "\n",
    "        # 'value_counts_user_merchants': value_counts_user_merchants,\n",
    "        # 'value_coutns_user_brands': value_counts_user_brands, \n",
    "        # 'value_counts_user_cats': value_counts_user_cats,\n",
    "    }\n",
    "    gc.collect()\n",
    "    torch.cuda.empty_cache()\n",
    "    return metadata\n",
    "\n",
    "metadata = prepare_value_matrix(train_format1, test_format1, user_log_path = os.path.join(data_format1_path, \"user_log_format1.csv\"), \n",
    "                     user_filter_mode = \"TEST_ONLY\", frac_users_merchants_from_train = 0.3, normalized = True, \n",
    "                     latent_size = 20, empty_value=-100, device=\"cuda\")"
   ]
  },
  {
   "cell_type": "code",
   "execution_count": 28,
   "metadata": {},
   "outputs": [
    {
     "name": "stderr",
     "output_type": "stream",
     "text": [
      "  0%|          | 0/100 [00:00<?, ?it/s]\n"
     ]
    },
    {
     "ename": "OutOfMemoryError",
     "evalue": "CUDA out of memory. Tried to allocate 5.36 GiB. GPU ",
     "output_type": "error",
     "traceback": [
      "\u001b[0;31m---------------------------------------------------------------------------\u001b[0m",
      "\u001b[0;31mOutOfMemoryError\u001b[0m                          Traceback (most recent call last)",
      "Cell \u001b[0;32mIn[28], line 116\u001b[0m\n\u001b[1;32m    113\u001b[0m     \u001b[38;5;28mprint\u001b[39m(\u001b[38;5;124m\"\u001b[39m\u001b[38;5;124mFinal train Loss: \u001b[39m\u001b[38;5;124m\"\u001b[39m, loss_train_list[\u001b[38;5;241m-\u001b[39m\u001b[38;5;241m1\u001b[39m], \u001b[38;5;124m\"\u001b[39m\u001b[38;5;124m RMSE: \u001b[39m\u001b[38;5;124m\"\u001b[39m, rmse_train_list[\u001b[38;5;241m-\u001b[39m\u001b[38;5;241m1\u001b[39m])\n\u001b[1;32m    114\u001b[0m     \u001b[38;5;28;01mreturn\u001b[39;00m user_embedding, merchant_embedding, brand_embedding, cat_embedding, loss_train_list, rmse_train_list\n\u001b[0;32m--> 116\u001b[0m metadata[\u001b[38;5;124m\"\u001b[39m\u001b[38;5;124muser_embedding\u001b[39m\u001b[38;5;124m\"\u001b[39m], metadata[\u001b[38;5;124m\"\u001b[39m\u001b[38;5;124mmerchant_embedding\u001b[39m\u001b[38;5;124m\"\u001b[39m], metadata[\u001b[38;5;124m\"\u001b[39m\u001b[38;5;124mbrand_embedding\u001b[39m\u001b[38;5;124m\"\u001b[39m], metadata[\u001b[38;5;124m\"\u001b[39m\u001b[38;5;124mcat_embedding\u001b[39m\u001b[38;5;124m\"\u001b[39m] \u001b[38;5;241m=\u001b[39m \u001b[43mtraining_iteration\u001b[49m\u001b[43m(\u001b[49m\u001b[38;5;241;43m100\u001b[39;49m\u001b[43m,\u001b[49m\u001b[43m \u001b[49m\u001b[38;5;241;43m0.01\u001b[39;49m\u001b[43m,\u001b[49m\u001b[43m \u001b[49m\u001b[38;5;241;43m0.01\u001b[39;49m\u001b[43m,\u001b[49m\u001b[43m \u001b[49m\u001b[43mmetadata\u001b[49m\u001b[43m,\u001b[49m\u001b[43m \u001b[49m\u001b[43mplot_graph\u001b[49m\u001b[43m \u001b[49m\u001b[38;5;241;43m=\u001b[39;49m\u001b[38;5;28;43;01mTrue\u001b[39;49;00m\u001b[43m,\u001b[49m\u001b[43m \u001b[49m\u001b[43mepoch_print_result\u001b[49m\u001b[43m \u001b[49m\u001b[38;5;241;43m=\u001b[39;49m\u001b[43m \u001b[49m\u001b[38;5;28;43;01mTrue\u001b[39;49;00m\u001b[43m)\u001b[49m\n",
      "Cell \u001b[0;32mIn[28], line 74\u001b[0m, in \u001b[0;36mtraining_iteration\u001b[0;34m(epoch, lr, lambda_reg, metadata, plot_graph, epoch_print_result)\u001b[0m\n\u001b[1;32m     70\u001b[0m loss_train_list\u001b[38;5;241m.\u001b[39mappend(loss_train\u001b[38;5;241m.\u001b[39mitem())\n\u001b[1;32m     73\u001b[0m \u001b[38;5;66;03m#calculate rmse:\u001b[39;00m\n\u001b[0;32m---> 74\u001b[0m rmse_error_train \u001b[38;5;241m=\u001b[39m \u001b[43mcalculate_rmse\u001b[49m\u001b[43m(\u001b[49m\u001b[43mUM_pred\u001b[49m\u001b[43m,\u001b[49m\u001b[43m \u001b[49m\u001b[43mUM_gt\u001b[49m\u001b[43m,\u001b[49m\u001b[43m \u001b[49m\u001b[43mUM_mask\u001b[49m\u001b[43m,\u001b[49m\u001b[43m \u001b[49m\u001b[43mUB_pred\u001b[49m\u001b[43m,\u001b[49m\u001b[43m \u001b[49m\u001b[43mUB_gt\u001b[49m\u001b[43m,\u001b[49m\u001b[43m \u001b[49m\u001b[43mUB_mask\u001b[49m\u001b[43m,\u001b[49m\u001b[43m \u001b[49m\u001b[43mUC_pred\u001b[49m\u001b[43m,\u001b[49m\u001b[43m \u001b[49m\u001b[43mUC_gt\u001b[49m\u001b[43m,\u001b[49m\u001b[43m \u001b[49m\u001b[43mUC_mask\u001b[49m\u001b[43m)\u001b[49m\u001b[38;5;241m.\u001b[39mdetach()\n\u001b[1;32m     75\u001b[0m rmse_train_list\u001b[38;5;241m.\u001b[39mappend(rmse_error_train\u001b[38;5;241m.\u001b[39mitem())\n\u001b[1;32m     77\u001b[0m \u001b[38;5;66;03m#update U and V\u001b[39;00m\n",
      "Cell \u001b[0;32mIn[28], line 5\u001b[0m, in \u001b[0;36mcalculate_rmse\u001b[0;34m(predictions1, actual1, mask1, predictions2, actual2, mask2, predictions3, actual3, mask3)\u001b[0m\n\u001b[1;32m      1\u001b[0m \u001b[38;5;28;01mdef\u001b[39;00m \u001b[38;5;21mcalculate_rmse\u001b[39m(predictions1, actual1, mask1, predictions2, actual2, mask2, predictions3, actual3, mask3):\n\u001b[1;32m      2\u001b[0m \n\u001b[1;32m      3\u001b[0m     \u001b[38;5;66;03m# Calculate the squared differences\u001b[39;00m\n\u001b[1;32m      4\u001b[0m     squared_diff1 \u001b[38;5;241m=\u001b[39m (predictions1 \u001b[38;5;241m-\u001b[39m actual1) \u001b[38;5;241m*\u001b[39m\u001b[38;5;241m*\u001b[39m \u001b[38;5;241m2\u001b[39m\n\u001b[0;32m----> 5\u001b[0m     squared_diff2 \u001b[38;5;241m=\u001b[39m \u001b[43m(\u001b[49m\u001b[43mpredictions2\u001b[49m\u001b[43m \u001b[49m\u001b[38;5;241;43m-\u001b[39;49m\u001b[43m \u001b[49m\u001b[43mactual2\u001b[49m\u001b[43m)\u001b[49m\u001b[43m \u001b[49m\u001b[38;5;241;43m*\u001b[39;49m\u001b[38;5;241;43m*\u001b[39;49m\u001b[43m \u001b[49m\u001b[38;5;241;43m2\u001b[39;49m\n\u001b[1;32m      6\u001b[0m     squared_diff3 \u001b[38;5;241m=\u001b[39m (predictions3 \u001b[38;5;241m-\u001b[39m actual3) \u001b[38;5;241m*\u001b[39m\u001b[38;5;241m*\u001b[39m \u001b[38;5;241m2\u001b[39m\n\u001b[1;32m      8\u001b[0m     \u001b[38;5;66;03m# Apply the mask to the squared differences (0 values in the mask will be ignored), and should not contribute to the final \u001b[39;00m\n",
      "File \u001b[0;32m/flash2/aml/miniconda3/envs/wangwd24/lib/python3.10/site-packages/torch/_tensor.py:40\u001b[0m, in \u001b[0;36m_handle_torch_function_and_wrap_type_error_to_not_implemented.<locals>.wrapped\u001b[0;34m(*args, **kwargs)\u001b[0m\n\u001b[1;32m     38\u001b[0m     \u001b[38;5;28;01mif\u001b[39;00m has_torch_function(args):\n\u001b[1;32m     39\u001b[0m         \u001b[38;5;28;01mreturn\u001b[39;00m handle_torch_function(wrapped, args, \u001b[38;5;241m*\u001b[39margs, \u001b[38;5;241m*\u001b[39m\u001b[38;5;241m*\u001b[39mkwargs)\n\u001b[0;32m---> 40\u001b[0m     \u001b[38;5;28;01mreturn\u001b[39;00m \u001b[43mf\u001b[49m\u001b[43m(\u001b[49m\u001b[38;5;241;43m*\u001b[39;49m\u001b[43margs\u001b[49m\u001b[43m,\u001b[49m\u001b[43m \u001b[49m\u001b[38;5;241;43m*\u001b[39;49m\u001b[38;5;241;43m*\u001b[39;49m\u001b[43mkwargs\u001b[49m\u001b[43m)\u001b[49m\n\u001b[1;32m     41\u001b[0m \u001b[38;5;28;01mexcept\u001b[39;00m \u001b[38;5;167;01mTypeError\u001b[39;00m:\n\u001b[1;32m     42\u001b[0m     \u001b[38;5;28;01mreturn\u001b[39;00m \u001b[38;5;28mNotImplemented\u001b[39m\n",
      "\u001b[0;31mOutOfMemoryError\u001b[0m: CUDA out of memory. Tried to allocate 5.36 GiB. GPU "
     ]
    }
   ],
   "source": [
    "def calculate_rmse(predictions1, actual1, mask1, predictions2, actual2, mask2, predictions3, actual3, mask3):\n",
    "\n",
    "    # Calculate the squared differences\n",
    "    squared_diff1 = (predictions1 - actual1) ** 2\n",
    "    squared_diff2 = (predictions2 - actual2) ** 2\n",
    "    squared_diff3 = (predictions3 - actual3) ** 2\n",
    "    \n",
    "    # Apply the mask to the squared differences (0 values in the mask will be ignored), and should not contribute to the final \n",
    "    squared_diff1 = squared_diff1 * mask1\n",
    "    squared_diff2 = squared_diff2 * mask2\n",
    "    squared_diff3 = squared_diff3 * mask3\n",
    "    \n",
    "    # Compute the mean of the squared differences where mask is 1\n",
    "    # The mask is used to avoid including the masked positions in the mean\n",
    "    rmse = torch.sqrt(squared_diff1.sum() / mask1.sum()) + torch.sqrt(squared_diff2.sum() / mask2.sum()) + torch.sqrt(squared_diff3.sum() / mask3.sum())\n",
    "\n",
    "    return rmse\n",
    "\n",
    "def training_iteration(epoch, lr, lambda_reg, metadata, plot_graph =True, epoch_print_result = True):\n",
    "    gc.collect()\n",
    "    torch.cuda.empty_cache()\n",
    "\n",
    "    #initialize tensor U and V\n",
    "    UM_mask = metadata[\"user_merchant_mask\"]\n",
    "    UB_mask = metadata[\"user_brand_mask\"]\n",
    "    UC_mask = metadata[\"user_cat_mask\"]\n",
    "    UM_mask.requires_grad = False\n",
    "    UB_mask.requires_grad = False\n",
    "    UC_mask.requires_grad = False\n",
    "    UM_gt = metadata[\"user_merchant_gt\"]\n",
    "    UB_gt = metadata[\"user_brand_gt\"]\n",
    "    UC_gt = metadata[\"user_cat_gt\"]\n",
    "    UM_gt.requires_grad = False\n",
    "    UB_gt.requires_grad = False\n",
    "    UC_gt.requires_grad = False\n",
    "    \n",
    "    user_embedding = metadata[\"user_embedding\"]\n",
    "    merchant_embedding = metadata[\"merchant_embedding\"]\n",
    "    brand_embedding = metadata[\"brand_embedding\"]\n",
    "    cat_embedding = metadata[\"cat_embedding\"]\n",
    "\n",
    "    user_embedding.requires_grad = True\n",
    "    merchant_embedding.requires_grad = True\n",
    "    brand_embedding.requires_grad = True\n",
    "    cat_embedding.requires_grad = True\n",
    "    \n",
    "    #optimizer\n",
    "    optimizer = torch.optim.Adam([user_embedding, merchant_embedding, brand_embedding, cat_embedding], lr=lr)\n",
    "    loss_train_list = []\n",
    "    #loss_test_list = []\n",
    "    rmse_train_list = []\n",
    "    #rmse_test_list = []\n",
    "    counter = 0\n",
    "    for iter in tqdm(range(epoch)):\n",
    "\n",
    "        UM_pred = user_embedding.mm(merchant_embedding.T)\n",
    "        UB_pred = user_embedding.mm(brand_embedding.T)\n",
    "        UC_pred = user_embedding.mm(cat_embedding.T)\n",
    "\n",
    "        #calculate losses\n",
    "        UM_term = UM_mask*(UM_gt - UM_pred)\n",
    "        UM_term = 1/2 * torch.norm(input = UM_term, p=\"fro\")**2\n",
    "        UB_term = UB_mask*(UB_gt - UB_pred)\n",
    "        UB_term = 1/2 * torch.norm(input = UB_term, p=\"fro\")**2\n",
    "        UC_term = UC_mask*(UC_gt - UC_pred)\n",
    "        UC_term = 1/2 * torch.norm(input = UC_term, p=\"fro\")**2\n",
    "        error_regularization = lambda_reg * (torch.norm(input = user_embedding, p=\"fro\")**2 + torch.norm(input = merchant_embedding, p=\"fro\")**2 + \\\n",
    "            torch.norm(input = brand_embedding, p=\"fro\")**2 + torch.norm(input = cat_embedding, p=\"fro\")**2  )\n",
    "        loss_train = UM_term + UB_term+ UC_term+ error_regularization\n",
    "        loss_train_list.append(loss_train.item())\n",
    "\n",
    "        \n",
    "        #calculate rmse:\n",
    "        rmse_error_train = calculate_rmse(UM_pred, UM_gt, UM_mask, UB_pred, UB_gt, UB_mask, UC_pred, UC_gt, UC_mask).detach()\n",
    "        rmse_train_list.append(rmse_error_train.item())\n",
    "\n",
    "        #update U and V\n",
    "        loss_train.backward()\n",
    "        optimizer.step()\n",
    "        optimizer.zero_grad()\n",
    "        if epoch_print_result:\n",
    "            #print(\"End of epoch: \", iter, \" Loss: \", loss_train.item(), \" RMSE: \", rmse_error_train.item(), \" Test Loss: \", loss_test.item(), \" Test RMSE: \", rmse_error_test.item())\n",
    "            print(\"End of epoch: \", iter, \" Loss: \", loss_train.item(), \" RMSE: \", rmse_error_train.item())\n",
    "        # if iter > 0 and loss_test_list[-2] - loss_test_list[-1] < test_loss_not_change_limit:\n",
    "        #     counter += 1\n",
    "        #     if counter >= test_loss_not_changing_counter:\n",
    "        #         print(\"Test loss not changing, break\")\n",
    "        #         break\n",
    "        # else:\n",
    "        #     counter = 0\n",
    "            \n",
    "\n",
    "    if plot_graph:\n",
    "        plt.plot(loss_train_list, label='Loss train')\n",
    "        #plt.plot(loss_test_list, label='Loss test')\n",
    "        plt.title('Loss vs. epoch')\n",
    "        plt.xlabel('Epoch')\n",
    "        plt.ylabel('Loss')\n",
    "        plt.grid(True)\n",
    "        plt.legend()\n",
    "        plt.show()\n",
    "\n",
    "        #plot RMSE also\n",
    "        plt.plot(rmse_train_list, label='RMSE train')\n",
    "        #plt.plot(rmse_test_list, label='RMSE test')\n",
    "        plt.title('RMSE vs. epoch')\n",
    "        plt.xlabel('Epoch')\n",
    "        plt.ylabel('RMSE')\n",
    "        plt.grid(True)\n",
    "        plt.legend()\n",
    "        plt.show()\n",
    "    #print(\"Final train Loss: \", loss_train_list[-1], \" RMSE: \", rmse_train_list[-1], \" Test Loss: \", loss_test_list[-1], \" Test RMSE: \", rmse_test_list[-1])\n",
    "    print(\"Final train Loss: \", loss_train_list[-1], \" RMSE: \", rmse_train_list[-1])\n",
    "    return user_embedding, merchant_embedding, brand_embedding, cat_embedding, loss_train_list, rmse_train_list\n",
    "\n",
    "metadata[\"user_embedding\"], metadata[\"merchant_embedding\"], metadata[\"brand_embedding\"], metadata[\"cat_embedding\"] = training_iteration(100, 0.01, 0.01, metadata, plot_graph =True, epoch_print_result = True)"
   ]
  },
  {
   "cell_type": "markdown",
   "metadata": {},
   "source": [
    "## This is assisted of GPT ( I havent run this code)"
   ]
  },
  {
   "cell_type": "code",
   "execution_count": null,
   "metadata": {},
   "outputs": [],
   "source": [
    "from scipy.sparse import csr_matrix\n",
    "\n",
    "\n",
    "# Create user-merchant interaction matrix\n",
    "interaction_matrix, user_encoder, merchant_encoder = prepare_interaction_matrix(\n",
    "    train_format1, row_name='user_id', col_name='merchant_id'\n",
    ")\n",
    "\n",
    "# Shape of the matrix\n",
    "interaction_matrix_shape = interaction_matrix.shape\n",
    "\n",
    "interaction_matrix_shape\n",
    "\n",
    "\n",
    "embedding_latent_dim = 20\n",
    "\n",
    "# Apply NMF to derive merchant embeddings\n",
    "num_components = 20  # Number of latent features\n",
    "nmf_model = NMF(n_components=num_components, init='random', random_state=42, max_iter=500)\n",
    "\n",
    "# Fit the NMF model on the interaction matrix\n",
    "merchant_embeddings = nmf_model.fit_transform(interaction_matrix)\n",
    "user_embeddings = nmf_model.components_.T\n",
    "\n",
    "# Dimensions of the embeddings\n",
    "merchant_embeddings_shape = merchant_embeddings.shape\n",
    "user_embeddings_shape = user_embeddings.shape\n",
    "\n",
    "merchant_embeddings_shape, user_embeddings_shape"
   ]
  },
  {
   "cell_type": "code",
   "execution_count": null,
   "metadata": {},
   "outputs": [],
   "source": [
    "# Extract `seller_id` embeddings (merchant embeddings are already associated with seller_id)\n",
    "train_data['seller_id'] = merchant_encoder.inverse_transform(train_data['col_index'])\n",
    "\n",
    "# Now prepare for category (cat_id) and brand (brand_id) embeddings\n",
    "# Assuming the original dataset has `cat_id` and `brand_id` to compute their averages\n",
    "def compute_average_embeddings(data, target_col, embedding_matrix, encoder):\n",
    "    \"\"\"\n",
    "    Computes average embeddings for a target column based on the embedding matrix.\n",
    "    If multiple embeddings exist for a single target (e.g., user interaction with multiple categories),\n",
    "    the mean is calculated.\n",
    "    \"\"\"\n",
    "    data['target_index'] = encoder.transform(data[target_col])\n",
    "    grouped = data.groupby('user_id')['target_index'].apply(list)\n",
    "\n",
    "    average_embeddings = []\n",
    "    for user, indices in grouped.items():\n",
    "        if indices:  # Check for valid indices\n",
    "            average_embeddings.append(embedding_matrix[indices].mean(axis=0))\n",
    "        else:\n",
    "            average_embeddings.append([0] * embedding_matrix.shape[1])  # Zero vector if no indices\n",
    "\n",
    "    return pd.DataFrame(average_embeddings, index=grouped.index)\n",
    "\n",
    "# Encode `cat_id` and `brand_id` (dummy for demonstration as we lack the columns here)\n",
    "# Assume `cat_id` and `brand_id` are numeric in real data\n",
    "cat_encoder = LabelEncoder()\n",
    "brand_encoder = LabelEncoder()\n",
    "\n",
    "# Simulating `cat_id` and `brand_id` in train_data (mock process as real columns are absent)\n",
    "train_data['cat_id'] = train_data['merchant_id'] % 100  # Mock category IDs\n",
    "train_data['brand_id'] = train_data['merchant_id'] % 50  # Mock brand IDs\n",
    "\n",
    "# Encode categorical features\n",
    "train_data['cat_index'] = cat_encoder.fit_transform(train_data['cat_id'])\n",
    "train_data['brand_index'] = brand_encoder.fit_transform(train_data['brand_id'])\n",
    "\n",
    "# Simulate embeddings for categories and brands based on merchant embeddings\n",
    "category_embeddings = merchant_embeddings.copy()  # Mock: categories share merchant embeddings\n",
    "brand_embeddings = merchant_embeddings.copy()     # Mock: brands share merchant embeddings\n",
    "\n",
    "# Compute average embeddings for categories and brands\n",
    "average_cat_embeddings = compute_average_embeddings(train_data, 'cat_id', category_embeddings, cat_encoder)\n",
    "average_brand_embeddings = compute_average_embeddings(train_data, 'brand_id', brand_embeddings, brand_encoder)\n",
    "\n",
    "# Dimensions of the average embeddings\n",
    "average_cat_embeddings_shape = average_cat_embeddings.shape\n",
    "average_brand_embeddings_shape = average_brand_embeddings.shape\n",
    "\n",
    "average_cat_embeddings_shape, average_brand_embeddings_shape\n"
   ]
  },
  {
   "cell_type": "code",
   "execution_count": null,
   "metadata": {},
   "outputs": [],
   "source": []
  },
  {
   "cell_type": "code",
   "execution_count": null,
   "metadata": {},
   "outputs": [],
   "source": []
  },
  {
   "cell_type": "code",
   "execution_count": null,
   "metadata": {},
   "outputs": [],
   "source": []
  },
  {
   "cell_type": "code",
   "execution_count": null,
   "metadata": {},
   "outputs": [],
   "source": []
  },
  {
   "cell_type": "code",
   "execution_count": null,
   "metadata": {},
   "outputs": [],
   "source": []
  },
  {
   "cell_type": "code",
   "execution_count": null,
   "metadata": {},
   "outputs": [],
   "source": []
  },
  {
   "cell_type": "code",
   "execution_count": null,
   "metadata": {},
   "outputs": [],
   "source": []
  },
  {
   "cell_type": "code",
   "execution_count": null,
   "metadata": {},
   "outputs": [],
   "source": []
  },
  {
   "cell_type": "code",
   "execution_count": null,
   "metadata": {},
   "outputs": [],
   "source": []
  },
  {
   "cell_type": "code",
   "execution_count": null,
   "metadata": {},
   "outputs": [],
   "source": []
  },
  {
   "cell_type": "code",
   "execution_count": null,
   "metadata": {},
   "outputs": [],
   "source": []
  },
  {
   "cell_type": "code",
   "execution_count": null,
   "metadata": {},
   "outputs": [],
   "source": []
  },
  {
   "cell_type": "code",
   "execution_count": null,
   "metadata": {},
   "outputs": [],
   "source": []
  },
  {
   "cell_type": "code",
   "execution_count": null,
   "metadata": {},
   "outputs": [],
   "source": []
  },
  {
   "cell_type": "code",
   "execution_count": null,
   "metadata": {},
   "outputs": [],
   "source": []
  },
  {
   "cell_type": "code",
   "execution_count": null,
   "metadata": {},
   "outputs": [],
   "source": []
  },
  {
   "cell_type": "code",
   "execution_count": null,
   "metadata": {},
   "outputs": [],
   "source": []
  },
  {
   "cell_type": "code",
   "execution_count": null,
   "metadata": {},
   "outputs": [],
   "source": []
  },
  {
   "cell_type": "code",
   "execution_count": null,
   "metadata": {},
   "outputs": [],
   "source": []
  },
  {
   "cell_type": "code",
   "execution_count": null,
   "metadata": {},
   "outputs": [],
   "source": []
  },
  {
   "cell_type": "code",
   "execution_count": null,
   "metadata": {},
   "outputs": [],
   "source": []
  },
  {
   "cell_type": "code",
   "execution_count": null,
   "metadata": {},
   "outputs": [],
   "source": []
  },
  {
   "cell_type": "code",
   "execution_count": null,
   "metadata": {},
   "outputs": [],
   "source": []
  },
  {
   "cell_type": "code",
   "execution_count": null,
   "metadata": {},
   "outputs": [],
   "source": []
  },
  {
   "cell_type": "code",
   "execution_count": null,
   "metadata": {},
   "outputs": [],
   "source": []
  },
  {
   "cell_type": "code",
   "execution_count": null,
   "metadata": {},
   "outputs": [],
   "source": []
  },
  {
   "cell_type": "code",
   "execution_count": null,
   "metadata": {},
   "outputs": [],
   "source": []
  },
  {
   "cell_type": "code",
   "execution_count": null,
   "metadata": {},
   "outputs": [],
   "source": []
  },
  {
   "cell_type": "code",
   "execution_count": null,
   "metadata": {},
   "outputs": [],
   "source": []
  },
  {
   "cell_type": "code",
   "execution_count": null,
   "metadata": {},
   "outputs": [],
   "source": []
  },
  {
   "cell_type": "code",
   "execution_count": null,
   "metadata": {},
   "outputs": [],
   "source": []
  },
  {
   "cell_type": "code",
   "execution_count": null,
   "metadata": {},
   "outputs": [],
   "source": []
  },
  {
   "cell_type": "code",
   "execution_count": null,
   "metadata": {},
   "outputs": [],
   "source": []
  },
  {
   "cell_type": "code",
   "execution_count": null,
   "metadata": {},
   "outputs": [],
   "source": []
  },
  {
   "cell_type": "code",
   "execution_count": null,
   "metadata": {},
   "outputs": [],
   "source": []
  },
  {
   "cell_type": "code",
   "execution_count": null,
   "metadata": {},
   "outputs": [],
   "source": []
  },
  {
   "cell_type": "code",
   "execution_count": null,
   "metadata": {},
   "outputs": [],
   "source": []
  },
  {
   "cell_type": "code",
   "execution_count": null,
   "metadata": {},
   "outputs": [],
   "source": []
  },
  {
   "cell_type": "code",
   "execution_count": null,
   "metadata": {},
   "outputs": [],
   "source": []
  },
  {
   "cell_type": "code",
   "execution_count": null,
   "metadata": {},
   "outputs": [],
   "source": []
  },
  {
   "cell_type": "code",
   "execution_count": null,
   "metadata": {},
   "outputs": [],
   "source": []
  },
  {
   "cell_type": "code",
   "execution_count": null,
   "metadata": {},
   "outputs": [],
   "source": []
  },
  {
   "cell_type": "code",
   "execution_count": null,
   "metadata": {},
   "outputs": [],
   "source": []
  },
  {
   "cell_type": "code",
   "execution_count": null,
   "metadata": {},
   "outputs": [],
   "source": []
  },
  {
   "cell_type": "code",
   "execution_count": null,
   "metadata": {},
   "outputs": [],
   "source": []
  },
  {
   "cell_type": "code",
   "execution_count": null,
   "metadata": {},
   "outputs": [],
   "source": []
  },
  {
   "cell_type": "code",
   "execution_count": null,
   "metadata": {},
   "outputs": [],
   "source": []
  },
  {
   "cell_type": "code",
   "execution_count": null,
   "metadata": {},
   "outputs": [],
   "source": []
  },
  {
   "cell_type": "code",
   "execution_count": null,
   "metadata": {},
   "outputs": [],
   "source": []
  },
  {
   "cell_type": "code",
   "execution_count": null,
   "metadata": {},
   "outputs": [],
   "source": []
  },
  {
   "cell_type": "code",
   "execution_count": null,
   "metadata": {},
   "outputs": [],
   "source": []
  },
  {
   "cell_type": "code",
   "execution_count": null,
   "metadata": {},
   "outputs": [],
   "source": []
  },
  {
   "cell_type": "code",
   "execution_count": null,
   "metadata": {},
   "outputs": [],
   "source": []
  },
  {
   "cell_type": "code",
   "execution_count": null,
   "metadata": {},
   "outputs": [],
   "source": []
  },
  {
   "cell_type": "code",
   "execution_count": null,
   "metadata": {},
   "outputs": [],
   "source": []
  },
  {
   "cell_type": "code",
   "execution_count": null,
   "metadata": {},
   "outputs": [],
   "source": []
  },
  {
   "cell_type": "code",
   "execution_count": null,
   "metadata": {},
   "outputs": [],
   "source": []
  },
  {
   "cell_type": "code",
   "execution_count": null,
   "metadata": {},
   "outputs": [],
   "source": []
  },
  {
   "cell_type": "code",
   "execution_count": null,
   "metadata": {},
   "outputs": [],
   "source": []
  },
  {
   "cell_type": "code",
   "execution_count": null,
   "metadata": {},
   "outputs": [],
   "source": []
  },
  {
   "cell_type": "code",
   "execution_count": null,
   "metadata": {},
   "outputs": [],
   "source": []
  },
  {
   "cell_type": "code",
   "execution_count": null,
   "metadata": {},
   "outputs": [],
   "source": []
  },
  {
   "cell_type": "code",
   "execution_count": null,
   "metadata": {},
   "outputs": [],
   "source": []
  },
  {
   "cell_type": "code",
   "execution_count": null,
   "metadata": {},
   "outputs": [],
   "source": []
  },
  {
   "cell_type": "code",
   "execution_count": null,
   "metadata": {},
   "outputs": [],
   "source": []
  },
  {
   "cell_type": "code",
   "execution_count": null,
   "metadata": {},
   "outputs": [],
   "source": []
  },
  {
   "cell_type": "code",
   "execution_count": null,
   "metadata": {},
   "outputs": [],
   "source": []
  },
  {
   "cell_type": "code",
   "execution_count": null,
   "metadata": {},
   "outputs": [],
   "source": []
  },
  {
   "cell_type": "code",
   "execution_count": null,
   "metadata": {},
   "outputs": [],
   "source": []
  },
  {
   "cell_type": "code",
   "execution_count": null,
   "metadata": {},
   "outputs": [],
   "source": []
  },
  {
   "cell_type": "code",
   "execution_count": null,
   "metadata": {},
   "outputs": [],
   "source": []
  },
  {
   "cell_type": "code",
   "execution_count": null,
   "metadata": {},
   "outputs": [],
   "source": []
  },
  {
   "cell_type": "code",
   "execution_count": null,
   "metadata": {},
   "outputs": [],
   "source": []
  },
  {
   "cell_type": "code",
   "execution_count": null,
   "metadata": {},
   "outputs": [],
   "source": []
  },
  {
   "cell_type": "code",
   "execution_count": null,
   "metadata": {},
   "outputs": [],
   "source": []
  },
  {
   "cell_type": "code",
   "execution_count": null,
   "metadata": {},
   "outputs": [],
   "source": []
  },
  {
   "cell_type": "code",
   "execution_count": null,
   "metadata": {},
   "outputs": [],
   "source": []
  },
  {
   "cell_type": "code",
   "execution_count": null,
   "metadata": {},
   "outputs": [],
   "source": []
  },
  {
   "cell_type": "code",
   "execution_count": null,
   "metadata": {},
   "outputs": [],
   "source": []
  },
  {
   "cell_type": "code",
   "execution_count": null,
   "metadata": {},
   "outputs": [],
   "source": []
  },
  {
   "cell_type": "code",
   "execution_count": null,
   "metadata": {},
   "outputs": [],
   "source": []
  },
  {
   "cell_type": "code",
   "execution_count": null,
   "metadata": {},
   "outputs": [],
   "source": []
  },
  {
   "cell_type": "code",
   "execution_count": null,
   "metadata": {},
   "outputs": [],
   "source": []
  },
  {
   "cell_type": "code",
   "execution_count": null,
   "metadata": {},
   "outputs": [],
   "source": []
  },
  {
   "cell_type": "code",
   "execution_count": null,
   "metadata": {},
   "outputs": [],
   "source": []
  },
  {
   "cell_type": "code",
   "execution_count": null,
   "metadata": {},
   "outputs": [],
   "source": []
  },
  {
   "cell_type": "code",
   "execution_count": null,
   "metadata": {},
   "outputs": [],
   "source": []
  },
  {
   "cell_type": "code",
   "execution_count": null,
   "metadata": {},
   "outputs": [],
   "source": []
  },
  {
   "cell_type": "code",
   "execution_count": null,
   "metadata": {},
   "outputs": [],
   "source": []
  },
  {
   "cell_type": "code",
   "execution_count": null,
   "metadata": {},
   "outputs": [],
   "source": []
  },
  {
   "cell_type": "code",
   "execution_count": null,
   "metadata": {},
   "outputs": [],
   "source": []
  },
  {
   "cell_type": "code",
   "execution_count": null,
   "metadata": {},
   "outputs": [],
   "source": []
  },
  {
   "cell_type": "code",
   "execution_count": null,
   "metadata": {},
   "outputs": [],
   "source": []
  },
  {
   "cell_type": "code",
   "execution_count": null,
   "metadata": {},
   "outputs": [],
   "source": []
  },
  {
   "cell_type": "code",
   "execution_count": null,
   "metadata": {},
   "outputs": [],
   "source": []
  },
  {
   "cell_type": "code",
   "execution_count": null,
   "metadata": {},
   "outputs": [],
   "source": []
  },
  {
   "cell_type": "code",
   "execution_count": null,
   "metadata": {},
   "outputs": [],
   "source": []
  },
  {
   "cell_type": "code",
   "execution_count": null,
   "metadata": {},
   "outputs": [],
   "source": []
  },
  {
   "cell_type": "code",
   "execution_count": null,
   "metadata": {},
   "outputs": [],
   "source": []
  },
  {
   "cell_type": "code",
   "execution_count": null,
   "metadata": {},
   "outputs": [],
   "source": []
  },
  {
   "cell_type": "code",
   "execution_count": null,
   "metadata": {},
   "outputs": [],
   "source": []
  },
  {
   "cell_type": "code",
   "execution_count": null,
   "metadata": {},
   "outputs": [],
   "source": []
  },
  {
   "cell_type": "code",
   "execution_count": null,
   "metadata": {},
   "outputs": [],
   "source": []
  },
  {
   "cell_type": "code",
   "execution_count": null,
   "metadata": {},
   "outputs": [],
   "source": []
  },
  {
   "cell_type": "code",
   "execution_count": null,
   "metadata": {},
   "outputs": [],
   "source": []
  },
  {
   "cell_type": "code",
   "execution_count": null,
   "metadata": {},
   "outputs": [],
   "source": []
  },
  {
   "cell_type": "code",
   "execution_count": null,
   "metadata": {},
   "outputs": [],
   "source": []
  },
  {
   "cell_type": "code",
   "execution_count": null,
   "metadata": {},
   "outputs": [],
   "source": []
  },
  {
   "cell_type": "code",
   "execution_count": null,
   "metadata": {},
   "outputs": [],
   "source": []
  },
  {
   "cell_type": "code",
   "execution_count": null,
   "metadata": {},
   "outputs": [],
   "source": []
  },
  {
   "cell_type": "code",
   "execution_count": null,
   "metadata": {},
   "outputs": [],
   "source": []
  },
  {
   "cell_type": "code",
   "execution_count": null,
   "metadata": {},
   "outputs": [],
   "source": []
  },
  {
   "cell_type": "code",
   "execution_count": null,
   "metadata": {},
   "outputs": [],
   "source": []
  },
  {
   "cell_type": "code",
   "execution_count": null,
   "metadata": {},
   "outputs": [],
   "source": []
  },
  {
   "cell_type": "code",
   "execution_count": null,
   "metadata": {},
   "outputs": [],
   "source": []
  },
  {
   "cell_type": "code",
   "execution_count": null,
   "metadata": {},
   "outputs": [],
   "source": []
  },
  {
   "cell_type": "code",
   "execution_count": null,
   "metadata": {},
   "outputs": [],
   "source": []
  },
  {
   "cell_type": "code",
   "execution_count": null,
   "metadata": {},
   "outputs": [],
   "source": []
  },
  {
   "cell_type": "code",
   "execution_count": null,
   "metadata": {},
   "outputs": [],
   "source": []
  },
  {
   "cell_type": "code",
   "execution_count": null,
   "metadata": {},
   "outputs": [],
   "source": []
  },
  {
   "cell_type": "code",
   "execution_count": null,
   "metadata": {},
   "outputs": [],
   "source": []
  },
  {
   "cell_type": "code",
   "execution_count": null,
   "metadata": {},
   "outputs": [],
   "source": []
  },
  {
   "cell_type": "code",
   "execution_count": null,
   "metadata": {},
   "outputs": [],
   "source": []
  },
  {
   "cell_type": "code",
   "execution_count": null,
   "metadata": {},
   "outputs": [],
   "source": []
  },
  {
   "cell_type": "code",
   "execution_count": null,
   "metadata": {},
   "outputs": [],
   "source": []
  },
  {
   "cell_type": "code",
   "execution_count": null,
   "metadata": {},
   "outputs": [],
   "source": []
  },
  {
   "cell_type": "code",
   "execution_count": null,
   "metadata": {},
   "outputs": [],
   "source": []
  },
  {
   "cell_type": "code",
   "execution_count": 39,
   "metadata": {},
   "outputs": [
    {
     "name": "stdout",
     "output_type": "stream",
     "text": [
      "Amount of user id duplicated in train and test:  0\n",
      "Ratio toward the whole test:  0.0\n",
      "Amount of merchant id duplicated in train and test:  260863\n",
      "Ratio toward the whole test:  0.9976518011144384\n"
     ]
    }
   ],
   "source": [
    "#how many users in train appear in test set\n",
    "print(\"Amount of user id duplicated in train and test: \", train_format1['user_id'].isin(test_format1['user_id']).sum())\n",
    "print(\"Ratio toward the whole test: \", train_format1['user_id'].isin(test_format1['user_id']).sum() / len(test_format1['user_id']))\n",
    "\n",
    "#how many merchants in train appear in test set\n",
    "print(\"Amount of merchant id duplicated in train and test: \", train_format1['merchant_id'].isin(test_format1['merchant_id']).sum())\n",
    "print(\"Ratio toward the whole test: \", train_format1['merchant_id'].isin(test_format1['merchant_id']).sum() / len(test_format1['merchant_id']))"
   ]
  },
  {
   "cell_type": "code",
   "execution_count": 46,
   "metadata": {},
   "outputs": [
    {
     "data": {
      "image/png": "[encoded data removed]",
      "text/plain": [
       "<Figure size 432x288 with 1 Axes>"
      ]
     },
     "metadata": {
      "needs_background": "light"
     },
     "output_type": "display_data"
    }
   ],
   "source": [
    "#for each merchant, how many users get the label 1 (ratio)\n",
    "merchant_ratios = train_format1['label'].groupby(train_format1['merchant_id']).mean()\n",
    "\n",
    "sns.kdeplot(merchant_ratios, bw_adjust=1)  # bw_adjust adjusts the bandwidth; tweak as needed\n",
    "plt.title(\"KDE of Mean Label Ratio Per Merchant\")\n",
    "plt.xlabel(\"Mean Label Ratio\")\n",
    "plt.ylabel(\"Density\")\n",
    "plt.show()"
   ]
  },
  {
   "cell_type": "code",
   "execution_count": 27,
   "metadata": {},
   "outputs": [
    {
     "name": "stdout",
     "output_type": "stream",
     "text": [
      "Train label 0 ratio:  0.9388493621197253\n"
     ]
    }
   ],
   "source": [
    "# class balance or imbalance\n",
    "print(\"Train label 0 ratio: \", train_format1[train_format1['label'] == 0].shape[0] / len(train_format1['label']))"
   ]
  },
  {
   "cell_type": "code",
   "execution_count": 35,
   "metadata": {},
   "outputs": [],
   "source": [
    "def training_iteration_lightgbm(train_data, val_data, train_target, val_target, params):\n",
    "    lgbm_train_data = lgb.Dataset(train_data, label=train_target)\n",
    "    lgbm_val_data = lgb.Dataset(val_data, label=val_target, reference=train_data)\n",
    "    model = lgb.train(params, lgbm_train_data, num_boost_round=1000, valid_sets=[lgbm_val_data], early_stopping_rounds=50, verbose_eval=50)\n",
    "    return model"
   ]
  },
  {
   "cell_type": "code",
   "execution_count": null,
   "metadata": {},
   "outputs": [],
   "source": [
    "#lightgbm baseline\n",
    "params = {\n",
    "    'boosting_type': 'gbdt',\n",
    "    'objective': 'binary',\n",
    "    'metric': 'binary_logloss',\n",
    "}\n",
    "baseline_train_data = train_format1.drop(['label'], axis=1)\n",
    "\n",
    "#preprocessing null in age range\n",
    "baseline_user_info = \n",
    "baseline_train_data = baseline_train_data.merge(user_info_format1, on='user_id', how='left')\n",
    "baseline_train_target = train_format1['label']\n",
    "\n",
    "baseline_train_data.join(other, lsuffix='_caller', rsuffix='_other')"
   ]
  }
 ],
 "metadata": {
  "kernelspec": {
   "display_name": "Python 3",
   "language": "python",
   "name": "python3"
  },
  "language_info": {
   "codemirror_mode": {
    "name": "ipython",
    "version": 3
   },
   "file_extension": ".py",
   "mimetype": "text/x-python",
   "name": "python",
   "nbconvert_exporter": "python",
   "pygments_lexer": "ipython3",
   "version": "3.9.12"
  }
 },
 "nbformat": 4,
 "nbformat_minor": 2
}
