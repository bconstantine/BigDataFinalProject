{
 "cells": [
  {
   "cell_type": "code",
   "execution_count": null,
   "metadata": {},
   "outputs": [],
   "source": [
    "from sklearn.feature_extraction.text import TfidfVectorizer"
   ]
  },
  {
   "cell_type": "code",
   "execution_count": 1,
   "metadata": {},
   "outputs": [
    {
     "name": "stdout",
     "output_type": "stream",
     "text": [
      "   user_id  merchant_id  prob\n",
      "0   163968         4605   NaN\n",
      "1   360576         1581   NaN\n",
      "2    98688         1964   NaN\n",
      "3    98688         3645   NaN\n",
      "4   295296         3361   NaN\n",
      "   user_id  merchant_id  label\n",
      "0    34176         3906      0\n",
      "1    34176          121      0\n",
      "2    34176         4356      1\n",
      "3    34176         2217      0\n",
      "4   230784         4818      0\n",
      "   user_id  age_range  gender\n",
      "0   376517        6.0     1.0\n",
      "1   234512        5.0     0.0\n",
      "2   344532        5.0     0.0\n",
      "3   186135        5.0     0.0\n",
      "4    30230        5.0     0.0\n",
      "   user_id  item_id  cat_id  seller_id  brand_id  time_stamp  action_type\n",
      "0   328862   323294     833       2882    2661.0         829            0\n",
      "1   328862   844400    1271       2882    2661.0         829            0\n",
      "2   328862   575153    1271       2882    2661.0         829            0\n",
      "3   328862   996875    1271       2882    2661.0         829            0\n",
      "4   328862  1086186    1271       1253    1049.0         829            0\n"
     ]
    }
   ],
   "source": [
    "import pandas as pd\n",
    "\n",
    "# Load and check the dataC:\\Users\\matte\\Tsinghua\\BigD\\Project\\data_format1\\data_format1\\test_format1.csv\n",
    "test1= pd.read_csv('data_format1/data_format1/test_format1.csv')\n",
    "train1= pd.read_csv('data_format1/data_format1/train_format1.csv')\n",
    "user_info = pd.read_csv('data_format1/data_format1/user_info_format1.csv')\n",
    "user_log = pd.read_csv('data_format1/data_format1/user_log_format1.csv')\n",
    "\n",
    "print(test1.head(5))\n",
    "print(train1.head(5))\n",
    "print(user_info.head(5))\n",
    "print(user_log.head(5))"
   ]
  },
  {
   "cell_type": "markdown",
   "metadata": {},
   "source": [
    "TFIDF encoding\n",
    "Itfidf encodes the cat brand seller item of all user log, retains the topN according to the frequency of occurrence, and avoids too high a dimension\n",
    "Itfidf encoding is performed on all cat brand items that are interacted with in the store, and the topN items are retained based on the frequency of occurrence to avoid excessive dimensionality.\n",
    "Itfidf encoding is performed on the cat brand items that match users and stores in the sample, and the topN items are retained based on the frequency of occurrence to avoid excessive dimensionality."
   ]
  },
  {
   "cell_type": "code",
   "execution_count": null,
   "metadata": {},
   "outputs": [],
   "source": [
    "#TF count the\n",
    "def apply_tfidf(df, topN):\n",
    "    "
   ]
  }
 ],
 "metadata": {
  "kernelspec": {
   "display_name": "Python 3",
   "language": "python",
   "name": "python3"
  },
  "language_info": {
   "codemirror_mode": {
    "name": "ipython",
    "version": 3
   },
   "file_extension": ".py",
   "mimetype": "text/x-python",
   "name": "python",
   "nbconvert_exporter": "python",
   "pygments_lexer": "ipython3",
   "version": "3.11.0"
  }
 },
 "nbformat": 4,
 "nbformat_minor": 2
}
