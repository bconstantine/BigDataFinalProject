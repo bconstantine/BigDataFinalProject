{
 "cells": [
  {
   "cell_type": "code",
   "execution_count": 1,
   "metadata": {},
   "outputs": [
    {
     "name": "stderr",
     "output_type": "stream",
     "text": [
      "2024-12-25 19:35:54.581109: I tensorflow/core/util/port.cc:110] oneDNN custom operations are on. You may see slightly different numerical results due to floating-point round-off errors from different computation orders. To turn them off, set the environment variable `TF_ENABLE_ONEDNN_OPTS=0`.\n",
      "2024-12-25 19:35:57.551336: I tensorflow/core/platform/cpu_feature_guard.cc:182] This TensorFlow binary is optimized to use available CPU instructions in performance-critical operations.\n",
      "To enable the following instructions: AVX2 AVX512F AVX512_VNNI FMA, in other operations, rebuild TensorFlow with the appropriate compiler flags.\n",
      "2024-12-25 19:36:14.439735: W tensorflow/compiler/tf2tensorrt/utils/py_utils.cc:38] TF-TRT Warning: Could not find TensorRT\n"
     ]
    }
   ],
   "source": [
    "import pandas as pd\n",
    "import torch\n",
    "from sklearn.metrics import log_loss, roc_auc_score\n",
    "from sklearn.model_selection import train_test_split\n",
    "from sklearn.preprocessing import LabelEncoder, MinMaxScaler\n",
    "from deepctr_torch.inputs import SparseFeat, DenseFeat, get_feature_names"
   ]
  },
  {
   "cell_type": "code",
   "execution_count": 2,
   "metadata": {},
   "outputs": [],
   "source": [
    "train = pd.read_csv('X_train_features.csv')"
   ]
  },
  {
   "cell_type": "code",
   "execution_count": 3,
   "metadata": {},
   "outputs": [],
   "source": [
    "test = pd.read_csv(\"X_test_features.csv\")"
   ]
  },
  {
   "cell_type": "code",
   "execution_count": 4,
   "metadata": {},
   "outputs": [],
   "source": [
    "# sparse_features = set()\n",
    "# for column in train.columns:\n",
    "#     if (train[column] == 0).sum() >= len(train) * 0.5:\n",
    "#         sparse_features.add(column)\n",
    "# dense_features = set(list(set(train.columns) - sparse_features))"
   ]
  },
  {
   "cell_type": "code",
   "execution_count": 5,
   "metadata": {},
   "outputs": [
    {
     "data": {
      "text/plain": [
       "(415, 113)"
      ]
     },
     "execution_count": 5,
     "metadata": {},
     "output_type": "execute_result"
    }
   ],
   "source": [
    "len(dense_features), len(sparse_features)"
   ]
  },
  {
   "cell_type": "code",
   "execution_count": 4,
   "metadata": {},
   "outputs": [],
   "source": [
    "sparse_features =  [\"user_id\", \"merchant_id\", \"item_id\", \"cat_id\", \"brand_id\", \"time_stamp\", \"time_period\", \"gender\"] + list(train.columns[10:18])\n",
    "dense_features = list(train.columns[18:])"
   ]
  },
  {
   "cell_type": "code",
   "execution_count": 5,
   "metadata": {},
   "outputs": [],
   "source": [
    "import xgboost as xgb\n",
    "model = xgb.XGBClassifier()\n"
   ]
  },
  {
   "cell_type": "code",
   "execution_count": 6,
   "metadata": {},
   "outputs": [],
   "source": [
    "model.load_model(\"xgb_model_best_noID.bin\")\n",
    "best_features = sorted(list(zip(model.feature_names_in_, model.feature_importances_)), reverse=True, key=lambda x: x[1])\n",
    "top = set([x for x, i in best_features[:150]])"
   ]
  },
  {
   "cell_type": "code",
   "execution_count": 7,
   "metadata": {},
   "outputs": [],
   "source": [
    "def get_top_features(top, features):  \n",
    "    # Check if any item in the set is a substring of the column names\n",
    "    top_feat = []\n",
    "    for column in features:\n",
    "        if column in top:\n",
    "            top_feat.append(column)\n",
    "            #print(f\"Column '{column}' contains a substring from the set.\")\n",
    "    return top_feat"
   ]
  },
  {
   "cell_type": "code",
   "execution_count": 8,
   "metadata": {},
   "outputs": [],
   "source": [
    "sparse_features = get_top_features(top, sparse_features)\n",
    "dense_features = get_top_features(top, dense_features)"
   ]
  },
  {
   "cell_type": "code",
   "execution_count": 9,
   "metadata": {},
   "outputs": [],
   "source": [
    "for feat in sparse_features:\n",
    "    lbe = LabelEncoder()\n",
    "    train[feat] = lbe.fit_transform(train[feat])\n",
    "    test[feat] = lbe.fit_transform(test[feat])"
   ]
  },
  {
   "cell_type": "code",
   "execution_count": 10,
   "metadata": {},
   "outputs": [],
   "source": [
    "mms = MinMaxScaler(feature_range=(0,1))\n",
    "train[dense_features] = mms.fit_transform(train[dense_features])\n",
    "test[dense_features] = mms.fit_transform(test[dense_features])"
   ]
  },
  {
   "cell_type": "code",
   "execution_count": 11,
   "metadata": {},
   "outputs": [],
   "source": [
    "all = pd.concat([train, test])"
   ]
  },
  {
   "cell_type": "code",
   "execution_count": 12,
   "metadata": {},
   "outputs": [],
   "source": [
    "fixlen_feature_columns = [SparseFeat(feat, vocabulary_size=all[feat].nunique(),embedding_dim=4)\n",
    "                       for i,feat in enumerate(sparse_features)] + [DenseFeat(feat, 1,)\n",
    "                      for feat in dense_features]"
   ]
  },
  {
   "cell_type": "code",
   "execution_count": 13,
   "metadata": {},
   "outputs": [],
   "source": [
    "dnn_feature_columns = fixlen_feature_columns\n",
    "linear_feature_columns = fixlen_feature_columns"
   ]
  },
  {
   "cell_type": "code",
   "execution_count": 14,
   "metadata": {},
   "outputs": [
    {
     "data": {
      "text/plain": [
       "['age_2',\n",
       " 'users_merchant',\n",
       " 'items_merchant',\n",
       " 'categories_merchant',\n",
       " 'dates_merchant',\n",
       " 'periods_merchant',\n",
       " 'items_user_merchant',\n",
       " 'categories_user_merchant',\n",
       " 'dates_user_merchant',\n",
       " 'periods_user_merchant',\n",
       " 'users_category',\n",
       " 'items_category',\n",
       " 'brands_category',\n",
       " 'dates_category',\n",
       " 'users_brand',\n",
       " 'items_brand',\n",
       " 'categories_brand',\n",
       " 'merchants_brand',\n",
       " 'action_types_brand',\n",
       " 'items_user_brand',\n",
       " 'categories_user_brand',\n",
       " 'dates_user_brand',\n",
       " 'periods_user_brand',\n",
       " 'merchants_user_category',\n",
       " 'brands_user_category',\n",
       " 'action_types_user_category',\n",
       " 'periods_user_category',\n",
       " 'purchases_user',\n",
       " 'carts_merchant',\n",
       " 'clicks_brand',\n",
       " 'carts_item',\n",
       " 'clicks_user_merchant',\n",
       " 'purchases_user_merchant',\n",
       " 'favourites_user_merchant',\n",
       " 'purchases_user_brand',\n",
       " 'favourites_merchant_brand',\n",
       " 'carts_ratio_user',\n",
       " 'purchases_ratio_user',\n",
       " 'total_actions_merchant',\n",
       " 'carts_ratio_merchant',\n",
       " 'total_actions_brand',\n",
       " 'carts_ratio_cat',\n",
       " 'purchases_ratio_cat',\n",
       " 'favourites_ratio_cat',\n",
       " 'total_actions_user_merchant',\n",
       " 'total_actions_user_brand',\n",
       " 'favourites_ratio_user_brand',\n",
       " 'carts_ratio_merchant_brand',\n",
       " 'total_actions_merchant_cat',\n",
       " 'purchases_ratio_merchant_cat',\n",
       " 'purchases_day_count_user',\n",
       " 'clicks_day_count_merchant',\n",
       " 'carts_day_count_merchant',\n",
       " 'purchases_day_count_brand',\n",
       " 'favourites_day_count_brand',\n",
       " 'clicks_day_count_cat',\n",
       " 'carts_day_count_cat',\n",
       " 'purchases_day_count_cat',\n",
       " 'carts_day_count_item',\n",
       " 'purchases_day_count_item',\n",
       " 'clicks_day_count_user_merchant',\n",
       " 'clicks_day_count_user_brand',\n",
       " 'purchases_day_count_user_brand',\n",
       " 'purchases_day_count_user_cat',\n",
       " 'purchases_day_count_merchant_cat',\n",
       " 'clicks_brand_monthly',\n",
       " 'carts_cat_monthly',\n",
       " 'favourites_cat_monthly',\n",
       " 'carts_item_monthly',\n",
       " 'favourites_item_monthly',\n",
       " 'purchases_user_merchant_monthly',\n",
       " 'purchases_ratio_merchant_monthly',\n",
       " 'total_actions_brand_monthly',\n",
       " 'carts_ratio_brand_monthly',\n",
       " 'total_actions_cat_monthly',\n",
       " 'purchases_ratio_cat_monthly',\n",
       " 'total_actions_item_monthly',\n",
       " 'clicks_ratio_user_merchant_monthly',\n",
       " 'unique_item_id_clicks_merchant_monthly',\n",
       " 'unique_brand_id_carts_merchant_monthly',\n",
       " 'unique_cat_id_clicks_merchant_monthly',\n",
       " 'unique_cat_id_carts_merchant_monthly',\n",
       " 'unique_cat_id_purchases_merchant_monthly',\n",
       " 'unique_cat_id_favourites_merchant_monthly',\n",
       " 'unique_item_id_purchases_user_merchant_monthly',\n",
       " 'unique_cat_id_purchases_user_merchant_monthly',\n",
       " 'brand_id_purchase_penetration',\n",
       " 'user_purchase_days_merchant_id_mean',\n",
       " 'user_purchase_days_merchant_id_std',\n",
       " 'user_purchase_items_merchant_id_mean',\n",
       " 'user_clicks_days_merchant_id_mean',\n",
       " 'user_clicks_days_merchant_id_std',\n",
       " 'user_clicks_days_merchant_id_max',\n",
       " 'user_favourites_days_merchant_id_std',\n",
       " 'user_favourites_items_merchant_id_max',\n",
       " 'user_purchase_days_brand_id_mean',\n",
       " 'user_purchase_days_brand_id_std',\n",
       " 'user_purchase_items_brand_id_max',\n",
       " 'user_purchase_days_cat_id_mean',\n",
       " 'user_purchase_days_cat_id_std',\n",
       " 'user_purchase_items_cat_id_mean',\n",
       " 'user_purchase_items_cat_id_std',\n",
       " 'user_purchase_items_cat_id_max',\n",
       " 'user_purchase_days_user_merchant_mean',\n",
       " 'user_purchase_days_user_merchant_std',\n",
       " 'user_purchase_items_user_merchant_std',\n",
       " 'merchant_purchase_days_mean',\n",
       " 'merchant_purchase_days_std',\n",
       " 'merchant_purchase_days_max',\n",
       " 'merchant_purchase_items_mean',\n",
       " 'merchant_purchase_items_std',\n",
       " 'merchant_purchase_items_max',\n",
       " 'merchant_clicks_days_mean',\n",
       " 'merchant_clicks_days_std',\n",
       " 'merchant_purchases_days_mean',\n",
       " 'merchant_purchases_days_std',\n",
       " 'merchant_purchases_days_max',\n",
       " 'double_11_merchants_user',\n",
       " 'double_11_brands_user',\n",
       " 'double_11_items_merchant',\n",
       " 'double_11_categories_merchant',\n",
       " 'double_11_items_user_merchant',\n",
       " 'double_11_categories_user_merchant',\n",
       " 'double_11_clicks_merchant',\n",
       " 'double_11_carts_merchant',\n",
       " 'double_11_purchases_merchant',\n",
       " 'double_11_purchases_user_merchant',\n",
       " 'double_11_items_merchant_ratio',\n",
       " 'double_11_dates_merchant_ratio',\n",
       " 'double_11_items_user_merchant_ratio',\n",
       " 'double_11_dates_user_merchant_ratio',\n",
       " 'double_11_periods_user_merchant_ratio',\n",
       " 'double_11_clicks_merchant_ratio',\n",
       " 'double_11_carts_merchant_ratio',\n",
       " 'double_11_favourites_user_merchant_ratio',\n",
       " 'double_11_purchases_by_user_ratio_perspective',\n",
       " 'double_11_favourites_by_user_ratio_perspective',\n",
       " 'latest_one_week_merchants_user',\n",
       " 'latest_one_week_brands_user',\n",
       " 'latest_one_week_categories_merchant',\n",
       " 'latest_one_week_clicks_merchant',\n",
       " 'latest_one_week_purchases_merchant',\n",
       " 'latest_one_week_items_user_ratio',\n",
       " 'latest_one_week_brands_user_ratio',\n",
       " 'latest_one_week_items_merchant_ratio',\n",
       " 'latest_one_week_dates_merchant_ratio',\n",
       " 'latest_one_week_periods_merchant_ratio',\n",
       " 'latest_one_week_items_user_merchant_ratio',\n",
       " 'latest_one_week_clicks_merchant_ratio',\n",
       " 'latest_one_week_purchases_merchant_ratio']"
      ]
     },
     "execution_count": 14,
     "metadata": {},
     "output_type": "execute_result"
    }
   ],
   "source": [
    "feature_names = get_feature_names(linear_feature_columns + dnn_feature_columns)\n",
    "feature_names"
   ]
  },
  {
   "cell_type": "code",
   "execution_count": 15,
   "metadata": {},
   "outputs": [
    {
     "data": {
      "text/plain": [
       "150"
      ]
     },
     "execution_count": 15,
     "metadata": {},
     "output_type": "execute_result"
    }
   ],
   "source": [
    "len(feature_names)"
   ]
  },
  {
   "cell_type": "code",
   "execution_count": 16,
   "metadata": {},
   "outputs": [],
   "source": [
    "#train_model_input = {name:train[name] for name in feature_names}\n",
    "\n",
    "test_model_input = {name:test[name] for name in feature_names}"
   ]
  },
  {
   "cell_type": "code",
   "execution_count": 17,
   "metadata": {},
   "outputs": [
    {
     "name": "stdout",
     "output_type": "stream",
     "text": [
      "cuda ready...\n"
     ]
    }
   ],
   "source": [
    "device = 'cpu'\n",
    "use_cuda = True\n",
    "if use_cuda and torch.cuda.is_available():\n",
    "    print('cuda ready...')\n",
    "    device = 'cuda:1'"
   ]
  },
  {
   "cell_type": "code",
   "execution_count": 18,
   "metadata": {},
   "outputs": [],
   "source": [
    "from deepctr_torch.models import DeepFM"
   ]
  },
  {
   "cell_type": "code",
   "execution_count": 25,
   "metadata": {},
   "outputs": [],
   "source": [
    "model = DeepFM(linear_feature_columns,dnn_feature_columns,\n",
    "               task='binary',device=device,dnn_dropout=0.7)\n",
    "model.compile(optimizer = 'adam',\n",
    "              loss = 'binary_crossentropy',\n",
    "              metrics = ['binary_crossentropy','auc'])"
   ]
  },
  {
   "cell_type": "code",
   "execution_count": 28,
   "metadata": {},
   "outputs": [],
   "source": [
    "del model"
   ]
  },
  {
   "cell_type": "code",
   "execution_count": 29,
   "metadata": {},
   "outputs": [
    {
     "name": "stdout",
     "output_type": "stream",
     "text": [
      "(261477,)\n",
      "Fold 0\n",
      "Train\n",
      "cuda:1\n",
      "Train on 208691 samples, validate on 0 samples, 408 steps per epoch\n",
      "Epoch 1/10\n",
      "6s - loss:  0.2386 - binary_crossentropy:  0.2386 - auc:  0.5811\n",
      "Epoch 2/10\n",
      "6s - loss:  0.2215 - binary_crossentropy:  0.2215 - auc:  0.6547\n",
      "Epoch 3/10\n",
      "6s - loss:  0.2199 - binary_crossentropy:  0.2199 - auc:  0.6661\n",
      "Epoch 4/10\n",
      "6s - loss:  0.2195 - binary_crossentropy:  0.2195 - auc:  0.6677\n",
      "Epoch 5/10\n",
      "6s - loss:  0.2187 - binary_crossentropy:  0.2187 - auc:  0.6728\n",
      "Epoch 6/10\n",
      "6s - loss:  0.2186 - binary_crossentropy:  0.2186 - auc:  0.6725\n",
      "Epoch 7/10\n",
      "6s - loss:  0.2183 - binary_crossentropy:  0.2184 - auc:  0.6746\n",
      "Epoch 8/10\n",
      "6s - loss:  0.2183 - binary_crossentropy:  0.2183 - auc:  0.6762\n",
      "Epoch 9/10\n",
      "6s - loss:  0.2180 - binary_crossentropy:  0.2180 - auc:  0.6764\n",
      "Epoch 10/10\n",
      "6s - loss:  0.2179 - binary_crossentropy:  0.2179 - auc:  0.6773\n",
      "Final AUC score: 0.6853346631615588\n",
      "Fold 1\n",
      "Train\n",
      "cuda:1\n",
      "Train on 208691 samples, validate on 0 samples, 408 steps per epoch\n",
      "Epoch 1/10\n",
      "7s - loss:  0.2398 - binary_crossentropy:  0.2398 - auc:  0.5799\n",
      "Epoch 2/10\n",
      "6s - loss:  0.2211 - binary_crossentropy:  0.2211 - auc:  0.6562\n",
      "Epoch 3/10\n",
      "6s - loss:  0.2200 - binary_crossentropy:  0.2200 - auc:  0.6641\n",
      "Epoch 4/10\n",
      "6s - loss:  0.2196 - binary_crossentropy:  0.2196 - auc:  0.6679\n",
      "Epoch 5/10\n",
      "6s - loss:  0.2187 - binary_crossentropy:  0.2187 - auc:  0.6736\n",
      "Epoch 6/10\n",
      "6s - loss:  0.2184 - binary_crossentropy:  0.2184 - auc:  0.6752\n",
      "Epoch 7/10\n",
      "6s - loss:  0.2182 - binary_crossentropy:  0.2182 - auc:  0.6746\n",
      "Epoch 8/10\n",
      "6s - loss:  0.2182 - binary_crossentropy:  0.2182 - auc:  0.6762\n",
      "Epoch 9/10\n",
      "6s - loss:  0.2180 - binary_crossentropy:  0.2181 - auc:  0.6768\n",
      "Epoch 10/10\n",
      "6s - loss:  0.2178 - binary_crossentropy:  0.2178 - auc:  0.6784\n",
      "Final AUC score: 0.6834416482668129\n",
      "Fold 2\n",
      "Train\n",
      "cuda:1\n",
      "Train on 208691 samples, validate on 0 samples, 408 steps per epoch\n",
      "Epoch 1/10\n",
      "7s - loss:  0.2397 - binary_crossentropy:  0.2396 - auc:  0.5774\n",
      "Epoch 2/10\n",
      "6s - loss:  0.2213 - binary_crossentropy:  0.2213 - auc:  0.6551\n",
      "Epoch 3/10\n",
      "6s - loss:  0.2201 - binary_crossentropy:  0.2201 - auc:  0.6649\n",
      "Epoch 4/10\n",
      "6s - loss:  0.2192 - binary_crossentropy:  0.2191 - auc:  0.6708\n",
      "Epoch 5/10\n",
      "6s - loss:  0.2185 - binary_crossentropy:  0.2184 - auc:  0.6751\n",
      "Epoch 6/10\n",
      "6s - loss:  0.2183 - binary_crossentropy:  0.2183 - auc:  0.6762\n",
      "Epoch 7/10\n",
      "6s - loss:  0.2181 - binary_crossentropy:  0.2180 - auc:  0.6770\n",
      "Epoch 8/10\n",
      "6s - loss:  0.2178 - binary_crossentropy:  0.2177 - auc:  0.6780\n",
      "Epoch 9/10\n",
      "6s - loss:  0.2176 - binary_crossentropy:  0.2177 - auc:  0.6805\n",
      "Epoch 10/10\n",
      "7s - loss:  0.2175 - binary_crossentropy:  0.2175 - auc:  0.6798\n",
      "Final AUC score: 0.6784170973288163\n",
      "Fold 3\n",
      "Train\n",
      "cuda:1\n",
      "Train on 208691 samples, validate on 0 samples, 408 steps per epoch\n",
      "Epoch 1/10\n",
      "6s - loss:  0.2388 - binary_crossentropy:  0.2387 - auc:  0.5802\n",
      "Epoch 2/10\n",
      "6s - loss:  0.2214 - binary_crossentropy:  0.2214 - auc:  0.6557\n",
      "Epoch 3/10\n",
      "6s - loss:  0.2201 - binary_crossentropy:  0.2201 - auc:  0.6645\n",
      "Epoch 4/10\n",
      "6s - loss:  0.2193 - binary_crossentropy:  0.2194 - auc:  0.6708\n",
      "Epoch 5/10\n",
      "7s - loss:  0.2191 - binary_crossentropy:  0.2191 - auc:  0.6722\n",
      "Epoch 6/10\n",
      "6s - loss:  0.2187 - binary_crossentropy:  0.2186 - auc:  0.6747\n",
      "Epoch 7/10\n",
      "6s - loss:  0.2183 - binary_crossentropy:  0.2183 - auc:  0.6754\n",
      "Epoch 8/10\n",
      "6s - loss:  0.2183 - binary_crossentropy:  0.2182 - auc:  0.6763\n",
      "Epoch 9/10\n",
      "7s - loss:  0.2180 - binary_crossentropy:  0.2180 - auc:  0.6779\n",
      "Epoch 10/10\n",
      "6s - loss:  0.2179 - binary_crossentropy:  0.2178 - auc:  0.6779\n",
      "Final AUC score: 0.6827045624790364\n",
      "Fold 4\n",
      "Train\n",
      "cuda:1\n",
      "Train on 208692 samples, validate on 0 samples, 408 steps per epoch\n",
      "Epoch 1/10\n",
      "6s - loss:  0.2383 - binary_crossentropy:  0.2382 - auc:  0.5837\n",
      "Epoch 2/10\n",
      "6s - loss:  0.2213 - binary_crossentropy:  0.2213 - auc:  0.6546\n",
      "Epoch 3/10\n",
      "5s - loss:  0.2200 - binary_crossentropy:  0.2199 - auc:  0.6647\n",
      "Epoch 4/10\n",
      "6s - loss:  0.2192 - binary_crossentropy:  0.2192 - auc:  0.6706\n",
      "Epoch 5/10\n",
      "7s - loss:  0.2187 - binary_crossentropy:  0.2187 - auc:  0.6732\n",
      "Epoch 6/10\n",
      "6s - loss:  0.2186 - binary_crossentropy:  0.2186 - auc:  0.6747\n",
      "Epoch 7/10\n",
      "6s - loss:  0.2183 - binary_crossentropy:  0.2183 - auc:  0.6774\n",
      "Epoch 8/10\n",
      "7s - loss:  0.2181 - binary_crossentropy:  0.2180 - auc:  0.6779\n",
      "Epoch 9/10\n",
      "6s - loss:  0.2178 - binary_crossentropy:  0.2179 - auc:  0.6798\n",
      "Epoch 10/10\n",
      "6s - loss:  0.2177 - binary_crossentropy:  0.2177 - auc:  0.6794\n",
      "Final AUC score: 0.6784312329434816\n"
     ]
    }
   ],
   "source": [
    "from sklearn.model_selection import train_test_split, StratifiedKFold\n",
    "import numpy as np\n",
    "kf = StratifiedKFold(n_splits=5, shuffle=True, random_state=42)\n",
    "\n",
    "test_preds = np.zeros(len(test)) \n",
    "print(test_preds.shape)\n",
    "for fold, (train_idx, val_idx) in enumerate(kf.split(train, train[\"label\"])):\n",
    "    print(f\"Fold {fold}\")\n",
    "    X_t, X_v = train.iloc[train_idx], train.iloc[val_idx]\n",
    "    y_t, y_v = train[\"label\"].iloc[train_idx], train[\"label\"].iloc[val_idx]\n",
    "    train_model_input = {name:X_t[name] for name in feature_names}\n",
    "    val_model_input = {name:X_v[name] for name in feature_names}\n",
    "    \n",
    "    model = DeepFM(linear_feature_columns,dnn_feature_columns,\n",
    "               task='binary',device=device,dnn_dropout=0.4)\n",
    "    model.compile(optimizer = 'adam',\n",
    "                loss = 'binary_crossentropy',\n",
    "                metrics = ['binary_crossentropy','auc'])\n",
    "    \n",
    "    print(\"Train\")\n",
    "    model.train()\n",
    "    history = model.fit(train_model_input, y_t.values,batch_size=512,epochs=10,verbose=2, validation_split=0.0)\n",
    "    model.eval()\n",
    "    val_auc = model.evaluate(val_model_input, y_v.values, batch_size=512)[\"auc\"]\n",
    "    print(\"Final AUC score:\", val_auc)\n",
    "    pred = model.predict(test_model_input, 512)\n",
    "    #print(pred)\n",
    "    test_preds += pred.flatten() / kf.n_splits\n",
    "\n",
    "    "
   ]
  },
  {
   "cell_type": "code",
   "execution_count": 34,
   "metadata": {},
   "outputs": [
    {
     "data": {
      "text/plain": [
       "array([0.10470224, 0.08669365, 0.08328481, ..., 0.08889342, 0.02131111,\n",
       "       0.093456  ])"
      ]
     },
     "execution_count": 34,
     "metadata": {},
     "output_type": "execute_result"
    }
   ],
   "source": [
    "test_preds"
   ]
  },
  {
   "cell_type": "code",
   "execution_count": 32,
   "metadata": {},
   "outputs": [
    {
     "name": "stdout",
     "output_type": "stream",
     "text": [
      "cuda:1\n",
      "Train on 208691 samples, validate on 52173 samples, 408 steps per epoch\n",
      "Epoch 1/50\n",
      "6s - loss:  0.2404 - binary_crossentropy:  0.2404 - auc:  0.5790 - val_binary_crossentropy:  0.2203 - val_auc:  0.6637\n",
      "Epoch 2/50\n",
      "7s - loss:  0.2190 - binary_crossentropy:  0.2190 - auc:  0.6726 - val_binary_crossentropy:  0.2190 - val_auc:  0.6740\n",
      "Epoch 3/50\n",
      "6s - loss:  0.2184 - binary_crossentropy:  0.2184 - auc:  0.6773 - val_binary_crossentropy:  0.2235 - val_auc:  0.6758\n",
      "Epoch 4/50\n",
      "7s - loss:  0.2179 - binary_crossentropy:  0.2179 - auc:  0.6803 - val_binary_crossentropy:  0.2175 - val_auc:  0.6821\n",
      "Epoch 5/50\n",
      "6s - loss:  0.2176 - binary_crossentropy:  0.2177 - auc:  0.6812 - val_binary_crossentropy:  0.2183 - val_auc:  0.6821\n",
      "Epoch 6/50\n",
      "7s - loss:  0.2176 - binary_crossentropy:  0.2176 - auc:  0.6829 - val_binary_crossentropy:  0.2176 - val_auc:  0.6829\n",
      "Epoch 7/50\n",
      "6s - loss:  0.2173 - binary_crossentropy:  0.2174 - auc:  0.6826 - val_binary_crossentropy:  0.2172 - val_auc:  0.6838\n",
      "Epoch 8/50\n",
      "6s - loss:  0.2170 - binary_crossentropy:  0.2170 - auc:  0.6838 - val_binary_crossentropy:  0.2174 - val_auc:  0.6831\n",
      "Epoch 9/50\n",
      "8s - loss:  0.2172 - binary_crossentropy:  0.2172 - auc:  0.6844 - val_binary_crossentropy:  0.2172 - val_auc:  0.6850\n",
      "Epoch 10/50\n",
      "7s - loss:  0.2170 - binary_crossentropy:  0.2170 - auc:  0.6849 - val_binary_crossentropy:  0.2173 - val_auc:  0.6834\n",
      "Epoch 11/50\n",
      "6s - loss:  0.2167 - binary_crossentropy:  0.2167 - auc:  0.6857 - val_binary_crossentropy:  0.2179 - val_auc:  0.6837\n",
      "Epoch 12/50\n",
      "8s - loss:  0.2169 - binary_crossentropy:  0.2169 - auc:  0.6863 - val_binary_crossentropy:  0.2171 - val_auc:  0.6849\n",
      "Epoch 13/50\n",
      "6s - loss:  0.2165 - binary_crossentropy:  0.2165 - auc:  0.6869 - val_binary_crossentropy:  0.2170 - val_auc:  0.6859\n",
      "Epoch 14/50\n",
      "7s - loss:  0.2166 - binary_crossentropy:  0.2166 - auc:  0.6880 - val_binary_crossentropy:  0.2170 - val_auc:  0.6848\n",
      "Epoch 15/50\n",
      "6s - loss:  0.2163 - binary_crossentropy:  0.2163 - auc:  0.6886 - val_binary_crossentropy:  0.2171 - val_auc:  0.6861\n",
      "Epoch 16/50\n",
      "7s - loss:  0.2164 - binary_crossentropy:  0.2163 - auc:  0.6890 - val_binary_crossentropy:  0.2169 - val_auc:  0.6848\n",
      "Epoch 17/50\n",
      "8s - loss:  0.2160 - binary_crossentropy:  0.2161 - auc:  0.6906 - val_binary_crossentropy:  0.2177 - val_auc:  0.6852\n",
      "Epoch 18/50\n",
      "6s - loss:  0.2159 - binary_crossentropy:  0.2159 - auc:  0.6907 - val_binary_crossentropy:  0.2167 - val_auc:  0.6868\n",
      "Epoch 19/50\n",
      "7s - loss:  0.2157 - binary_crossentropy:  0.2158 - auc:  0.6913 - val_binary_crossentropy:  0.2177 - val_auc:  0.6853\n",
      "Epoch 20/50\n",
      "8s - loss:  0.2155 - binary_crossentropy:  0.2155 - auc:  0.6930 - val_binary_crossentropy:  0.2168 - val_auc:  0.6840\n",
      "Epoch 21/50\n",
      "6s - loss:  0.2155 - binary_crossentropy:  0.2155 - auc:  0.6930 - val_binary_crossentropy:  0.2167 - val_auc:  0.6869\n",
      "Epoch 22/50\n",
      "6s - loss:  0.2152 - binary_crossentropy:  0.2153 - auc:  0.6928 - val_binary_crossentropy:  0.2166 - val_auc:  0.6863\n",
      "Epoch 23/50\n",
      "6s - loss:  0.2152 - binary_crossentropy:  0.2152 - auc:  0.6933 - val_binary_crossentropy:  0.2167 - val_auc:  0.6855\n",
      "Epoch 24/50\n",
      "6s - loss:  0.2150 - binary_crossentropy:  0.2150 - auc:  0.6957 - val_binary_crossentropy:  0.2167 - val_auc:  0.6852\n",
      "Epoch 25/50\n",
      "6s - loss:  0.2149 - binary_crossentropy:  0.2150 - auc:  0.6948 - val_binary_crossentropy:  0.2177 - val_auc:  0.6848\n",
      "Epoch 26/50\n",
      "8s - loss:  0.2147 - binary_crossentropy:  0.2147 - auc:  0.6965 - val_binary_crossentropy:  0.2169 - val_auc:  0.6859\n",
      "Epoch 27/50\n",
      "6s - loss:  0.2147 - binary_crossentropy:  0.2147 - auc:  0.6969 - val_binary_crossentropy:  0.2165 - val_auc:  0.6862\n",
      "Epoch 28/50\n",
      "6s - loss:  0.2147 - binary_crossentropy:  0.2146 - auc:  0.6981 - val_binary_crossentropy:  0.2169 - val_auc:  0.6850\n",
      "Epoch 29/50\n",
      "6s - loss:  0.2144 - binary_crossentropy:  0.2144 - auc:  0.6973 - val_binary_crossentropy:  0.2179 - val_auc:  0.6832\n",
      "Epoch 30/50\n",
      "7s - loss:  0.2143 - binary_crossentropy:  0.2143 - auc:  0.6981 - val_binary_crossentropy:  0.2181 - val_auc:  0.6846\n",
      "Epoch 31/50\n",
      "7s - loss:  0.2140 - binary_crossentropy:  0.2140 - auc:  0.6998 - val_binary_crossentropy:  0.2167 - val_auc:  0.6855\n",
      "Epoch 32/50\n",
      "8s - loss:  0.2139 - binary_crossentropy:  0.2140 - auc:  0.7011 - val_binary_crossentropy:  0.2171 - val_auc:  0.6850\n",
      "Epoch 33/50\n",
      "7s - loss:  0.2139 - binary_crossentropy:  0.2138 - auc:  0.7019 - val_binary_crossentropy:  0.2168 - val_auc:  0.6844\n",
      "Epoch 34/50\n",
      "10s - loss:  0.2137 - binary_crossentropy:  0.2137 - auc:  0.7019 - val_binary_crossentropy:  0.2172 - val_auc:  0.6842\n",
      "Epoch 35/50\n",
      "7s - loss:  0.2136 - binary_crossentropy:  0.2135 - auc:  0.7030 - val_binary_crossentropy:  0.2169 - val_auc:  0.6853\n",
      "Epoch 36/50\n",
      "8s - loss:  0.2132 - binary_crossentropy:  0.2132 - auc:  0.7044 - val_binary_crossentropy:  0.2174 - val_auc:  0.6822\n",
      "Epoch 37/50\n",
      "7s - loss:  0.2132 - binary_crossentropy:  0.2132 - auc:  0.7035 - val_binary_crossentropy:  0.2187 - val_auc:  0.6828\n",
      "Epoch 38/50\n",
      "6s - loss:  0.2128 - binary_crossentropy:  0.2128 - auc:  0.7063 - val_binary_crossentropy:  0.2177 - val_auc:  0.6838\n",
      "Epoch 39/50\n",
      "6s - loss:  0.2128 - binary_crossentropy:  0.2128 - auc:  0.7059 - val_binary_crossentropy:  0.2168 - val_auc:  0.6844\n",
      "Epoch 40/50\n",
      "6s - loss:  0.2127 - binary_crossentropy:  0.2127 - auc:  0.7067 - val_binary_crossentropy:  0.2178 - val_auc:  0.6839\n",
      "Epoch 41/50\n",
      "8s - loss:  0.2124 - binary_crossentropy:  0.2124 - auc:  0.7079 - val_binary_crossentropy:  0.2169 - val_auc:  0.6859\n",
      "Epoch 42/50\n",
      "6s - loss:  0.2123 - binary_crossentropy:  0.2123 - auc:  0.7091 - val_binary_crossentropy:  0.2189 - val_auc:  0.6820\n",
      "Epoch 43/50\n",
      "6s - loss:  0.2123 - binary_crossentropy:  0.2122 - auc:  0.7091 - val_binary_crossentropy:  0.2176 - val_auc:  0.6839\n",
      "Epoch 44/50\n",
      "8s - loss:  0.2118 - binary_crossentropy:  0.2119 - auc:  0.7114 - val_binary_crossentropy:  0.2181 - val_auc:  0.6814\n",
      "Epoch 45/50\n",
      "6s - loss:  0.2116 - binary_crossentropy:  0.2116 - auc:  0.7117 - val_binary_crossentropy:  0.2181 - val_auc:  0.6829\n",
      "Epoch 46/50\n",
      "6s - loss:  0.2115 - binary_crossentropy:  0.2115 - auc:  0.7115 - val_binary_crossentropy:  0.2181 - val_auc:  0.6781\n",
      "Epoch 47/50\n",
      "6s - loss:  0.2113 - binary_crossentropy:  0.2113 - auc:  0.7134 - val_binary_crossentropy:  0.2180 - val_auc:  0.6789\n",
      "Epoch 48/50\n",
      "6s - loss:  0.2111 - binary_crossentropy:  0.2111 - auc:  0.7140 - val_binary_crossentropy:  0.2191 - val_auc:  0.6786\n",
      "Epoch 49/50\n",
      "14s - loss:  0.2107 - binary_crossentropy:  0.2108 - auc:  0.7163 - val_binary_crossentropy:  0.2176 - val_auc:  0.6831\n",
      "Epoch 50/50\n",
      "10s - loss:  0.2106 - binary_crossentropy:  0.2106 - auc:  0.7176 - val_binary_crossentropy:  0.2187 - val_auc:  0.6807\n"
     ]
    }
   ],
   "source": [
    "import deepctr_torch.callbacks as callbacks\n",
    "history = model.fit(train_model_input,train[\"label\"].values,batch_size=512,epochs=50,verbose=2,validation_split=0.2)\n"
   ]
  },
  {
   "cell_type": "code",
   "execution_count": 46,
   "metadata": {},
   "outputs": [],
   "source": [
    "pred_ans = model.predict(test_model_input, 1024)"
   ]
  },
  {
   "cell_type": "code",
   "execution_count": 32,
   "metadata": {},
   "outputs": [],
   "source": [
    "submit = pd.read_csv(\"/home/franklin/BigDataFinalProject/data_format1/test_format1.csv\")\n",
    "submit[\"prob\"] = test_preds"
   ]
  },
  {
   "cell_type": "code",
   "execution_count": 33,
   "metadata": {},
   "outputs": [
    {
     "data": {
      "text/html": [
       "<div>\n",
       "<style scoped>\n",
       "    .dataframe tbody tr th:only-of-type {\n",
       "        vertical-align: middle;\n",
       "    }\n",
       "\n",
       "    .dataframe tbody tr th {\n",
       "        vertical-align: top;\n",
       "    }\n",
       "\n",
       "    .dataframe thead th {\n",
       "        text-align: right;\n",
       "    }\n",
       "</style>\n",
       "<table border=\"1\" class=\"dataframe\">\n",
       "  <thead>\n",
       "    <tr style=\"text-align: right;\">\n",
       "      <th></th>\n",
       "      <th>user_id</th>\n",
       "      <th>merchant_id</th>\n",
       "      <th>prob</th>\n",
       "    </tr>\n",
       "  </thead>\n",
       "  <tbody>\n",
       "    <tr>\n",
       "      <th>0</th>\n",
       "      <td>163968</td>\n",
       "      <td>4605</td>\n",
       "      <td>0.104702</td>\n",
       "    </tr>\n",
       "    <tr>\n",
       "      <th>1</th>\n",
       "      <td>360576</td>\n",
       "      <td>1581</td>\n",
       "      <td>0.086694</td>\n",
       "    </tr>\n",
       "    <tr>\n",
       "      <th>2</th>\n",
       "      <td>98688</td>\n",
       "      <td>1964</td>\n",
       "      <td>0.083285</td>\n",
       "    </tr>\n",
       "    <tr>\n",
       "      <th>3</th>\n",
       "      <td>98688</td>\n",
       "      <td>3645</td>\n",
       "      <td>0.037750</td>\n",
       "    </tr>\n",
       "    <tr>\n",
       "      <th>4</th>\n",
       "      <td>295296</td>\n",
       "      <td>3361</td>\n",
       "      <td>0.062403</td>\n",
       "    </tr>\n",
       "    <tr>\n",
       "      <th>...</th>\n",
       "      <td>...</td>\n",
       "      <td>...</td>\n",
       "      <td>...</td>\n",
       "    </tr>\n",
       "    <tr>\n",
       "      <th>261472</th>\n",
       "      <td>228479</td>\n",
       "      <td>3111</td>\n",
       "      <td>0.050900</td>\n",
       "    </tr>\n",
       "    <tr>\n",
       "      <th>261473</th>\n",
       "      <td>97919</td>\n",
       "      <td>2341</td>\n",
       "      <td>0.039649</td>\n",
       "    </tr>\n",
       "    <tr>\n",
       "      <th>261474</th>\n",
       "      <td>97919</td>\n",
       "      <td>3971</td>\n",
       "      <td>0.088893</td>\n",
       "    </tr>\n",
       "    <tr>\n",
       "      <th>261475</th>\n",
       "      <td>32639</td>\n",
       "      <td>3536</td>\n",
       "      <td>0.021311</td>\n",
       "    </tr>\n",
       "    <tr>\n",
       "      <th>261476</th>\n",
       "      <td>32639</td>\n",
       "      <td>3319</td>\n",
       "      <td>0.093456</td>\n",
       "    </tr>\n",
       "  </tbody>\n",
       "</table>\n",
       "<p>261477 rows × 3 columns</p>\n",
       "</div>"
      ],
      "text/plain": [
       "        user_id  merchant_id      prob\n",
       "0        163968         4605  0.104702\n",
       "1        360576         1581  0.086694\n",
       "2         98688         1964  0.083285\n",
       "3         98688         3645  0.037750\n",
       "4        295296         3361  0.062403\n",
       "...         ...          ...       ...\n",
       "261472   228479         3111  0.050900\n",
       "261473    97919         2341  0.039649\n",
       "261474    97919         3971  0.088893\n",
       "261475    32639         3536  0.021311\n",
       "261476    32639         3319  0.093456\n",
       "\n",
       "[261477 rows x 3 columns]"
      ]
     },
     "execution_count": 33,
     "metadata": {},
     "output_type": "execute_result"
    }
   ],
   "source": [
    "submit"
   ]
  },
  {
   "cell_type": "code",
   "execution_count": 35,
   "metadata": {},
   "outputs": [],
   "source": [
    "submit.to_csv(\"predictions_dpfm_150_5f\", index=False)"
   ]
  }
 ],
 "metadata": {
  "kernelspec": {
   "display_name": "rec_env",
   "language": "python",
   "name": "python3"
  },
  "language_info": {
   "codemirror_mode": {
    "name": "ipython",
    "version": 3
   },
   "file_extension": ".py",
   "mimetype": "text/x-python",
   "name": "python",
   "nbconvert_exporter": "python",
   "pygments_lexer": "ipython3",
   "version": "3.10.4"
  }
 },
 "nbformat": 4,
 "nbformat_minor": 2
}
